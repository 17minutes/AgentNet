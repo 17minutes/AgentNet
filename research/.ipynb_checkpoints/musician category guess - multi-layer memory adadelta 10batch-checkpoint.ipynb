{
 "cells": [
  {
   "cell_type": "code",
   "execution_count": 1,
   "metadata": {
    "collapsed": true
   },
   "outputs": [],
   "source": [
    "experiment_setup_name = \"wikicat.multilayer_versus_flat_memory.multilayer.10batch_adadelta\""
   ]
  },
  {
   "cell_type": "code",
   "execution_count": 2,
   "metadata": {
    "collapsed": true
   },
   "outputs": [],
   "source": [
    "import sys\n",
    "sys.path.append(\"..\")"
   ]
  },
  {
   "cell_type": "code",
   "execution_count": 3,
   "metadata": {
    "collapsed": false
   },
   "outputs": [
    {
     "name": "stdout",
     "output_type": "stream",
     "text": [
      "Couldn't import dot_parser, loading of dot files will not be possible.\n",
      "mkdir: cannot create directory '/root/agentnet_snapshots': File exists\r\n"
     ]
    }
   ],
   "source": [
    "#import everything in the world\n",
    "from matplotlib import pyplot as plt\n",
    "%matplotlib inline\n",
    "import numpy as np\n",
    "import theano\n",
    "theano.config.floatX = 'float32'\n",
    "theano.config.openmp = True\n",
    "import theano.tensor as T\n",
    "import lasagne\n",
    "%load_ext autoreload\n",
    "%autoreload 2\n",
    "import pandas as pd\n",
    "!mkdir ~/agentnet_snapshots\n"
   ]
  },
  {
   "cell_type": "code",
   "execution_count": 4,
   "metadata": {
    "collapsed": false
   },
   "outputs": [],
   "source": [
    "floatX = theano.config.floatX\n",
    "\n",
    "from auxilary import _shared,set_shared,_in1d\n",
    "from persistence import save,load\n"
   ]
  },
  {
   "cell_type": "markdown",
   "metadata": {},
   "source": [
    "# Эта тетрадка рассказывает нелёгком пути обучения\n",
    "* Recurrent Q-network \n",
    "* two layers of GRU memory\n",
    "* Qvalues predicted via dense layer from both memory layers\n",
    "* epsilon-greedy decision making\n",
    "* trained with Adadelta"
   ]
  },
  {
   "cell_type": "markdown",
   "metadata": {},
   "source": [
    "# Постановка задачи\n",
    "* В начале сетке даётся некоторый человек, про которого она пока ничего не знает\n",
    "* Человек - музыкант или околомузыкальная личность (с меньшей вероятностью - группа или... страна)\n",
    "* Про человека известен некоторый набор фактов\n",
    " * факты типа \"Известно, что\" - за то, что какой-то аттрибут есть в его вики-карточке\n",
    "   * например Nickname:is_known - есть прозвище, Died:is_known - есть дата смерти\n",
    " * Категориальные факты\n",
    "   * инструменты, на которых играет человек\n",
    "   * происхождение\n",
    "   * декады активности\n",
    "   * и т.п.\n",
    "\n",
    "\n",
    "* За один шаг сетка может\n",
    " * сказать, что какой-то аттрибут про пользователя есть\n",
    "   * например, Nickname:is_known - предположение, что у пользователя есть прозвище\n",
    "   * если догадка верна, сеть получает положительное подкрепление (\"конфетку\")\n",
    "   * если нет - отрицательное (\"подзатыльник\")\n",
    " * сказать \"больше ничего не угадаю, несите следующего\"\n",
    "   * нулевое подкрепление\n",
    "   * случайно выбирается следующий пользователь\n",
    "  "
   ]
  },
  {
   "cell_type": "markdown",
   "metadata": {},
   "source": [
    "# данные\n",
    "* Всего в выборке 393 аттрибута\n",
    " * примеры аттрибутов в табе ниже\n",
    "* В данном случае сеть обучается на чуть менее, чем 2500 случайных людей\n",
    "* всего в выборке почти 100к людей/групп/всякого трэша"
   ]
  },
  {
   "cell_type": "code",
   "execution_count": 5,
   "metadata": {
    "collapsed": false
   },
   "outputs": [],
   "source": [
    "#вгрузим данные про кучу музыкантов \n",
    "#как оно собирается - ./data/preprocessing.ipynb\n",
    "import pandas as pd\n",
    "df = pd.DataFrame.from_csv(\"../data/musicians_categorized.csv\")"
   ]
  },
  {
   "cell_type": "code",
   "execution_count": 6,
   "metadata": {
    "collapsed": false
   },
   "outputs": [
    {
     "name": "stdout",
     "output_type": "stream",
     "text": [
      "0.0346481118134\n",
      "(22612, 393)\n"
     ]
    },
    {
     "data": {
      "image/png": "[encoded data removed]",
      "text/plain": [
       "<matplotlib.figure.Figure at 0x7fa7c4167550>"
      ]
     },
     "metadata": {},
     "output_type": "display_data"
    }
   ],
   "source": [
    "#гистограмма количества аттрибутов известных про музыканта\n",
    "plt.hist((df.values).sum(axis=1),bins=50)\n",
    "print (df.values).mean()\n",
    "print df.shape"
   ]
  },
  {
   "cell_type": "code",
   "execution_count": 7,
   "metadata": {
    "collapsed": false
   },
   "outputs": [
    {
     "name": "stdout",
     "output_type": "stream",
     "text": [
      "всего самплов (8594, 393)\n"
     ]
    }
   ],
   "source": [
    "#отрежем тех, про кого известно менее 5 аттрибутов\n",
    "df =  df[df.values.sum(axis=1) > 15]\n",
    "print \"всего самплов\", df.shape"
   ]
  },
  {
   "cell_type": "code",
   "execution_count": 8,
   "metadata": {
    "collapsed": true
   },
   "outputs": [],
   "source": [
    "from sklearn.cross_validation import train_test_split"
   ]
  },
  {
   "cell_type": "code",
   "execution_count": 9,
   "metadata": {
    "collapsed": false
   },
   "outputs": [],
   "source": [
    "#split categories and attributes\n",
    "feature_names = df.columns\n",
    "categorical_columns = np.nonzero(map(lambda s: s.startswith(\"category:\"),feature_names))[0]\n",
    "attribute_columns = np.nonzero(map(lambda s: not s.startswith(\"category:\"),feature_names))[0]\n",
    "\n",
    "data_cats = df.iloc[:,categorical_columns]\n",
    "data_attrs = df.iloc[:,attribute_columns]\n",
    "\n"
   ]
  },
  {
   "cell_type": "code",
   "execution_count": 10,
   "metadata": {
    "collapsed": false
   },
   "outputs": [
    {
     "name": "stdout",
     "output_type": "stream",
     "text": [
      "обучающая выборка: 85\n",
      "контрольная выборка: 8509\n"
     ]
    }
   ],
   "source": [
    "#поделим выборку\n",
    "train_cats,test_cats,train_attrs,test_attrs = train_test_split(data_cats,data_attrs,test_size=0.99,random_state=42)\n",
    "print \"обучающая выборка:\" ,len(train_attrs)\n",
    "print \"контрольная выборка:\", len(test_attrs)"
   ]
  },
  {
   "cell_type": "markdown",
   "metadata": {},
   "source": [
    "# problem definition\n",
    "\n",
    "Обучатор состоит из 2 частей\n",
    "* \"среды обучения\"\n",
    "* определятора полезностей\n",
    "* самой нейронки\n",
    "\n",
    "Среда обучения - такая штука, которая \n",
    "* подсовывает нейронке людей, \n",
    " * каждый раз выбирается случайное подмножество людей \n",
    "   * (можно и 100 и 10 - просто не успел сравнить)\n",
    "   * возвращает ответы на действия нейронки, попутно обновляя своё состояние\n",
    "Определятор полезностей\n",
    "* умеет считать полезность каждого действия по паре \"состояние СРЕДЫ, действие агента ИЗ этого состояния\"\n",
    "* имеет функции для быстрого определения наград за все действия в сессиях\n",
    "\n",
    "Нейронка будет далее по списку\n",
    "\n",
    "\n",
    "__***для простоты, CategoryGuess будет имплементировать И среду И награждатор (см. класс ниже)***__"
   ]
  },
  {
   "cell_type": "code",
   "execution_count": 11,
   "metadata": {
    "collapsed": false
   },
   "outputs": [],
   "source": [
    "from objective import BaseObjective\n",
    "from environment import BaseEnvironment\n",
    "\n",
    "class CategoryGuess(BaseObjective,BaseEnvironment):\n",
    "    def __init__(self,n_attrs,n_categories,batch_size=10):\n",
    "        self._attributes = _shared(\"X_attrs_data\",np.zeros([batch_size,n_attrs]),'uint8')\n",
    "        self._categories =  _shared(\"categories_data\",np.zeros([batch_size,n_categories]),'uint8')\n",
    "        self._batch_size = _shared(\"batch_size_scalar\",batch_size,'int32')\n",
    "        \n",
    "        _end_action = T.zeros([self._batch_size,1], dtype='uint8')\n",
    "        \n",
    "        self._joint_data = T.concatenate([self._attributes,\n",
    "                                          self._categories,\n",
    "                                          _end_action,\n",
    "                                         ],axis=1\n",
    ").astype('float32') #it is highly important to make sure \n",
    "        #that variables touched by theano.grad have float* type\n",
    "    \n",
    "        #indices\n",
    "        self._category_action_ids = T.arange(\n",
    "            self._attributes.shape[1],\n",
    "            self._attributes.shape[1]+self._categories.shape[1]\n",
    "        )\n",
    "        \n",
    "        self._end_action_id = self._joint_data.shape[1]-1\n",
    "    def load_data_batch(self,attrs_batch,categories_batch):\n",
    "        attrs_batch = np.array(attrs_batch)\n",
    "        categories_batch = np.array(categories_batch)\n",
    "        set_shared(self._attributes,attrs_batch)\n",
    "        set_shared(self._categories,categories_batch)\n",
    "        set_shared(self._batch_size,attrs_batch.shape[0])\n",
    "\n",
    "    @property\n",
    "    def n_actions(self):\n",
    "        return int(self._joint_data.shape[1].eval())\n",
    "    @property\n",
    "    def observation_size(self):\n",
    "        return int((self._joint_data.shape[1]+1).eval())\n",
    "    @property\n",
    "    def state_size(self):\n",
    "        return int(self._joint_data.shape[1].eval())\n",
    "    @property\n",
    "    def batch_size(self):\n",
    "        return int(self._batch_size.get_value())\n",
    "    \n",
    "\n",
    "    \n",
    "    def get_first_state(self,batch_size=1):\n",
    "        assert batch_size == self._joint_data.shape[0].eval()\n",
    "        return T.zeros_like(self._joint_data,dtype='uint8') \n",
    "    \n",
    "    \n",
    "    def get_output_and_observation(self,last_state,action):\n",
    "        \n",
    "        #state is a boolean vector: whether or not i-th action\n",
    "        #was tried already during this session\n",
    "        #last output[:,end_code] always remains 1 after first being triggered\n",
    "        \n",
    "        \n",
    "        batch_range = T.arange(action.shape[0])\n",
    "\n",
    "        can_do_action = T.eq(last_state[:,self._end_action_id],0)\n",
    "        \n",
    "        state_after_action = T.set_subtensor(last_state[batch_range,action],1)\n",
    "        \n",
    "        new_state = T.switch(\n",
    "            can_do_action.reshape([-1,1]),\n",
    "            state_after_action,\n",
    "            last_state\n",
    "        )\n",
    "        \n",
    "        \n",
    "        \n",
    "        observation = T.concatenate([\n",
    "                self._joint_data[batch_range,action,None],#uint8[batch,1]\n",
    "                T.extra_ops.to_one_hot(action,self._joint_data.shape[1]),\n",
    "            ],axis=1)\n",
    "        \n",
    "        return new_state, observation\n",
    "\n",
    "    def get_reward(self,batch_i,session_states,session_actions):\n",
    "        \"\"\"\n",
    "        WARNING! this runs on a single session, not on a batch\n",
    "        reward given for taking the action in current environment state\n",
    "        arguments:\n",
    "            session_states float[batch_id, memory_id]: environment state before taking action\n",
    "            session_actions int[batch_id]: agent action at this tick\n",
    "        returns:\n",
    "            reward float[batch_id]: reward for taking action from the given state\n",
    "        \"\"\"\n",
    "        time_range = T.arange(session_actions.shape[0])\n",
    "        \n",
    "\n",
    "        _has_tried_already = session_states[time_range,session_actions]\n",
    "        _session_is_active = T.eq(session_states[:,self._end_action_id],0)\n",
    "        _has_finished_now = T.eq(session_actions,self._end_action_id)\n",
    "        _action_is_categorical = _in1d(session_actions, self._category_action_ids)\n",
    "        \n",
    "        _response = self._joint_data[batch_i,session_actions].ravel()\n",
    "        \n",
    "        #categorical and attributes\n",
    "        _reward_for_intermediate_action = T.switch(\n",
    "            _action_is_categorical,\n",
    "            _response*4-2,\n",
    "            _response*2-1\n",
    "        )\n",
    "        #include end action\n",
    "        _reward_for_action = T.switch(\n",
    "            _has_finished_now,\n",
    "            0,\n",
    "            _reward_for_intermediate_action,\n",
    "        )\n",
    "        \n",
    "        _reward_if_first_time = T.switch(\n",
    "                _has_tried_already,\n",
    "                0,\n",
    "                _reward_for_action,\n",
    "            )\n",
    "        \n",
    "        _final_reward = T.switch(\n",
    "            _session_is_active,\n",
    "            _reward_if_first_time,\n",
    "            0,\n",
    "\n",
    "            \n",
    "        )\n",
    "        \n",
    "        \n",
    "        return _final_reward.astype(floatX)"
   ]
  },
  {
   "cell_type": "code",
   "execution_count": 12,
   "metadata": {
    "collapsed": false
   },
   "outputs": [],
   "source": [
    "env = CategoryGuess(train_attrs.shape[1],train_cats.shape[1],5)"
   ]
  },
  {
   "cell_type": "code",
   "execution_count": null,
   "metadata": {
    "collapsed": true
   },
   "outputs": [],
   "source": []
  },
  {
   "cell_type": "markdown",
   "metadata": {},
   "source": [
    "# agent setup\n",
    "В свою очередь, нейронка состоит из 3 частей\n",
    "* память агента\n",
    "    * на вход получает пару (предыдущее состояние памятиа агента, сенсорная инфа о среде на ЭТОМ шагу)\n",
    "    * определяет текущее состояние памяти агента (на том же шагу, что и сенсорная инф-ция со входа)\n",
    "    * тут - GRUlayer, в потенциале - вообще что угодно, хоть 10 шагов LSTM за 1 раз\n",
    "       * какой именно GRUlayer:\n",
    "       * Reset gate - dense w/ expit\n",
    "       * Update gate - dense w/ expit\n",
    "       * Hidden update gate - dense w/ tanh\n",
    "\n",
    "* определятор Q-значений\n",
    "    * на вход получает память агента\n",
    "    * определяет Q_значения каждого действия\n",
    "    * тут - DenseLayer, потенциал - что угодно\n",
    "* приниматор решений по Q-значениям\n",
    "    * на вход получает Q-значения для действий\n",
    "    * определяет, как вывод нейронки трансформируется в решение,\n",
    "    * формат выхода - целые числа - номера выбранных действий\n",
    "     * тут - с вероятностью epsilon берётся решение, \n",
    "       * которому предсказана наибольшая полезность\n",
    "       * иначе берётся случайное равновероятное\n",
    "     * альтернативный вариант - решения выбираются с веростностями\n",
    "       * $Pi(a) = softmax(Qi(a)) = {e^{Qi(x)}} / {\\sum\\limits_{j=1}^n e^{Qj(X)}}$ \n",
    "       * где Q(a) - предсказанная полезность действия a\n",
    "* всё это делается векторизованно для батча произвольной размерности\n",
    "\n",
    "\n",
    "### Agent - просто обёртка над этими 3 пунктами\n",
    "* строго говоря, можно воткнуть любую нейронку, которая мапает \n",
    "* `float last_agent_state[batch,units], float observation[batch,sensors] ->`\n",
    "* `-> float new_agent_state[batch,units], float qvalues[batch,actions], int actions[batch]`\n"
   ]
  },
  {
   "cell_type": "code",
   "execution_count": 13,
   "metadata": {
    "collapsed": false
   },
   "outputs": [],
   "source": [
    "from resolver import EpsilonGreedyResolver\n",
    "from memory import GRUMemoryLayer\n",
    "from agent import Agent"
   ]
  },
  {
   "cell_type": "code",
   "execution_count": 14,
   "metadata": {
    "collapsed": false
   },
   "outputs": [],
   "source": [
    "import lasagne\n",
    "__idea__=\"\"\"\n",
    " \n",
    "We train two memory states:\n",
    "    first one, based on observations, and second one, based on first one;\n",
    "\n",
    "Note that here we update the second memory layer based on the CURRENT state\n",
    "of the first one. Instead, you can try to feed it with a previous state.\n",
    "\n",
    "The q-values are estimated on a concatenated state, effectively on both memory\n",
    "states together, but there is no problem with limiting q-evaluator to only one:\n",
    "just pass the correct gru layer as an incoming layer to the q-evaluator.\n",
    "\n",
    "Implementation:\n",
    "We concatenate both memories into 1 state to pass it through the session loop.\n",
    "\n",
    "To perform memory update, we need to slice the concatenated state back into\n",
    "two memory states.\n",
    "\n",
    "We do so by defining an input map function and passing it into agent.\n",
    "\n",
    "We than concatenate two new states back to form a new memory state.\n",
    "\n",
    "\"\"\"\n",
    "n_hid_1=128 #first GRU memory\n",
    "n_hid_2=64 #second GRU memory\n",
    "\n",
    "\n",
    "_observation_layer = lasagne.layers.InputLayer([None,env.observation_size],name=\"obs_input\")\n",
    "\n",
    "_prev_gru1_layer = lasagne.layers.InputLayer([None,n_hid_1],name=\"prev_gru1_state_input\")\n",
    "_prev_gru2_layer = lasagne.layers.InputLayer([None,n_hid_2],name=\"prev_gru2_state_input\")\n",
    "\n",
    "#memory\n",
    "gru1 = GRUMemoryLayer(n_hid_1,\n",
    "                     _observation_layer,\n",
    "                     _prev_gru1_layer,\n",
    "                     name=\"gru1\")\n",
    "\n",
    "gru2 = GRUMemoryLayer(n_hid_2,\n",
    "                     gru1,        #note that it takes CURRENT gru1 output as input.\n",
    "                                  #replacing that with _prev_gru1_state would imply taking previous one.\n",
    "                     _prev_gru2_layer,\n",
    "                     name=\"gru2\")\n",
    "\n",
    "concatenated_memory = lasagne.layers.concat([gru1,gru2])\n",
    "\n",
    "#q_eval\n",
    "q_eval = lasagne.layers.DenseLayer(concatenated_memory, #taking both memories. \n",
    "                                                        #Replacing with gru1 or gru2 would mean taking one\n",
    "                                   num_units = env.n_actions,\n",
    "                                   nonlinearity=lasagne.nonlinearities.linear,name=\"QEvaluator\")\n",
    "#resolver\n",
    "epsilon = _shared(\"e-greedy.epsilon\",0.9,dtype=floatX)\n",
    "\n",
    "resolver = EpsilonGreedyResolver(q_eval,epsilon=epsilon,name=\"resolver\")\n",
    "\n",
    "\n",
    "\n",
    "#we need to define the new input map because concatenated_memory is a ConcatLayer and does not have default one\n",
    "\n",
    "def custom_input_map(last_hidden,observation):\n",
    "    \"\"\"just a function that maps memory states to respective inputs\"\"\"\n",
    "    return {\n",
    "        _prev_gru1_layer:last_hidden[:,0:n_hid_1],\n",
    "        _prev_gru2_layer:last_hidden[:,n_hid_1:n_hid_1+n_hid_2],\n",
    "        _observation_layer:observation\n",
    "    }\n",
    "\n",
    "#all together\n",
    "agent = Agent(concatenated_memory,q_eval,resolver,input_map=custom_input_map\n",
    "             )\n"
   ]
  },
  {
   "cell_type": "code",
   "execution_count": 15,
   "metadata": {
    "collapsed": false
   },
   "outputs": [],
   "source": [
    "history = agent.get_sessions(env,session_length=20,\n",
    "                       batch_size=env._joint_data.shape[0],\n",
    "                       initial_env_state=env.get_first_state(env.batch_size))\n",
    "state_seq,observation_seq,hidden_seq,qvalues_seq,action_seq = history\n",
    "\n",
    "rewards_seq = env.get_reward_sequences(state_seq,action_seq)\n"
   ]
  },
  {
   "cell_type": "code",
   "execution_count": 16,
   "metadata": {
    "collapsed": false
   },
   "outputs": [],
   "source": [
    "get_history = theano.function([],history+(rewards_seq,),mode=theano.compile.mode.FAST_RUN)\n",
    "\n"
   ]
  },
  {
   "cell_type": "markdown",
   "metadata": {},
   "source": [
    "# weights\n",
    "* вот так нахаляву можно вытащить ВСЕ веса нейронок агента\n",
    "* что НЕ вытаскивается \n",
    " * архитектура сети\n",
    " * гиперпараметры (жадность, gamma)\n",
    " * состояния среды/наблюдения\n",
    "* короче, вытаскиваются только \"нейронячие\" параметры\n",
    "* хочешь, чтобы в твоём слое вытащилась какая-то shared переменная - добавь её в параметры слоя [с каким-ть тэгом, если хочешь]\n",
    "* всё как в ванильной лазанье"
   ]
  },
  {
   "cell_type": "code",
   "execution_count": 17,
   "metadata": {
    "collapsed": false
   },
   "outputs": [
    {
     "data": {
      "text/plain": [
       "[gru1.W_in_to_updategate,\n",
       " gru1.W_hid_to_updategate,\n",
       " gru1.b_updategate,\n",
       " gru1.W_in_to_resetgate,\n",
       " gru1.W_hid_to_resetgate,\n",
       " gru1.b_resetgate,\n",
       " gru1.W_in_to_hidden_update,\n",
       " gru1.W_hid_to_hidden_update,\n",
       " gru1.b_hidden_update,\n",
       " gru2.W_in_to_updategate,\n",
       " gru2.W_hid_to_updategate,\n",
       " gru2.b_updategate,\n",
       " gru2.W_in_to_resetgate,\n",
       " gru2.W_hid_to_resetgate,\n",
       " gru2.b_resetgate,\n",
       " gru2.W_in_to_hidden_update,\n",
       " gru2.W_hid_to_hidden_update,\n",
       " gru2.b_hidden_update,\n",
       " QEvaluator.W,\n",
       " QEvaluator.b]"
      ]
     },
     "execution_count": 17,
     "metadata": {},
     "output_type": "execute_result"
    }
   ],
   "source": [
    "#all trainable weights\n",
    "weights = lasagne.layers.get_all_params(resolver,trainable=True)\n",
    "weights"
   ]
  },
  {
   "cell_type": "code",
   "execution_count": 18,
   "metadata": {
    "collapsed": false
   },
   "outputs": [
    {
     "data": {
      "text/plain": [
       "[gru1.W_in_to_updategate,\n",
       " gru1.W_hid_to_updategate,\n",
       " gru1.b_updategate,\n",
       " gru1.W_in_to_resetgate,\n",
       " gru1.W_hid_to_resetgate,\n",
       " gru1.b_resetgate,\n",
       " gru1.W_in_to_hidden_update,\n",
       " gru1.W_hid_to_hidden_update,\n",
       " gru1.b_hidden_update,\n",
       " gru2.W_in_to_updategate,\n",
       " gru2.W_hid_to_updategate,\n",
       " gru2.b_updategate,\n",
       " gru2.W_in_to_resetgate,\n",
       " gru2.W_hid_to_resetgate,\n",
       " gru2.b_resetgate,\n",
       " gru2.W_in_to_hidden_update,\n",
       " gru2.W_hid_to_hidden_update,\n",
       " gru2.b_hidden_update]"
      ]
     },
     "execution_count": 18,
     "metadata": {},
     "output_type": "execute_result"
    }
   ],
   "source": [
    "#all weights but for Qvalues prediciton ones (not to penalize q-predictors by l2)\n",
    "weights_inner = filter(lambda w: \"QEvaluator\" not in w.name,weights)\n",
    "weights_inner"
   ]
  },
  {
   "cell_type": "markdown",
   "metadata": {},
   "source": [
    "# целевая функция для обучения сети\n",
    "\n",
    "* Интуитивно, цель - предсказывать Q-значения (полезности) действий\n",
    "* $Q(s,a) = R(s,a) + gamma* Max_{a'}{ Q(s',a')}  $\n",
    " * R(s,a) - непосредственная награда за действие (+5 если угадал, -1 если нет и т.п.)\n",
    " * s' - состояние, в которое агент попал, сделав действие a из состояния s\n",
    " * a' - действие, которое можно совершить в состоянии s'\n",
    " * gamma - во сколько раз награда/пинок через 1 шаг менее значимы, чем сейчас\n",
    " * интуиция - \"в состоянии s полезность действия a - это непосредственная печенька за это действие ПЛЮС все печеньки, которые можно собрать, если после этого действия вести себя оптимально\"\n",
    " \n",
    "* В реальном мире оптимизируются попарно 2 приближения этой функции\n",
    "* $ RMSE_{reccurent}: (NN_s(a) - (R + gamma* Max_a'{ NN_s'(a')})^2$\n",
    " * NN_s(a) предсказаннная из состояния s полезност Q(s,a)\n",
    " * считается для тех NN_s(a), которые агент совершил\n",
    " * NN_s'(a') - полезности всех действий сразу после совершения a из состяния s\n",
    "\n",
    "* $ RMSE_{naive}: (NN_s(a^*) - (R + gamma*  NN_s'(a'^*))^2$\n",
    " * аналогично предыдущему, но a* - реально совершённое агентом действие\n",
    " * оценка смещена, но куда проще оптимизируется, чем предыдущая\n",
    "   * по крайней мере, с softmax принятием решений"
   ]
  },
  {
   "cell_type": "code",
   "execution_count": 19,
   "metadata": {
    "collapsed": false
   },
   "outputs": [],
   "source": [
    "is_alive_seq = T.eq(state_seq[:,:,-1],0)\n",
    "\n",
    "#gamma - delayed reward coefficient - what fraction of reward is retained if it is obtained one tick later\n",
    "gamma = _shared('q_learning_gamma',np.float32(0.95),floatX)\n",
    "\n",
    "\n",
    "ref_tuples = env.get_reference_tuples(qvalues_seq,action_seq,rewards_seq,is_alive_seq,gamma_or_gammas=gamma,)\n",
    "\n",
    "action_ids_ravel,immediate_rewards_ravel, predicted_Qvalues_ravel,reference_Qvalues_ravel,is_end_ravel= ref_tuples\n",
    "\n",
    "from auxilary import consider_constant\n",
    "reference_Qvalues_ravel = consider_constant(reference_Qvalues_ravel)\n",
    "\n",
    "predicted_Qvalues_for_actions_ravel = predicted_Qvalues_ravel[T.arange(action_ids_ravel.shape[0]),action_ids_ravel]\n"
   ]
  },
  {
   "cell_type": "code",
   "execution_count": 20,
   "metadata": {
    "collapsed": false
   },
   "outputs": [],
   "source": [
    "loss_recurrent = lasagne.objectives.squared_error(reference_Qvalues_ravel,predicted_Qvalues_for_actions_ravel).mean()"
   ]
  },
  {
   "cell_type": "code",
   "execution_count": 21,
   "metadata": {
    "collapsed": false
   },
   "outputs": [],
   "source": [
    "weight_ravel = T.concatenate([w.ravel() for w in weights_inner])\n",
    "reg_l2 = reg_l2 = T.mean(weight_ravel**2)*0.1\n"
   ]
  },
  {
   "cell_type": "code",
   "execution_count": 22,
   "metadata": {
    "collapsed": true
   },
   "outputs": [],
   "source": [
    "loss = loss_recurrent + reg_l2"
   ]
  },
  {
   "cell_type": "markdown",
   "metadata": {},
   "source": [
    "# алгоритм обучения\n",
    "* обучаются все параметры обычным Stochastic Gradient Descent с Nestrov Mommentum\n",
    "* регуляризации нет, ибо пока не понадобилась"
   ]
  },
  {
   "cell_type": "code",
   "execution_count": 23,
   "metadata": {
    "collapsed": false
   },
   "outputs": [],
   "source": [
    "_updates = lasagne.updates.adadelta(loss,weights,learning_rate=0.05)\n",
    "#updates = lasagne.updates.sgd(loss_recurrent,weights,0.1)"
   ]
  },
  {
   "cell_type": "code",
   "execution_count": 24,
   "metadata": {
    "collapsed": true
   },
   "outputs": [],
   "source": [
    "mean_session_reward = immediate_rewards_ravel.sum()/ rewards_seq.shape[0]\n",
    "train_fun = theano.function([],[loss,loss_recurrent,reg_l2,mean_session_reward],updates=_updates)\n",
    "loss_fun = theano.function([],[loss,loss_recurrent,reg_l2,mean_session_reward])"
   ]
  },
  {
   "cell_type": "markdown",
   "metadata": {},
   "source": [
    "# evaluation\n",
    "* удобная [мне одному] функция, которая показывает примеры сессий и внутреннее состояние нейронки\n",
    "* текстовая часть - \n",
    "    * #(номер_действия) (имя_действия) (предсказанное_Qvalue) -> (награда) | следующая итерация\n",
    "* картинка (если display = True)\n",
    "    * X - моменты времени, Y - попугаи\n",
    "    * жЫрные линии - Q-значения категорий\n",
    "    * тонкие линии - Q-значения узнавания аттрибутов\n",
    "    * точки на линиях - выбранные действия\n",
    "    * пунктирные линии - активация нейронов в памяти агента\n",
    "    * синяя черта (тонкая, вертикальная) - конец сессии (действие или лимит времени)\n"
   ]
  },
  {
   "cell_type": "code",
   "execution_count": 25,
   "metadata": {
    "collapsed": true
   },
   "outputs": [],
   "source": [
    "evaluation_fun = theano.function([],[action_ids_ravel,predicted_Qvalues_for_actions_ravel,immediate_rewards_ravel,\n",
    "                                     reference_Qvalues_ravel,is_end_ravel,\n",
    "                                     hidden_seq,qvalues_seq,action_seq])\n"
   ]
  },
  {
   "cell_type": "code",
   "execution_count": 26,
   "metadata": {
    "collapsed": false
   },
   "outputs": [],
   "source": [
    "#new names order\n",
    "feature_names = list(data_attrs.columns) + list(data_cats.columns) + [\"<end_session_action>\"]\n",
    "is_categorical = lambda i: feature_names[i].startswith(\"category:\")\n",
    "\n",
    "def print_session(n_sessions = 3,display=False,legend=True):\n",
    "    \n",
    "    a_lot_of_data = evaluation_fun()    \n",
    "    actions,qvalues,rewards,ref_qvalues,end_sel = a_lot_of_data[:5]\n",
    "    hidden_log,qvalues_log,action_log = a_lot_of_data[5:]\n",
    "    \n",
    "    \n",
    "    \n",
    "    b_i = 0 #batch iter ~ session iter\n",
    "    t_i = 0 #time iter\n",
    "    \n",
    "\n",
    "    for a,q,r,q_ref,is_end in zip(actions,qvalues,rewards,ref_qvalues,end_sel):\n",
    "        print \"#%i: %s (%.3f) -> %s |\"%(a,feature_names[a],q, r,),\n",
    "        \n",
    "        \n",
    "        t_i +=1\n",
    "        if is_end ==1:\n",
    "            \n",
    "            print '<end>'\n",
    "            print 'true:',\n",
    "            for cat in env._categories.get_value()[b_i].nonzero()[0]:\n",
    "                print feature_names[cat+env._attributes.shape[1].eval()],\n",
    "            print\n",
    "                \n",
    "            #plot qvalues\n",
    "            if display:\n",
    "                plt.figure(figsize=[16,8])\n",
    "\n",
    "                q_values = qvalues_log[b_i].T\n",
    "                for i in range(q_values.shape[0]):\n",
    "                    plt.plot(q_values[i],label=feature_names[i],linewidth = 1 + 4*is_categorical(i))\n",
    "\n",
    "                hidden_activity =  hidden_log[b_i].T\n",
    "                for i, hh in enumerate(hidden_activity):\n",
    "                    plt.plot(hh,'--',label='n'+str(i))\n",
    "                    \n",
    "                session_actions = action_log[b_i,:t_i]\n",
    "                action_range = np.arange(len(session_actions))\n",
    "                plt.scatter(action_range, qvalues_log[b_i][action_range, session_actions])\n",
    "\n",
    "\n",
    "                #session end\n",
    "                plt.plot(np.repeat(t_i-1,2),np.linspace(-0.5,0.5,2))\n",
    "                plt.xlim(0,max(t_i*1.1,2))\n",
    "                plt.xticks(np.arange(t_i))\n",
    "                plt.grid()\n",
    "                if legend:\n",
    "                    plt.legend()\n",
    "                plt.show()\n",
    "                \n",
    "            print\n",
    "            #/\n",
    "            b_i +=1\n",
    "            t_i = 0\n",
    "\n",
    "            if b_i >= n_sessions:\n",
    "                break\n"
   ]
  },
  {
   "cell_type": "markdown",
   "metadata": {},
   "source": [
    "# training"
   ]
  },
  {
   "cell_type": "code",
   "execution_count": 27,
   "metadata": {
    "collapsed": true
   },
   "outputs": [],
   "source": [
    "def load_random_batch(env,attrs,cats,batch_size=10):\n",
    "    \n",
    "    attrs,cats = np.array(attrs),np.array(cats)\n",
    "    \n",
    "    assert len(attrs) == len(cats)\n",
    "    batch_ids = np.random.randint(0,len(attrs),batch_size)\n",
    "    env.load_data_batch(attrs[batch_ids],cats[batch_ids])"
   ]
  },
  {
   "cell_type": "code",
   "execution_count": 28,
   "metadata": {
    "collapsed": true
   },
   "outputs": [],
   "source": [
    "from collections import defaultdict\n",
    "\n",
    "epoch_counter = 1\n",
    "score_log = defaultdict(dict) #{metric_name: {epoch:value} }\n",
    "\n",
    "def plot_scores(title=\"metrics\"):\n",
    "    plt.figure(figsize=[10,10])\n",
    "    plt.title(\"metrics history\")\n",
    "    for metric_name, metric_dict in score_log.items():            \n",
    "        plt.plot(*zip(*sorted(metric_dict.items())),label = metric_name)\n",
    "\n",
    "    plt.title(title)\n",
    "    plt.grid()\n",
    "    plt.legend(loc='lower right')\n",
    "    plt.show()\n"
   ]
  },
  {
   "cell_type": "code",
   "execution_count": null,
   "metadata": {
    "collapsed": true
   },
   "outputs": [],
   "source": [
    "alpha = 0.1\n",
    "ma_reward = 0.\n",
    "ma_reward_greedy = 0."
   ]
  },
  {
   "cell_type": "markdown",
   "metadata": {},
   "source": [
    "# само обучение\n",
    "* шаг алгоритма - \n",
    " * выбрать B случайных людей\n",
    " * пересчитать \"жадность\" алгоритма (чем дальше, тем более жадный)\n",
    " * сделать шаг обучения\n",
    " * раз в M итераций - добавить точку на график обучения по 3 метрикам\n",
    "   * ожидание награды за сессию при текущей жадности на тренировочных данных\n",
    "   * то же самое при максимальной жадности\n",
    " * раз в N итераций - \n",
    "   * показать несколько примеров сессий на обучающих данных при разной жадности\n",
    "   * показать графики обучения\n",
    "* раз в K итераций - записать веса нейронки в файл (snapshot)"
   ]
  },
  {
   "cell_type": "code",
   "execution_count": null,
   "metadata": {
    "collapsed": false
   },
   "outputs": [
    {
     "name": "stdout",
     "output_type": "stream",
     "text": [
      "epoch 100,loss 1.29883, greed 0.20180, rewards: ( train -21.10331, det_train 0.00000) \n",
      "rec 1.298 reg 0.001\n",
      "epoch 200,loss 0.82302, greed 0.20359, rewards: ( train -16.78442, det_train -0.24000) \n",
      "rec 0.822 reg 0.001\n",
      "epoch 300,loss 0.65148, greed 0.20538, rewards: ( train -16.42360, det_train -0.13600) \n",
      "rec 0.650 reg 0.001\n",
      "epoch 400,loss 1.29010, greed 0.20717, rewards: ( train -16.19380, det_train -0.04240) \n",
      "rec 1.289 reg 0.001\n",
      "epoch 500,loss 1.06513, greed 0.20896, rewards: ( train -16.29445, det_train 0.04184) \n",
      "rec 1.064 reg 0.001\n",
      "epoch 600,loss 1.33498, greed 0.21074, rewards: ( train -16.14738, det_train 0.07766) \n",
      "rec 1.334 reg 0.001\n",
      "epoch 700,loss 0.87320, greed 0.21251, rewards: ( train -15.47655, det_train 0.12989) \n",
      "rec 0.872 reg 0.001\n",
      "epoch 800,loss 1.68738, greed 0.21429, rewards: ( train -15.75368, det_train 0.25690) \n",
      "rec 1.686 reg 0.001\n",
      "epoch 900,loss 1.46460, greed 0.21606, rewards: ( train -15.37636, det_train 0.29121) \n",
      "rec 1.464 reg 0.001\n",
      "Evaluation:\n",
      "\n",
      "deterministic\n",
      "#26: decades_active:2010 (2.590) -> 1.0 | #26: decades_active:2010 (4.471) -> 0.0 | #26: decades_active:2010 (5.235) -> 0.0 | #26: decades_active:2010 (5.155) -> 0.0 | #166: decades_active:2000 (4.727) -> 1.0 | #166: decades_active:2000 (4.603) -> 0.0 | #166: decades_active:2000 (4.299) -> 0.0 | #166: decades_active:2000 (3.849) -> 0.0 | #25: last_activity:still_active (3.469) -> 1.0 | #25: last_activity:still_active (3.147) -> 0.0 | #25: last_activity:still_active (2.578) -> 0.0 | #260: decades_active:1990 (1.917) -> 1.0 | #260: decades_active:1990 (1.174) -> 0.0 | #59: Origin:georgia (0.465) -> -1.0 | #349: category:List_of_bands_with_more_than_one_lead_vocalist (0.209) -> -2.0 | #318: category:List_of_lead_guitarists (0.128) -> -2.0 | #343: category:List_of_jazz_guitarists (0.021) -> -2.0 | #354: category:List_of_deaths_in_rock_and_roll (0.068) -> -2.0 | #338: category:List_of_drummers (0.027) -> -2.0 | #26: decades_active:2010 (0.532) -> 0.0 | <end>\n",
      "true: category:List_of_soul_musicians category:List_of_smooth_jazz_musicians category:List_of_R%26B_musicians\n",
      "\n",
      "\n",
      "current_greediness (0.217821)\n",
      "#26: decades_active:2010 (2.590) -> 1.0 | #361: category:List_of_Maryland_music_people (0.059) -> -2.0 | #31: Instruments:banjo (1.044) -> -1.0 | #354: category:List_of_deaths_in_rock_and_roll (-0.057) -> -2.0 | #34: first_activity:1974 (1.466) -> -1.0 | #261: Spouse(s):is_known (1.762) -> -1.0 | #1: Birth name:is_known (2.850) -> -1.0 | #166: decades_active:2000 (3.915) -> 1.0 | #0: Children:is_known (1.082) -> -1.0 | #328: category:List_of_West_Coast_hip_hop_artists (-0.104) -> -2.0 | #294: Occupation:host (0.927) -> -1.0 | #260: decades_active:1990 (1.606) -> 1.0 | #137: Occupation:writer (0.298) -> -1.0 | #76: Occupation:teacher (0.210) -> -1.0 | #338: category:List_of_drummers (-0.048) -> -2.0 | #127: Genres:roots (-0.532) -> -1.0 | #341: category:List_of_Nigerian_musicians (-0.194) -> -2.0 | #189: Occupation:and (-0.728) -> -1.0 | #77: Genres:soul (-1.178) -> 1.0 | #26: decades_active:2010 (2.025) -> 0.0 | <end>\n",
      "true: category:List_of_soul_musicians category:List_of_smooth_jazz_musicians category:List_of_R%26B_musicians\n",
      "\n"
     ]
    },
    {
     "data": {
      "image/png": "[encoded data removed]",
      "text/plain": [
       "<matplotlib.figure.Figure at 0x7fa755072850>"
      ]
     },
     "metadata": {},
     "output_type": "display_data"
    },
    {
     "name": "stdout",
     "output_type": "stream",
     "text": [
      "epoch 1000,loss 2.64608, greed 0.21782, rewards: ( train -17.29523, det_train 0.46209) \n",
      "rec 2.645 reg 0.001\n",
      "epoch 1100,loss 1.21629, greed 0.21958, rewards: ( train -15.20967, det_train -0.34412) \n",
      "rec 1.215 reg 0.001\n",
      "epoch 1200,loss 1.50473, greed 0.22134, rewards: ( train -15.24172, det_train -0.24971) "
     ]
    }
   ],
   "source": [
    "n_epochs = 150000\n",
    "batch_size=10\n",
    "for i in range(n_epochs):\n",
    "    \n",
    "    resolver.rng.seed(epoch_counter)\n",
    "    \n",
    "    creeping_greed = min(0.1 + (1.-np.exp(-epoch_counter/50000.)*0.9),0.95)\n",
    "    creeping_epsilon = 1.-creeping_greed\n",
    "    \n",
    "    \n",
    "    #train\n",
    "    load_random_batch(env,train_attrs,train_cats,batch_size=batch_size)\n",
    "    \n",
    "    loss,q_loss,reg_loss,avg_reward = train_fun()\n",
    "    \n",
    "    \n",
    "    \n",
    "    #reward loss moving average\n",
    "    ma_reward = alpha*avg_reward+ (1-alpha)*ma_reward\n",
    "    \n",
    "    \n",
    "    \n",
    "    \n",
    "    if epoch_counter%1000==0:\n",
    "        print \"Evaluation:\"\n",
    "        print '\\ndeterministic'\n",
    "        set_shared(resolver.epsilon,0)\n",
    "        print_session(1)\n",
    "        \n",
    "        \n",
    "        \n",
    "        print '\\ncurrent_greediness (%f)'%creeping_greed\n",
    "        set_shared(resolver.epsilon,creeping_epsilon)\n",
    "        print_session(1)\n",
    "        \n",
    "        plot_scores(experiment_setup_name)\n",
    "\n",
    "    if epoch_counter% 5000 ==0:\n",
    "        save(resolver,\"/root/agentnet_snapshots/{}.epoch{}.pcl\".format(experiment_setup_name,epoch_counter))\n",
    "        print \"snapshot saved\"\n",
    "        \n",
    "        \n",
    "\n",
    "\n",
    "    if epoch_counter%100 ==0:\n",
    "        print \"epoch %i,loss %.5f, greed %.5f, rewards: ( train %.5f, det_train %.5f) \"%(\n",
    "            epoch_counter,loss,creeping_greed,ma_reward,ma_reward_greedy)\n",
    "        print \"rec %.3f reg %.3f\"%(q_loss,reg_loss)\n",
    "        \n",
    "        score_log[\"in-training session avg reward\"][epoch_counter] = ma_reward\n",
    "        \n",
    "        \n",
    "        \n",
    "        #greedy train\n",
    "        set_shared(resolver.epsilon,0)\n",
    "        avg_reward_greedy = loss_fun()[-1]\n",
    "        ma_reward_greedy = (1-alpha)*ma_reward_greedy + alpha*avg_reward_greedy\n",
    "        score_log[\"avg session reward greedy (on training)\"][epoch_counter] = ma_reward_greedy\n",
    "        \n",
    "        score_log\n",
    "        \n",
    "        #back to epsilon-greedy\n",
    "        set_shared(resolver.epsilon,creeping_epsilon)\n",
    "\n",
    "\n",
    "        \n",
    "        \n",
    "    epoch_counter  +=1\n"
   ]
  },
  {
   "cell_type": "code",
   "execution_count": null,
   "metadata": {
    "collapsed": false
   },
   "outputs": [],
   "source": [
    "plot_scores(\"final\")"
   ]
  },
  {
   "cell_type": "code",
   "execution_count": null,
   "metadata": {
    "collapsed": true
   },
   "outputs": [],
   "source": []
  }
 ],
 "metadata": {
  "kernelspec": {
   "display_name": "Python 2",
   "language": "python",
   "name": "python2"
  },
  "language_info": {
   "codemirror_mode": {
    "name": "ipython",
    "version": 2
   },
   "file_extension": ".py",
   "mimetype": "text/x-python",
   "name": "python",
   "nbconvert_exporter": "python",
   "pygments_lexer": "ipython2",
   "version": "2.7.6"
  }
 },
 "nbformat": 4,
 "nbformat_minor": 0
}
