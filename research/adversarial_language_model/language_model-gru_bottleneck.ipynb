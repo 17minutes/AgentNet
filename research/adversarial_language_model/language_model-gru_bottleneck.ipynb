{
 "cells": [
  {
   "cell_type": "code",
   "execution_count": 1,
   "metadata": {
    "collapsed": false
   },
   "outputs": [
    {
     "name": "stdout",
     "output_type": "stream",
     "text": [
      "env: THEANO_FLAGS='device=gpu3'\n"
     ]
    },
    {
     "name": "stderr",
     "output_type": "stream",
     "text": [
      "Using gpu device 3: Tesla K40m (CNMeM is disabled, CuDNN 4004)\n"
     ]
    }
   ],
   "source": [
    "import numpy as np\n",
    "from matplotlib import pyplot as plt\n",
    "%matplotlib inline\n",
    "\n",
    "\n",
    "#theano imports\n",
    "#the problem is too simple to be run on GPU. Seriously.\n",
    "%env THEANO_FLAGS='device=gpu3'\n",
    "import lasagne\n",
    "import theano\n",
    "import theano.tensor as T\n",
    "floatX = theano.config.floatX\n",
    "\n"
   ]
  },
  {
   "cell_type": "code",
   "execution_count": 2,
   "metadata": {
    "collapsed": false
   },
   "outputs": [],
   "source": [
    "%load_ext autoreload\n",
    "%autoreload 2"
   ]
  },
  {
   "cell_type": "markdown",
   "metadata": {},
   "source": [
    "# [in development] this is just a minimalistic language model so far\n",
    "# This tutorial explains the Generator agent type applied to conversation modelling\n",
    "* experiment setup\n",
    "* designing agent\n",
    "* computing losses\n",
    "* training"
   ]
  },
  {
   "cell_type": "code",
   "execution_count": 3,
   "metadata": {
    "collapsed": false
   },
   "outputs": [],
   "source": [
    "import cPickle\n",
    "import numpy as np\n",
    "with open(\"/home/jheuristic/yozhik/dl_s8/tokens.pcl\") as fin:\n",
    "    tokens = cPickle.load(fin)[0]\n",
    "\n",
    "titles = np.load(\"/home/jheuristic/yozhik/dl_s8/titles.npy\").astype(\"int32\")"
   ]
  },
  {
   "cell_type": "code",
   "execution_count": 4,
   "metadata": {
    "collapsed": false
   },
   "outputs": [
    {
     "name": "stdout",
     "output_type": "stream",
     "text": [
      "NULL;асфальтно;экусплуатации;препятствующую;рекордсервис\n",
      "[[226421 488637 197907      0      0      0      0      0      0      0]\n",
      " [400357 375323      0      0      0      0      0      0      0      0]\n",
      " [467017 107402      0      0      0      0      0      0      0      0]]\n",
      "toyota sera 1991 NULL NULL NULL NULL NULL NULL NULL NULL NULL NULL NULL NULL\n",
      "монтаж кровли NULL NULL NULL NULL NULL NULL NULL NULL NULL NULL NULL NULL NULL\n",
      "костюм steilmann NULL NULL NULL NULL NULL NULL NULL NULL NULL NULL NULL NULL NULL\n",
      "ford focus 2011 NULL NULL NULL NULL NULL NULL NULL NULL NULL NULL NULL NULL\n",
      "турбина 3 0 bar NULL NULL NULL NULL NULL NULL NULL NULL NULL NULL NULL\n",
      "ваз 2115 samara 2005 NULL NULL NULL NULL NULL NULL NULL NULL NULL NULL NULL\n",
      "ваз 2105 1998 NULL NULL NULL NULL NULL NULL NULL NULL NULL NULL NULL NULL\n",
      "комната 12 м² в 3 к 3 14 эт NULL NULL NULL NULL NULL NULL\n",
      "дом 42 м² на участке 7 сот NULL NULL NULL NULL NULL NULL NULL NULL\n",
      "подголовники ваз 2109 NULL NULL NULL NULL NULL NULL NULL NULL NULL NULL NULL NULL\n"
     ]
    }
   ],
   "source": [
    "print ';'.join(tokens[:5])\n",
    "print titles[:3,:10]\n",
    "for title in titles[:10]:\n",
    "    print ' '.join(map(tokens.__getitem__,title))"
   ]
  },
  {
   "cell_type": "markdown",
   "metadata": {},
   "source": [
    "# agent setup\n",
    "* An agent implementation has to contain three parts:\n",
    " * Memory layer(s)\n",
    "  * in this case, a single one-step GRU\n",
    " * Q-values evaluation layers\n",
    "  * in this case, a lasagne dense layer based on memory layer\n",
    " * Resolver - acton picker layer\n",
    "  * in this case, the resolver has epsilon-greedy policy"
   ]
  },
  {
   "cell_type": "code",
   "execution_count": 5,
   "metadata": {
    "collapsed": false
   },
   "outputs": [],
   "source": [
    "from agentnet.resolver import EpsilonGreedyResolver\n",
    "from agentnet.memory import GRUMemoryLayer\n",
    "from agentnet.agent import Generator\n",
    "from agentnet.resolver import ProbablisticResolver"
   ]
  },
  {
   "cell_type": "code",
   "execution_count": 6,
   "metadata": {
    "collapsed": false
   },
   "outputs": [],
   "source": [
    "\n",
    "import lasagne\n",
    "n_hid_1=2048 #first GRU memory\n",
    "n_hid_2=2048 #second GRU memory\n",
    "n_hid_3=128 #last \"output\" GRU memory\n",
    "embedding_size=128\n",
    "vocab_size = len(tokens) #number of words in dictionary\n",
    "\n",
    "\n",
    "\n",
    "_observation_layer = lasagne.layers.InputLayer((None,1),name=\"obs_input\")\n",
    "\n",
    "_prev_gru1_layer = lasagne.layers.InputLayer((None,n_hid_1),name=\"prev_gru1_state_input\")\n",
    "_prev_gru2_layer = lasagne.layers.InputLayer((None,n_hid_2),name=\"prev_gru2_state_input\")\n",
    "_prev_gru3_layer = lasagne.layers.InputLayer((None,n_hid_3),name=\"prev_gru3_state_input\")\n",
    "\n",
    "\n",
    "emb = lasagne.layers.EmbeddingLayer(_observation_layer,vocab_size,embedding_size,name=\"token_vectors\")\n",
    "\n",
    "#memory\n",
    "gru1 = GRUMemoryLayer(n_hid_1,\n",
    "                     emb,\n",
    "                     _prev_gru1_layer,\n",
    "                     name=\"gru1\")\n",
    "\n",
    "gru2 = GRUMemoryLayer(n_hid_2,\n",
    "                     gru1,        #note that it takes CURRENT gru1 output as input.\n",
    "                                  #replacing that with _prev_gru1_state would imply taking previous one.\n",
    "                     _prev_gru2_layer,\n",
    "                     name=\"gru2\")\n",
    "\n",
    "gru_1_and_2 = lasagne.layers.concat([gru1,gru2])\n",
    "\n",
    "gru3 = GRUMemoryLayer(n_hid_3,\n",
    "                     gru_1_and_2,        #note that it takes CURRENT gru1 and gru2 outputs as input.\n",
    "                                  #replacing that with _prev_gru1_state would imply taking previous one.\n",
    "                     _prev_gru3_layer,\n",
    "                     name=\"gru3\")\n",
    "\n",
    "\n",
    "concatenated_memory = lasagne.layers.concat([gru_1_and_2,gru3])\n",
    "\n",
    "\n",
    "#policy\n",
    "\n",
    "\n",
    "greed = theano.shared(np.float32(1),\"prob_multiplier\")\n",
    "\n",
    "\n",
    "\n",
    "policy_layer = lasagne.layers.DenseLayer(gru3, #taking output gru layer. \n",
    "                                                        #Replacing with gru1 or gru2 would mean taking one\n",
    "                                         num_units = vocab_size,\n",
    "                                         nonlinearity=lambda x: lasagne.nonlinearities.softmax(x*greed),\n",
    "                                         name=\"policy_original\")\n",
    "\n",
    "#resolver\n",
    "\n",
    "\n",
    "resolver = ProbablisticResolver(policy_layer,assume_normalized=True,name=\"resolver\")\n",
    "\n",
    "\n",
    "\n",
    "#we need to define the new input map because concatenated_memory is a ConcatLayer and does not have default one\n",
    "\n",
    "def custom_input_map(last_hidden,observation):\n",
    "    \"\"\"just a function that maps memory states to respective inputs\"\"\"\n",
    "    return {\n",
    "        _prev_gru1_layer:last_hidden[:,0:n_hid_1],\n",
    "        _prev_gru2_layer:last_hidden[:,n_hid_1:n_hid_1+n_hid_2],\n",
    "        _prev_gru3_layer:last_hidden[:,n_hid_1+n_hid_2:],\n",
    "        _observation_layer:observation\n",
    "    }\n",
    "\n",
    "#all together\n",
    "agent = Generator(concatenated_memory,policy_layer,resolver,input_map=custom_input_map\n",
    "             )\n"
   ]
  },
  {
   "cell_type": "code",
   "execution_count": 7,
   "metadata": {
    "collapsed": false
   },
   "outputs": [
    {
     "data": {
      "text/plain": [
       "[token_vectors.W,\n",
       " gru1.W_in_to_updategate,\n",
       " gru1.W_hid_to_updategate,\n",
       " gru1.b_updategate,\n",
       " gru1.W_in_to_resetgate,\n",
       " gru1.W_hid_to_resetgate,\n",
       " gru1.b_resetgate,\n",
       " gru1.W_in_to_hidden_update,\n",
       " gru1.W_hid_to_hidden_update,\n",
       " gru1.b_hidden_update,\n",
       " gru2.W_in_to_updategate,\n",
       " gru2.W_hid_to_updategate,\n",
       " gru2.b_updategate,\n",
       " gru2.W_in_to_resetgate,\n",
       " gru2.W_hid_to_resetgate,\n",
       " gru2.b_resetgate,\n",
       " gru2.W_in_to_hidden_update,\n",
       " gru2.W_hid_to_hidden_update,\n",
       " gru2.b_hidden_update,\n",
       " gru3.W_in_to_updategate,\n",
       " gru3.W_hid_to_updategate,\n",
       " gru3.b_updategate,\n",
       " gru3.W_in_to_resetgate,\n",
       " gru3.W_hid_to_resetgate,\n",
       " gru3.b_resetgate,\n",
       " gru3.W_in_to_hidden_update,\n",
       " gru3.W_hid_to_hidden_update,\n",
       " gru3.b_hidden_update,\n",
       " policy_original.W,\n",
       " policy_original.b]"
      ]
     },
     "execution_count": 7,
     "metadata": {},
     "output_type": "execute_result"
    }
   ],
   "source": [
    "#Since it's a single lasagne network, one can get it's weights, output, etc\n",
    "weights = lasagne.layers.get_all_params(resolver,trainable=True)\n",
    "weights"
   ]
  },
  {
   "cell_type": "markdown",
   "metadata": {},
   "source": [
    "## Agent setup in detail\n",
    "* __Memory layers__\n",
    " * One-step recurrent layer\n",
    "     * takes input and one's previous state\n",
    "     * returns new memory state\n",
    "   * Can be arbitrary lasagne layer\n",
    "   * Several one-step recurrent units are implemented in __agentnet.memory__\n",
    "   * Note that lasagne's default recurrent networks roll for several steps at once\n",
    "     * in other words, __using lasagne recurrent units as memory means recurrence inside recurrence__\n",
    " * Using more than one memory layer is explained in farther tutorials\n",
    "\n",
    "\n",
    "* __Q-values evaluation layer__\n",
    " * Can be arbitrary lasagne network\n",
    " * returns predicted Q-values for each action\n",
    " * Usually depends on memory as an input\n",
    "\n",
    "\n",
    "* __Resolver__ - action picker\n",
    " * Decides on what action is taken\n",
    " * Normally takes Q-values as input\n",
    " * Currently all experiments require integer output\n",
    " * Several resolver layers are implemented in __agentnet.resolver__"
   ]
  },
  {
   "cell_type": "markdown",
   "metadata": {},
   "source": [
    "# Interacting with environment\n",
    "* an agent has a method that produces symbolic environment interaction sessions\n",
    "* Such sessions are represented as tensors with dimensions matching pattern [batch_session_i, time_tick, ...]\n",
    "* interactions result in sequences of observations, actions, q-values,etc\n",
    "* one has to pre-define maximum session length.\n",
    " * in this case, environment implements an indicator of whether session has ended by current tick\n",
    "* Since this environment also implements Objective methods, it can evaluate rewards for each [batch, time_tick]\n",
    "\n"
   ]
  },
  {
   "cell_type": "code",
   "execution_count": 8,
   "metadata": {
    "collapsed": false
   },
   "outputs": [],
   "source": [
    "seq_length = titles.shape[1]\n",
    "\n",
    "sequences_batch = theano.shared(np.zeros([3,seq_length],dtype=\"int32\"),name=\"reference_sequences\")\n",
    "\n",
    "batch_size = sequences_batch.shape[0]\n",
    "\n",
    "history = agent.get_sessions(session_length=seq_length,\n",
    "                             recorded_sequence=sequences_batch,\n",
    "                             batch_size=batch_size,)\n",
    "\n",
    "hidden_seq,policy_seq,action_seq = history"
   ]
  },
  {
   "cell_type": "code",
   "execution_count": 9,
   "metadata": {
    "collapsed": false
   },
   "outputs": [],
   "source": [
    "\n",
    "#Let us compile a function that returns all interaction logs\n",
    "get_history = theano.function([],history,mode=theano.compile.mode.FAST_RUN)\n",
    "\n"
   ]
  },
  {
   "cell_type": "markdown",
   "metadata": {},
   "source": [
    "# Evaluating loss function\n",
    "* In this case, we want to \n",
    " * first get pairs of (predicted Qvalue, reference Qvalue) for all actions commited\n",
    " * second, define loss function\n",
    " * third, compute grad and update weights"
   ]
  },
  {
   "cell_type": "markdown",
   "metadata": {},
   "source": [
    "#### Define loss functions"
   ]
  },
  {
   "cell_type": "code",
   "execution_count": 10,
   "metadata": {
    "collapsed": false
   },
   "outputs": [],
   "source": [
    "predicted_probas = policy_seq.reshape([-1,vocab_size])\n",
    "predicted_probas = T.maximum(predicted_probas,1e-5)\n",
    "\n",
    "model_loss = lasagne.objectives.categorical_crossentropy(predicted_probas,\n",
    "                                                         sequences_batch.ravel()).mean()"
   ]
  },
  {
   "cell_type": "code",
   "execution_count": 11,
   "metadata": {
    "collapsed": false
   },
   "outputs": [],
   "source": [
    "#regularize network weights\n",
    "\n",
    "from lasagne.regularization import regularize_network_params, l2\n",
    "reg_l2 = regularize_network_params(resolver,l2)*10**-3"
   ]
  },
  {
   "cell_type": "code",
   "execution_count": 12,
   "metadata": {
    "collapsed": false
   },
   "outputs": [],
   "source": [
    "loss = model_loss + reg_l2"
   ]
  },
  {
   "cell_type": "markdown",
   "metadata": {},
   "source": [
    "#### Compute weight updates"
   ]
  },
  {
   "cell_type": "code",
   "execution_count": 13,
   "metadata": {
    "collapsed": false
   },
   "outputs": [],
   "source": [
    "updates = lasagne.updates.adadelta(loss,weights,learning_rate=0.1)"
   ]
  },
  {
   "cell_type": "markdown",
   "metadata": {},
   "source": [
    "# Compile train and evaluation functions"
   ]
  },
  {
   "cell_type": "code",
   "execution_count": 14,
   "metadata": {
    "collapsed": false
   },
   "outputs": [],
   "source": [
    "train_fun = theano.function([],[loss],updates=updates)\n",
    "\n",
    "evaluation_fun = theano.function([],[loss,model_loss,reg_l2])"
   ]
  },
  {
   "cell_type": "code",
   "execution_count": null,
   "metadata": {
    "collapsed": true
   },
   "outputs": [],
   "source": [
    "log = \"\""
   ]
  },
  {
   "cell_type": "code",
   "execution_count": null,
   "metadata": {
    "collapsed": false,
    "scrolled": true
   },
   "outputs": [
    {
     "name": "stdout",
     "output_type": "stream",
     "text": [
      "iter:0\tfull:420.00287\tllh:11.51293\treg:408.48993\n",
      "динамио 16248 нацеленный поклейщик непредвиденным el10 муранка 0002709 рожающая уточные юридичeской 35890 seminyak 1632мб атибукс\n",
      "tatu ближaйшaя феодосии боллеров камеди nicam matera отрежем 28813 aist брусковый росрао видоизменять водолазок рыльца\n",
      "джипа полар2 crestliner набойках восхищают 10лир1973 пиявок 3000х1350 чемодане пользуясь дарение 41261 беспомощным акварио подстричься\n",
      "iter:100\tfull:403.99347\tllh:11.51293\treg:392.48053\n",
      "отбалансирую медсестринских окупать продавайте лётный аон¹ rw6815 шредеръ u180 магaзине 69в 3325 наемные светлеет литор\n",
      "новосиб олицетворение шезлог евроконтейнер mb110rs igel 660000р ухожиные 170413 докембрийскую 1460т glissee маломощное coaxial грубую\n",
      "спиридонова белорус nbp nexi честер обоюдный дмц черокманова sf9 выразительным летом13г щебеночный обечайку fera ктпто\n",
      "iter:200\tfull:388.60242\tllh:11.51293\treg:377.08948\n",
      "брянская умирающий гapaнтируем абба термочаши 33т обменен ру63 супрафил перемешивающим ооч везувий лампасами 4258 320m\n",
      "ncp малышня расскладушка спешке сокровищами бфо чашкой меренные monsterseo тонкорунная подъезд роллставней пряностями шумоизолязия 14n5xm\n",
      "юкон vitara 334 marccain характеристикиdcr n101l6 бейсбольную жарочной a130 результативному ушиты описывая 6разряд утинный колпачке\n",
      "iter:300\tfull:373.81476\tllh:11.51293\treg:362.30182\n",
      "вязальной цдлина катeгорий пpедлoжении пантеры 1434 лобню повреждена проявляется лайково раскладывающегося 6909 тавларово полуособняк околица\n",
      "проницаемы погрущик lms прокопьевск расчитал маскот вельветовым 15эт фуршет пoдробности водохранилищем широна cream затопите сдерживание\n",
      "люстрой случаяx расходах железного недостающих форда r42pv70 confession mecarm взимает 2941251 азери гранная nh условного\n",
      "iter:400\tfull:359.60709\tllh:11.51293\treg:348.09415\n",
      "инородного переоборудуется пепла котенка примуса фοтοгρaфий бодибилдеры прождажам тизерная ветроотталкивающий betriebsart слюнки сермак 30546 доброжелательны\n",
      "1000hd энергичных инернет lex2 авторских выровненная эфрона мануфактурный трудобеликовского муни промостойку 102h xt926m красногорс faza\n",
      "уголком 82х30 ясновидящих фёдором улочках истор пeтepбуpгa черновка клубневидный коктейльная 24021 спиливании 590м карсетом oтдельная\n",
      "iter:500\tfull:345.95651\tllh:11.51293\treg:334.44357\n",
      "maxmara тонирует 1619 ушинского застежками 1gn впитает захватывающее 22120 sir голдфилда 45r17 46x111x12 россыпи обретут\n",
      "ликопин поработаю 110тысяч дипломспб светомузыки перезвонте гемания лесопарками подрядных голландских люция марфинская замята juta контролировалось\n",
      "coaster адербиевка 12600мм художественными интсрумента интурист соно наибольшими dealextrime трансмиттеру примятостей финансовое сообразителен трейдин dasp\n",
      "iter:600\tfull:332.84122\tllh:11.51293\treg:321.32828\n",
      "brita корицы неменее семкино zanussy обьевления подвалами 5882 settlers конкурентоспособный менежера 10771 кисловодское cncalendar умнейшая\n",
      "2х1200мгц 433h целевую сс308 h5300 мозоль 22g iphoto организует bioptron deathmatch гидрозатвор брызгозащищённый докты освобожденном\n",
      "тверицах vinchon судость olleh пpeпoдaвaтeля папирусов волновала richesse пердседателю колесике ragged родничок наколенник урчание новоcтрoйкa\n",
      "iter:700\tfull:320.24033\tllh:11.51293\treg:308.72739\n",
      "4528 обвесы gobi2000 непродовольственную коляскa термоизолирующими касающегося лапки гниловата крыловa переваривалось поcтелeн 5ая ppa акаши\n",
      "nanette каунтерпэйн статут клинически литык трехточный полумраке отрадненское основ 880рублей заподное тpyдoвыe грибановский минидевочка умножить\n",
      "oфоpмлению гирляндой бэстики dek grach 15659 живописный 22600 магнитофона вашм acuvue дерматикс тельник чеpнышевскогo энергозапчасть\n",
      "iter:800\tfull:308.13348\tllh:11.51293\treg:296.62054\n",
      "провер 435brm s04 eia подают 7jx17h2 8x12 36г hd6 73v колясочника премьервидеофильм стройкомплекс ирбиса учредительный\n",
      "возмозен кокаина обкуренный птицееды nsf euros maкс отход кaфеле коре2дуо балконов инфpастрyктypа дискавода согнули нee\n",
      "расщепленных 719t h300c yummy влвделец стропильной преми 3взр учстка таять коцками расчищенной серфингистов козу отсыпанных\n",
      "iter:900\tfull:296.50146\tllh:11.51293\treg:284.98853\n",
      "чайничка 727f8 бeлoгo 1195р тормазные сдают 3877 запущу рашпилевская генеральных жальское 9065hp pdt 5742 содружественных\n",
      "девчки к16 самоварный bfq кривошип 5750 matte 4109 родственником фракционной 1000138 припарковать x323 сходили 55521\n",
      "видеосеминара агарового s1155 gata бухаретская рингтон микрорынке закупорках помешивать спецакция фозинап m18b останавливаем определяющую ворожба\n",
      "iter:1000\tfull:285.32571\tllh:11.51293\treg:273.81277\n",
      "мащина лишением ольгой ярусы разделяющей самодельно руткитов ирине 0911 агломерации любопытен плакатах предпусковый обналичить автов\n",
      "венотонический проплавление старшеклассников плошке черноморского coolsense терpитория всасывающее 5а893 smashbox regalia mirco снеговик 35001 перышкина\n",
      "600гр шпажек конюшне spheros получившаяся softperfection найдти потеют идентификационный гантелям кaпиталом евроспорт сooтветствует подрумянивания никода\n",
      "iter:1100\tfull:274.58813\tllh:11.51293\treg:263.07520\n",
      "переоценка тренажерном рсбу сроительстов удалял намотчик охраникам 2343 23тысячи мультикан обратнои 1994гв пассaжиpа необработанных напряженно\n",
      "отгружаемых коттеджем 26864 осторожный козью укупорочная превращающего codegate прекрaсный ультрасовременная указательные капотни миниатюре программными кладкой\n",
      "пироговская миловке sr5 сомали 200б прокисшей автopeзина элпром 108м карову ситовеечные cайга надзорных угловая батареики\n",
      "iter:1200\tfull:264.27167\tllh:11.51293\treg:252.75874\n",
      "хаврошечка рассматриваемой п30000р подкармливаются квартирка arg полукруглым камбрия фотографиии ясави невооруженным дубa ui3520 горчаково необычное\n",
      "049 sd6 соединии prо регламентирующими 17кирпич фацеты галантереи поправится помощ перепланеровки 7889 деникс медикоменты кран25т\n",
      "чрфлс 1710000 facil сooтвeтcтвуeт суммарных высокопрофессиональная направленную грызунка венец контроллерам трaccу пасты разводные v250w носишь\n",
      "iter:1300\tfull:254.35970\tllh:11.51293\treg:242.84677\n",
      "смоленкой заурядное 2блока разоблачить пьедестала сернурский friday нeдaвно новодел ноздрю тесемочками теоретические дoрожныx кораблик 1хd\n",
      "капасол оверлок полет обивки фаиль пробег100000 одноименного автохолодильник rx420 мусорный палатной ромбом очагов въезжай заряжено\n",
      "регулярно возмущения 64тыс бардовые нивелира k2u23146 pwa06x72 линoлиум тума f801 клиентатура таватуй fonarivnebo 5х69 чисы\n",
      "iter:1400\tfull:244.83649\tllh:11.51293\treg:233.32356\n",
      "гамо хорошая атаманкой сросшийся выдаваемого 15355 машинои шило 13км 10guitarfingers etam сердечными armageddon пeтербургe текстурой\n",
      "89w глиттерной 30650 котодети подкатить эемли 42й sirf абики североуральске месяце ue46c7000ww кобуре 4th экстерном\n",
      "ворвалась маленька тойоте пду использывали электроустановках темляка блокироющих покупатeля опубликовано цветка блендере волы огненные голутвина\n",
      "iter:1500\tfull:235.68672\tllh:11.51293\treg:224.17380\n",
      "расстоможена заказ1 774 тeлeфoнy поломанной 593 блондинчики корректирую задаваться адресник пoдведен плошадкой купон суровому основательной\n",
      "чиршкасы мегионе 268x70x318 pegout 88h сeрого записываемому манетка трaнспoрте прейскурантом витальевич оформленые 1647 переключится 32000руб\n",
      "mj8mmptw53s7nv8 152000 катят дoкyмeнтов производителся отсальные саламандру кофемашины 57р secure подведении главпатрон рокером 4х100вт отсоединены\n",
      "iter:1600\tfull:226.89577\tllh:11.51293\treg:215.38284\n",
      "глуховская учатске здаю выноса трамвайную нeпocpeдcтвeннoм стричь уныш balkankar преображенскую iclear вокальном поверхност proshield безторга\n",
      "мecяцa изготавливаются прокрашивает мистики 338кв энергетика третим lдоставка dunlope перестраиваемый микроволокна рыбачим турняк задаст лицевыми\n",
      "ленспен ситроян экономического сarrera 20перо dfg пко предста 1960г арта стоппером невелиром бумажечку 5x88 мингараева\n",
      "iter:1700\tfull:218.44955\tllh:11.51293\treg:206.93663\n",
      "пандусов крепление аркрым 1333 няшино едут мостиком 5955 insolence kс реилинги обмотками перками p5q3 реллинги\n",
      "monta драгоценное 4850р dfq к008ра64 р7 mr800 хранилищах поcтельноe ga9020 tnt2 отбиты ew100 кински 1диск\n",
      "цапе вначале вводя ma770t boggi bronco кисломолочного автобетоносмесителе западают дымчатая выжлец 14475 vt1708b упростить d705\n",
      "iter:1800\tfull:210.33453\tllh:11.51293\treg:198.82161\n",
      "прописи конкуретный включенный бутылочки пневмотическую kletn грамматически тоpеза продвигать hakkapelliita 209л gyills прикрепляла панков майе\n",
      "cпойлеры 93c66 7537 1ам медведевка аполлон скольжению наполетано cделана свoевpeменную christin лицензированного ликвидное 700а петepбyрге\n",
      "столп бегаем недоумении 2epc сведен rachel госучреждениями камином14кв персонифицированному приговоров безразмерное соотнашение нестесняйтесь кардиомиопатией сандалик\n",
      "iter:1900\tfull:202.53778\tllh:11.51293\treg:191.02486\n",
      "навоза минивспенивателя модернизированного пашенного врачем аксёново впитав изменивших гнт 200тыс 2117u tbk мeндeлеева 75080 металлокерамические\n",
      "леопардовыми fate приученным plitex гнушейся дме рабкорoв просушите бирочка смуфов 000r мбу помещенние завлекать 29885\n",
      "запирающих гкрф негативизм санаторий движущимся сокета махинаций термопар ран 140х80 внутрискладские f249b837622b строительные tokai малосемейном\n",
      "iter:2000\tfull:195.04678\tllh:11.51293\treg:183.53386\n",
      "пасечника 7225 эвт молокотсос fmрадио майский выливка 160рм2 уменьшая журналистики архызе lorenza госзаказах аквапечать неинтересует\n",
      "100м2 5c багратионовская дзено пл900м2 акульей аэрогрилю составляющего арбалетов мo bосточно e160g влагосодержание тентовый пляшущая\n",
      "импульсному нажимал чрезмерном 226кв тестовых проработают матрацем иммобилизирующий квартиросемщики ритуалами бачате пшады обязана задолжностью вварены\n",
      "iter:2100\tfull:187.84953\tllh:11.51293\treg:176.33661\n",
      "пpиточно hgh 170х190 hlavni протирала раскрашивать следы salice уверены gen8 юрловских могла хорактеристики шиукашвили видеоархивов\n",
      "батенькова трио отстроиться непередаваемую 352л подворачивать дафлкот weinbach 24886 электоропроводка syma цельностальной профессоры техничный вспомнить\n",
      "июле2013 еврофурами госномер тяк а2dр авчарка сетрификаты tc59 1200тр ревизионного полиомиелите аудиовыходы м7е тополиной показанных\n",
      "iter:2200\tfull:180.93452\tllh:11.51293\treg:169.42160\n",
      "бизнесмены фортепианная прочн гусенечный i75vstr m1319f вёз назвав 12год окошки goncharenko5 плотяных эспланады охлажением ketron\n",
      "брянских calsonic гелевая 82а штанишками синегорец телеизор зазовский фанерное 1x18 529р подголовника slx24 тупиком 37533\n",
      "moontech d104x triad зерномет интерне бемс кaчaлкa разрушение iglove груперевозки прocтoрная detail сахалинскую справная стояком\n",
      "iter:2300\tfull:174.29071\tllh:11.51293\treg:162.77779\n",
      "заварочного arri антизаноса космонавт универмаг ittf восстанавливала 22куба измененной princess деревяном илив чистокровности пoжapoтушeния запрограммируем\n",
      "taktik теплоотдачу граждансто сторонникам городскую лонгслив гофролист хорошкм гибсонов 595 усовершенствован cs668 ƹ мыша пристроились\n",
      "x710 брагино муравьиное maria фотокатода трехпрудный биогелями шило приспособился н2о ашеров обеспеченную вязкие ортодонтическое 40816\n",
      "iter:2400\tfull:167.90741\tllh:11.51293\treg:156.39449\n",
      "25карт образовательного ду50ру40 промашек затирочных умрут кератолитического malysham 06e t2 statue гирбоксе segmentation капсулированы хороводом\n",
      "обменаю эклер смятие верхушки рентгеновский парина проконсультируют неде ватных v203hv зимннего докладчик плотформа внутридворовых роздатка\n",
      "новаторства 96н 110х6 radiante педиатры керамзитобетон рысик наливается металлизированном трехточечное бонапарт snaiper электросчетчики укладывают дoгoворa\n",
      "iter:2500\tfull:161.77446\tllh:11.51293\treg:150.26154\n",
      "оверятская мощам восторженный пиявит стороннем стюартом хoзяинoм стабилизациитонированные салонные умиротворяющий телетайп 50х60 80x115x13 постановщика технологичная\n",
      "перформа матeриалoв shego грубая оплaта honors броблем raks чове первобытные cbr600rr 2005гг эжва выполнении подключeниe\n",
      "перетекающих пресняков еринская дoлгосрочную cor2duo keymaster f33 пересмазка батареии jp01 конфискованный петрол hashimoto olufsen полузащищенный\n"
     ]
    }
   ],
   "source": [
    "loss_seq = []\n",
    "for i in range(50000):\n",
    "    new_batch = titles[np.random.randint(len(titles),size=10)]\n",
    "    sequences_batch.set_value(new_batch)\n",
    "    \n",
    "    loss_seq.append(train_fun())\n",
    "    \n",
    "    if i % 100==0:\n",
    "        quality = \"iter:%i\\tfull:%.5f\\tllh:%.5f\\treg:%.5f\"%tuple([i]+map(float,evaluation_fun()))        \n",
    "        print quality\n",
    "        log+=quality+'\\n'\n",
    "        \n",
    "        examples = get_history()[-1][:3]\n",
    "        for tid_line in examples:\n",
    "            line = ' '.join(map(tokens.__getitem__,tid_line))\n",
    "            print line\n",
    "            log += line+'\\n'\n",
    "\n",
    "    "
   ]
  },
  {
   "cell_type": "code",
   "execution_count": 17,
   "metadata": {
    "collapsed": false
   },
   "outputs": [
    {
     "data": {
      "text/plain": [
       "[<matplotlib.lines.Line2D at 0x4a7e2850>]"
      ]
     },
     "execution_count": 17,
     "metadata": {},
     "output_type": "execute_result"
    },
    {
     "data": {
      "image/png": "[encoded data removed]",
      "text/plain": [
       "<matplotlib.figure.Figure at 0x44669690>"
      ]
     },
     "metadata": {},
     "output_type": "display_data"
    }
   ],
   "source": [
    "plt.plot(loss_seq)"
   ]
  },
  {
   "cell_type": "code",
   "execution_count": 18,
   "metadata": {
    "collapsed": false
   },
   "outputs": [
    {
     "name": "stdout",
     "output_type": "stream",
     "text": [
      "ированный запонки алeкceевкa seduction\n",
      "iter:44400\tfull:11.51293\tllh:11.51293\treg:0.00001\n",
      "4kg цветное раздвинутый ассиметричного фyнкционируют актированны огниково roudnitska cлать потению бобкета смените сохранном 375руб 13077\n",
      "bde pc2100r 55713 1000173 дымников соленойды описывающий smarttouch страховкой налоговыми свдьбу тяжелейший котлованный лазаря бессмертие\n",
      "активную bone акушинского маторами 20x76 перезаправляемого таккак заводчиками назвать повестки высокоразвитая оценкованное аpeнде биржевое пространства\n",
      "iter:44500\tfull:11.51293\tllh:11.51293\treg:0.00001\n",
      "королевстве захватывая админестратора цоп биаксиальная запасу вкючено 1core тугулымский конго seevoll упаковочных электротеном включении засыпания\n",
      "аборт амортизирующего корс диагональ10 shade подключеные 7j17 уменьшенную затенять оксиданты дрожащего истринский peгиcтрaция homestar муcоропpовод\n",
      "обязаннoсти мощность миксфайт рыбно карциномы dikson донлоп нагретом 27х25 md103ll вольтамперфазометры болоне ротбанда 540см длинномерный\n",
      "\n"
     ]
    }
   ],
   "source": [
    "print log[-1000:]"
   ]
  },
  {
   "cell_type": "code",
   "execution_count": 19,
   "metadata": {
    "collapsed": true
   },
   "outputs": [],
   "source": [
    "from agentnet.utils.persistence import save\n",
    "\n",
    "save(resolver,\"lm-gru.pcl\")"
   ]
  },
  {
   "cell_type": "code",
   "execution_count": null,
   "metadata": {
    "collapsed": false
   },
   "outputs": [],
   "source": [
    "loss_seq"
   ]
  }
 ],
 "metadata": {
  "kernelspec": {
   "display_name": "Python 2",
   "language": "python",
   "name": "python2"
  }
 },
 "nbformat": 4,
 "nbformat_minor": 0
}
