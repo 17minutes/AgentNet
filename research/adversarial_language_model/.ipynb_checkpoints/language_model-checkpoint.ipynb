{
 "cells": [
  {
   "cell_type": "code",
   "execution_count": 1,
   "metadata": {
    "collapsed": false
   },
   "outputs": [
    {
     "name": "stdout",
     "output_type": "stream",
     "text": [
      "env: THEANO_FLAGS='device=gpu2'\n"
     ]
    },
    {
     "name": "stderr",
     "output_type": "stream",
     "text": [
      "Using gpu device 2: Tesla K40m (CNMeM is disabled, CuDNN 4004)\n"
     ]
    }
   ],
   "source": [
    "import numpy as np\n",
    "from matplotlib import pyplot as plt\n",
    "%matplotlib inline\n",
    "\n",
    "\n",
    "#theano imports\n",
    "#the problem is too simple to be run on GPU. Seriously.\n",
    "%env THEANO_FLAGS='device=gpu2'\n",
    "import lasagne\n",
    "import theano\n",
    "import theano.tensor as T\n",
    "floatX = theano.config.floatX\n",
    "\n"
   ]
  },
  {
   "cell_type": "code",
   "execution_count": 2,
   "metadata": {
    "collapsed": false
   },
   "outputs": [],
   "source": [
    "%load_ext autoreload\n",
    "%autoreload 2"
   ]
  },
  {
   "cell_type": "markdown",
   "metadata": {},
   "source": [
    "# [in development] this is just a minimalistic language model so far\n",
    "# This tutorial explains the Generator agent type applied to conversation modelling\n",
    "* experiment setup\n",
    "* designing agent\n",
    "* computing losses\n",
    "* training"
   ]
  },
  {
   "cell_type": "code",
   "execution_count": 3,
   "metadata": {
    "collapsed": false
   },
   "outputs": [],
   "source": [
    "import cPickle\n",
    "with open(\"/home/jheuristic/yozhik/dl_s8/data.pcl\") as fin:\n",
    "    token_to_id,titles = cPickle.load(fin)\n",
    "    id_to_token = {v:k for k,v in token_to_id.items()}\n",
    "    tokens = [id_to_token[i] for i in range(len(id_to_token))]"
   ]
  },
  {
   "cell_type": "code",
   "execution_count": 4,
   "metadata": {
    "collapsed": false
   },
   "outputs": [
    {
     "name": "stdout",
     "output_type": "stream",
     "text": [
      "NULL;полисахаридов;woody;осветление;производителей\n",
      "[[43060 14578 55125 81881 79990 17207     0     0     0     0]\n",
      " [ 8304     0 30297     0     0     0     0     0     0     0]\n",
      " [28672 23286     0  3628 33730     0     0     0     0     0]]\n",
      "поездки на таможню печать в паспорте NULL NULL NULL NULL NULL NULL NULL NULL NULL\n",
      "рефлекторно NULL массаж NULL NULL NULL NULL NULL NULL NULL NULL NULL NULL NULL NULL\n",
      "возьму суду NULL т р NULL NULL NULL NULL NULL NULL NULL NULL NULL NULL\n"
     ]
    }
   ],
   "source": [
    "print ';'.join(tokens[:5])\n",
    "print titles[:3,:10]\n",
    "for title in titles[:3]:\n",
    "    print ' '.join(map(tokens.__getitem__,title))"
   ]
  },
  {
   "cell_type": "markdown",
   "metadata": {},
   "source": [
    "# agent setup\n",
    "* An agent implementation has to contain three parts:\n",
    " * Memory layer(s)\n",
    "  * in this case, a single one-step GRU\n",
    " * Q-values evaluation layers\n",
    "  * in this case, a lasagne dense layer based on memory layer\n",
    " * Resolver - acton picker layer\n",
    "  * in this case, the resolver has epsilon-greedy policy"
   ]
  },
  {
   "cell_type": "code",
   "execution_count": 5,
   "metadata": {
    "collapsed": false
   },
   "outputs": [],
   "source": [
    "from agentnet.resolver import EpsilonGreedyResolver\n",
    "from agentnet.memory import GRUMemoryLayer\n",
    "from agentnet.agent import Generator\n",
    "from agentnet.resolver import ProbablisticResolver"
   ]
  },
  {
   "cell_type": "code",
   "execution_count": 6,
   "metadata": {
    "collapsed": false
   },
   "outputs": [],
   "source": [
    "\n",
    "import lasagne\n",
    "n_hid_1=1024 #first GRU memory\n",
    "n_hid_2=1024 #second GRU memory\n",
    "embedding_size=128\n",
    "vocab_size = len(tokens) #number of words in dictionary\n",
    "\n",
    "\n",
    "\n",
    "_observation_layer = lasagne.layers.InputLayer((None,1),name=\"obs_input\")\n",
    "\n",
    "_prev_gru1_layer = lasagne.layers.InputLayer((None,n_hid_1),name=\"prev_gru1_state_input\")\n",
    "_prev_gru2_layer = lasagne.layers.InputLayer((None,n_hid_2),name=\"prev_gru2_state_input\")\n",
    "\n",
    "\n",
    "emb = lasagne.layers.EmbeddingLayer(_observation_layer,vocab_size,embedding_size,name=\"token_vectors\")\n",
    "\n",
    "#memory\n",
    "gru1 = GRUMemoryLayer(n_hid_1,\n",
    "                     emb,\n",
    "                     _prev_gru1_layer,\n",
    "                     name=\"gru1\")\n",
    "\n",
    "gru2 = GRUMemoryLayer(n_hid_2,\n",
    "                     gru1,        #note that it takes CURRENT gru1 output as input.\n",
    "                                  #replacing that with _prev_gru1_state would imply taking previous one.\n",
    "                     _prev_gru2_layer,\n",
    "                     name=\"gru2\")\n",
    "\n",
    "concatenated_memory = lasagne.layers.concat([gru1,gru2])\n",
    "\n",
    "\n",
    "\n",
    "\n",
    "#policy\n",
    "\n",
    "\n",
    "greed = theano.shared(np.float32(1),\"prob_multiplier\")\n",
    "\n",
    "\n",
    "\n",
    "\n",
    "policy_layer = lasagne.layers.DenseLayer(concatenated_memory, #taking both memories. \n",
    "                                                        #Replacing with gru1 or gru2 would mean taking one\n",
    "                                         num_units = vocab_size,\n",
    "                                         nonlinearity=lambda x: lasagne.nonlinearities.softmax(x*greed),\n",
    "                                         name=\"policy_original\")\n",
    "\n",
    "#resolver\n",
    "\n",
    "\n",
    "resolver = ProbablisticResolver(policy_layer,assume_normalized=True,name=\"resolver\")\n",
    "\n",
    "\n",
    "\n",
    "#we need to define the new input map because concatenated_memory is a ConcatLayer and does not have default one\n",
    "\n",
    "def custom_input_map(last_hidden,observation):\n",
    "    \"\"\"just a function that maps memory states to respective inputs\"\"\"\n",
    "    return {\n",
    "        _prev_gru1_layer:last_hidden[:,0:n_hid_1],\n",
    "        _prev_gru2_layer:last_hidden[:,n_hid_1:n_hid_1+n_hid_2],\n",
    "        _observation_layer:observation\n",
    "    }\n",
    "\n",
    "#all together\n",
    "agent = Generator(concatenated_memory,policy_layer,resolver,input_map=custom_input_map\n",
    "             )\n"
   ]
  },
  {
   "cell_type": "code",
   "execution_count": 7,
   "metadata": {
    "collapsed": false
   },
   "outputs": [
    {
     "data": {
      "text/plain": [
       "[token_vectors.W,\n",
       " gru1.W_in_to_updategate,\n",
       " gru1.W_hid_to_updategate,\n",
       " gru1.b_updategate,\n",
       " gru1.W_in_to_resetgate,\n",
       " gru1.W_hid_to_resetgate,\n",
       " gru1.b_resetgate,\n",
       " gru1.W_in_to_hidden_update,\n",
       " gru1.W_hid_to_hidden_update,\n",
       " gru1.b_hidden_update,\n",
       " gru2.W_in_to_updategate,\n",
       " gru2.W_hid_to_updategate,\n",
       " gru2.b_updategate,\n",
       " gru2.W_in_to_resetgate,\n",
       " gru2.W_hid_to_resetgate,\n",
       " gru2.b_resetgate,\n",
       " gru2.W_in_to_hidden_update,\n",
       " gru2.W_hid_to_hidden_update,\n",
       " gru2.b_hidden_update,\n",
       " policy_original.W,\n",
       " policy_original.b]"
      ]
     },
     "execution_count": 7,
     "metadata": {},
     "output_type": "execute_result"
    }
   ],
   "source": [
    "#Since it's a single lasagne network, one can get it's weights, output, etc\n",
    "weights = lasagne.layers.get_all_params(resolver,trainable=True)\n",
    "weights"
   ]
  },
  {
   "cell_type": "markdown",
   "metadata": {},
   "source": [
    "## Agent setup in detail\n",
    "* __Memory layers__\n",
    " * One-step recurrent layer\n",
    "     * takes input and one's previous state\n",
    "     * returns new memory state\n",
    "   * Can be arbitrary lasagne layer\n",
    "   * Several one-step recurrent units are implemented in __agentnet.memory__\n",
    "   * Note that lasagne's default recurrent networks roll for several steps at once\n",
    "     * in other words, __using lasagne recurrent units as memory means recurrence inside recurrence__\n",
    " * Using more than one memory layer is explained in farther tutorials\n",
    "\n",
    "\n",
    "* __Q-values evaluation layer__\n",
    " * Can be arbitrary lasagne network\n",
    " * returns predicted Q-values for each action\n",
    " * Usually depends on memory as an input\n",
    "\n",
    "\n",
    "* __Resolver__ - action picker\n",
    " * Decides on what action is taken\n",
    " * Normally takes Q-values as input\n",
    " * Currently all experiments require integer output\n",
    " * Several resolver layers are implemented in __agentnet.resolver__"
   ]
  },
  {
   "cell_type": "markdown",
   "metadata": {},
   "source": [
    "# Interacting with environment\n",
    "* an agent has a method that produces symbolic environment interaction sessions\n",
    "* Such sessions are represented as tensors with dimensions matching pattern [batch_session_i, time_tick, ...]\n",
    "* interactions result in sequences of observations, actions, q-values,etc\n",
    "* one has to pre-define maximum session length.\n",
    " * in this case, environment implements an indicator of whether session has ended by current tick\n",
    "* Since this environment also implements Objective methods, it can evaluate rewards for each [batch, time_tick]\n",
    "\n"
   ]
  },
  {
   "cell_type": "code",
   "execution_count": 8,
   "metadata": {
    "collapsed": false
   },
   "outputs": [],
   "source": [
    "seq_length = titles.shape[1]\n",
    "\n",
    "sequences_batch = theano.shared(np.zeros([3,seq_length],dtype=\"int32\"),name=\"reference_sequences\")\n",
    "\n",
    "batch_size = sequences_batch.shape[0]\n",
    "\n",
    "history = agent.get_sessions(session_length=seq_length,\n",
    "                             recorded_sequence=sequences_batch,\n",
    "                             batch_size=batch_size,)\n",
    "\n",
    "hidden_seq,policy_seq,action_seq = history"
   ]
  },
  {
   "cell_type": "code",
   "execution_count": 9,
   "metadata": {
    "collapsed": false
   },
   "outputs": [],
   "source": [
    "\n",
    "#Let us compile a function that returns all interaction logs\n",
    "get_history = theano.function([],history,mode=theano.compile.mode.FAST_RUN)\n",
    "\n"
   ]
  },
  {
   "cell_type": "markdown",
   "metadata": {},
   "source": [
    "# Evaluating loss function\n",
    "* In this case, we want to \n",
    " * first get pairs of (predicted Qvalue, reference Qvalue) for all actions commited\n",
    " * second, define loss function\n",
    " * third, compute grad and update weights"
   ]
  },
  {
   "cell_type": "markdown",
   "metadata": {},
   "source": [
    "#### Define loss functions"
   ]
  },
  {
   "cell_type": "code",
   "execution_count": 10,
   "metadata": {
    "collapsed": false
   },
   "outputs": [],
   "source": [
    "predicted_probas = policy_seq.reshape([-1,vocab_size])\n",
    "predicted_probas = T.maximum(predicted_probas,1e-5)\n",
    "\n",
    "model_loss = lasagne.objectives.categorical_crossentropy(predicted_probas,\n",
    "                                                         sequences_batch.ravel()).mean()"
   ]
  },
  {
   "cell_type": "code",
   "execution_count": 11,
   "metadata": {
    "collapsed": false
   },
   "outputs": [],
   "source": [
    "#regularize network weights\n",
    "\n",
    "from lasagne.regularization import regularize_network_params, l2\n",
    "reg_l2 = regularize_network_params(resolver,l2)*10**-3"
   ]
  },
  {
   "cell_type": "code",
   "execution_count": 12,
   "metadata": {
    "collapsed": false
   },
   "outputs": [],
   "source": [
    "loss = model_loss + reg_l2"
   ]
  },
  {
   "cell_type": "markdown",
   "metadata": {},
   "source": [
    "#### Compute weight updates"
   ]
  },
  {
   "cell_type": "code",
   "execution_count": 13,
   "metadata": {
    "collapsed": false
   },
   "outputs": [],
   "source": [
    "updates = lasagne.updates.adadelta(loss,weights,learning_rate=0.1)"
   ]
  },
  {
   "cell_type": "markdown",
   "metadata": {},
   "source": [
    "# Compile train and evaluation functions"
   ]
  },
  {
   "cell_type": "code",
   "execution_count": 14,
   "metadata": {
    "collapsed": false
   },
   "outputs": [],
   "source": [
    "train_fun = theano.function([],[loss],updates=updates)\n",
    "\n",
    "evaluation_fun = theano.function([],[loss,model_loss,reg_l2])"
   ]
  },
  {
   "cell_type": "code",
   "execution_count": null,
   "metadata": {
    "collapsed": true
   },
   "outputs": [],
   "source": [
    "log = \"\""
   ]
  },
  {
   "cell_type": "code",
   "execution_count": null,
   "metadata": {
    "collapsed": false,
    "scrolled": true
   },
   "outputs": [
    {
     "name": "stdout",
     "output_type": "stream",
     "text": [
      "iter:0\tfull:114.71153\tllh:11.28930\treg:103.42223\n",
      "сбоку carnitin плодотворный барьеры ленин моём кромкой проёмы местного расклейки кролик маркеры принесут срывается препарату\n",
      "отправьте my наносим самостоятельной утомлении горшок bыдача гаражу сувенир люфта вероятность leapers отменял иркутску styx\n",
      "возникли тревожное концентраций эминеску просторнее явление темповые намагниченные конечных грязевое 2217 контейнерах монтажно производят нередко\n",
      "iter:100\tfull:102.02120\tllh:2.62175\treg:99.39946\n",
      "клеточка уголовной метров камаза NULL NULL эт NULL NULL NULL NULL NULL NULL NULL NULL\n",
      "здaния полар азат имп NULL NULL NULL NULL NULL NULL NULL NULL NULL NULL NULL\n",
      "российско халяву тайскому формам NULL NULL NULL NULL NULL NULL NULL NULL NULL NULL NULL\n",
      "iter:200\tfull:98.35583\tllh:2.84438\treg:95.51146\n",
      "odyssey поддевы NULL ребёнок NULL NULL NULL эт NULL NULL NULL NULL NULL NULL NULL\n",
      "уюта непрерывной ставится NULL NULL NULL NULL NULL NULL NULL NULL NULL NULL NULL NULL\n",
      "сильным восстановительной рассел NULL NULL NULL NULL NULL NULL NULL NULL NULL NULL NULL NULL\n",
      "iter:300\tfull:94.31274\tllh:2.54034\treg:91.77239\n",
      "гипсовыми постелен NULL NULL NULL NULL NULL NULL NULL NULL NULL NULL NULL NULL NULL\n",
      "электромонтаж vol NULL эт NULL NULL NULL NULL NULL NULL NULL NULL NULL NULL NULL\n",
      "пионерском физкультуры NULL NULL NULL NULL NULL NULL NULL NULL NULL NULL NULL NULL NULL\n",
      "iter:400\tfull:90.53925\tllh:2.35899\treg:88.18026\n",
      "мосту санузeл в м² NULL NULL NULL NULL NULL NULL NULL NULL NULL NULL NULL\n",
      "m2ts сравнению NULL NULL м² NULL NULL NULL NULL NULL NULL NULL NULL NULL NULL\n",
      "асфальтовая айди NULL NULL NULL NULL NULL NULL NULL NULL NULL NULL NULL NULL NULL\n",
      "iter:500\tfull:87.84327\tllh:3.11458\treg:84.72869\n",
      "pt и NULL NULL NULL NULL NULL NULL NULL NULL NULL NULL NULL NULL NULL\n",
      "733 rx300 м² NULL NULL NULL NULL NULL NULL NULL NULL NULL NULL NULL NULL\n",
      "бразилии в NULL NULL NULL NULL NULL NULL NULL NULL NULL NULL NULL NULL NULL\n",
      "iter:600\tfull:83.86701\tllh:2.45491\treg:81.41210\n",
      "rom лореаль квартира м² NULL NULL NULL NULL NULL NULL NULL NULL NULL NULL NULL\n",
      "маршрутный по NULL NULL NULL NULL NULL NULL NULL NULL NULL NULL NULL NULL NULL\n",
      "тихом 2 к NULL NULL NULL NULL NULL NULL NULL NULL NULL NULL NULL NULL\n",
      "iter:700\tfull:81.10704\tllh:2.88208\treg:78.22496\n",
      "тактильные для квартира квартира м² м² эт эт NULL NULL NULL NULL NULL NULL NULL\n",
      "впечатления к NULL NULL NULL NULL NULL NULL NULL NULL NULL NULL NULL NULL NULL\n",
      "любуясь названию NULL NULL NULL NULL NULL NULL NULL NULL NULL NULL NULL NULL NULL\n",
      "iter:800\tfull:77.69100\tllh:2.52942\treg:75.16158\n",
      "двухслойная и квартира NULL NULL NULL NULL NULL NULL NULL NULL NULL NULL NULL NULL\n",
      "зажатости 04 квартира 3 NULL NULL NULL NULL NULL NULL NULL NULL NULL NULL NULL\n",
      "ускоряют леовит NULL NULL NULL NULL NULL NULL NULL NULL NULL NULL NULL NULL NULL\n",
      "iter:900\tfull:74.32036\tllh:2.10123\treg:72.21912\n",
      "mtk6589 к квартира квартира м² с 3 3 эт NULL NULL NULL NULL NULL NULL\n",
      "расчетного в NULL NULL NULL NULL NULL NULL NULL NULL NULL NULL NULL NULL NULL\n",
      "пистоле NULL NULL NULL NULL NULL NULL NULL NULL NULL NULL NULL NULL NULL NULL\n",
      "iter:1000\tfull:71.20146\tllh:1.81036\treg:69.39110\n",
      "пониженную на и в и эт в NULL NULL NULL NULL NULL NULL NULL NULL\n",
      "георг к на NULL NULL NULL NULL NULL NULL NULL NULL NULL NULL NULL NULL\n",
      "имитаторы NULL NULL NULL NULL NULL NULL NULL NULL NULL NULL NULL NULL NULL NULL\n",
      "iter:1100\tfull:69.38905\tllh:2.71449\treg:66.67456\n",
      "курьеру массаж для 3 по 2 NULL NULL NULL NULL NULL NULL NULL NULL NULL\n",
      "ромб NULL NULL NULL NULL NULL NULL NULL NULL NULL NULL NULL NULL NULL NULL\n",
      "pierre к NULL NULL NULL NULL NULL NULL NULL NULL NULL NULL NULL NULL NULL\n",
      "iter:1200\tfull:66.22340\tllh:2.15905\treg:64.06435\n",
      "уход NULL NULL NULL NULL NULL NULL NULL NULL NULL NULL NULL NULL NULL NULL\n",
      "торговую и NULL NULL NULL NULL NULL NULL NULL NULL NULL NULL NULL NULL NULL\n",
      "дюма NULL NULL NULL NULL NULL NULL NULL NULL NULL NULL NULL NULL NULL NULL\n",
      "iter:1300\tfull:64.45129\tllh:2.89434\treg:61.55694\n",
      "дистиллированной радуют массаж с на с помощь в NULL NULL NULL NULL NULL NULL NULL\n",
      "leaf для сохранение NULL NULL NULL NULL NULL NULL NULL NULL NULL NULL NULL NULL\n",
      "ltu вино 2 на 2 2 2 2 в NULL NULL NULL NULL NULL NULL\n",
      "iter:1400\tfull:61.18127\tllh:2.03368\treg:59.14760\n",
      "словакия NULL квартира NULL NULL NULL NULL NULL NULL NULL NULL NULL NULL NULL NULL\n",
      "моб к для NULL NULL NULL NULL NULL NULL NULL NULL NULL NULL NULL NULL\n",
      "бессильны по м² 2 NULL NULL NULL NULL NULL NULL NULL NULL NULL NULL NULL\n",
      "iter:1500\tfull:59.21651\tllh:2.38321\treg:56.83330\n",
      "benq читаем NULL NULL NULL NULL NULL NULL NULL NULL NULL NULL NULL NULL NULL\n",
      "симкой пoсещения ваз в NULL NULL NULL NULL NULL NULL NULL NULL NULL NULL NULL\n",
      "красоту NULL NULL NULL NULL NULL NULL NULL NULL NULL NULL NULL NULL NULL NULL\n",
      "iter:1600\tfull:56.65950\tllh:2.04980\treg:54.60970\n",
      "коррекционная NULL NULL NULL NULL NULL NULL NULL NULL NULL NULL NULL NULL NULL NULL\n",
      "pd NULL NULL NULL NULL NULL NULL NULL NULL NULL NULL NULL NULL NULL NULL\n",
      "нарушенных к квартира на м² м² к NULL NULL NULL NULL NULL NULL NULL NULL\n",
      "iter:1700\tfull:54.67417\tllh:2.20014\treg:52.47403\n",
      "вбирает к квартира м² для 5 эт эт NULL NULL NULL NULL NULL NULL NULL\n",
      "2 для в NULL NULL NULL NULL NULL NULL NULL NULL NULL NULL NULL NULL\n",
      "адаптировать NULL и NULL массаж NULL NULL NULL NULL NULL NULL NULL NULL NULL NULL\n",
      "iter:1800\tfull:52.40945\tllh:1.98770\treg:50.42174\n",
      "юристом подстанция на NULL NULL NULL NULL NULL NULL NULL NULL NULL NULL NULL NULL\n",
      "заморозки м² NULL NULL NULL NULL NULL NULL NULL NULL NULL NULL NULL NULL NULL\n",
      "териториальной ваз на NULL NULL NULL 3 NULL NULL NULL NULL NULL NULL NULL NULL\n",
      "iter:1900\tfull:50.72605\tllh:2.27564\treg:48.45042\n",
      "конституционное к квартира квартира м² 4 эт эт NULL NULL NULL NULL NULL NULL NULL\n",
      "вальгусе NULL NULL NULL NULL NULL NULL NULL NULL NULL NULL NULL NULL NULL NULL\n",
      "неправильная NULL NULL NULL NULL NULL NULL NULL NULL NULL NULL NULL NULL NULL NULL\n",
      "iter:2000\tfull:48.79281\tllh:2.23660\treg:46.55621\n",
      "расслабляющее продам в на 3 к 1 и эт NULL NULL NULL NULL NULL NULL\n",
      "адаптеров NULL в 2 NULL NULL NULL NULL NULL NULL NULL NULL NULL NULL NULL\n",
      "продам к квартира м² м² студентам 5 эт NULL NULL NULL NULL NULL NULL NULL\n",
      "iter:2100\tfull:47.41592\tllh:2.67952\treg:44.73640\n",
      "женственное к м² в 2 по нож эт эт NULL NULL NULL NULL NULL NULL\n",
      "сперматозоидов столбик в NULL NULL NULL NULL NULL NULL NULL NULL NULL NULL NULL NULL\n",
      "наполненная 1 на NULL NULL NULL NULL NULL NULL NULL NULL NULL NULL NULL NULL\n",
      "iter:2200\tfull:44.63931\tllh:1.65073\treg:42.98858\n",
      "лезвием м² в NULL 2 NULL NULL NULL NULL NULL NULL NULL NULL NULL NULL\n",
      "собратом к квартира квартира м² NULL NULL NULL NULL NULL NULL NULL NULL NULL NULL\n",
      "гарнитурной массаж NULL NULL NULL NULL NULL NULL NULL NULL NULL NULL NULL NULL NULL\n",
      "iter:2300\tfull:43.74276\tllh:2.43341\treg:41.30935\n",
      "калужское по и и NULL NULL NULL NULL NULL NULL NULL NULL NULL NULL NULL\n",
      "флора подарком galaxy 3 и NULL NULL NULL NULL NULL NULL NULL NULL NULL NULL\n",
      "верхнее NULL NULL NULL NULL NULL NULL NULL NULL NULL NULL NULL NULL NULL NULL\n",
      "iter:2400\tfull:41.86037\tllh:2.16472\treg:39.69565\n",
      "функциональных помощь NULL NULL NULL NULL NULL NULL NULL NULL NULL NULL NULL NULL NULL\n",
      "козлят преобразователями массаж NULL NULL NULL NULL NULL NULL NULL NULL NULL NULL NULL NULL\n",
      "605 представитель до NULL NULL NULL NULL NULL NULL NULL NULL NULL NULL NULL NULL\n",
      "iter:2500\tfull:40.36235\tllh:2.21698\treg:38.14537\n",
      "подняться 3 в NULL NULL NULL NULL NULL NULL NULL NULL NULL NULL NULL NULL\n",
      "семерка на массаж NULL NULL NULL NULL NULL NULL NULL NULL NULL NULL NULL NULL\n",
      "слежка и на и для NULL NULL NULL NULL NULL NULL NULL NULL NULL NULL\n",
      "iter:2600\tfull:39.49403\tllh:2.83779\treg:36.65624\n",
      "мир в на NULL NULL NULL NULL NULL NULL NULL NULL NULL NULL NULL NULL\n",
      "камушками 2 на кальян 30 на 3 эт из NULL NULL NULL NULL NULL NULL\n",
      "бухучета продаю м² м² работы к 2 эт эт NULL NULL NULL NULL NULL NULL\n",
      "iter:2700\tfull:37.11855\tllh:1.89377\treg:35.22478\n",
      "чеховская NULL NULL NULL NULL NULL NULL NULL NULL NULL NULL NULL NULL NULL NULL\n",
      "защитный к и курсовые NULL NULL NULL NULL NULL NULL NULL NULL NULL NULL NULL\n",
      "продувка NULL NULL NULL NULL NULL NULL NULL NULL NULL NULL NULL NULL NULL NULL\n",
      "iter:2800\tfull:35.84707\tllh:1.99727\treg:33.84980\n",
      "предложены ножик и NULL NULL NULL NULL NULL NULL NULL NULL NULL NULL NULL NULL\n",
      "аим помощь и NULL NULL NULL NULL NULL NULL NULL NULL NULL NULL NULL NULL\n",
      "новый 2 работы на iphone NULL NULL NULL NULL NULL NULL NULL NULL NULL NULL\n",
      "iter:2900\tfull:34.70886\tllh:2.18045\treg:32.52840\n",
      "недобросовестных NULL NULL NULL NULL NULL NULL NULL NULL NULL NULL NULL NULL NULL NULL\n",
      "маляров в 3 NULL NULL NULL NULL NULL NULL NULL NULL NULL NULL NULL NULL\n",
      "анапы 4 услуги на в 4 работы NULL NULL NULL NULL NULL NULL NULL NULL\n",
      "iter:3000\tfull:33.41618\tllh:2.15711\treg:31.25907\n",
      "неизвестен каждые платье на priora NULL NULL NULL NULL NULL NULL NULL NULL NULL NULL\n",
      "747 колчан артель NULL NULL NULL NULL NULL NULL NULL NULL NULL NULL NULL NULL\n",
      "1 к м² квартира м² 2 2 эт NULL NULL NULL NULL NULL NULL NULL\n",
      "iter:3100\tfull:32.47765\tllh:2.43811\treg:30.03954\n",
      "125 к квартира в м² с 5 эт NULL NULL NULL NULL NULL NULL NULL\n",
      "превышении в предъявляемых NULL NULL NULL NULL NULL NULL NULL NULL NULL NULL NULL NULL\n",
      "1 к к из 4 м² 4 10 эт NULL NULL NULL NULL NULL NULL\n",
      "iter:3200\tfull:30.96687\tllh:2.09875\treg:28.86813\n",
      "букет в NULL для и NULL NULL NULL NULL NULL NULL NULL NULL NULL NULL\n",
      "кл NULL NULL NULL NULL NULL NULL NULL NULL NULL NULL NULL NULL NULL NULL\n",
      "041 17 новый к NULL NULL NULL NULL NULL NULL NULL NULL NULL NULL NULL\n"
     ]
    }
   ],
   "source": [
    "loss_seq = []\n",
    "for i in range(10000):\n",
    "    new_batch = titles[np.random.randint(len(titles),size=10)]\n",
    "    sequences_batch.set_value(new_batch)\n",
    "    \n",
    "    loss_seq.append(train_fun())\n",
    "    \n",
    "    if i % 100==0:\n",
    "        quality = \"iter:%i\\tfull:%.5f\\tllh:%.5f\\treg:%.5f\"%tuple([i]+map(float,evaluation_fun()))        \n",
    "        print quality\n",
    "        log+=quality+'\\n'\n",
    "        \n",
    "        examples = get_history()[-1][:3]\n",
    "        for tid_line in examples:\n",
    "            line = ' '.join(map(tokens.__getitem__,tid_line))\n",
    "            print line\n",
    "            log += line+'\\n'\n",
    "\n",
    "    "
   ]
  },
  {
   "cell_type": "code",
   "execution_count": null,
   "metadata": {
    "collapsed": false
   },
   "outputs": [],
   "source": [
    "plt.plot(loss_seq)"
   ]
  },
  {
   "cell_type": "code",
   "execution_count": null,
   "metadata": {
    "collapsed": false
   },
   "outputs": [],
   "source": [
    "loss_seq"
   ]
  }
 ],
 "metadata": {
  "kernelspec": {
   "display_name": "Python 2",
   "language": "python",
   "name": "python2"
  },
  "language_info": {
   "codemirror_mode": {
    "name": "ipython",
    "version": 2
   },
   "file_extension": ".py",
   "mimetype": "text/x-python",
   "name": "python",
   "nbconvert_exporter": "python",
   "pygments_lexer": "ipython2",
   "version": "2.7.3"
  }
 },
 "nbformat": 4,
 "nbformat_minor": 0
}
