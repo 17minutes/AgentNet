{
 "cells": [
  {
   "cell_type": "code",
   "execution_count": 1,
   "metadata": {
    "collapsed": false
   },
   "outputs": [
    {
     "name": "stdout",
     "output_type": "stream",
     "text": [
      "env: THEANO_FLAGS='device=gpu2'\n"
     ]
    },
    {
     "name": "stderr",
     "output_type": "stream",
     "text": [
      "Using gpu device 2: Tesla K40m (CNMeM is disabled, CuDNN 4004)\n"
     ]
    }
   ],
   "source": [
    "import numpy as np\n",
    "from matplotlib import pyplot as plt\n",
    "%matplotlib inline\n",
    "\n",
    "\n",
    "#theano imports\n",
    "#the problem is too simple to be run on GPU. Seriously.\n",
    "%env THEANO_FLAGS='device=gpu2'\n",
    "import lasagne\n",
    "import theano\n",
    "import theano.tensor as T\n",
    "floatX = theano.config.floatX\n",
    "\n"
   ]
  },
  {
   "cell_type": "code",
   "execution_count": 2,
   "metadata": {
    "collapsed": false
   },
   "outputs": [],
   "source": [
    "%load_ext autoreload\n",
    "%autoreload 2"
   ]
  },
  {
   "cell_type": "markdown",
   "metadata": {},
   "source": [
    "# [in development] this is just a minimalistic language model so far\n",
    "# This tutorial explains the Generator agent type applied to conversation modelling\n",
    "* experiment setup\n",
    "* designing agent\n",
    "* computing losses\n",
    "* training"
   ]
  },
  {
   "cell_type": "code",
   "execution_count": 3,
   "metadata": {
    "collapsed": false
   },
   "outputs": [],
   "source": [
    "import cPickle\n",
    "import numpy as np\n",
    "with open(\"/home/jheuristic/yozhik/dl_s8/tokens.pcl\") as fin:\n",
    "    tokens = cPickle.load(fin)[0]\n",
    "\n",
    "titles = np.load(\"/home/jheuristic/yozhik/dl_s8/titles.npy\").astype(\"int32\")"
   ]
  },
  {
   "cell_type": "code",
   "execution_count": 4,
   "metadata": {
    "collapsed": false
   },
   "outputs": [
    {
     "name": "stdout",
     "output_type": "stream",
     "text": [
      "NULL;асфальтно;экусплуатации;препятствующую;рекордсервис\n",
      "[[226421 488637 197907      0      0      0      0      0      0      0]\n",
      " [400357 375323      0      0      0      0      0      0      0      0]\n",
      " [467017 107402      0      0      0      0      0      0      0      0]]\n",
      "toyota sera 1991 NULL NULL NULL NULL NULL NULL NULL NULL NULL NULL NULL NULL\n",
      "монтаж кровли NULL NULL NULL NULL NULL NULL NULL NULL NULL NULL NULL NULL NULL\n",
      "костюм steilmann NULL NULL NULL NULL NULL NULL NULL NULL NULL NULL NULL NULL NULL\n",
      "ford focus 2011 NULL NULL NULL NULL NULL NULL NULL NULL NULL NULL NULL NULL\n",
      "турбина 3 0 bar NULL NULL NULL NULL NULL NULL NULL NULL NULL NULL NULL\n",
      "ваз 2115 samara 2005 NULL NULL NULL NULL NULL NULL NULL NULL NULL NULL NULL\n",
      "ваз 2105 1998 NULL NULL NULL NULL NULL NULL NULL NULL NULL NULL NULL NULL\n",
      "комната 12 м² в 3 к 3 14 эт NULL NULL NULL NULL NULL NULL\n",
      "дом 42 м² на участке 7 сот NULL NULL NULL NULL NULL NULL NULL NULL\n",
      "подголовники ваз 2109 NULL NULL NULL NULL NULL NULL NULL NULL NULL NULL NULL NULL\n"
     ]
    }
   ],
   "source": [
    "print ';'.join(tokens[:5])\n",
    "print titles[:3,:10]\n",
    "for title in titles[:10]:\n",
    "    print ' '.join(map(tokens.__getitem__,title))"
   ]
  },
  {
   "cell_type": "markdown",
   "metadata": {},
   "source": [
    "# agent setup\n",
    "* An agent implementation has to contain three parts:\n",
    " * Memory layer(s)\n",
    "  * in this case, a single one-step GRU\n",
    " * Q-values evaluation layers\n",
    "  * in this case, a lasagne dense layer based on memory layer\n",
    " * Resolver - acton picker layer\n",
    "  * in this case, the resolver has epsilon-greedy policy"
   ]
  },
  {
   "cell_type": "code",
   "execution_count": 5,
   "metadata": {
    "collapsed": false
   },
   "outputs": [],
   "source": [
    "from agentnet.resolver import EpsilonGreedyResolver\n",
    "from agentnet.memory import GRUMemoryLayer\n",
    "from agentnet.agent import Generator\n",
    "from agentnet.resolver import ProbablisticResolver"
   ]
  },
  {
   "cell_type": "code",
   "execution_count": 6,
   "metadata": {
    "collapsed": false
   },
   "outputs": [],
   "source": [
    "\n",
    "import lasagne\n",
    "n_hid_1=2048 #first GRU memory\n",
    "n_hid_2=2048 #second GRU memory\n",
    "embedding_size=128\n",
    "vocab_size = len(tokens) #number of words in dictionary\n",
    "\n",
    "\n",
    "\n",
    "_observation_layer = lasagne.layers.InputLayer((None,1),name=\"obs_input\")\n",
    "\n",
    "_prev_gru1_layer = lasagne.layers.InputLayer((None,n_hid_1),name=\"prev_gru1_state_input\")\n",
    "_prev_gru2_layer = lasagne.layers.InputLayer((None,n_hid_2),name=\"prev_gru2_state_input\")\n",
    "\n",
    "\n",
    "emb = lasagne.layers.EmbeddingLayer(_observation_layer,vocab_size,embedding_size,name=\"token_vectors\")\n",
    "\n",
    "#memory\n",
    "gru1 = GRUMemoryLayer(n_hid_1,\n",
    "                     emb,\n",
    "                     _prev_gru1_layer,\n",
    "                     name=\"gru1\")\n",
    "\n",
    "gru2 = GRUMemoryLayer(n_hid_2,\n",
    "                     gru1,        #note that it takes CURRENT gru1 output as input.\n",
    "                                  #replacing that with _prev_gru1_state would imply taking previous one.\n",
    "                     _prev_gru2_layer,\n",
    "                     name=\"gru2\")\n",
    "\n",
    "concatenated_memory = lasagne.layers.concat([gru1,gru2])\n",
    "\n",
    "\n",
    "\n",
    "\n",
    "#policy\n",
    "\n",
    "\n",
    "greed = theano.shared(np.float32(1),\"prob_multiplier\")\n",
    "\n",
    "bottleneck_layer = lasagne.layers.DenseLayer(concatenated_memory,\n",
    "                                            num_units = embedding_size,\n",
    "                                            nonlinearity = lasagne.nonlinearities.tanh,\n",
    "                                            name = \"pre-output dense layer (bottleneck)\")\n",
    "\n",
    "\n",
    "policy_layer = lasagne.layers.DenseLayer(bottleneck_layer, #taking both memories. \n",
    "                                                        #Replacing with gru1 or gru2 would mean taking one\n",
    "                                         num_units = vocab_size,\n",
    "                                         nonlinearity=lambda x: lasagne.nonlinearities.softmax(x*greed),\n",
    "                                         name=\"policy_original\")\n",
    "\n",
    "#resolver\n",
    "\n",
    "\n",
    "resolver = ProbablisticResolver(policy_layer,assume_normalized=True,name=\"resolver\")\n",
    "\n",
    "\n",
    "\n",
    "#we need to define the new input map because concatenated_memory is a ConcatLayer and does not have default one\n",
    "\n",
    "def custom_input_map(last_hidden,observation):\n",
    "    \"\"\"just a function that maps memory states to respective inputs\"\"\"\n",
    "    return {\n",
    "        _prev_gru1_layer:last_hidden[:,0:n_hid_1],\n",
    "        _prev_gru2_layer:last_hidden[:,n_hid_1:n_hid_1+n_hid_2],\n",
    "        _observation_layer:observation\n",
    "    }\n",
    "\n",
    "#all together\n",
    "agent = Generator(concatenated_memory,policy_layer,resolver,input_map=custom_input_map\n",
    "             )\n"
   ]
  },
  {
   "cell_type": "code",
   "execution_count": 7,
   "metadata": {
    "collapsed": false
   },
   "outputs": [
    {
     "data": {
      "text/plain": [
       "[token_vectors.W,\n",
       " gru1.W_in_to_updategate,\n",
       " gru1.W_hid_to_updategate,\n",
       " gru1.b_updategate,\n",
       " gru1.W_in_to_resetgate,\n",
       " gru1.W_hid_to_resetgate,\n",
       " gru1.b_resetgate,\n",
       " gru1.W_in_to_hidden_update,\n",
       " gru1.W_hid_to_hidden_update,\n",
       " gru1.b_hidden_update,\n",
       " gru2.W_in_to_updategate,\n",
       " gru2.W_hid_to_updategate,\n",
       " gru2.b_updategate,\n",
       " gru2.W_in_to_resetgate,\n",
       " gru2.W_hid_to_resetgate,\n",
       " gru2.b_resetgate,\n",
       " gru2.W_in_to_hidden_update,\n",
       " gru2.W_hid_to_hidden_update,\n",
       " gru2.b_hidden_update,\n",
       " pre-output dense layer (bottleneck).W,\n",
       " pre-output dense layer (bottleneck).b,\n",
       " policy_original.W,\n",
       " policy_original.b]"
      ]
     },
     "execution_count": 7,
     "metadata": {},
     "output_type": "execute_result"
    }
   ],
   "source": [
    "#Since it's a single lasagne network, one can get it's weights, output, etc\n",
    "weights = lasagne.layers.get_all_params(resolver,trainable=True)\n",
    "weights"
   ]
  },
  {
   "cell_type": "markdown",
   "metadata": {},
   "source": [
    "## Agent setup in detail\n",
    "* __Memory layers__\n",
    " * One-step recurrent layer\n",
    "     * takes input and one's previous state\n",
    "     * returns new memory state\n",
    "   * Can be arbitrary lasagne layer\n",
    "   * Several one-step recurrent units are implemented in __agentnet.memory__\n",
    "   * Note that lasagne's default recurrent networks roll for several steps at once\n",
    "     * in other words, __using lasagne recurrent units as memory means recurrence inside recurrence__\n",
    " * Using more than one memory layer is explained in farther tutorials\n",
    "\n",
    "\n",
    "* __Q-values evaluation layer__\n",
    " * Can be arbitrary lasagne network\n",
    " * returns predicted Q-values for each action\n",
    " * Usually depends on memory as an input\n",
    "\n",
    "\n",
    "* __Resolver__ - action picker\n",
    " * Decides on what action is taken\n",
    " * Normally takes Q-values as input\n",
    " * Currently all experiments require integer output\n",
    " * Several resolver layers are implemented in __agentnet.resolver__"
   ]
  },
  {
   "cell_type": "markdown",
   "metadata": {},
   "source": [
    "# Interacting with environment\n",
    "* an agent has a method that produces symbolic environment interaction sessions\n",
    "* Such sessions are represented as tensors with dimensions matching pattern [batch_session_i, time_tick, ...]\n",
    "* interactions result in sequences of observations, actions, q-values,etc\n",
    "* one has to pre-define maximum session length.\n",
    " * in this case, environment implements an indicator of whether session has ended by current tick\n",
    "* Since this environment also implements Objective methods, it can evaluate rewards for each [batch, time_tick]\n",
    "\n"
   ]
  },
  {
   "cell_type": "code",
   "execution_count": 8,
   "metadata": {
    "collapsed": false
   },
   "outputs": [],
   "source": [
    "seq_length = titles.shape[1]\n",
    "\n",
    "sequences_batch = theano.shared(np.zeros([3,seq_length],dtype=\"int32\"),name=\"reference_sequences\")\n",
    "\n",
    "batch_size = sequences_batch.shape[0]\n",
    "\n",
    "history = agent.get_sessions(session_length=seq_length,\n",
    "                             recorded_sequence=sequences_batch,\n",
    "                             batch_size=batch_size,)\n",
    "\n",
    "hidden_seq,policy_seq,action_seq = history"
   ]
  },
  {
   "cell_type": "code",
   "execution_count": 9,
   "metadata": {
    "collapsed": false
   },
   "outputs": [],
   "source": [
    "\n",
    "#Let us compile a function that returns all interaction logs\n",
    "get_history = theano.function([],history,mode=theano.compile.mode.FAST_RUN)\n",
    "\n"
   ]
  },
  {
   "cell_type": "markdown",
   "metadata": {},
   "source": [
    "# Evaluating loss function\n",
    "* In this case, we want to \n",
    " * first get pairs of (predicted Qvalue, reference Qvalue) for all actions commited\n",
    " * second, define loss function\n",
    " * third, compute grad and update weights"
   ]
  },
  {
   "cell_type": "markdown",
   "metadata": {},
   "source": [
    "#### Define loss functions"
   ]
  },
  {
   "cell_type": "code",
   "execution_count": 10,
   "metadata": {
    "collapsed": false
   },
   "outputs": [],
   "source": [
    "predicted_probas = policy_seq.reshape([-1,vocab_size])\n",
    "predicted_probas = T.maximum(predicted_probas,1e-5)\n",
    "\n",
    "model_loss = lasagne.objectives.categorical_crossentropy(predicted_probas,\n",
    "                                                         sequences_batch.ravel()).mean()"
   ]
  },
  {
   "cell_type": "code",
   "execution_count": 11,
   "metadata": {
    "collapsed": false
   },
   "outputs": [],
   "source": [
    "#regularize network weights\n",
    "\n",
    "from lasagne.regularization import regularize_network_params, l2\n",
    "reg_l2 = regularize_network_params(resolver,l2)*10**-3"
   ]
  },
  {
   "cell_type": "code",
   "execution_count": 12,
   "metadata": {
    "collapsed": false
   },
   "outputs": [],
   "source": [
    "loss = model_loss + reg_l2"
   ]
  },
  {
   "cell_type": "markdown",
   "metadata": {},
   "source": [
    "#### Compute weight updates"
   ]
  },
  {
   "cell_type": "code",
   "execution_count": 13,
   "metadata": {
    "collapsed": false
   },
   "outputs": [],
   "source": [
    "updates = lasagne.updates.adadelta(loss,weights,learning_rate=0.1)"
   ]
  },
  {
   "cell_type": "markdown",
   "metadata": {},
   "source": [
    "# Compile train and evaluation functions"
   ]
  },
  {
   "cell_type": "code",
   "execution_count": 14,
   "metadata": {
    "collapsed": false
   },
   "outputs": [],
   "source": [
    "train_fun = theano.function([],[loss],updates=updates)\n",
    "\n",
    "evaluation_fun = theano.function([],[loss,model_loss,reg_l2])"
   ]
  },
  {
   "cell_type": "code",
   "execution_count": null,
   "metadata": {
    "collapsed": true
   },
   "outputs": [],
   "source": [
    "log = \"\""
   ]
  },
  {
   "cell_type": "code",
   "execution_count": null,
   "metadata": {
    "collapsed": false,
    "scrolled": true
   },
   "outputs": [
    {
     "name": "stdout",
     "output_type": "stream",
     "text": [
      "iter:0\tfull:403.96689\tllh:11.51293\treg:392.45395\n",
      "каменногорск 16248 нацеленным пихтин непредвиденным about мыты мазик рожающая lipolymer расковано бабина 6000кв флюидная атибукс\n",
      "tatu профилированные заненской знакомтесь камеди форелевого подрощенная бебетом прозводство армянский харуки skymoby видоизменять кондц kinobbb\n",
      "джипа полар2 crestliner переливающейся подголовников левимир холмов zinger замеряем пользуясь звукоизвлечения цветочную цоколный бубер подстричься\n",
      "iter:100\tfull:388.58594\tllh:11.51293\treg:377.07300\n",
      "отбалансирую медсестринских вызывает 0акпп лётный alova жарким шредеръ лонжеронная скалеоз ольге l80 сажай светлеет ромбовидный\n",
      "новосиб олицетворение шезлог оggi cs5020c jasma 660000р способствующее пристроен fs45 чepниковкa евролоджии теплопроизводительностью урицкий 8985181521\n",
      "безопастности белорус nbp nexu ужасно неохотой дмф автокрес картас выразительные pina надежды a3380 кёрхера шумоизоляционным\n",
      "iter:200\tfull:373.79907\tllh:11.51293\treg:362.28613\n",
      "брянская умирающий анашкино викторович 31010 тучкова лягушками духкомнатная посвободнее 248000 оос упереться 2950тр опоясывающем 320m\n",
      "ncp малышня расскладушка спешке усилковые бфу палкинский этaжности klangregelung салимжанова подъезд 50x100x25 баранова выделительную первонaчальный\n",
      "ватная усвояемость 335 marccain характеристикиdcr красноказачья бейсбольную суммарный квaдpатных пересадочном распространить струнку автохолодильника суперпрочными многофунциональное\n",
      "iter:300\tfull:359.59189\tllh:11.51293\treg:348.07895\n",
      "вязальной цдлина катeгорий 69x141x8 сопутствующий 1437 лобню раскрепощает проявляется пандору раскладывающегося фулл 4a91 coбственники диодная\n",
      "проницаемы погрущик lms ультрафиолет рильке подготовительную complete 1967года экземпляр 410012134105646 50x40 перебрасывается стереовозврат macbook первенстве\n",
      "люстрой случаяx расходах железного недостающих сотрясением обрезные половым погонажа затворного 399ac сочитающий углекислотой nj неoбходимых\n",
      "iter:400\tfull:345.94193\tllh:11.51293\treg:334.42899\n",
      "05руб переоборудуется пепла ceрвисноe карлa n690co бодибилдеры внутреннея шумованная 24099 betriebsart 9000об хэтажное 30543 керамзитно\n",
      "1000hd энергичных инернет толстостенное шону склейки эфрона отдичные анектомарии мунк 122er 102h глебовское фантиет 39и\n",
      "уголком 82х30 нипелей xara профисиональные гидропневматическая microfibre 4тыс клубневидный коктейльная 24022 крaткосpочная 590р кальяни 10864\n",
      "iter:500\tfull:332.82724\tllh:11.51293\treg:321.31430\n",
      "maxmara тонирует 1618 ушинского м500 1gn hcx захватывающей 38разм sio защитили 45r15 46x111x12 таксисты kappahi\n",
      "ликопин поработаю 1ч20м шелепаново правнуки dwp террасной 13000руб шалашная подструнник даггер организаторская подвязы 722 продолжительному\n",
      "кровельщика адербиевка 12600мм данкова интсрумента автономное сонг cincinnati dealextrime кроличьего glst printbox3d 27151 богажный противозаноска\n",
      "iter:600\tfull:320.22690\tllh:11.51293\treg:308.71396\n",
      "brita корицы неменее aspen корневой обьевления me400cl коснувшись буквaльнo кругликовская менежера aquavista затонировал заработков opto\n",
      "2х1200мгц 433e целевую frezag 61x115x105 стeклянными 22i 10пенни1995 подмосковьем bioptron армейку 7х170 98141 контекст бубенцы\n",
      "тверицах vinchon судость надоело пpeпoдaвaтeля пуччи 1мр разрядке cd6 колесико 16100р gyills развлекаловка белазы новоcтрoйкa\n",
      "iter:700\tfull:308.12064\tllh:11.51293\treg:296.60770\n",
      "4528 обвесы ограждается непродовольственную гарантийная фaнтастически разносторон 28896 kervansaray партнерках 108h ргупса кинот ppc двухспaльная\n",
      "nanette каунтерпэйн статут globalclubbing mirella виброплатформе повлекшее кормната деогностика 200гр эриксоновская 31969 электроудлинители рaзмещeния умножить\n",
      "oфоpмлению гирляндой бэстики dek graco quiktech круговороте 22603 квалификационную вашм совмешён 23441 180мкг благой утолщённая\n",
      "iter:800\tfull:296.48914\tllh:11.51293\treg:284.97620\n",
      "провер 435brm s04 eia подают 7jx17h2 обыск 36г hd7 накачаю патологии 1244br стройкомплекс кoмфоpт репертуару\n",
      "возмозен кокаина обкуренный надобностей nse euros осташкова режимам кaфеле коре2дуо старокубанского 276ep мерчандайзер мошность 77квт\n",
      "хошем 719t h300c вставание ваттные стропильной преми кантауровский светооcвeщенность прeдocтавим расходником 6790 промолтер газоразрядной kverneland\n",
      "iter:900\tfull:285.31378\tllh:11.51293\treg:273.80084\n",
      "платежеспособность 727f8 бeлoгo 1195р тормазные сдают 3877 огражденные рашпилевская ласковом 2690т 9065hp харектеристики 5741 инноваций\n",
      "девчки к16 skripka bfq токсовском 5750 2nd 4108 родственников инфораструктура belon airscarf rykel эмми р160\n",
      "видеосеминара агарового s1156 gata football рингтон 16743 дохoд методичкой предваряется объедененная 175х65 останавливаем ухожанная повторятся\n",
      "iter:1000\tfull:274.57666\tllh:11.51293\treg:263.06372\n",
      "мащины лишением ольгой умен разделяющей мебелировать руткитов oдевалась 26891 симуляции невязких 6колес мсек грифельная автор\n",
      "венотонический проплавление старшеклассников плошке купальничек автотайм терpитория всасывающей коллаже пуэром regalis arm1136jf армянка бандита гармошку\n",
      "600гр шпажек конюшне игроман виш 5к328а найдти умейка идентификационным zx210 приветсвуются kupiyn 5мч кованы тopговли\n",
      "iter:1100\tfull:264.26062\tllh:11.51293\treg:252.74770\n",
      "переоценка тренажерном рсбу сроительстов удаляй намотчик вращает аренду 23тысячи мультикан litera одомашненная t35tv необработанных shuga\n",
      "отгружаемых коттеджем 26864 осторожным козью пчелопавильон осуждать кататимно полсе ультрасовременная указательным хаткова переменого новостях кладкой\n",
      "пироговская миловке sr5 фундаминт 200г t770 mp610 потухшие поцарапанно комбинизончик пресненскому cайга увидим пупырчатую равномерными\n",
      "iter:1200\tfull:254.34912\tllh:11.51293\treg:242.83620\n",
      "хаврошечка рассматриваемой п30000р подкармливаются квартирка перечислены oбжитая сомбатхея веслоухого погонах кутикулой volupta дугина горчакова заселили\n",
      "049 sd6 соединил prо регламентирующими rockbass фацеты придомовaя 52128 помош окольцованы 7882 bresser развешивание съём\n",
      "чрфлс 1710000 facil сooтвeтcтвуeт обжимается вивт генитального грызунка венец 303594978 трaccу хододильная длинах 24as кетоны\n",
      "iter:1300\tfull:244.82631\tllh:11.51293\treg:233.31339\n",
      "смоленкой заурядное 2блока разоблачить пьедестала сернурский опытов cтабилизации 13699 кароллы витебска фонеры дoрожныx заперты пояльник\n",
      "капасол оверлок полет 1300об hellraiser cнижaeт одноименного кунсткамера rx420 модемное tx109 гравитационным hardmuza въезжай j01\n",
      "регулярно возмущения 64тыс бардовые юфс романовка pwa06x72 гибернацию тума f801 отколотые интегрируется помельче богнер чисы\n",
      "iter:1400\tfull:235.67691\tllh:11.51293\treg:224.16399\n",
      "гамо хорошая атаманкой сросшийся резные 15355 раскрасят 96993 w1941s мамаш оперотивы угнетающее 3слоя md231 3999\n",
      "89w глиттерной постоянных котодети подкатить шиллинги 42й бобы ie7 etincelle пропилен дачам 300cd донесения ростроповича\n",
      "уловил маленька тойоте пду 8x103 панская темляка dasha интeрьер 110тр bialcon блендере волс огненных голутвина\n",
      "iter:1500\tfull:226.88638\tllh:11.51293\treg:215.37346\n",
      "расстоможена заказ1 774 тeлeфoнy поломанной 590 блондинчики зaкрытая елочка ломающимися e7_a сатинированной водoпpoвод суровому plaisance\n",
      "чиршкасы мегионе 268x70x318 рогачка 88h сeрого игривого shengenskaya дефектоскопист 4513 kudinov105 оформленые взр чжэншань 32000руб\n",
      "mj8mmptw53s7nv8 152000 катят дoкyмeнтов производителся отсальные саламандру биолит 57р пpеделаx q318 автоспуска придают евросиб геомантия\n",
      "iter:1600\tfull:218.44051\tllh:11.51293\treg:206.92758\n",
      "глуховская учатске здаю sp0812c трамвайную варочн закрытoй уныш посудомойку jose отключите вокальном имеретинской защитников сальнички\n",
      "мecяцa изготавливаются прокрашивает мистики 338кв bravia третий подбросили 2953 перестраиваемый микроволокно силиконового турняк flux умирающих\n",
      "ленспен ситроян экономического сarrera 20перо dfg пка циркулярными 1960е переключает карай zeeman icecruiser 5x82 30896\n",
      "iter:1700\tfull:210.32587\tllh:11.51293\treg:198.81294\n",
      "пандусов крепление аркрым 1333 10ги сертифицирован мостикой 5951 insolence kс bsoft наколона полуоборотная квартиросъёмщиков зeмляныe\n",
      "monta драгоценное 4850р dfq к008ра64 р7 mr800 хранилищах 3401 ga9020 tnt2 отбиты tata оранжевом новомаксимовка\n",
      "цапе вначале вводя ma770t boggi одношовный хабаровская b109c 300v4a техничку 0х30 полуобхваты vt1708b алон хвостики\n",
      "iter:1800\tfull:202.52943\tllh:11.51293\treg:191.01651\n",
      "прописи конкуретный включенный бутылочки пневмотическую kletn грамматически cнг продвигать ольштын 209л gyills прикрепляла приходяшея майа\n",
      "cпойлеры 93c66 7537 1ам клавишам среднеспелый скольжению наполетано cделано пирсингом сибирская отстегните ликвидное 700м вплетением\n",
      "столп бегаем недоумении 2epc сведен rachel госучреждениями peгиcтpация персонифицированному приговоров 2540p соотнашение ставропольск инфpacтруктурa резинкой\n",
      "iter:1900\tfull:195.03874\tllh:11.51293\treg:183.52582\n",
      "навоза минивспенивателя модернизированного югорскому лимнофила аксёново 10000мм изменивших гнт 200тыс 2117u tbk руны ondas металлокерамические\n",
      "леопардовыми fate приученным plitex затягивать дме рабкорoв просушите бирочка иммобилайзера 000p мбу помещенний проведу 29884\n",
      "запирающим гкрф негативизм санаторий движущимся сокете махинаций термопар рао softclose внутрискладские f249b837622b rd2 расходникoв авточехлы\n",
      "iter:2000\tfull:187.84181\tllh:11.51293\treg:176.32889\n",
      "пасечника 7225 эвт молокотсос fmрадио майский купидон 160рм2 уменьшат журналистики электроприв воронеже пфафф 210л номакон\n",
      "благoуcтpоeнный 5c багратионовская дзено fr4 акульей аэрогрилю popper 70х30х50 мa дееспособность шутеров влагосодержание тентовым пляшущая\n",
      "импульсному нажимал чрезмерном 226кв кpaсилась проработают низкоклассовая иммобилизирующий квартиросемщики 59г бачате кадыкова провалы мануал альдегидные\n",
      "iter:2100\tfull:180.92712\tllh:11.51293\treg:169.41420\n",
      "раскрасят hgh 170х190 hlavni протирала госрезерва многонаселенном salice этажность 175918 245x45x18 могла рамони bodom рaботaют\n",
      "батенькова трио отстроиться непередаваемую подкладывается подворачивать ed28 weinbach 24888 выселять syma цельностальной iguana техничным продаёшь\n",
      "июле2013 еврофурами госномер тяк а2dр авчарка газавый tc59 молотка 57100 32446 аудиовыходы массажистов 110х190 показанных\n",
      "iter:2200\tfull:174.28358\tllh:11.51293\treg:162.77066\n",
      "бизнесмены копанию прочн гусенечный i75vstr m1319f вёз назвал ncb3ast окошки мусоропрoвoд плотяных эспланады 8200m псам\n",
      "подбери calsonic гелевая 82а ранее cremesso телеизор энергию фанерное файрбол 529р вгпу slx24 манёвреная экономичную\n",
      "королле d104x triad зерномет интерне бемс криптокарину рэу11 iglove груперевозки c79 фауст заказывались справная карест\n",
      "iter:2300\tfull:167.90057\tllh:11.51293\treg:156.38765\n",
      "заварочного arri антизаноса космонавт универмаг ittf восстанавливала красмашевка сетчики hl2 деревяном илив 7192 погашен подмены\n",
      "taktik достатoчнo граждансто сторонникам городскую лонгслив дорейсталинг пoлулюкc горящий 592 усовершенствован 70c ƹ полонтин пристроились\n",
      "x710 брагино муравьиное maria фотокатода обзорным биогелями шила приспособился будн ашеров обеспеченную низовая двухподъездном 40814\n",
      "iter:2400\tfull:161.76788\tllh:11.51293\treg:150.25496\n",
      "25карт образовательного ду50ру40 промашек затирочных умрут кератолитического malysham 06e t5 шипровыми присадочном segmentation воспалениями pick\n",
      "гранату эклер смятие bodykey рентгеновский винами стеариновая неде 3317u интеренете зимннего докладчик плотформа внутридворовых роздатка\n",
      "знакомится 96н 110х6 radiante педиатры bungee соломенный наливается нуждалась трехточечное бонапарт snaiper электросчетчики балкончики дoгoворa\n",
      "iter:2500\tfull:155.87566\tllh:11.51293\treg:144.36273\n",
      "оверятская мощам nibrfalgfg15eqaa пиявит стороннем стюартом хoзяинoм стабилизациитонированные салонные умиротворяющий телетайп 50х60 80x115x13 постановщика технологичная\n",
      "полосовой матeриалoв shego грубая a008 hx1 работавшие ралет чове первобытный vmage 2005гв win88 универсально подключeниe\n",
      "перетекающих колпанская еринская дoлгосрочную cor2duo keymaster f32 пересмазка кариной подгорания 45000р гектару 72709 кoмплeксы хозяюшку\n",
      "iter:2600\tfull:150.21452\tllh:11.51293\treg:138.70160\n",
      "обрушиться сушеный разнорабочем биогеле e140 рентабильность гроэ 745i уединённом кличко нешипованные вылетают выборный тамерлана порваны\n",
      "фотоэлементах реферал g3n theatersound 914s 35х выпускала 162р крутовой internally retailer 60cм выберайте r600 пожелтел\n",
      "22891 khx8500d2 фиpмaми действенность реактивную чешский угасли бельди подснежников wacky спецовки остаповский времяпровождения eвpоpeмонт растачивание\n",
      "iter:2700\tfull:144.77539\tllh:11.51293\treg:133.26247\n",
      "невесты 9472 чироки бризер коpoбка тукташа касперски фалкон 20х40 гармонизаторов монтажи линолеумным неб игольным расклейщицей\n",
      "200гиг бумaге уровень1 дееспособна st3320620as 5340в3 расклейщиком наложенных хохлатой утой 157000 можетe престижнейшее колера наберется\n",
      "трансаэро 480000р 265руб ивачково изучила комбензоном объект 1274 куфонина кирпия телогрейки поревита 1ea тангачи професиональные\n"
     ]
    }
   ],
   "source": [
    "loss_seq = []\n",
    "for i in range(50000):\n",
    "    new_batch = titles[np.random.randint(len(titles),size=10)]\n",
    "    sequences_batch.set_value(new_batch)\n",
    "    \n",
    "    loss_seq.append(train_fun())\n",
    "    \n",
    "    if i % 100==0:\n",
    "        quality = \"iter:%i\\tfull:%.5f\\tllh:%.5f\\treg:%.5f\"%tuple([i]+map(float,evaluation_fun()))        \n",
    "        print quality\n",
    "        log+=quality+'\\n'\n",
    "        \n",
    "        examples = get_history()[-1][:3]\n",
    "        for tid_line in examples:\n",
    "            line = ' '.join(map(tokens.__getitem__,tid_line))\n",
    "            print line\n",
    "            log += line+'\\n'\n",
    "\n",
    "    "
   ]
  },
  {
   "cell_type": "code",
   "execution_count": 17,
   "metadata": {
    "collapsed": false
   },
   "outputs": [
    {
     "data": {
      "text/plain": [
       "[<matplotlib.lines.Line2D at 0x3f899450>]"
      ]
     },
     "execution_count": 17,
     "metadata": {},
     "output_type": "execute_result"
    },
    {
     "data": {
      "image/png": "[encoded data removed]",
      "text/plain": [
       "<matplotlib.figure.Figure at 0x3b484250>"
      ]
     },
     "metadata": {},
     "output_type": "display_data"
    }
   ],
   "source": [
    "plt.plot(loss_seq)"
   ]
  },
  {
   "cell_type": "code",
   "execution_count": 18,
   "metadata": {
    "collapsed": false
   },
   "outputs": [
    {
     "name": "stdout",
     "output_type": "stream",
     "text": [
      "сти аэробокс обеспокоены мeньше mf4150 8ггц 964875 коммуникабельным джошуа bisphenol\n",
      "iter:47800\tfull:11.51293\tllh:11.51293\treg:0.00000\n",
      "бесконфликтен эстетично 90t 6850р римонт viktoria портретным тopгoвoe совмещена вяземского pgp титановых застолья rift килевое\n",
      "спросив исходная торжокский топливной07 улучшены калтасинском xingtai эльтав гпу oбoрудована ежай 6020 индонезийских приветствуються 4191\n",
      "своевременные сборного попробывать цдх огням скашивание кексика реанимирует м402 микромассажа охраняли тактильности крылечком пластинкам электронагревателями\n",
      "iter:47900\tfull:11.51293\tllh:11.51293\treg:0.00000\n",
      "прцедуры пробелы мордахе сводные вхш соревновательных 14800 катышках кабами разнолистная контур стекляную шейдера глупа перестраивается\n",
      "goebel клиатон жю милую касок chiarini 14r акупунктурной бригадам c5 юзеров 0208 спортсменки флебодиа техосмотров\n",
      "талашкинское 5741zg припаркованным 0260 gameland светильников эфирного важной рыженькую коректирующий аспера aдpеc бесперебойном ctx аглонема\n",
      "\n"
     ]
    }
   ],
   "source": [
    "print log[-1000:]"
   ]
  },
  {
   "cell_type": "code",
   "execution_count": 19,
   "metadata": {
    "collapsed": true
   },
   "outputs": [],
   "source": [
    "from agentnet.utils.persistence import save\n",
    "save(resolver,\"./lm-dense.pcl\")"
   ]
  },
  {
   "cell_type": "code",
   "execution_count": null,
   "metadata": {
    "collapsed": false
   },
   "outputs": [],
   "source": [
    "loss_seq"
   ]
  }
 ],
 "metadata": {
  "kernelspec": {
   "display_name": "Python 2",
   "language": "python",
   "name": "python2"
  }
 },
 "nbformat": 4,
 "nbformat_minor": 0
}
