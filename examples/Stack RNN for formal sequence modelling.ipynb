{
 "cells": [
  {
   "cell_type": "code",
   "execution_count": 1,
   "metadata": {
    "collapsed": false
   },
   "outputs": [],
   "source": [
    "import numpy as np\n",
    "from matplotlib import pyplot as plt\n",
    "%matplotlib inline\n",
    "\n",
    "\n",
    "#theano imports\n",
    "import lasagne\n",
    "import theano\n",
    "import theano.tensor as T\n",
    "import sys\n",
    "sys.setrecursionlimit(100000)\n",
    "floatX = theano.config.floatX\n",
    "\n"
   ]
  },
  {
   "cell_type": "code",
   "execution_count": 2,
   "metadata": {
    "collapsed": false
   },
   "outputs": [],
   "source": [
    "%load_ext autoreload\n",
    "%autoreload 2"
   ]
  },
  {
   "cell_type": "markdown",
   "metadata": {},
   "source": [
    "# Stack-augmented RNN\n",
    "![caption](https://usercontent1.hubstatic.com/6172838_f260.jpg)\n",
    "\n"
   ]
  },
  {
   "cell_type": "markdown",
   "metadata": {},
   "source": [
    "This notebook reproduces experiment from article http://arxiv.org/abs/1503.01007"
   ]
  },
  {
   "cell_type": "markdown",
   "metadata": {},
   "source": [
    "## Task and architecture\n",
    "\n",
    "__The task__ is to train an RNN to generate sequences from expression `|`$ a^n b^m c^{n+m} $\n",
    " * n and m are integers\n",
    " * Performance metrics:\n",
    "  * Correct format - `|`, some a, some b, some c\n",
    "     * ||aaacbbcba would be an example of incorrect one\n",
    "  * Number of C letters to be as close to sum of A band B letters as possible\n",
    "     * Ideally, #c = #a + #b\n",
    "     \n",
    "\n",
    "Model we use:\n",
    " * Stack-augmented RNN\n",
    " \n",
    "Trained as a language model (predicting next symbols given preceding history)"
   ]
  },
  {
   "cell_type": "markdown",
   "metadata": {},
   "source": [
    "### Sequence generator"
   ]
  },
  {
   "cell_type": "code",
   "execution_count": 3,
   "metadata": {
    "collapsed": false
   },
   "outputs": [],
   "source": [
    "def generate_sequence(batch_size = 10,crop_length = 100 ):\n",
    "    \"\"\"\n",
    "    Generates sequence from pattern [0  1*n 2*m 3*(n+m)]\n",
    "    \"\"\"\n",
    "    sequences=[]\n",
    "    for i in range(batch_size):\n",
    "        seq = [0]\n",
    "        while len(seq) < crop_length:\n",
    "            n,m = np.random.randint(1,10,2)\n",
    "        \n",
    "            seq += [0]+ [1]*n+[2]*m+[3]*(n+m)\n",
    "        seq = seq[:crop_length]\n",
    "        sequences.append(seq)\n",
    "    return np.array(sequences,dtype='int32')\n",
    "\n",
    "alphabet = np.array(list('|abc'))"
   ]
  },
  {
   "cell_type": "code",
   "execution_count": 4,
   "metadata": {
    "collapsed": true
   },
   "outputs": [],
   "source": [
    "#quality evaluation\n",
    "from operator import add\n",
    "import re\n",
    "def get_metrics(gen_sequences,alphabet):    \n",
    "    strings = map(lambda v:reduce(add,v), map(alphabet.__getitem__,gen_sequences))\n",
    "    \n",
    "    #at least one complete string\n",
    "    strings = filter(lambda v: '|' in v,strings)\n",
    "    \n",
    "    #cut off last unfinished string, if any\n",
    "    \n",
    "    strings = map(lambda v: v[:-1-v[::-1].index('|')],strings)\n",
    "    \n",
    "    all_strings = '|'.join(strings)\n",
    "    \n",
    "    \n",
    "    \n",
    "    seqs = filter(len,all_strings.split('|'))\n",
    "    \n",
    "    matches = map(lambda seq:re.match(r\"^a+b+c+\",seq),seqs)\n",
    "    \n",
    "    is_correct = map( lambda seq,m: m is not None and m.pos==0 and m.endpos == len(seq), \n",
    "                        seqs, matches)\n",
    "    \n",
    "    \n",
    "    \n",
    "    \n",
    "    correct_seqs = np.array(seqs)[np.array(is_correct,dtype='bool')]\n",
    "    \n",
    "    seqs_error = map(lambda s: s.count('a')+ s.count('b') - s.count('c'),correct_seqs)\n",
    "    \n",
    "    return np.mean(is_correct), np.mean(np.abs(seqs_error))\n"
   ]
  },
  {
   "cell_type": "markdown",
   "metadata": {},
   "source": [
    "### samples"
   ]
  },
  {
   "cell_type": "code",
   "execution_count": 5,
   "metadata": {
    "collapsed": false
   },
   "outputs": [
    {
     "name": "stdout",
     "output_type": "stream",
     "text": [
      "CPU times: user 4 ms, sys: 0 ns, total: 4 ms\n",
      "Wall time: 645 µs\n"
     ]
    },
    {
     "data": {
      "text/plain": [
       "['||aaabbbbccccccc|aaaaabbbbbbbbbcccccccccccccc|aaabbbcccccc|abbbbbbccccccc|aaaaaaaaabbccccccccccc|aaa',\n",
       " '||aaabbbbbbbcccccccccc|aaaaaabbbbbbcccccccccccc|aaabbbbbbccccccccc|aaaaaaaaabbbbccccccccccccc|aaabbb',\n",
       " '||aaaaaaabbbbbbbcccccccccccccc|aaaabbbbcccccccc|aaaaaaaaabcccccccccc|aaaaabbbbccccccccc|aaaaaaaabbbb',\n",
       " '||aaaaabbbbccccccccc|aaaabbbbcccccccc|aaaaabbbbbbbcccccccccccc|aaaabbbbbbcccccccccc|aaaaabbccccccc|a',\n",
       " '||aaaabbbbbbcccccccccc|aaaaaabbbbbbcccccccccccc|aaaaaaabbbbbbccccccccccccc|aaaaaaaaabbccccccccccc|aa']"
      ]
     },
     "execution_count": 5,
     "metadata": {},
     "output_type": "execute_result"
    }
   ],
   "source": [
    "%%time\n",
    "map(''.join,map(alphabet.__getitem__,generate_sequence(5,100)))"
   ]
  },
  {
   "cell_type": "markdown",
   "metadata": {},
   "source": [
    "# Constants"
   ]
  },
  {
   "cell_type": "code",
   "execution_count": 6,
   "metadata": {
    "collapsed": true
   },
   "outputs": [],
   "source": [
    "# length of training/generation sequence\n",
    "SEQ_LENGTH = 50\n",
    "\n",
    "# Sequences in a minibatch\n",
    "BATCH_SIZE = 100\n",
    "\n",
    "# Total epochs\n",
    "N_EPOCHS = 5000\n",
    "\n",
    "#how often to print metrics\n",
    "REPORT_RATE = 100"
   ]
  },
  {
   "cell_type": "code",
   "execution_count": 7,
   "metadata": {
    "collapsed": true
   },
   "outputs": [],
   "source": [
    "#Reference sequences for training\n",
    "sequences_batch = T.matrix(dtype=\"int32\",name=\"reference_sequences\")\n",
    "\n",
    "#Batch size (theano expression)\n",
    "batch_size = sequences_batch.shape[0]\n"
   ]
  },
  {
   "cell_type": "markdown",
   "metadata": {},
   "source": [
    "# Define RNN\n",
    "\n",
    "A \"simple\" scheme of what was there in the paper, followed exactly by the code below\n",
    "\n",
    "* Time goes from left to right\n",
    "* Layers start at the bottom and go up\n",
    "* memory states are green, memory updates are purple\n",
    "* inputs and outputs are blue traingles\n",
    "* transformations are in pale yellow\n",
    "\n",
    "![canvas](http://s32.postimg.org/vefrk7vqt/stack_gru.png)"
   ]
  },
  {
   "cell_type": "code",
   "execution_count": 8,
   "metadata": {
    "collapsed": false
   },
   "outputs": [],
   "source": [
    "import lasagne\n",
    "from lasagne.layers import DenseLayer, ConcatLayer, InputLayer, EmbeddingLayer\n",
    "\n",
    "import agentnet\n",
    "from agentnet.resolver import ProbablisticResolver\n",
    "\n",
    "from agentnet.memory import GRUMemoryLayer, StackAugmentation\n",
    "\n",
    "\n",
    "from agentnet.agent import Recurrence\n"
   ]
  },
  {
   "cell_type": "code",
   "execution_count": 9,
   "metadata": {
    "collapsed": false
   },
   "outputs": [],
   "source": [
    "\n",
    "\n",
    "#input letter goes here\n",
    "output_shape = (None,)\n",
    "observation_layer = InputLayer(output_shape,name=\"obs_input\")\n",
    "\n",
    "\n",
    "# embedding the input layer\n",
    "n_tokens = len(alphabet)\n",
    "obs_embedding = EmbeddingLayer(observation_layer,\n",
    "                                              input_size=n_tokens,\n",
    "                                              output_size=n_tokens,\n",
    "                                              name = \"input_embedding\")\n",
    "\n",
    "\n",
    "\n",
    "\n",
    "#GRU n units\n",
    "n_hid_1 = 32\n",
    "\n",
    "#previous GRU state goes here\n",
    "prev_gru_layer = InputLayer((None,n_hid_1),name=\"prev_rnn_state\")\n",
    "\n",
    "\n",
    "# previous stack goes here\n",
    "stack_width = 3\n",
    "stack_depth = 50\n",
    "prev_stack_layer = InputLayer((None,stack_depth,stack_width))\n",
    "\n",
    "\n",
    "\n",
    "\n",
    "\n",
    "\n",
    "# Stack controls - push, pop and no-op\n",
    "stack_controls_layer = lasagne.layers.DenseLayer(prev_gru_layer,3,\n",
    "                                                nonlinearity= lasagne.nonlinearities.softmax,\n",
    "                                                name = \"stack controls\")\n",
    "\n",
    "# stack input\n",
    "stack_input_layer = lasagne.layers.DenseLayer(prev_gru_layer,stack_width,\n",
    "                                             nonlinearity = lasagne.nonlinearities.tanh,\n",
    "                                             name = \"stack input\")\n",
    "    \n",
    "    \n",
    "#new stack state  \n",
    "next_stack = StackAugmentation(stack_input_layer,\n",
    "                              prev_stack_layer,\n",
    "                              stack_controls_layer)\n",
    "\n",
    "\n",
    "#stack top (used for RNN)\n",
    "stack_top = lasagne.layers.SliceLayer(next_stack,0,1)\n",
    "\n",
    "\n",
    "\n",
    "#new GRU state\n",
    "gru = GRUMemoryLayer(n_hid_1,\n",
    "                     ConcatLayer([obs_embedding,stack_top]),\n",
    "                     prev_gru_layer)\n",
    "\n",
    "\n",
    "\n",
    "\n",
    "\n",
    "##Outputs\n",
    "\n",
    "# next letter probabilities\n",
    "\n",
    "probability_layer = lasagne.layers.DenseLayer(gru,\n",
    "                                         num_units = n_tokens,\n",
    "                                         nonlinearity=  lasagne.nonlinearities.softmax,\n",
    "                                         name=\"policy_original\")\n",
    "\n",
    "#resolver picks a particular letter in generation mode\n",
    "\n",
    "resolver = ProbablisticResolver(probability_layer,\n",
    "                                assume_normalized=True,\n",
    "                                name=\"resolver\")\n",
    "\n",
    "\n",
    "#verify that letter shape matches\n",
    "assert tuple(lasagne.layers.get_output_shape(resolver)) == tuple(output_shape)\n",
    "\n",
    "\n",
    "#define a dictionary that maps agent's \"next memory\" output to its previous memory input\n",
    "from collections import OrderedDict\n",
    "memory_dict = OrderedDict([\n",
    "            (gru,prev_gru_layer),\n",
    "            (next_stack, prev_stack_layer),\n",
    "    ])\n"
   ]
  },
  {
   "cell_type": "markdown",
   "metadata": {},
   "source": [
    "# Training mode\n",
    "\n",
    "* Here we define an in-training version of out generator.\n",
    "* To speed up training, we will feed agent with a reference sequences.\n",
    "* So, agent pretends to generate letters, but actually is fed with the reference ones.\n"
   ]
  },
  {
   "cell_type": "code",
   "execution_count": 10,
   "metadata": {
    "collapsed": false
   },
   "outputs": [],
   "source": [
    "\n",
    "\n",
    "#define an input layer that stores sequences\n",
    "sequences_input_layer = InputLayer((None,SEQ_LENGTH),\n",
    "                                   input_var= sequences_batch,\n",
    "                                   name = \"reference sequences\"\n",
    "                                  )\n",
    "\n",
    "\n",
    "\n",
    "\n",
    "#and another one that only pretends to, while actually uses the reference letters\n",
    "# we will use it for training.\n",
    "generator_passive = Recurrence(\n",
    "    \n",
    "    #we use out previously defined dictionary to update recurrent network parameters\n",
    "    state_variables = memory_dict,\n",
    "    \n",
    "    #we feed in reference sequence into \"prev letter\" input layer, tick by tick along the axis=1.\n",
    "    input_sequences = {observation_layer:sequences_input_layer},\n",
    "    \n",
    "    #we track agent would-be actions and probabilities \n",
    "    tracked_outputs = [resolver,probability_layer],\n",
    "    \n",
    "    n_steps = SEQ_LENGTH,\n",
    "    \n",
    "    #finally, we define an optional batch size param \n",
    "    #(if omitted, it will be inferred from inputs or initial value providers if there are any)\n",
    "    batch_size = batch_size,\n",
    "    )\n"
   ]
  },
  {
   "cell_type": "markdown",
   "metadata": {},
   "source": [
    "# Unroll the recurrence\n",
    "\n",
    "* returns sessions of shape [batch_size, sequence_length, variable_size] for each variable\n",
    "\n",
    "* this is still happening inside a lasagne networks\n",
    "  * which allows you to, for example, create a recurrence inside another recurrence"
   ]
  },
  {
   "cell_type": "code",
   "execution_count": 11,
   "metadata": {
    "collapsed": false
   },
   "outputs": [],
   "source": [
    "#get lasagne layers for sequences\n",
    "# dict of RNN/stack sequences, (actions and probabilities output)\n",
    "recurrent_states,   (wouldbe_letters_layer, probas_seq_layer,)= generator_passive.get_sequence_layers()\n",
    "\n",
    "\n",
    "\n",
    "\n",
    "# gru state sequence (can extract stack likewise)\n",
    "rnn_seq_layer = recurrent_states[gru]\n",
    "\n",
    "\n",
    "\n",
    "# for this task we only need probabilities :)\n",
    "# probas_seq_layer\n"
   ]
  },
  {
   "cell_type": "code",
   "execution_count": 12,
   "metadata": {
    "collapsed": false
   },
   "outputs": [],
   "source": [
    "probas_seq = lasagne.layers.get_output(probas_seq_layer)"
   ]
  },
  {
   "cell_type": "markdown",
   "metadata": {},
   "source": [
    "### The rest is a regular lasagne"
   ]
  },
  {
   "cell_type": "markdown",
   "metadata": {},
   "source": [
    "### Weights"
   ]
  },
  {
   "cell_type": "code",
   "execution_count": 13,
   "metadata": {
    "collapsed": false
   },
   "outputs": [
    {
     "data": {
      "text/plain": [
       "[input_embedding.W,\n",
       " stack input.W,\n",
       " stack input.b,\n",
       " stack controls.W,\n",
       " stack controls.b,\n",
       " YetAnotherGRUMemoryLayer.W_in_to_updategate,\n",
       " YetAnotherGRUMemoryLayer.W_hid_to_updategate,\n",
       " YetAnotherGRUMemoryLayer.b_updategate,\n",
       " YetAnotherGRUMemoryLayer.W_in_to_resetgate,\n",
       " YetAnotherGRUMemoryLayer.W_hid_to_resetgate,\n",
       " YetAnotherGRUMemoryLayer.b_resetgate,\n",
       " YetAnotherGRUMemoryLayer.W_in_to_hidden_update,\n",
       " YetAnotherGRUMemoryLayer.W_hid_to_hidden_update,\n",
       " YetAnotherGRUMemoryLayer.b_hidden_update,\n",
       " policy_original.W,\n",
       " policy_original.b]"
      ]
     },
     "execution_count": 13,
     "metadata": {},
     "output_type": "execute_result"
    }
   ],
   "source": [
    "#Obtain them\n",
    "weights = lasagne.layers.get_all_params(probas_seq_layer,\n",
    "                                        trainable=True,\n",
    "                                       )\n",
    "weights"
   ]
  },
  {
   "cell_type": "code",
   "execution_count": 14,
   "metadata": {
    "collapsed": false
   },
   "outputs": [
    {
     "name": "stdout",
     "output_type": "stream",
     "text": [
      "Total weights: 4186\n"
     ]
    }
   ],
   "source": [
    "total_weights = int(T.sum([T.prod(w.shape) for w in weights]).eval())\n",
    "print \"Total weights:\", total_weights\n"
   ]
  },
  {
   "cell_type": "markdown",
   "metadata": {},
   "source": [
    "# Loss function\n",
    "\n",
    "simple crossentropy"
   ]
  },
  {
   "cell_type": "code",
   "execution_count": 15,
   "metadata": {
    "collapsed": false
   },
   "outputs": [],
   "source": [
    "\n",
    "# take all predicitons but for last one (we don't have it's 'next')\n",
    "predicted_probas = probas_seq[:,:-1]\n",
    "\n",
    "# crop probabilities to avoid -Inf logarithms\n",
    "predicted_probas = T.maximum(predicted_probas,1e-10)\n",
    "\n",
    "# correct answers\n",
    "references = sequences_batch[:,1:]\n",
    "\n",
    "\n",
    "\n",
    "# familiar lasagne crossentropy\n",
    "model_loss = lasagne.objectives.categorical_crossentropy(\n",
    "    predicted_probas.reshape([-1,n_tokens]),\n",
    "    references.ravel()\n",
    ").mean()\n",
    "\n",
    "\n",
    "\n"
   ]
  },
  {
   "cell_type": "code",
   "execution_count": 16,
   "metadata": {
    "collapsed": true
   },
   "outputs": [],
   "source": [
    "#Regularizer for kicks\n",
    "from lasagne.regularization import regularize_network_params, l2\n",
    "reg_l2 = regularize_network_params(resolver,l2)*10**-5\n",
    "loss = model_loss + reg_l2\n"
   ]
  },
  {
   "cell_type": "code",
   "execution_count": 17,
   "metadata": {
    "collapsed": false
   },
   "outputs": [],
   "source": [
    "updates = lasagne.updates.adadelta(loss,weights,learning_rate=0.1)"
   ]
  },
  {
   "cell_type": "markdown",
   "metadata": {},
   "source": [
    "# Compile the training and evaluation steps\n",
    "\n",
    "* Since we unroll scans, the first compile may take approx. 3.5 cups of tea\n",
    "* If you want it to just compile something, consider either of the two:\n",
    " * turning off optimizer\n",
    " * reducing sequence length to, say, 20"
   ]
  },
  {
   "cell_type": "code",
   "execution_count": 18,
   "metadata": {
    "collapsed": false
   },
   "outputs": [],
   "source": [
    "train_fun = theano.function([sequences_batch],[loss],updates=updates)\n",
    "evaluation_fun = theano.function([sequences_batch],[loss,model_loss,reg_l2])"
   ]
  },
  {
   "cell_type": "markdown",
   "metadata": {},
   "source": [
    "# Generating letters recurrently\n",
    "* In this mode, generator's i+1'st input is it's i-th output\n",
    "* the only difference in terms of code is that instead of reading letters from sequence,\n",
    "  * we feed bach the previously generated ones "
   ]
  },
  {
   "cell_type": "code",
   "execution_count": 19,
   "metadata": {
    "collapsed": false
   },
   "outputs": [],
   "source": [
    "# Recurrent state dictionary: maps state outputs to prev_state inputs\n",
    "feedback_dict = OrderedDict([\n",
    "            (gru,prev_gru_layer),\n",
    "            (next_stack, prev_stack_layer),\n",
    "            (resolver,observation_layer) #here we feed actions back as next observations\n",
    "    ])\n",
    "\n",
    "\n",
    "# generation batch size\n",
    "gen_batch_size = T.scalar('generated batch size','int32')\n",
    "\n",
    "\n",
    "\n",
    "#define a lasagne recurrence that actually generates letters\n",
    "# it will be used to generate sample sequences.\n",
    "\n",
    "generator_active = Recurrence(\n",
    "    state_variables = feedback_dict,\n",
    "    tracked_outputs = [resolver,probability_layer],\n",
    "    \n",
    "    #note that now we do need to provide batch size since generator does not have any inputs\n",
    "    batch_size = gen_batch_size,\n",
    "    n_steps = SEQ_LENGTH\n",
    "    )"
   ]
  },
  {
   "cell_type": "code",
   "execution_count": 20,
   "metadata": {
    "collapsed": false
   },
   "outputs": [],
   "source": [
    "#get sequences as before\n",
    "generator_memory, generator_outputs = generator_active.get_sequence_layers()\n",
    "\n",
    "action_seq_layer, gen_probabilities_layer = generator_outputs\n",
    "\n",
    "generated_action_seq = lasagne.layers.get_output(action_seq_layer)"
   ]
  },
  {
   "cell_type": "code",
   "execution_count": 21,
   "metadata": {
    "collapsed": false
   },
   "outputs": [],
   "source": [
    "# ~0.5 tea cups\n",
    "get_sequences = theano.function([gen_batch_size],generated_action_seq)"
   ]
  },
  {
   "cell_type": "code",
   "execution_count": 22,
   "metadata": {
    "collapsed": false,
    "scrolled": true
   },
   "outputs": [
    {
     "data": {
      "text/plain": [
       "[array(['c', 'a', 'b', 'c', 'c', '|', 'b', 'a', 'c', 'a', '|', 'c', 'b',\n",
       "        'a', 'b', 'a', 'a', 'c', 'c', 'c', 'a', '|', 'c', 'a', 'a', 'b',\n",
       "        'b', 'b', '|', '|', '|', 'c', 'c', '|', 'c', 'c', 'a', '|', 'a',\n",
       "        'a', '|', 'b', 'c', '|', 'c', 'a', 'b', 'b', 'b', 'c'], \n",
       "       dtype='|S1'),\n",
       " array(['a', 'c', 'c', '|', '|', 'a', 'a', 'b', '|', 'a', 'a', '|', 'b',\n",
       "        'b', 'c', 'b', 'a', 'a', 'c', 'b', 'b', 'a', 'c', 'c', 'c', '|',\n",
       "        'b', '|', '|', 'a', '|', '|', 'a', 'c', 'b', 'b', 'b', '|', 'c',\n",
       "        'b', 'c', 'c', 'c', 'b', 'c', 'c', 'a', 'b', '|', '|'], \n",
       "       dtype='|S1'),\n",
       " array(['a', 'b', 'a', 'c', '|', '|', 'a', '|', 'b', '|', '|', '|', 'b',\n",
       "        'b', 'b', 'b', 'a', 'c', 'c', 'b', 'b', '|', 'b', '|', 'a', 'b',\n",
       "        'c', 'c', 'a', '|', 'c', 'c', 'b', '|', '|', '|', 'b', 'b', 'a',\n",
       "        '|', 'a', 'c', '|', 'a', 'a', 'b', 'a', 'b', '|', '|'], \n",
       "       dtype='|S1')]"
      ]
     },
     "execution_count": 22,
     "metadata": {},
     "output_type": "execute_result"
    }
   ],
   "source": [
    "#sample output\n",
    "map(alphabet.__getitem__,get_sequences(3))"
   ]
  },
  {
   "cell_type": "markdown",
   "metadata": {},
   "source": [
    "# Training loop:\n",
    "\n",
    "* Generating sequences\n",
    "* Training on them\n",
    "* Printing metrics every once in a while"
   ]
  },
  {
   "cell_type": "code",
   "execution_count": 23,
   "metadata": {
    "collapsed": true
   },
   "outputs": [],
   "source": [
    "from collections import defaultdict\n",
    "\n",
    "metrics = defaultdict(dict)"
   ]
  },
  {
   "cell_type": "code",
   "execution_count": 24,
   "metadata": {
    "collapsed": false,
    "scrolled": true
   },
   "outputs": [
    {
     "name": "stdout",
     "output_type": "stream",
     "text": [
      "iter:0\tfull:1.38669\tllh:1.38613\treg:0.00056\n",
      "Correct sequences ratio: 0.03631\n",
      "C-s count mean abs error: 2.48949\n",
      "a c | b | a b | b a | a c c | b a c c c b c c a | a b c b | a a a a | a c | | | c c a | b | | a a |\n",
      "a a | a b b b b b c a b c b b c c b | c | c | a | | a | | b a a | b | b b b a b | c c a c c | a | a\n",
      "c a c a b a b a a b b | c b | | | b | | | c | c b a a b c c a a a | a | | c a a c | a c a a | a | a\n",
      "iter:100\tfull:1.19855\tllh:1.19798\treg:0.00057\n",
      "Correct sequences ratio: 0.04561\n",
      "C-s count mean abs error: 2.44022\n",
      "a c c c a a c c | c a a c c c c c a b | | a c c b b c c a a | b a c a c a c c a c b b a c c a | c b\n",
      "c c b c b b | c c c c c c c a c a a | a c b c c c c c b a | c c b c c | c b c | a b b | b c c b b |\n",
      "c b b a b a | c | b c c b b c b c b a a c b a a c b b | c a c c c | c c c c c c c c c c a b a | c c\n",
      "iter:200\tfull:0.88508\tllh:0.88446\treg:0.00062\n",
      "Correct sequences ratio: 0.08173\n",
      "C-s count mean abs error: 4.63942\n",
      "a a a c b b b c c | c b c c c c c c c b c c c a a b c c a c c a | a b b c b c c a a a b a a a a a c\n",
      "| c b c b c c c b c b c c c c b c c c c c c c c c c c c c b c c c c b c c c c c a c c c c b c c c c\n",
      "b a a a b b | b c c c c c b c a a a a a | b c a c a b a a a a b a c a | c b c c a a c b b a b c c b\n",
      "iter:300\tfull:0.54789\tllh:0.54719\treg:0.00070\n",
      "Correct sequences ratio: 0.33302\n",
      "C-s count mean abs error: 4.79412\n",
      "| b a a a a a a a a b b b c c c c | c | a b b b c b a | a a b b b b b c c c c c c c c c c | c c c c\n",
      "b b b b b c b c c c a a a a a a b b b c b c c c c c c c c c c | c c | b a b a a a b c b b b c c c a\n",
      "| a b a b b c c c b c c c c c c | a a a a a b b b b b b b c c c c c c c c c c c c c c c c | a | a b\n",
      "iter:400\tfull:0.48175\tllh:0.48101\treg:0.00074\n",
      "Correct sequences ratio: 0.55618\n",
      "C-s count mean abs error: 4.28229\n",
      "a | a a a a b c b b b b c c c c c c c c c c c c c c c c | a a a a a a b c b c b c c c c c c c c c c\n",
      "a a a a a b b b b b b c c c c c c | c | a a a a a a a a b b b b b c c c c c c c c c c | c c c | a a\n",
      "b a b b b c c c c c c c c | | a a a a b b | b c b c c c c c c c c c c c c c c | a a a a a a a a a b\n",
      "iter:500\tfull:0.44917\tllh:0.44840\treg:0.00077\n",
      "Correct sequences ratio: 0.65514\n",
      "C-s count mean abs error: 4.08038\n",
      "a a b b b c c c c c c c c c c c | a a a a a a a a a a b b b b c b c c c c c c c c c | a a a b b c b\n",
      "a a a b b b b b b b | b b c c c c c c c c c c c c | a a a a a a a a a a a b b c c c c c c b c c | a\n",
      "a a a a a b b b b b b b b c c c c c c c c c c c c c c c c c c c c c c c | a a a a a a a a b b b b b\n",
      "iter:600\tfull:0.43496\tllh:0.43417\treg:0.00079\n",
      "Correct sequences ratio: 0.66650\n",
      "C-s count mean abs error: 3.66464\n",
      "a | a a a b b b b b b b b b b b b c b b c c c c c c c c c c c c | a a a a b b b c c c c c c c c | a\n",
      "a a a b b a b b b b | b a b b b c c c c c c c c c c | a a a a a a b b c c c c c c c c c c c c a | a\n",
      "a a a b b b b c c c c c c | a a a a b b b b b c c c c c c c b | a a a a a a b b b b c c c c c c | a\n",
      "iter:700\tfull:0.39693\tllh:0.39612\treg:0.00081\n",
      "Correct sequences ratio: 0.72061\n",
      "C-s count mean abs error: 2.98658\n",
      "c c b c c c | b b b b b b c c c | | a a a a a a a b b b c c c c c c c c c c | a a a a b b c b b b c\n",
      "b b b b c c c c c c c | a a a a a a a b b b b b b b c c c c c c c c b | a a a a b b b b c c c c c c\n",
      "a a b b b b b b b b b b c c c c c | b b b c c c c c c c c c c c c c c | a | a a a b b b b b b b b b\n",
      "iter:800\tfull:0.39877\tllh:0.39794\treg:0.00083\n",
      "Correct sequences ratio: 0.72367\n",
      "C-s count mean abs error: 2.71279\n",
      "b b b | b b b b b c c c c c | | a a a a a a a b b b b b c c c c c c c c c c c c c | a a a b b b b b\n",
      "a a a a a b b b b b b b b b b b b c c c c c c c c c c c | a a a a a a a b b c c c c c c c c c | a a\n",
      "a a a a a a b b b c b c c c c c c c c c c c c c | | | a a a b b c c c c c | | a a a a a a a a b b b\n",
      "iter:900\tfull:0.39796\tllh:0.39712\treg:0.00084\n",
      "Correct sequences ratio: 0.74539\n",
      "C-s count mean abs error: 2.49430\n",
      "a a a a a a a a a a a b b b b b b c c c c c c c c c c c c | a a a a a b b b b c c c c c c c c c c c\n",
      "a a a a a a b b b b b b c c c c c c c c c c c c | a a a b b c c c c c | a a a a a b b b b b b b b b\n",
      "a a | b b b b b b b c c c c c c c c c a a a b b b c c c c c c c c c | | a a a a a a b b b b b b b b\n",
      "iter:1000\tfull:0.38341\tllh:0.38255\treg:0.00086\n",
      "Correct sequences ratio: 0.77317\n",
      "C-s count mean abs error: 2.39825\n",
      "c | b b b b b b c c c c | | | a a a a a a a a a a b b b b b b c c c c c c c c c c | | a a b b b b b\n",
      "a a a a a b b b b c c c c c c c c c c | a a a a a a a a b b b b c c c c c c | a a a a a b b b b c c\n",
      "a a a a b b b b b b b b b b b c c c c c c c a a a a a a a b a a b b b b b b b c c c c c c c c c c c\n",
      "iter:1100\tfull:0.37061\tllh:0.36974\treg:0.00087\n",
      "Correct sequences ratio: 0.78269\n",
      "C-s count mean abs error: 2.00932\n",
      "a b | a a a a b b b c c c c c c c | a a a a a a a b b b c c c c c c c c c | a a a a a a a a b b b b\n",
      "| a a b b b b c c c c c c c c c c | a a a a b b b c c c c c | a a a a a a a b b b b b c c c c c c c\n",
      "a a a a a a b b b c c c c c c c c | a a a a b b b b b b b b c c c c c c c c c c c | a a a a a b b b\n",
      "iter:1200\tfull:0.36352\tllh:0.36263\treg:0.00089\n",
      "Correct sequences ratio: 0.81516\n",
      "C-s count mean abs error: 1.82723\n",
      "a a a a a a a a a a b b b b b b b c c c c c c c c c c c c c c c c | | a a a a a a a b b c c c c c c\n",
      "a a a a a a b b c c c c c c c | a a a a b b b c c c c c c | | a a a a a b b b b b b b b b c c c c c\n",
      "a a a b b b b b b b b b b b b c c c c c c c c c c c c | a a a a a a a a a a b c b c c c c c c c c c\n",
      "iter:1300\tfull:0.35275\tllh:0.35184\treg:0.00091\n",
      "Correct sequences ratio: 0.80393\n",
      "C-s count mean abs error: 1.65565\n",
      "b b b b b b b b b b c c c c c c c c c | a a a a a b c c c c c c c c | a a a a a a a b b b b c c c c\n",
      "| | a b b b b b b c c c c c c c c c a a a a a a b b c c c c c c c c | | a a a a a a b c b c c c c c\n",
      "b | | a a a b b b b c c c c c c c c c | | a a a b b b c c c c c c | a a | b b b b c c c c c c c c c\n",
      "iter:1400\tfull:0.34016\tllh:0.33923\treg:0.00092\n",
      "Correct sequences ratio: 0.81692\n",
      "C-s count mean abs error: 1.47834\n",
      "a a a a a a a b b b b c c c c c c c c c c | a a a a a b b b c c c c c c c | a a a a a b b c c c c c\n",
      "a a b b b b c c c c c c c | a a a a a a b b c c c c c c c c c | a a a a a b b b c c c c c c c c c |\n",
      "| a a a a a b b c c c c c c c c | a a a a a a a a b b b c c c c c c c c c c c c c c c | a a a a a b\n",
      "iter:1500\tfull:0.34287\tllh:0.34193\treg:0.00094\n",
      "Correct sequences ratio: 0.84166\n",
      "C-s count mean abs error: 1.34125\n",
      "a a a b b b b b c c c c c c c c | a a a a a a a a b b b c c c c c c c c c c c c c | a a a a a a a a\n",
      "a a a a a b b c c c c c c c c | a a a a a a b b b b b b b b b b b b b b c c c c c c c c c c c c c c\n",
      "| a a a a a b b c c c c c c c | a a a a b b b b b b c c c c c c c | a a a a b b b b b b b c c c c c\n",
      "iter:1600\tfull:0.32654\tllh:0.32558\treg:0.00096\n",
      "Correct sequences ratio: 0.85410\n",
      "C-s count mean abs error: 1.11625\n",
      "a a a a a a a a a b b b b b b c c c c c c c c c c c c c c | a a a a a a a a b b c c c c c c c c c c\n",
      "a a a a a b b b b b c c c c c c c c c c c c | a a a a a a a b b b b c c c c c c c c c c c | a a a a\n",
      "c | | a a a a a b b b b b b b b b c c c c c c c c c c c c c c | | a a a a a b b c c c c c | a a a a\n",
      "iter:1700\tfull:0.32267\tllh:0.32169\treg:0.00098\n",
      "Correct sequences ratio: 0.87352\n",
      "C-s count mean abs error: 0.98463\n",
      "b b b b c c c c | a a a a b b b b b b c c c c c c c c c c c | a a a a a b b b c c c c c c c | a a a\n",
      "a a a a a b b b c c c c c c c c c c | a a a a b b c c c c c | a a a a a a a b b b b b b b b b c c c\n",
      "a a a a a a a b c c c c c c c c | a a a a a a a b b c c c c c c c c c c c | a a a a a a b b b b b b\n",
      "iter:1800\tfull:0.31795\tllh:0.31696\treg:0.00099\n",
      "Correct sequences ratio: 0.87437\n",
      "C-s count mean abs error: 0.87891\n",
      "a b b b b b b b b b b b b c c c c c c c c c c c c | a a a b b b b b b b b b b b b c c c c c c c c c\n",
      "a a b b b b c c c c c c | a a a a b b c c c c c c | a a a a a a a b b c b b c c c c c c c c c c c |\n",
      "a a a a a a a a b c c c c c c c c c c | a a a b b b b b b b b c c c c c c c c c c c c | a a a a b b\n",
      "iter:1900\tfull:0.31115\tllh:0.31014\treg:0.00101\n",
      "Correct sequences ratio: 0.88178\n",
      "C-s count mean abs error: 0.83343\n",
      "a a a b b b c c c c c c c | a a a a a a a b c c c c c c c c | a a a a a b b b b b b b b b c c c c c\n",
      "a a a a a b b b b b b c c c c c c c c c c c c | a a a b b b b b b b b b b c c c c c c c c c c c c |\n",
      "| a a a a a a a a b c c c c c c c c c c | a a a a a a a a b b b b c c c c c c c c c c c c c | a | a\n",
      "iter:2000\tfull:0.29399\tllh:0.29296\treg:0.00103\n",
      "Correct sequences ratio: 0.89144\n",
      "C-s count mean abs error: 0.66381\n",
      "| | a a a b b b b b b c c c c c c c c c | a a a a b b b b b b b c c c c c c c c c c c c | a a a a a\n",
      "a b b b b b b b b c c c c c c c c c | a a a a b b b b c c c c c c c c | a a a a b b b b b c c c c c\n",
      "a a a a a a b b b b b b b b b b c c c c c c c c c c c c c c | a a a a b b b b b b b c c c c c c c c\n",
      "iter:2100\tfull:0.29949\tllh:0.29844\treg:0.00105\n",
      "Correct sequences ratio: 0.90617\n",
      "C-s count mean abs error: 0.60833\n",
      "a a a a a b b b c c c c c c c c c | a a b b b b c c c c c c | a a a a a a b b b b c c c c c c c c c\n",
      "| a a a a a a a a a b b b b c c c c c c c c c c c c c c | a a a a a a b c c c c c c c c | a a a a a\n",
      "b b b b b b b b b b c c c c c c c c c c | a a a a a a a a a b b b b b c c c c c c c c c c c c c c |\n",
      "iter:2200\tfull:0.29127\tllh:0.29020\treg:0.00107\n",
      "Correct sequences ratio: 0.91910\n",
      "C-s count mean abs error: 0.53436\n",
      "| a a b b c c c c | a a a b b b b b b b b c c c c c c c c c c c | a a a b b b b b b b b c c c c c c\n",
      "a a a b b c c c c c | a a a a a a a a b b b b b b b b c c c c c c c c c c c c c c c c | a a a a a a\n",
      "a a a a a a b b c c c c c c c c | a a b b b b b b b b b b c c c c c c c c c c c c c | a a a a a a a\n",
      "iter:2300\tfull:0.29677\tllh:0.29568\treg:0.00109\n",
      "Correct sequences ratio: 0.92543\n",
      "C-s count mean abs error: 0.49338\n",
      "a a a a b b b c c c c c c c | a a a b b b b b b b c c c c c c c c c c | a a a a a a b b b b b b b b\n",
      "| a b b b b b b b c c c c c c c c c | a a b c c c | a a a a a a b b c c c c c c c | a a a a a a a b\n",
      "| | a a b b b b b b b c c c c c c c c c | | a a a a a b b b c c c c c c c c | a a a a a a a a b b b\n",
      "iter:2400\tfull:0.27703\tllh:0.27592\treg:0.00111\n",
      "Correct sequences ratio: 0.92107\n",
      "C-s count mean abs error: 0.43177\n",
      "a a a a a a b b b c c c c c c c c c c | a a a a a a b b b b b b b b b c c c c c c c c c c c c c c |\n",
      "a a a a a a a b b b b c c c c c c c c c c c c | a a a a a b b b b b b b c c c c c c c c c c c c | a\n",
      "a a a a b b b c c c c c c c c | a a a a a a a a a a b b b b b b b c c c c c c c c c c c c c c c c c\n",
      "iter:2500\tfull:0.27784\tllh:0.27672\treg:0.00112\n",
      "Correct sequences ratio: 0.94523\n",
      "C-s count mean abs error: 0.31291\n",
      "| a a a a a a b b b b b b c c c c c c c c c c c c | a a a a a a a a a b b b b b b b b c c c c c c c\n",
      "| a a b b b b b b b c c c c c c c c c | a a a a a a b b b b b b b b c c c c c c c c c c c c c | a a\n",
      "| a a a a a a a b b b b b b b c c c c c c c c c c c c c c | | a a a a a a b b b c c c c c c c c c |\n",
      "iter:2600\tfull:0.26569\tllh:0.26455\treg:0.00114\n",
      "Correct sequences ratio: 0.94533\n",
      "C-s count mean abs error: 0.31697\n",
      "| a b b b c c c c | a a a b c c c c | a a a a a a a a b b b b b c c c c c c c c c c c c c | a a a a\n",
      "| a a a a a a a b b b b c c c c c c c c c c c | a a b b b b b b b c c c c c c c c c | a a a a a a a\n",
      "| a a a a a a b b b b b c c c c c c c c c c c c | a a b b b b c c c c c c | a a a a a a a a b b b b\n",
      "iter:2700\tfull:0.26579\tllh:0.26463\treg:0.00116\n",
      "Correct sequences ratio: 0.95209\n",
      "C-s count mean abs error: 0.27436\n",
      "| a a a a b b b b b c c c c c c c c c | a a a a a a a a a b b b c c c c c c c c c c c c | a a a b b\n",
      "| a a a a a a a b b b b c c c c c c c c c c c c | | a a a a a b b b b b b b c c c c c c c c c c c c\n",
      "| | | a a a a a a a b b c c c c c c c c c | a a a a a b b b b b b b b c c c c c c c c c c c c c | a\n",
      "iter:2800\tfull:0.25982\tllh:0.25865\treg:0.00117\n",
      "Correct sequences ratio: 0.95069\n",
      "C-s count mean abs error: 0.24149\n",
      "a a b b b b c c c c c c | a b b b b c c c c c | a a b b b b c c c c c c | a a a a b b b b b c c c c\n",
      "a a a a a b b b c c c c c c c c | a a a a a b b b b c c c c c c c c c | a a a b b b b b c c c c c c\n",
      "| a a a b b b c c c c c | a a a a b b c c c c c c | a a a a b b b b b c c c c c c c c c | a b b b b\n",
      "iter:2900\tfull:0.26047\tllh:0.25928\treg:0.00119\n",
      "Correct sequences ratio: 0.95440\n",
      "C-s count mean abs error: 0.24973\n",
      "| a a a a a b c c c c c c | a a a a a a a b b b b b b b b c c c c c c c c c c c c c c c | a a a a b\n",
      "| a a b b b b c c c c c c | | a a a a b b b b b b c c c c c c c c c c | a a a a a a b b c c c c c c\n",
      "| a a a a b b b b c c c c c c c c | a a a a a a a b b b b b b b b b c c c c c c c c c c c c c c c c\n",
      "iter:3000\tfull:0.25480\tllh:0.25360\treg:0.00120\n",
      "Correct sequences ratio: 0.96507\n",
      "C-s count mean abs error: 0.17030\n",
      "| a | a a a b b b b b b b b b b c c c c c c c c c c c c c c | a a a a a a a a a b b b b c c c c c c\n",
      "| | a a a a a a a a b b c c c c c c c c c c | a a a a b b c c c c c c | a a a a a a a a b b b b b b\n",
      "| | a a a b c c c c | a a a a a a b c c c c c c c | a a a a b b b b b b c c c c c c c c c c | a a b\n",
      "iter:3100\tfull:0.25342\tllh:0.25220\treg:0.00122\n",
      "Correct sequences ratio: 0.96665\n",
      "C-s count mean abs error: 0.20270\n",
      "| a a a a a b c c c c c | a a a a a b c c c c c | a a a b b b b b b b c c c c c c c c c c | a a a b\n",
      "a a a b b b b b b c c c c c c c c c | a b b b b b c c c c c c | a a a a a a a a a a b b b c c c c c\n",
      "a a b b b b c c c c c c | a b b b b b b c c c c c c c | a a a a a a a a b b b c c c c c c c c c c |\n",
      "iter:3200\tfull:0.25559\tllh:0.25436\treg:0.00123\n",
      "Correct sequences ratio: 0.97178\n",
      "C-s count mean abs error: 0.13516\n",
      "| a a a a a a b b b b b b c c c c c c c c c c c c | a a b b b b b b b b b b c c c c c c c c c c c |\n",
      "| a a a a b b c c c c c c | a a a a a b b b b b b c c c c c c c c c c c | a a a a a b b b b b b b c\n",
      "| a a a a a b b c c c c c c c | a a b b b c c c c c | a a a a a a a b b c c c c c c c c c | a a a a\n",
      "iter:3300\tfull:0.25336\tllh:0.25212\treg:0.00125\n",
      "Correct sequences ratio: 0.97497\n",
      "C-s count mean abs error: 0.12727\n",
      "a a a a b b b b b b b c c c c c c c c c c c | a a a a a b b b b b b c c c c c c c c c c c | a a a a\n",
      "| a a a a b b b b b b c c c c c c c c c c | a a a a a b c c c c c | a a a a a a b b b b b b c c c c\n",
      "| a a a a a a b b b b b b b c c c c c c c c c c c c c | a a a a a a a b b b c c c c c c c c c c | a\n",
      "iter:3400\tfull:0.25037\tllh:0.24911\treg:0.00126\n",
      "Correct sequences ratio: 0.97529\n",
      "C-s count mean abs error: 0.11536\n",
      "| a a a b b b b b b b c c c c c c c c c c | a a a a a a a a a b b c c c c c c c c c c c | a a a a a\n",
      "a a b b b b b b c c c c c c c c | a a a a b b b b b b b b c c c c c c c c c c c c | a a a a a a a a\n",
      "| a a a a a b b b b b b b b c c c c c c c c c c c c c | a a a b b b b b b b c c c c c c c c c c | a\n",
      "iter:3500\tfull:0.24295\tllh:0.24168\treg:0.00127\n",
      "Correct sequences ratio: 0.97311\n",
      "C-s count mean abs error: 0.10946\n",
      "a a a a a a a a b b b b b c c c c c c c c c c c c | a a a a a b b b c c c c c c c c c | a a a a b b\n",
      "| a a a a a a b b b b b b b c c c c c c c c c c c c c | a a a a a a b b b b b b b c c c c c c c c c\n",
      "| a a a a a a a a b b b b b b c c c c c c c c c c c c c c | a a a b c c c c c | a b b b b b c c c c\n",
      "iter:3600\tfull:0.24217\tllh:0.24088\treg:0.00128\n",
      "Correct sequences ratio: 0.98020\n",
      "C-s count mean abs error: 0.11802\n",
      "| a a b c c c | a a a a a a a b b b b b b c c c c c c c c c c c c c | a a a a a a a a b b b b b b b\n",
      "| | a a a a a a a a b b b b b b b c c c c c c c c c c c c c c c | a a a a a a a a a b b b b c c c c\n",
      "| a a a a a b b b b b b c c c c c c c c c c c | a a a a a a a a a b b b b c c c c c c c c c c c c c\n",
      "iter:3700\tfull:0.24737\tllh:0.24607\treg:0.00129\n",
      "Correct sequences ratio: 0.97524\n",
      "C-s count mean abs error: 0.07668\n",
      "| a a a a a a a b b b b b c c c c c c c c c c c c | a a a a a a a a b b b b b b c c c c c c c c c c\n",
      "a b b b b b b b b c c c c c c c c c | a a a a a a a a b b b b b c c c c c c c c c c c c c | a a a a\n",
      "a a a a a a a a b b b b c c c c c c c c c c c c | a a b b b b b b c c c c c c c c | a a a a a a a b\n",
      "iter:3800\tfull:0.24778\tllh:0.24647\treg:0.00131\n",
      "Correct sequences ratio: 0.98467\n",
      "C-s count mean abs error: 0.10628\n",
      "| a a a a a a a b b b b b b b c c c c c c c c c c c c c c | a a a a a a a b b b c c c c c c c c c c\n",
      "| a a a a a a a a b b b b b b b c c c c c c c c c c c c c c c | a a a b b b b c c c c c c c | a a a\n",
      "| a a b b b b b b b b b b c c c c c c c c c c c c | a a a b b b b b b b b c c c c c c c c c c c | a\n",
      "iter:3900\tfull:0.23597\tllh:0.23465\treg:0.00132\n",
      "Correct sequences ratio: 0.98417\n",
      "C-s count mean abs error: 0.07721\n",
      "a | a a a a a a b b b b b b c c c c c c c c c c c c c | a a b b b b b b c c c c c c c c | a a a a a\n",
      "| a a a a b b b b b b c c c c c c c c c c | a a a a a a b b b c c c c c c c c c | a a a a b b b b b\n",
      "| a a b b b b b c c c c c c c | a a a a a a a a b b b b b c c c c c c c c c c c c c | a a a b b b b\n",
      "iter:4000\tfull:0.24809\tllh:0.24676\treg:0.00133\n",
      "Correct sequences ratio: 0.98178\n",
      "C-s count mean abs error: 0.06823\n",
      "a a a b b c c c c c | a a b c c c c | a a a a a a a b b b b b b b b b c c c c c c c c c c c c c c c\n",
      "| a a a b b b b b b c c c c c c c c c | a a a a a a a b b b b b b b b b c c c c c c c c c c c c c c\n",
      "| a a a a a a a b c c c c c c c c | a a a b b b b b b b c c c c c c c c c c | a a a a a b b b b c c\n",
      "iter:4100\tfull:0.24454\tllh:0.24321\treg:0.00134\n",
      "Correct sequences ratio: 0.98051\n",
      "C-s count mean abs error: 0.05588\n",
      "| a a b b b c c c c c | a a a a a a a a b b b b b c c c c c c c c c c c c c | a a a a a b b c c c c\n",
      "a a a a b b c c c c c c | a a a a a a a a b b b b b b b c c c c c c c c c c c c c c c | a a a a a a\n",
      "| a a a a a b b b b b c c c c c c c c c c | a a a a a a a b b b b b b c c c c c c c c c c c c c | a\n",
      "iter:4200\tfull:0.24278\tllh:0.24144\treg:0.00135\n",
      "Correct sequences ratio: 0.98438\n",
      "C-s count mean abs error: 0.05711\n",
      "| | a a a a a a b b b b b c c c c c c c c c c c | a a a a a a a b b b b c c c c c c c c c c c | a a\n",
      "a a a a a a a a b b b b b b c c c c c c c c c c c c c c | a a a a a b b b b b b b b b c c c c c c c\n",
      "| a b c c | | a a a a a a a b b b b b b c c c c c c c c c c c c c | a a b b b b b b b c c c c c c c\n",
      "iter:4300\tfull:0.23237\tllh:0.23102\treg:0.00136\n",
      "Correct sequences ratio: 0.98891\n",
      "C-s count mean abs error: 0.04701\n",
      "| a a a a a a b b b b b b c c c c c c c c c c c c | a b b b b b c c c c c c | a a a a a a a b b b b\n",
      "| a a a a a a a a a a b b b b b b b c c c c c c c c c c c c c c c c c | a a a a a a a a a b b c c c\n",
      "| a a a a a b b b b b b b b b c c c c c c c c c c c c c c | a b b b b b c c c c c c | a a a b b b b\n",
      "iter:4400\tfull:0.23676\tllh:0.23539\treg:0.00137\n",
      "Correct sequences ratio: 0.98571\n",
      "C-s count mean abs error: 0.05263\n",
      "a a a b b b b c c c c c c c | a b b b b b b c c c c c c c | a a a a a a b c c c c c c c | a a a a b\n",
      "| a a a a a a a b b c c c c c c c c c | a a b b b b b b c c c c c c c c | a a a a a b b b b b b b c\n",
      "| a a a b b b b b b b c c c c c c c c c c | a a a a a a a b b b b b c c c c c c c c c c c c | a a a\n",
      "iter:4500\tfull:0.24196\tllh:0.24059\treg:0.00137\n",
      "Correct sequences ratio: 0.98756\n",
      "C-s count mean abs error: 0.04407\n",
      "| a a a a a a a b b b b b c c c c c c c c c c c | a a b b c c c | a b b b b b b b c c c c c c c c c\n",
      "| a b b b b c c c c c | a a a a a a a b b c c c c c c c c c | a a a a a b c c c c c c | a a a b b b\n",
      "a a a a a b b b b b b b c c c c c c c c c c c c | a a b c c c | a a a a b c c c c c | a a a a a a a\n",
      "iter:4600\tfull:0.24009\tllh:0.23871\treg:0.00138\n",
      "Correct sequences ratio: 0.98817\n",
      "C-s count mean abs error: 0.05102\n",
      "| a b b b c c c c | a a a a b c c c c | a a b b b b b b b c c c c c c c c c | a a a a a a a a a b b\n",
      "| a a a a a a b c c c c c c c | a a a a a a a a b b b b b b c c c c c c c c c c c c c c | a a a a a\n",
      "| a a a a a b b b b b b c c c c c c c c c c c | a b b b b b b b c c c c c c c c | a a a a a a a b c\n",
      "iter:4700\tfull:0.24346\tllh:0.24207\treg:0.00139\n",
      "Correct sequences ratio: 0.99055\n",
      "C-s count mean abs error: 0.03657\n",
      "| a b b b b b b c c c c c c c | a a a a a a a b b b b c c c c c c c c c c c | a a a a a b b b b b b\n",
      "| a a a a a a a a b b b b b c c c c c c c c c c c c c | a a a a a a a a a b b b b b b c c c c c c c\n",
      "| a a a b b b b b b b c c c c c c c c c c | a a a a b b b b b b c c c c c c c c c c | a a a a b b b\n",
      "iter:4800\tfull:0.22904\tllh:0.22764\treg:0.00140\n",
      "Correct sequences ratio: 0.98674\n",
      "C-s count mean abs error: 0.04355\n",
      "| a a a b b b b b b b b c c c c c c c c c c c | a a a a a a b b b b b b b b b c c c c c c c c c c c\n",
      "| a a a a b b b b b b b b b c c c c c c c c c c c c c | a a a a b b b b b b b b c c c c c c c c c c\n",
      "| a a a a b c b c c c c c | a a b b b b c c c c c c | a a a a a b b c c c c c c c | a a a a b b b b\n",
      "iter:4900\tfull:0.24016\tllh:0.23876\treg:0.00141\n",
      "Correct sequences ratio: 0.99420\n",
      "C-s count mean abs error: 0.04087\n",
      "| a a a b b b c c c c c c | a a b b b b b b b b b c c c c c c c c c c c | a a a b b c c c c c | a a\n",
      "| a b b b b b b c c c c c c c | a a a a a a a a a b b b b c c c c c c c c c c c c c | a a a a a a b\n",
      "| a a a a a b b b b b c c c c c c c c c c | | a a a a a a a b b c c c c c c c c c | a a b b b b b b\n"
     ]
    }
   ],
   "source": [
    "\n",
    "for i in range(N_EPOCHS):\n",
    "    \n",
    "    #generate reference\n",
    "    new_batch = generate_sequence(BATCH_SIZE,SEQ_LENGTH)\n",
    "    #feed the monster\n",
    "    train_fun(new_batch)\n",
    "    \n",
    "    #Display metrics once in a while\n",
    "    if i % REPORT_RATE==0:\n",
    "        \n",
    "        loss_components = evaluation_fun(new_batch)\n",
    "        print \"iter:%i\\tfull:%.5f\\tllh:%.5f\\treg:%.5f\"%tuple([i]+map(float,loss_components))        \n",
    "        \n",
    "        metrics['crossentropy'][i]=float(loss_components[1])\n",
    "        \n",
    "\n",
    "        examples = get_sequences(1000)\n",
    "        \n",
    "        correctness_ratio,c_count_mae = get_metrics(examples,alphabet)\n",
    "        \n",
    "\n",
    "        metrics[\"correctness_rates\"][i] = correctness_ratio\n",
    "        metrics[\"c_count_errors\"][i]=c_count_mae\n",
    "        \n",
    "        print \"Correct sequences ratio: %.5f\"%(correctness_ratio)\n",
    "        print \"C-s count mean abs error: %.5f\"%(c_count_mae)\n",
    "        \n",
    "        for tid_line in examples[:3]:\n",
    "            print ' '.join(map(alphabet.__getitem__,tid_line))\n",
    "\n",
    "    "
   ]
  },
  {
   "cell_type": "code",
   "execution_count": 25,
   "metadata": {
    "collapsed": false,
    "scrolled": true
   },
   "outputs": [
    {
     "data": {
      "image/png": "[encoded data removed]",
      "text/plain": [
       "<matplotlib.figure.Figure at 0x45063ed0>"
      ]
     },
     "metadata": {},
     "output_type": "display_data"
    },
    {
     "data": {
      "image/png": "[encoded data removed]",
      "text/plain": [
       "<matplotlib.figure.Figure at 0x46fbc610>"
      ]
     },
     "metadata": {},
     "output_type": "display_data"
    },
    {
     "data": {
      "image/png": "[encoded data removed]",
      "text/plain": [
       "<matplotlib.figure.Figure at 0x47056950>"
      ]
     },
     "metadata": {},
     "output_type": "display_data"
    }
   ],
   "source": [
    "for metric in metrics:\n",
    "    plt.figure(figsize=[14,8])\n",
    "    plt.plot(*zip(*sorted(metrics[metric].items(),key=lambda (k,v):k)),label=metric)\n",
    "    plt.legend(loc='best')\n",
    "    plt.ylabel(\"popugai\")\n",
    "    plt.xlabel(\"epoch\")\n",
    "    plt.grid()"
   ]
  }
 ],
 "metadata": {
  "kernelspec": {
   "display_name": "Python 2",
   "language": "python",
   "name": "python2"
  },
  "language_info": {
   "codemirror_mode": {
    "name": "ipython",
    "version": 2
   },
   "file_extension": ".py",
   "mimetype": "text/x-python",
   "name": "python",
   "nbconvert_exporter": "python",
   "pygments_lexer": "ipython2",
   "version": "2.7.3"
  }
 },
 "nbformat": 4,
 "nbformat_minor": 0
}
