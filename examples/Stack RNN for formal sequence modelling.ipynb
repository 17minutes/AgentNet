{
 "cells": [
  {
   "cell_type": "code",
   "execution_count": 1,
   "metadata": {
    "collapsed": false
   },
   "outputs": [],
   "source": [
    "import numpy as np\n",
    "from matplotlib import pyplot as plt\n",
    "%matplotlib inline\n",
    "\n",
    "\n",
    "#theano imports\n",
    "import lasagne\n",
    "import theano\n",
    "import theano.tensor as T\n",
    "import sys\n",
    "sys.setrecursionlimit(100000)\n",
    "floatX = theano.config.floatX\n",
    "\n"
   ]
  },
  {
   "cell_type": "code",
   "execution_count": 2,
   "metadata": {
    "collapsed": false
   },
   "outputs": [],
   "source": [
    "%load_ext autoreload\n",
    "%autoreload 2"
   ]
  },
  {
   "cell_type": "markdown",
   "metadata": {},
   "source": [
    "# Stack-augmented RNN\n",
    "![caption](https://usercontent1.hubstatic.com/6172838_f260.jpg)\n",
    "\n"
   ]
  },
  {
   "cell_type": "markdown",
   "metadata": {},
   "source": [
    "This notebook reproduces experiment from article http://arxiv.org/abs/1503.01007"
   ]
  },
  {
   "cell_type": "markdown",
   "metadata": {},
   "source": [
    "## Task and architecture\n",
    "\n",
    "__The task__ is to train an RNN to generate sequences from expression `|`$ a^n b^m c^{n+m} $\n",
    " * n and m are integers\n",
    " * Performance metrics:\n",
    "  * Correct format - `|`, some a, some b, some c\n",
    "     * ||aaacbbcba would be an example of incorrect one\n",
    "  * Number of C letters to be as close to sum of A band B letters as possible\n",
    "     * Ideally, #c = #a + #b\n",
    "     \n",
    "\n",
    "Model we use:\n",
    " * Stack-augmented RNN\n",
    " \n",
    "Trained as a language model (predicting next symbols given preceding history)"
   ]
  },
  {
   "cell_type": "markdown",
   "metadata": {},
   "source": [
    "### Sequence generator"
   ]
  },
  {
   "cell_type": "code",
   "execution_count": 3,
   "metadata": {
    "collapsed": false
   },
   "outputs": [],
   "source": [
    "def generate_sequence(batch_size = 10,crop_length = 100 ):\n",
    "    \"\"\"\n",
    "    Generates sequence from pattern [0  1*n 2*m 3*(n+m)]\n",
    "    \"\"\"\n",
    "    sequences=[]\n",
    "    for i in range(batch_size):\n",
    "        seq = [0]\n",
    "        while len(seq) < crop_length:\n",
    "            n,m = np.random.randint(1,10,2)\n",
    "        \n",
    "            seq += [0]+ [1]*n+[2]*m+[3]*(n+m)\n",
    "        seq = seq[:crop_length]\n",
    "        sequences.append(seq)\n",
    "    return np.array(sequences,dtype='int32')\n",
    "\n",
    "alphabet = np.array(list('|abc'))"
   ]
  },
  {
   "cell_type": "code",
   "execution_count": 4,
   "metadata": {
    "collapsed": true
   },
   "outputs": [],
   "source": [
    "#quality evaluation\n",
    "from operator import add\n",
    "import re\n",
    "def get_metrics(gen_sequences,alphabet):    \n",
    "    strings = map(lambda v:reduce(add,v), map(alphabet.__getitem__,gen_sequences))\n",
    "    \n",
    "    #at least one complete string\n",
    "    strings = filter(lambda v: '|' in v,strings)\n",
    "    \n",
    "    #cut off last unfinished string, if any\n",
    "    \n",
    "    strings = map(lambda v: v[:-1-v[::-1].index('|')],strings)\n",
    "    \n",
    "    all_strings = '|'.join(strings)\n",
    "    \n",
    "    \n",
    "    \n",
    "    seqs = filter(len,all_strings.split('|'))\n",
    "    \n",
    "    matches = map(lambda seq:re.match(r\"^a+b+c+\",seq),seqs)\n",
    "    \n",
    "    is_correct = map( lambda seq,m: m is not None and m.pos==0 and m.endpos == len(seq), \n",
    "                        seqs, matches)\n",
    "    \n",
    "    \n",
    "    \n",
    "    \n",
    "    correct_seqs = np.array(seqs)[np.array(is_correct,dtype='bool')]\n",
    "    \n",
    "    seqs_error = map(lambda s: s.count('a')+ s.count('b') - s.count('c'),correct_seqs)\n",
    "    \n",
    "    return np.mean(is_correct), np.mean(np.abs(seqs_error))\n"
   ]
  },
  {
   "cell_type": "markdown",
   "metadata": {},
   "source": [
    "### samples"
   ]
  },
  {
   "cell_type": "code",
   "execution_count": 5,
   "metadata": {
    "collapsed": false
   },
   "outputs": [
    {
     "name": "stdout",
     "output_type": "stream",
     "text": [
      "CPU times: user 0 ns, sys: 0 ns, total: 0 ns\n",
      "Wall time: 519 µs\n"
     ]
    },
    {
     "data": {
      "text/plain": [
       "['||aaaaabbbbbbbbccccccccccccc|aabbbbbbbbbccccccccccc|abbbcccc|aaaaaabbbccccccccc|abbccc|abbbcccc|aaaa',\n",
       " '||aaaaaaaaabbbbccccccccccccc|abbbbbbccccccc|aaaaaaabbbbbbccccccccccccc|aaaaaabbbbbccccccccccc|aaaaaa',\n",
       " '||aaaaaaabbccccccccc|aaaabbbbcccccccc|aabbbccccc|aaaaaaaabccccccccc|aaabbbbbbbbbcccccccccccc|aaaaaaa',\n",
       " '||aabbbbcccccc|aaaaaaabbccccccccc|aaaaaaaaabbbbbbbbccccccccccccccccc|aaaaaaabbbbbbbbbccccccccccccccc',\n",
       " '||aaaaaaabbccccccccc|aaaaaaabbbbbbbcccccccccccccc|aaaaaaaabbcccccccccc|aaabbbbbbbbbcccccccccccc|aaab']"
      ]
     },
     "execution_count": 5,
     "metadata": {},
     "output_type": "execute_result"
    }
   ],
   "source": [
    "%%time\n",
    "map(''.join,map(alphabet.__getitem__,generate_sequence(5,100)))"
   ]
  },
  {
   "cell_type": "markdown",
   "metadata": {},
   "source": [
    "# Constants"
   ]
  },
  {
   "cell_type": "code",
   "execution_count": 6,
   "metadata": {
    "collapsed": true
   },
   "outputs": [],
   "source": [
    "# length of training/generation sequence\n",
    "SEQ_LENGTH = 50\n",
    "\n",
    "# Sequences in a minibatch\n",
    "BATCH_SIZE = 100\n",
    "\n",
    "# Total epochs\n",
    "N_EPOCHS = 5000\n",
    "\n",
    "#how often to print metrics\n",
    "REPORT_RATE = 100"
   ]
  },
  {
   "cell_type": "code",
   "execution_count": 7,
   "metadata": {
    "collapsed": true
   },
   "outputs": [],
   "source": [
    "#Reference sequences for training\n",
    "sequences_batch = T.matrix(dtype=\"int32\",name=\"reference_sequences\")\n",
    "\n",
    "#Batch size (theano expression)\n",
    "batch_size = sequences_batch.shape[0]\n"
   ]
  },
  {
   "cell_type": "markdown",
   "metadata": {},
   "source": [
    "# Define RNN\n",
    "\n",
    "A \"simple\" scheme of what was there in the paper, followed exactly by the code below\n",
    "\n",
    "* Time goes from left to right\n",
    "* Layers start at the bottom and go up\n",
    "* memory states are green, memory updates are purple\n",
    "* inputs and outputs are blue traingles\n",
    "* transformations are in pale yellow\n",
    "\n",
    "![canvas](http://s32.postimg.org/vefrk7vqt/stack_gru.png)"
   ]
  },
  {
   "cell_type": "code",
   "execution_count": 8,
   "metadata": {
    "collapsed": false
   },
   "outputs": [],
   "source": [
    "import lasagne\n",
    "from lasagne.layers import DenseLayer, ConcatLayer, InputLayer, EmbeddingLayer\n",
    "\n",
    "import agentnet\n",
    "from agentnet.resolver import ProbablisticResolver\n",
    "\n",
    "from agentnet.agent import Generator\n",
    "from agentnet.memory import GRUMemoryLayer, StackAugmentation\n"
   ]
  },
  {
   "cell_type": "code",
   "execution_count": 9,
   "metadata": {
    "collapsed": false
   },
   "outputs": [],
   "source": [
    "\n",
    "\n",
    "#input letter goes here\n",
    "output_shape = (None,)\n",
    "observation_layer = InputLayer(output_shape,name=\"obs_input\")\n",
    "\n",
    "\n",
    "# embedding the input layer\n",
    "n_tokens = len(alphabet)\n",
    "obs_embedding = EmbeddingLayer(observation_layer,\n",
    "                                              input_size=n_tokens,\n",
    "                                              output_size=n_tokens,\n",
    "                                              name = \"input_embedding\")\n",
    "\n",
    "\n",
    "\n",
    "\n",
    "#GRU n units\n",
    "n_hid_1 = 32\n",
    "\n",
    "#previous GRU state goes here\n",
    "prev_gru_layer = InputLayer((None,n_hid_1),name=\"prev_rnn_state\")\n",
    "\n",
    "\n",
    "# previous stack goes here\n",
    "stack_width = 3\n",
    "stack_depth = 50\n",
    "prev_stack_layer = InputLayer((None,stack_depth,stack_width))\n",
    "\n",
    "\n",
    "\n",
    "\n",
    "\n",
    "\n",
    "# Stack controls - push, pop and no-op\n",
    "stack_controls_layer = lasagne.layers.DenseLayer(prev_gru_layer,3,\n",
    "                                                nonlinearity= lasagne.nonlinearities.softmax,\n",
    "                                                name = \"stack controls\")\n",
    "\n",
    "# stack input\n",
    "stack_input_layer = lasagne.layers.DenseLayer(prev_gru_layer,stack_width,\n",
    "                                             nonlinearity = lasagne.nonlinearities.tanh,\n",
    "                                             name = \"stack input\")\n",
    "    \n",
    "    \n",
    "#new stack state  \n",
    "next_stack = StackAugmentation(stack_input_layer,\n",
    "                              prev_stack_layer,\n",
    "                              stack_controls_layer)\n",
    "\n",
    "\n",
    "#stack top (used for RNN)\n",
    "stack_top = lasagne.layers.SliceLayer(next_stack,0,1)\n",
    "\n",
    "\n",
    "\n",
    "#new GRU state\n",
    "gru = GRUMemoryLayer(n_hid_1,\n",
    "                     ConcatLayer([obs_embedding,stack_top]),\n",
    "                     prev_gru_layer)\n",
    "\n",
    "\n",
    "\n",
    "# Recurrent state dictionary: maps state outputs to prev_state inputs\n",
    "from collections import OrderedDict\n",
    "memory_dict = OrderedDict([\n",
    "            (gru,prev_gru_layer),\n",
    "            (next_stack, prev_stack_layer)\n",
    "    ])\n",
    "\n",
    "\n",
    "\n",
    "\n",
    "##Outputs\n",
    "\n",
    "# next letter probabilities\n",
    "\n",
    "probability_layer = lasagne.layers.DenseLayer(gru,\n",
    "                                         num_units = n_tokens,\n",
    "                                         nonlinearity=  lasagne.nonlinearities.softmax,\n",
    "                                         name=\"policy_original\")\n",
    "\n",
    "#resolver picks a particular letter in generation mode\n",
    "\n",
    "resolver = ProbablisticResolver(probability_layer,\n",
    "                                assume_normalized=True,\n",
    "                                name=\"resolver\")\n",
    "\n",
    "\n",
    "#verify that letter shape matches\n",
    "assert tuple(lasagne.layers.get_output_shape(resolver)) == tuple(output_shape)\n",
    "\n",
    "\n",
    "\n",
    "\n",
    "\n",
    "\n",
    "#Create a generator\n",
    "# - eats letters as observation, one at a time\n",
    "# - has a number of \"memory\" variables, defined by memory dict\n",
    "# - generates letters proportional to probability layer\n",
    "# - the final letter is decided at resolver layer\n",
    "\n",
    "agent = Generator(\n",
    "    observation_layer,\n",
    "    memory_dict,\n",
    "    probability_layer,\n",
    "    resolver\n",
    "    )\n"
   ]
  },
  {
   "cell_type": "markdown",
   "metadata": {},
   "source": [
    "# Unroll the recurrence\n",
    "\n",
    "* returns sessions of shape [batch_size, sequence_length, variable_size] for each variable"
   ]
  },
  {
   "cell_type": "code",
   "execution_count": 10,
   "metadata": {
    "collapsed": false
   },
   "outputs": [],
   "source": [
    "sessions = agent.get_sessions(session_length=SEQ_LENGTH,\n",
    "                             recorded_sequences=sequences_batch,\n",
    "                             batch_size=batch_size,)\n",
    "\n",
    "\n",
    "# rec states    -    generated letters  - predicted probabilities\n",
    "agent_states,          action_seq,           probas_seq       =  sessions\n",
    "\n",
    "\n",
    "# gru state sequence (can extract stack likewise)\n",
    "rnn_seq = agent_states[gru]\n",
    "\n",
    "\n",
    "# for this task we only need probabilities :)\n",
    "# probas_seq\n"
   ]
  },
  {
   "cell_type": "markdown",
   "metadata": {},
   "source": [
    "### The rest is a regular lasagne"
   ]
  },
  {
   "cell_type": "markdown",
   "metadata": {},
   "source": [
    "### Weights"
   ]
  },
  {
   "cell_type": "code",
   "execution_count": 11,
   "metadata": {
    "collapsed": false
   },
   "outputs": [
    {
     "data": {
      "text/plain": [
       "[input_embedding.W,\n",
       " stack input.W,\n",
       " stack input.b,\n",
       " stack controls.W,\n",
       " stack controls.b,\n",
       " YetAnotherGRUMemoryLayer.W_in_to_updategate,\n",
       " YetAnotherGRUMemoryLayer.W_hid_to_updategate,\n",
       " YetAnotherGRUMemoryLayer.b_updategate,\n",
       " YetAnotherGRUMemoryLayer.W_in_to_resetgate,\n",
       " YetAnotherGRUMemoryLayer.W_hid_to_resetgate,\n",
       " YetAnotherGRUMemoryLayer.b_resetgate,\n",
       " YetAnotherGRUMemoryLayer.W_in_to_hidden_update,\n",
       " YetAnotherGRUMemoryLayer.W_hid_to_hidden_update,\n",
       " YetAnotherGRUMemoryLayer.b_hidden_update,\n",
       " policy_original.W,\n",
       " policy_original.b]"
      ]
     },
     "execution_count": 11,
     "metadata": {},
     "output_type": "execute_result"
    }
   ],
   "source": [
    "#Obtain them\n",
    "weights = lasagne.layers.get_all_params(resolver,trainable=True)\n",
    "weights"
   ]
  },
  {
   "cell_type": "code",
   "execution_count": 12,
   "metadata": {
    "collapsed": false
   },
   "outputs": [
    {
     "name": "stdout",
     "output_type": "stream",
     "text": [
      "Total weights: 4186\n"
     ]
    }
   ],
   "source": [
    "total_weights = int(T.sum([T.prod(w.shape) for w in weights]).eval())\n",
    "print \"Total weights:\", total_weights\n"
   ]
  },
  {
   "cell_type": "markdown",
   "metadata": {},
   "source": [
    "# Loss function\n",
    "\n",
    "simple crossentropy"
   ]
  },
  {
   "cell_type": "code",
   "execution_count": 13,
   "metadata": {
    "collapsed": false
   },
   "outputs": [],
   "source": [
    "\n",
    "# take all predicitons but for last one (we don't have it's 'next')\n",
    "predicted_probas = probas_seq[:,:-1]\n",
    "\n",
    "# crop probabilities to avoid -Inf logarithms\n",
    "predicted_probas = T.maximum(predicted_probas,1e-10)\n",
    "\n",
    "# correct answers\n",
    "references = sequences_batch[:,1:]\n",
    "\n",
    "\n",
    "\n",
    "# familiar lasagne crossentropy\n",
    "model_loss = lasagne.objectives.categorical_crossentropy(\n",
    "    predicted_probas.reshape([-1,n_tokens]),\n",
    "    references.ravel()\n",
    ").mean()\n",
    "\n",
    "\n",
    "\n"
   ]
  },
  {
   "cell_type": "code",
   "execution_count": 14,
   "metadata": {
    "collapsed": true
   },
   "outputs": [],
   "source": [
    "#Regularizer for kicks\n",
    "from lasagne.regularization import regularize_network_params, l2\n",
    "reg_l2 = regularize_network_params(resolver,l2)*10**-5\n",
    "loss = model_loss + reg_l2\n"
   ]
  },
  {
   "cell_type": "code",
   "execution_count": 15,
   "metadata": {
    "collapsed": false
   },
   "outputs": [],
   "source": [
    "updates = lasagne.updates.adadelta(loss,weights,learning_rate=0.1)"
   ]
  },
  {
   "cell_type": "markdown",
   "metadata": {},
   "source": [
    "# Compile the training and evaluation steps\n",
    "\n",
    "* Since we unroll scans, the first compile may take approx. 3.5 cups of tea\n",
    "* If you want it to just compile something, consider either of the two:\n",
    " * turning off optimizer\n",
    " * reducing sequence length to, say, 20"
   ]
  },
  {
   "cell_type": "code",
   "execution_count": 16,
   "metadata": {
    "collapsed": false
   },
   "outputs": [],
   "source": [
    "train_fun = theano.function([sequences_batch],[loss],updates=updates)\n",
    "evaluation_fun = theano.function([sequences_batch],[loss,model_loss,reg_l2])"
   ]
  },
  {
   "cell_type": "markdown",
   "metadata": {},
   "source": [
    "# Generating letters recurrently\n",
    "* In this mode, generator's i+1'st input is it's i-th output\n",
    "* the only difference in terms of code is that we do not provide reference sequence"
   ]
  },
  {
   "cell_type": "code",
   "execution_count": 17,
   "metadata": {
    "collapsed": false
   },
   "outputs": [],
   "source": [
    "# generation batch size\n",
    "gen_batch_size = T.scalar('generated batch size','int32')\n",
    "\n",
    "\n",
    "_,generated_action_seq,_ = agent.get_sessions(session_length=SEQ_LENGTH,\n",
    "                             batch_size=gen_batch_size,)\n"
   ]
  },
  {
   "cell_type": "code",
   "execution_count": 18,
   "metadata": {
    "collapsed": true
   },
   "outputs": [],
   "source": [
    "# ~0.5 tea cups\n",
    "get_sequences = theano.function([gen_batch_size],generated_action_seq)"
   ]
  },
  {
   "cell_type": "code",
   "execution_count": 19,
   "metadata": {
    "collapsed": false,
    "scrolled": true
   },
   "outputs": [
    {
     "data": {
      "text/plain": [
       "[array(['c', 'a', 'b', 'c', 'c', '|', 'b', 'a', 'c', 'a', '|', 'c', 'b',\n",
       "        'a', 'b', 'a', 'a', 'c', 'c', 'c', 'a', '|', 'c', 'a', 'a', 'b',\n",
       "        'b', 'b', '|', '|', '|', 'c', 'c', '|', 'c', 'c', 'a', '|', 'a',\n",
       "        'a', '|', 'b', 'c', '|', 'c', 'a', 'b', 'b', 'b', 'c'], \n",
       "       dtype='|S1'),\n",
       " array(['a', 'c', 'c', '|', '|', 'a', 'a', 'b', '|', 'a', 'a', '|', 'b',\n",
       "        'b', 'c', 'b', 'a', 'a', 'c', 'b', 'b', 'a', 'c', 'c', 'c', '|',\n",
       "        'b', '|', '|', 'a', '|', '|', 'a', 'c', 'b', 'b', 'b', '|', 'c',\n",
       "        'b', 'c', 'c', 'c', 'b', 'c', 'c', 'a', 'b', '|', '|'], \n",
       "       dtype='|S1'),\n",
       " array(['a', 'b', 'a', 'c', '|', '|', 'a', '|', 'b', '|', '|', '|', 'b',\n",
       "        'b', 'b', 'b', 'a', 'c', 'c', 'b', 'b', '|', 'b', '|', 'a', 'b',\n",
       "        'c', 'c', 'a', '|', 'c', 'c', 'b', '|', '|', '|', 'b', 'b', 'a',\n",
       "        '|', 'a', 'c', '|', 'a', 'a', 'b', 'a', 'b', '|', '|'], \n",
       "       dtype='|S1')]"
      ]
     },
     "execution_count": 19,
     "metadata": {},
     "output_type": "execute_result"
    }
   ],
   "source": [
    "#sample output\n",
    "map(alphabet.__getitem__,get_sequences(3))"
   ]
  },
  {
   "cell_type": "markdown",
   "metadata": {},
   "source": [
    "# Training loop:\n",
    "\n",
    "* Generating sequences\n",
    "* Training on them\n",
    "* Printing metrics every once in a while"
   ]
  },
  {
   "cell_type": "code",
   "execution_count": 20,
   "metadata": {
    "collapsed": true
   },
   "outputs": [],
   "source": [
    "from collections import defaultdict\n",
    "\n",
    "metrics = defaultdict(dict)"
   ]
  },
  {
   "cell_type": "code",
   "execution_count": 21,
   "metadata": {
    "collapsed": false,
    "scrolled": true
   },
   "outputs": [
    {
     "name": "stdout",
     "output_type": "stream",
     "text": [
      "iter:0\tfull:1.38536\tllh:1.38483\treg:0.00053\n",
      "Correct sequences ratio: 0.03639\n",
      "C-s count mean abs error: 2.49401\n",
      "a c | b | a b | b a | a c c | b a c c c b c c a | a b c b | a a a a | a c | | | c c a | b | | a a |\n",
      "a a | a b b b b b c a b c c b c c b | c | c | b | | a | | b a a | b | b b b a b | c c a c c | a | a\n",
      "c a c a b a b a a b b | c b | | | b | | | c | c b a a b c c a a a | a | | c a a c | a c a a | a | a\n",
      "iter:100\tfull:1.18011\tllh:1.17956\treg:0.00055\n",
      "Correct sequences ratio: 0.05154\n",
      "C-s count mean abs error: 2.88393\n",
      "a c c c a a c c | c a a c c c c c a b | | a c c b b c b a a | b a c a b a c b a b b b a b c a | c b\n",
      "c c b c b b | c b c c c c c a b a a | a c b c c c c c b a | b b b c c | c b c | a b b | b c c b b |\n",
      "c b b a b a | c | b c c b b c b c b a a c b a a c b b | c a c c c | c c b c c c c c c c a b a | c c\n",
      "iter:200\tfull:0.71452\tllh:0.71390\treg:0.00062\n",
      "Correct sequences ratio: 0.06956\n",
      "C-s count mean abs error: 4.24186\n",
      "a b b c c c c c c | c b b c b b c b b a c c c | a b b c a b c a | a b b b b b b a a b b b a b a a c\n",
      "| c c c c c c c | a | a a b b a c b b c c c c c c c c c c | a b b a a b b c c c a c c c c c c c c c\n",
      "b a a b b b | b b c c c c c c b a | b a a b b a b a b b b b b c b c a a c c c c b a c c c c c c c c\n",
      "iter:300\tfull:0.51784\tllh:0.51716\treg:0.00068\n",
      "Correct sequences ratio: 0.22696\n",
      "C-s count mean abs error: 3.09402\n",
      "| c a a a a a a a a b b b c c c c | c | a b a a b b a a a a b b b b b c c c c c c c c c c | c c c c\n",
      "b b b b b c b c c c b b c c c c c c c c a c a b a a a a b b c b c c c c c c c | a b c | a a a b a a\n",
      "| a b a b b c c c c c c c c c c | a a a a a b b b b b b b c c c c c c c c c c c c c | a a a a a a b\n",
      "iter:400\tfull:0.48380\tllh:0.48308\treg:0.00072\n",
      "Correct sequences ratio: 0.43611\n",
      "C-s count mean abs error: 3.09535\n",
      "a | a a a a b c b b b b c c c c c c c c c c c c c | a a a a a b b b b c c c c b c c c c c c c c c b\n",
      "a a a a a b b b b b b c c c c c c | c | a a b a a a a b b c c c c c c c c c c c c c a | b a a a a b\n",
      "b a b b a b b c c c c c c | | a a a a b b | b c b c c c c c c c c c c c c c c | a a a a a a a a a b\n",
      "iter:500\tfull:0.44154\tllh:0.44078\treg:0.00075\n",
      "Correct sequences ratio: 0.57423\n",
      "C-s count mean abs error: 2.61400\n",
      "a a b b b c c c c c c | a a a a a a a b b b b b b b b c c c c c c c c c c c c c c c | a a a b a b b\n",
      "a a a a a a a a a b a b b c c c c c c c c c c c c | a a a a a b a a b b b c c c c c c c c | a a a a\n",
      "a a a a a b b b b b b b b c c c c c c c c c c c c c c c c c c | a a a a a a a a b b b b b c c c c c\n",
      "iter:600\tfull:0.41129\tllh:0.41051\treg:0.00078\n",
      "Correct sequences ratio: 0.65013\n",
      "C-s count mean abs error: 2.28009\n",
      "a | a a a b b b b b b b b b b b b c b b c c c c c c c c c c c c | a a a a b b b c c c c c c c c | a\n",
      "a a a b b a b b b b a b b b b b c c c c c c c c c c | a a a a a a b b c c c c c c c c c c c c | | a\n",
      "a a a a a b b c c b c c c | a a a a b b b b b c c c c c c c c c c c c | a a a a a a b b b c c c c c\n",
      "iter:700\tfull:0.40280\tllh:0.40201\treg:0.00079\n",
      "Correct sequences ratio: 0.71576\n",
      "C-s count mean abs error: 2.10542\n",
      "c c | a a a a b b c c c c c | a a a a a a a a b b c c c c c c | | a a b b b a b c c c c c c c | | a\n",
      "b b b b c c c c c c c | a a a a a a a a b b b b b b c c c c c c c c | | a a a a b b b b c c c c c c\n",
      "a a b b b c c c | | a a b b b c c b c c c c c c | b a a a a a b b b b b c b b c c c c c c c c c c c\n",
      "iter:800\tfull:0.39472\tllh:0.39391\treg:0.00081\n",
      "Correct sequences ratio: 0.73025\n",
      "C-s count mean abs error: 1.93377\n",
      "b a a a a a a b b c c c c c c | a a a a a a a b b b b b c c c c c c c c c c c c c | a a a b b b b b\n",
      "a a a a a b b b b b b b b b b b b c c c c c c c c c c c c c c c c c | a b a b b c c c c c c c | a a\n",
      "a a a a a a b b b c b c c c c c c c c c c c c c | | | a a a b b c c c c c | a a a a a a a a a b b b\n",
      "iter:900\tfull:0.38972\tllh:0.38889\treg:0.00083\n",
      "Correct sequences ratio: 0.74604\n",
      "C-s count mean abs error: 1.88110\n",
      "a a a a a a a a a a a b b b b b b c c c c c c c c c c c c | a a a b b b b b b c c c c c c c c c c c\n",
      "a a a a a a b b b b b b c c c c c c c c c c c c | a a a b b c c c c c c c c | | a a a a a a a b b b\n",
      "a a | b b b b c c c c c c c c | a a a a a b c b b c c c c c c c c c | a a a a a a a b b b b b b b b\n",
      "iter:1000\tfull:0.36821\tllh:0.36737\treg:0.00084\n",
      "Correct sequences ratio: 0.75985\n",
      "C-s count mean abs error: 1.85511\n",
      "c | b a a a a a b b b b b b b b b c c c c c c c c c c c c c | a a a a a b c c c c | | b c c c c c c\n",
      "a a a a a b b b b c c c c c c c c c c | a a a a a a a a b b b b c c c c c c c c c c c c c c | a a a\n",
      "a a a a b b b b b b c c c c c c c c c c c c | a a a a a a b a a b b b b b b b c c c c c c c c c c c\n",
      "iter:1100\tfull:0.37441\tllh:0.37355\treg:0.00086\n",
      "Correct sequences ratio: 0.77878\n",
      "C-s count mean abs error: 1.68241\n",
      "a b a a a a a b b b c c c c c c c | a a a a a a a b b b c c c c c c c c c c c c c | a a a a a a a a\n",
      "| a a a a a a b b b c c c c c c c c c c | a a a a b b c c c c c c c c c | | a a a a a b b c c c c c\n",
      "a a a a a a b b b c c c c c c c c | a a a a b b b b b b b b c c c c c c c c c c c c c c c c | a a a\n",
      "iter:1200\tfull:0.36210\tllh:0.36122\treg:0.00088\n",
      "Correct sequences ratio: 0.79691\n",
      "C-s count mean abs error: 1.74792\n",
      "a a a a a a a a a a b b b b b b b c c c c c c c c c c c c c c c c c | a a a a a a a b b c c c c c c\n",
      "a a a a a a b b c c c c c c c c c | a a a a a b b b c c c c c c c c | a a a a a a a a a a b b b b c\n",
      "a a a b b b c c c c c c | | a a a a a a b b b b b b b b c c c c c c c c c c c c | a a a a a a b b b\n",
      "iter:1300\tfull:0.35427\tllh:0.35338\treg:0.00089\n",
      "Correct sequences ratio: 0.81372\n",
      "C-s count mean abs error: 1.43904\n",
      "c c | | a a a a a a b b b b b b b b b b c c c c c c c c c c c c c c | a a a a a a a b b b b c c c c\n",
      "| | a b b a b b b c c c c c c c c c | a a a a a b b c c c c c c c c | | a a a a a a b c b c c c c c\n",
      "b | | a a a b b b b c c c c c c c c | | | a a a b b c c c c c c c | a a | b b b b c c c c c c a a b\n",
      "iter:1400\tfull:0.34384\tllh:0.34293\treg:0.00091\n",
      "Correct sequences ratio: 0.82205\n",
      "C-s count mean abs error: 1.43356\n",
      "a a a a a a a b b b b c c c c c c c c c c | a a a a a b b b c c c c c c c | a a a a a b b c c c c c\n",
      "a a b b b b c c c c c c c | a a a a a a b b c c c c c c c c c | a a a a a b b b c c c c c c c c c |\n",
      "| a a a a a b b c c c c c c c c | a a a a a a a a b b b c c c c c c c c c c c c c c c | a a a a a b\n",
      "iter:1500\tfull:0.33702\tllh:0.33610\treg:0.00093\n",
      "Correct sequences ratio: 0.85490\n",
      "C-s count mean abs error: 1.28554\n",
      "a a a b b b b b c c c c c c c c | a a a a a a a a a a a b b b b c c c c c c c c c c c c c c c c | a\n",
      "a a a a a b b c c c c c c c c | a a a a a a b b b b b b b b b b b b b b c c c c c c c c c c c c c c\n",
      "| a a a a a b b c c c c c c c | a a b b b b b b b b c c c c c c c | a a a a b b b b b b b c c c c c\n",
      "iter:1600\tfull:0.32947\tllh:0.32852\treg:0.00094\n",
      "Correct sequences ratio: 0.86003\n",
      "C-s count mean abs error: 1.21338\n",
      "a a a a a a a a a b b b b b b c c c c c c c c c c c c c c | a a a a a b b b c c c c c c c c c | a a\n",
      "a a a a a b b b b b c c c c c c c c c c c c | a a a a a a a b b b b c c c c c c c c c c c | a a a a\n",
      "c | | a a a a a b b b b b b b b b c c c c c c c c c c c c c c | | a a a a a b b c c c c c | a a a a\n",
      "iter:1700\tfull:0.33133\tllh:0.33037\treg:0.00096\n",
      "Correct sequences ratio: 0.86875\n",
      "C-s count mean abs error: 1.18080\n",
      "b a a a b b b b b b b b c c c c c c c c c c c c c | a a a a a b b b b b c c c c c c c c c | a a b b\n",
      "a a a a a b b b c c c c c c c c c c | a a a a b b c c c c c c a a a a a a a b b b b b b b b b c c c\n",
      "a a a a a a a b c c c c c c c | a a a a a a a a b b c c c c c c c c c c c | a a a a a a b b b b b b\n",
      "iter:1800\tfull:0.32299\tllh:0.32202\treg:0.00097\n",
      "Correct sequences ratio: 0.87023\n",
      "C-s count mean abs error: 1.03187\n",
      "a a a a b b b b b b b b b c c c c c c c c c c c c | a a a b b b b b b b b b b b b c c c c c c c c c\n",
      "a a a a b b c c c c c c | a a a a b b c c c c c c | a a a a a a a b b b b b b c c c c c c c c c c c\n",
      "a a a a a a a a a b b b b c c c c c c c c c c c c | a a a a a b b b b c b c c c c c c c c c c | a a\n",
      "iter:1900\tfull:0.31437\tllh:0.31338\treg:0.00099\n",
      "Correct sequences ratio: 0.87651\n",
      "C-s count mean abs error: 1.03058\n",
      "a a a a a a b b b b b b c c c c c c c c c c c c c c c | | a a a a a b b c c c c c c | a a a a a a a\n",
      "a a a a a b b b b b b c c c c c c c c c c c c | a a a b b b b b b b b b b c c c c c c c c c c c c |\n",
      "| a a a a a a a a b c c c c c c c c c c | a a a a a a a a b b b b c c c c c c c c c c c c c | a | a\n",
      "iter:2000\tfull:0.32761\tllh:0.32661\treg:0.00100\n",
      "Correct sequences ratio: 0.90098\n",
      "C-s count mean abs error: 0.98159\n",
      "a a a a a b b b b b b c c c c c c c c c c c c | a a a a a a a a b b b b c c c c c c c c c c | a a a\n",
      "a b b b b b b b b c c c c c c c c c | a a a a b b b b c c c c c c c c c c | a a b b b b b c c c c c\n",
      "a a a a a a b b b b b b b b b b c c c c c c c c c c c c c c | a a a a b b b b b b b c c c c c c c c\n",
      "iter:2100\tfull:0.32900\tllh:0.32798\treg:0.00102\n",
      "Correct sequences ratio: 0.89866\n",
      "C-s count mean abs error: 0.96433\n",
      "a a a a a b b b c c c c c c c c c a b b b b b b c c c c c c c c | a a a a b b b b c c c c c c c c |\n",
      "a a a a a b b b b b b c c c c c c c c c c c c c | a a a a a a b b b b c c c c c c c c c c c | a a a\n",
      "b b b b b b b b b b c c c c c c c c c c | a a a a a a a a a b b b b b c c c c c c c c c c c c c c c\n",
      "iter:2200\tfull:0.29902\tllh:0.29798\treg:0.00103\n",
      "Correct sequences ratio: 0.92115\n",
      "C-s count mean abs error: 0.84864\n",
      "| a a b b c c c c | a a a b b b b b b b b c c c c c c c c c c c | a a a b b b b b b b b c c c c c c\n",
      "a a a b b c c c c | a a a a a a a a a b b b b b b b b c c c c c c c c c c c c c c c c c | a a a a a\n",
      "a a a a a a b b c c c c c c c c c c | a a a a a a a a a a b b c c c c c c c c c c c | a a a a a a a\n",
      "iter:2300\tfull:0.30594\tllh:0.30489\treg:0.00105\n",
      "Correct sequences ratio: 0.91987\n",
      "C-s count mean abs error: 0.83449\n",
      "a a a a b b b c c c c c c c | a a a b b b b b b b c c c c c c c c c c c a a a a a a b b b b b b b b\n",
      "a a b b b c c c c c | a a a a a a b b b b c c c c c c c c c c c a a b b b b b b c c c c c c c c | a\n",
      "| | a a b b b b b b b c c c c c c c c c | | a a a a a b b b c c c c c c c c c | a a a a a a a a b b\n",
      "iter:2400\tfull:0.30472\tllh:0.30365\treg:0.00107\n",
      "Correct sequences ratio: 0.91592\n",
      "C-s count mean abs error: 0.74928\n",
      "a a a a a a b b b c c c c c c c c c c | b a a a a a b b b b b b b b b c c c c c c c c c c c c c c |\n",
      "a a a a a a a b b b b c c c c c c c c c c c c c | a a a a b b b b b b b c c c c c c c c c c c c | a\n",
      "a a a a b b b c c c c c c c c | a a a a a a a a a a b b b b b b b c c c c c c c c c c c c c c c c c\n",
      "iter:2500\tfull:0.29944\tllh:0.29836\treg:0.00108\n",
      "Correct sequences ratio: 0.92481\n",
      "C-s count mean abs error: 0.70441\n",
      "| b b b b b b c c c c c | a a a b b b b b b b b c c c c c c c c c c c c | a a a a a a b b c c c c c\n",
      "a a a b b b b b b b c c c c c c c c c c c | a a a a b b b b b b b b c c c c c c c c c c c c | a a a\n",
      "| a a a a a a a b b b b b b b c c c c c c c c c c c c c c | a a a a a a a b b b c c c c c c c c c c\n",
      "iter:2600\tfull:0.28704\tllh:0.28594\treg:0.00110\n",
      "Correct sequences ratio: 0.93493\n",
      "C-s count mean abs error: 0.68511\n",
      "| a b b b c c c c | a a a b c c c c | a a a a a a a a b b b b b c c c c c c c c c c c c c | a a a a\n",
      "| | | a a a a a b b b b c c c c c c c c c | a a a a b b b b b b b c c c c c c c c c c c c | a a a a\n",
      "a a a a a a b b b b b b c c c c c c c c c c c c c | a a a a a b b c c c c c c c | a a a a a a a b b\n",
      "iter:2700\tfull:0.28363\tllh:0.28252\treg:0.00111\n",
      "Correct sequences ratio: 0.93652\n",
      "C-s count mean abs error: 0.57722\n",
      "| a a a a b b b b b c c c c c c c c c c c | | a a a a a a b b b c c c c c c c c | a a a a a b b c c\n",
      "| a a a a a a a b b b b c c c c c c c c c c c c | a a a a a a b b b b b b b c c c c c c c c c c c c\n",
      "| | | a a a a a a a b b c c c c c c c c c c | a a a a b b b b b b b b c c c c c c c c c c c c c | a\n",
      "iter:2800\tfull:0.28711\tllh:0.28599\treg:0.00112\n",
      "Correct sequences ratio: 0.93431\n",
      "C-s count mean abs error: 0.50225\n",
      "a a b b b b c c c c c c | a b b b b c c c c c | a a b b b b c c c c c c | a a a a b b b b b c c c c\n",
      "a a a a a b b b c c c c c c c c | a a a a a b b b b c c c c c c c c c c | | a a a a a a b b b b b c\n",
      "| | a a a a a b b c c c c c c c | a a b b b b b c c c c c c c | a a a a a a a a a b c c c c c c c c\n",
      "iter:2900\tfull:0.28425\tllh:0.28311\treg:0.00114\n",
      "Correct sequences ratio: 0.94139\n",
      "C-s count mean abs error: 0.46943\n",
      "| a a a a a b c c c c c c | a a a a a a a b b b b b b b b c c c c c c c c c c c c c c c | a a a a b\n",
      "| a a b b b b c c c c c c | | b a a a b b b b b b c c c c c c c c c c c | a a a a a b b c c c c c c\n",
      "| a a a a b b b b c c c c c c c c | a a a a a a a b b b b b b b b b c c c c c c c c c c c c c c c c\n",
      "iter:3000\tfull:0.27895\tllh:0.27779\treg:0.00115\n",
      "Correct sequences ratio: 0.95295\n",
      "C-s count mean abs error: 0.41360\n",
      "| a | a b b c c c c | a a a a a b b b b b b c c c c c c c c c c c c | a a a a a a a a a b b b b b c\n",
      "| | a a a a a a a a b b c c c c c c c c c c | a a a a b b c c c c c c | a a a a a a a a b b b b b b\n",
      "a a a a a b c c c c c c | a a a a b c c c c c c | a a a a a b b b b b b c c c c c c c c c c c | a a\n",
      "iter:3100\tfull:0.26259\tllh:0.26142\treg:0.00117\n",
      "Correct sequences ratio: 0.95505\n",
      "C-s count mean abs error: 0.42193\n",
      "| a a a a a b b b b c c c c c c c c c c | a a b a a b b c c c c c c c | b b b b b b b b b b c c c c\n",
      "a a a b b b b b b c c c c c c c c c | a b b b b b c c c c c c | a a a a a a a a a a b b b c c c c c\n",
      "a a a a a b c c c c c c c | a a a a a a b b b b b b b b b c c c c c c c c c c c c c c c | a a a a a\n",
      "iter:3200\tfull:0.26620\tllh:0.26502\treg:0.00118\n",
      "Correct sequences ratio: 0.95887\n",
      "C-s count mean abs error: 0.31475\n",
      "| a a a a a a b b b b b b c c c c c c c c c c c c | a a a a a a a a a b b b c c c c c c c c c c c |\n",
      "| a a a a b b c c c c c c | a a a a a b b b b b b c c c c c c c c c c | a a a a a a b b b b b b b c\n",
      "| a a a a a b b c c c c c c | a b b c c c c | | a a a a a a a a a a b b c c c c c c c c c c c | a a\n",
      "iter:3300\tfull:0.26583\tllh:0.26464\treg:0.00120\n",
      "Correct sequences ratio: 0.95706\n",
      "C-s count mean abs error: 0.25481\n",
      "a a a a b b b b b b b c c c c c c c c c c c | a a a a a b b b b b b c c c c c c c c c c c | a a a a\n",
      "a b b b b c c c c c | a a a a a a b b b b b b b c c c c c c c c c c c c c | a a b b b b b b c c c c\n",
      "| a a a a a a b b b b b b b b c c c c c c c c c c c c c c | a a a a a a a a b b b b c c c c c c c c\n",
      "iter:3400\tfull:0.25885\tllh:0.25764\treg:0.00121\n",
      "Correct sequences ratio: 0.96057\n",
      "C-s count mean abs error: 0.20142\n",
      "| a a a b b b b b b b c c c c c c c c c c | a a a a a a a a a b b c c c c c c c c c c c | a a a a a\n",
      "a a b b b b b b c c c c c c c c | a a a a b b b b b b b b c c c c c c c c c c c | a a a a a a a a a\n",
      "| a a a a a b b b b b b b b c c c c c c c c c c c c c | a a a b b b b b b b c c c c c c c c c c | a\n",
      "iter:3500\tfull:0.26708\tllh:0.26586\treg:0.00122\n",
      "Correct sequences ratio: 0.95686\n",
      "C-s count mean abs error: 0.21727\n",
      "a a a a a a a a b b b b b c c c c c c c c c c c c | a a a a a b b b c c c c c c c c c | a a a a b b\n",
      "| | a a a a a b b b b b b b c c c c c c c c c c c c | a a b b b b b c c c c c c c c | a a a a a b b\n",
      "a a a a a a a a a b b b b b b c c c c c c c c c c c c c c c | a a b b b b c c c c c c | a a b b b b\n",
      "iter:3600\tfull:0.26135\tllh:0.26011\treg:0.00123\n",
      "Correct sequences ratio: 0.96093\n",
      "C-s count mean abs error: 0.16265\n",
      "| a a a b b b b b c c c c c c c c | | a a a a a a a a b c c c c c c c c c | a a a a a b b b b b b b\n",
      "| | a a a a a a a a b b b b b b b c c c c c c c c c c c c c c c | a a a a a a a a a b b b b c c c c\n",
      "| a a a a a b b b b b b c c c c c c c c c c c | a a a a a a a a a b b b b c c c c c c c c c c c c c\n",
      "iter:3700\tfull:0.27259\tllh:0.27135\treg:0.00125\n",
      "Correct sequences ratio: 0.96513\n",
      "C-s count mean abs error: 0.33822\n",
      "| a a a a a a a b b b c c c c c c c c c | a b b b b b b b b b b c c c c c c c c c c | a a a b b b b\n",
      "a b b b b c c c c c | a a a a a a a a b b b b b b b b c c c c c c c c c c c c c c c | a a a a a a b\n",
      "a a a a a a a a b b b b c c c c c c c c c c c | a a a b b b b b b c c c c c c c c c | a a a a a a b\n",
      "iter:3800\tfull:0.24962\tllh:0.24836\treg:0.00126\n",
      "Correct sequences ratio: 0.96867\n",
      "C-s count mean abs error: 0.14364\n",
      "a a a a a a a a b b b b b b b c c c c c c c c c c c c c c c | a a a a a a b b b c c c c c c c c c c\n",
      "a b b b b b b b b c c c c c c c c | a a a a a a a b b b b b b b b c c c c c c c c c c c c c c c | a\n",
      "| | a b b b b b b b b b b c c c c c c c c c c c | a a a a b b b b b b b b c c c c c c c c c c c c |\n",
      "iter:3900\tfull:0.25083\tllh:0.24956\treg:0.00127\n",
      "Correct sequences ratio: 0.97513\n",
      "C-s count mean abs error: 0.14107\n",
      "a | a a a b b b b b b c c c c c c c c c c c | a a a a a a a b b b b b b c c c c c c c c c c c c c |\n",
      "| a a a a b b b b b b c c c c c c c c c c | a a a a a a b b b c c c c c c c c c | a a a a b b b b b\n",
      "a b b c c c | a a a b b c c c c c | a a a a a a b b b b b c c c c c c c c c c c | a a a a a b b b b\n",
      "iter:4000\tfull:0.25766\tllh:0.25638\treg:0.00128\n",
      "Correct sequences ratio: 0.96929\n",
      "C-s count mean abs error: 0.12943\n",
      "a a a b b c c c c c | a a a b b b c c c c c c | a a b b b b b b b b b c c c c c c c c c c c | a a a\n",
      "a a a a b b b b b b c c c c c c c c c c | a a a a a a a b b b b b b b b b b c c c c c c c c c c c c\n",
      "| a a a a a a a b c c c c c c c c | a a a b b b b b b b c c c c c c c c c c | a a a a a b b b b c c\n",
      "iter:4100\tfull:0.25165\tllh:0.25036\treg:0.00129\n",
      "Correct sequences ratio: 0.97319\n",
      "C-s count mean abs error: 0.11507\n",
      "a a a b c c c c | a a a a a a a b b b b c c c c c c c c c c c | a a a b b b b c c c c c c c c | a a\n",
      "a a a a b b c c c c c c | a a a a a a a a b b b b b b b c c c c c c c c c c c c c c c | a a a a a a\n",
      "| a a a a a b b b b b c c c c c c c c c c | a a a a a a a b b b b b b c c c c c c c c c c c c c | a\n",
      "iter:4200\tfull:0.24824\tllh:0.24694\treg:0.00130\n",
      "Correct sequences ratio: 0.97047\n",
      "C-s count mean abs error: 0.15590\n",
      "| | a a a a a a b b b b b c c c c c c c c c c c | a a a a a a a b b b b c c c c c c c c c c | a a a\n",
      "a a a a a a a a b b b b b b c c c c c c c c c c c c c c | a a a a a b b b b b b b b b c c c c c c c\n",
      "| a b c c | a a a a a a a a b b b b b b c c c c c c c c c c c c c c | a a a a a a b b b b b b c c c\n",
      "iter:4300\tfull:0.25092\tllh:0.24961\treg:0.00131\n",
      "Correct sequences ratio: 0.97448\n",
      "C-s count mean abs error: 0.10102\n",
      "| a a a a a a b b b b b b c c c c c c c c c c c c a a b b b b b c c c c c c c | a a a a a a b b b b\n",
      "| a a a a a a a a a a b b b b b b b c c c c c c c c c c c c c c c c c | a a a a a a a a b b b c c c\n",
      "| a a a a a b b b b b b b b b c c c c c c c c c c c c c c | a b b b b b c c c c c c | a a a b b b b\n",
      "iter:4400\tfull:0.24394\tllh:0.24262\treg:0.00132\n",
      "Correct sequences ratio: 0.97488\n",
      "C-s count mean abs error: 0.09232\n",
      "b b b c c | a b b c c c | a a a b b b b b b c c c c c c c c c | a a a a b b b b c c c c c c c c | a\n",
      "| a a a a a a a b b c c c c c c c c c | a a b b b b b b c c c c c c c c | a a a a a b b b b b b b c\n",
      "a a a a b b b b b b b c c c c c c c c c c c | a a a a a a b b b b b c c c c c c c c c c c | a a a a\n",
      "iter:4500\tfull:0.25241\tllh:0.25108\treg:0.00133\n",
      "Correct sequences ratio: 0.97589\n",
      "C-s count mean abs error: 0.08780\n",
      "| a a a a a a a b b b b b c c c c c c c c c c c | a a b b c c c | a b b b b b b b b c c c c c c c c\n",
      "| a b b b b c c c c c | a a a a a a a b b c c c c c c c c c | a a a a a b c c c c c c | a a a b b b\n",
      "a a a a a b b b b b b b c c c c c c c c c c c c | a a b c c c | a a a a b b b c c c c c c c | a a a\n",
      "iter:4600\tfull:0.24560\tllh:0.24426\treg:0.00134\n",
      "Correct sequences ratio: 0.97572\n",
      "C-s count mean abs error: 0.07888\n",
      "| a b b b c c c c | a a a a b c c c c | a a b b b b b c c c c c c c | a a a a a a a a a b b b b b b\n",
      "a a a a a a a b c c c c c c c c | a a a a a a a a b b b b b c c c c c c c c c c c c c | a a a a a a\n",
      "| a a a a a b b b b b b c c c c c c c c c c c | a b b b b b b b c c c c c c c c | a a a a a a a b c\n",
      "iter:4700\tfull:0.24307\tllh:0.24172\treg:0.00135\n",
      "Correct sequences ratio: 0.98224\n",
      "C-s count mean abs error: 0.06915\n",
      "| a b b b b b b c c c c c c c | a a a a a a a b b b b c c c c c c c c c c c | a a a a a b b b b b b\n",
      "| a a a a a a a a b b b b b c c c c c c c c c c c c c | a a a a a a a a a b b b b b b c c c c c c c\n",
      "| a a a a a a b b b b c c c c c c c c c c | a a a a b b b b b c c c c c c c c c | a b b b b b c c c\n",
      "iter:4800\tfull:0.23418\tllh:0.23282\treg:0.00136\n",
      "Correct sequences ratio: 0.97558\n",
      "C-s count mean abs error: 0.08843\n",
      "| a a a b b b b b b b b c c c c c c c c c c | a a a a a a a b b b b b b b b b c c c c c c c c c c c\n",
      "| a a a a b b b b b b b b b c c c c c c c c c c c c c | a a a a b b b b b b b b c c c c c c c c c c\n",
      "| a a a a b c b b b b c c c c c c c c | a a a a a a a a a b b b c c c c c c c c c c c c | a b b b b\n",
      "iter:4900\tfull:0.24184\tllh:0.24047\treg:0.00137\n",
      "Correct sequences ratio: 0.98789\n",
      "C-s count mean abs error: 0.07409\n",
      "| a a a a a a b c c c c c c c | a a a a a a a a a b b b c c c c c c c c c c c c | a b b b b b b b b\n",
      "| a b b b b b b c c c c c c c | a a a a a a a a a b b b b c c c c c c c c c c c c c | a a a a a a b\n",
      "| a a a a a b b b b b c c c c c c c c c c | | a a a a a a a b b c c c c c c c c c | a a b b b b b b\n"
     ]
    }
   ],
   "source": [
    "\n",
    "for i in range(N_EPOCHS):\n",
    "    \n",
    "    #generate reference\n",
    "    new_batch = generate_sequence(BATCH_SIZE,SEQ_LENGTH)\n",
    "    #feed the monster\n",
    "    train_fun(new_batch)\n",
    "    \n",
    "    #Display metrics once in a while\n",
    "    if i % REPORT_RATE==0:\n",
    "        \n",
    "        loss_components = evaluation_fun(new_batch)\n",
    "        print \"iter:%i\\tfull:%.5f\\tllh:%.5f\\treg:%.5f\"%tuple([i]+map(float,loss_components))        \n",
    "        \n",
    "        metrics['crossentropy'][i]=float(loss_components[1])\n",
    "        \n",
    "\n",
    "        examples = get_sequences(1000)\n",
    "        \n",
    "        correctness_ratio,c_count_mae = get_metrics(examples,alphabet)\n",
    "        \n",
    "\n",
    "        metrics[\"correctness_rates\"][i] = correctness_ratio\n",
    "        metrics[\"c_count_errors\"][i]=c_count_mae\n",
    "        \n",
    "        print \"Correct sequences ratio: %.5f\"%(correctness_ratio)\n",
    "        print \"C-s count mean abs error: %.5f\"%(c_count_mae)\n",
    "        \n",
    "        for tid_line in examples[:3]:\n",
    "            print ' '.join(map(alphabet.__getitem__,tid_line))\n",
    "\n",
    "    "
   ]
  },
  {
   "cell_type": "code",
   "execution_count": 22,
   "metadata": {
    "collapsed": false,
    "scrolled": true
   },
   "outputs": [
    {
     "data": {
      "image/png": "[encoded data removed]",
      "text/plain": [
       "<matplotlib.figure.Figure at 0x40de8290>"
      ]
     },
     "metadata": {},
     "output_type": "display_data"
    },
    {
     "data": {
      "image/png": "[encoded data removed]",
      "text/plain": [
       "<matplotlib.figure.Figure at 0x40c58750>"
      ]
     },
     "metadata": {},
     "output_type": "display_data"
    },
    {
     "data": {
      "image/png": "[encoded data removed]",
      "text/plain": [
       "<matplotlib.figure.Figure at 0x42aa8950>"
      ]
     },
     "metadata": {},
     "output_type": "display_data"
    }
   ],
   "source": [
    "for metric in metrics:\n",
    "    plt.figure(figsize=[14,8])\n",
    "    plt.plot(*zip(*sorted(metrics[metric].items(),key=lambda (k,v):k)),label=metric)\n",
    "    plt.legend(loc='best')\n",
    "    plt.ylabel(\"popugai\")\n",
    "    plt.xlabel(\"epoch\")\n",
    "    plt.grid()"
   ]
  }
 ],
 "metadata": {
  "kernelspec": {
   "display_name": "Python 2",
   "language": "python",
   "name": "python2"
  },
  "language_info": {
   "codemirror_mode": {
    "name": "ipython",
    "version": 2
   },
   "file_extension": ".py",
   "mimetype": "text/x-python",
   "name": "python",
   "nbconvert_exporter": "python",
   "pygments_lexer": "ipython2",
   "version": "2.7.3"
  }
 },
 "nbformat": 4,
 "nbformat_minor": 0
}
