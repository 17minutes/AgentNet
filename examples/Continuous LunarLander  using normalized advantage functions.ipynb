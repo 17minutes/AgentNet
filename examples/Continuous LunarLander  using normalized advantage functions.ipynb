{
 "cells": [
  {
   "cell_type": "markdown",
   "metadata": {},
   "source": [
    "##### [sample solution, trained for a few hours (not converged)]\n",
    "\n",
    "# This tutorial is will bring you through your first deep reinforcement learning model\n",
    "\n",
    "\n",
    "* Seaquest game as an example\n",
    "* Training a simple lasagne neural network for Q_learning objective\n",
    "\n",
    "\n",
    "## About OpenAI Gym\n",
    "\n",
    "* Its a recently published platform that basicly allows you to train agents in a wide variety of environments with near-identical interface.\n",
    "* This is twice as awesome since now we don't need to write a new wrapper for every game\n",
    "* Go check it out!\n",
    "  * Blog post - https://openai.com/blog/openai-gym-beta/\n",
    "  * Github - https://github.com/openai/gym\n",
    "\n",
    "\n",
    "## New to Lasagne and AgentNet?\n",
    "* We only require surface level knowledge of theano and lasagne, so you can just learn them as you go.\n",
    "* Alternatively, you can find Lasagne tutorials here:\n",
    " * Official mnist example: http://lasagne.readthedocs.io/en/latest/user/tutorial.html\n",
    " * From scratch: https://github.com/ddtm/dl-course/tree/master/Seminar4\n",
    " * From theano: https://github.com/craffel/Lasagne-tutorial/blob/master/examples/tutorial.ipynb\n",
    "* This is pretty much the basic tutorial for AgentNet, so it's okay not to know it.\n"
   ]
  },
  {
   "cell_type": "code",
   "execution_count": 1,
   "metadata": {
    "collapsed": false
   },
   "outputs": [],
   "source": [
    "%load_ext autoreload\n",
    "%autoreload 2"
   ]
  },
  {
   "cell_type": "markdown",
   "metadata": {},
   "source": [
    "# Experiment setup\n",
    "* Here we basically just load the game and check that it works"
   ]
  },
  {
   "cell_type": "code",
   "execution_count": 2,
   "metadata": {
    "collapsed": false
   },
   "outputs": [
    {
     "name": "stdout",
     "output_type": "stream",
     "text": [
      "env: THEANO_FLAGS=\"floatX=float32\"\n"
     ]
    }
   ],
   "source": [
    "from __future__ import print_function \n",
    "import matplotlib.pyplot as plt\n",
    "%matplotlib inline\n",
    "import numpy as np\n",
    "%env THEANO_FLAGS=\"floatX=float32\""
   ]
  },
  {
   "cell_type": "code",
   "execution_count": 4,
   "metadata": {
    "collapsed": true
   },
   "outputs": [],
   "source": [
    "#global params.\n",
    "GAME = \"LunarLanderContinuous-v2\"\n",
    "\n",
    "#number of parallel agents and batch sequence length (frames)\n",
    "N_AGENTS = 1\n",
    "SEQ_LENGTH = 10"
   ]
  },
  {
   "cell_type": "code",
   "execution_count": 5,
   "metadata": {
    "collapsed": false
   },
   "outputs": [
    {
     "name": "stderr",
     "output_type": "stream",
     "text": [
      "[2016-12-14 02:38:12,878] Making new env: LunarLanderContinuous-v2\n"
     ]
    },
    {
     "name": "stdout",
     "output_type": "stream",
     "text": [
      "(8,)\n"
     ]
    }
   ],
   "source": [
    "import numpy as np\n",
    "import matplotlib.pyplot as plt\n",
    "%matplotlib inline\n",
    "import gym\n",
    "env = gym.make(GAME)\n",
    "env.reset()\n",
    "obs = env.step(env.action_space.sample())[0]\n",
    "state_size = len(obs)\n",
    "print(obs.shape)"
   ]
  },
  {
   "cell_type": "code",
   "execution_count": 6,
   "metadata": {
    "collapsed": false
   },
   "outputs": [
    {
     "data": {
      "text/plain": [
       "(array([-1., -1.]), array([ 1.,  1.]))"
      ]
     },
     "execution_count": 6,
     "metadata": {},
     "output_type": "execute_result"
    }
   ],
   "source": [
    "env.action_space.low,env.action_space.high,"
   ]
  },
  {
   "cell_type": "markdown",
   "metadata": {},
   "source": [
    "# Basic agent setup\n",
    "Here we define a simple agent that maps game images into Qvalues using shallow neural network.\n"
   ]
  },
  {
   "cell_type": "code",
   "execution_count": 8,
   "metadata": {
    "collapsed": false
   },
   "outputs": [],
   "source": [
    "import lasagne\n",
    "from lasagne.layers import InputLayer,DenseLayer,batch_norm,dropout,NonlinearityLayer,GaussianNoiseLayer,ElemwiseSumLayer\n",
    "import theano.tensor as T\n",
    "#image observation at current tick goes here, shape = (sample_i,x,y,color)\n",
    "observation_layer = InputLayer((None,state_size))\n",
    "\n",
    "dense0 = DenseLayer(observation_layer,256,name='dense1')\n",
    "dense1 = DenseLayer(dense0,256,name='dense2',nonlinearity=T.tanh,)\n",
    "\n",
    "nn = dense1"
   ]
  },
  {
   "cell_type": "code",
   "execution_count": 9,
   "metadata": {
    "collapsed": false
   },
   "outputs": [],
   "source": [
    "#a layer that predicts Qvalues\n",
    "from agentnet.learning.qlearning_naf import LowerTriangularLayer,NAFLayer\n",
    "import theano\n",
    "epsilon = theano.shared(np.float32(0.0))\n",
    "n_actions = env.action_space.shape[0]\n",
    "low = env.action_space.low\n",
    "high = env.action_space.high\n",
    "\n",
    "class naf:\n",
    "    #predict mean\n",
    "    mean = DenseLayer(nn,n_actions,nonlinearity=None,name='mu')\n",
    "    \n",
    "    action = NonlinearityLayer(mean,lambda a: a.clip(low,high))\n",
    "    #add exploration (noize)\n",
    "    action = GaussianNoiseLayer(action,sigma=epsilon)\n",
    "    #clip back to action range\n",
    "    action = NonlinearityLayer(action,lambda a: a.clip(low,high))\n",
    "    \n",
    "    #state value (for optimal action)\n",
    "    V_layer = DenseLayer(nn,1,nonlinearity=None,name='V')\n",
    "    \n",
    "    #lower triangular matrix that describes \"variance\" term in NAF\n",
    "    L_layer = LowerTriangularLayer(nn,n_actions,name='L')\n",
    "    \n",
    "    #advantage term [negative]\n",
    "    A_layer = NAFLayer(action,mean,L_layer)\n",
    "    \n",
    "    #Q = V + A = optimal_value + negative_penalty_for_diverging_from_mean\n",
    "    qvalues_layer = ElemwiseSumLayer([V_layer,A_layer])\n",
    "    \n",
    "    "
   ]
  },
  {
   "cell_type": "markdown",
   "metadata": {},
   "source": [
    "##### Finally, agent\n",
    "We declare that this network is and MDP agent with such and such inputs, states and outputs"
   ]
  },
  {
   "cell_type": "code",
   "execution_count": 10,
   "metadata": {
    "collapsed": false
   },
   "outputs": [],
   "source": [
    "from agentnet.agent import Agent\n",
    "#all together\n",
    "agent = Agent(observation_layers=observation_layer,\n",
    "              policy_estimators=[naf.qvalues_layer,naf.V_layer,naf.L_layer,naf.mean],\n",
    "              action_layers=naf.action)\n"
   ]
  },
  {
   "cell_type": "code",
   "execution_count": 11,
   "metadata": {
    "collapsed": false
   },
   "outputs": [
    {
     "data": {
      "text/plain": [
       "[dense1.W,\n",
       " dense1.b,\n",
       " dense2.W,\n",
       " dense2.b,\n",
       " V.W,\n",
       " V.b,\n",
       " mu.W,\n",
       " mu.b,\n",
       " L.preprocess_input.W,\n",
       " L.preprocess_input.b]"
      ]
     },
     "execution_count": 11,
     "metadata": {},
     "output_type": "execute_result"
    }
   ],
   "source": [
    "#Since it's a single lasagne network, one can get it's weights, output, etc\n",
    "weights = lasagne.layers.get_all_params(naf.qvalues_layer,trainable=True)\n",
    "weights"
   ]
  },
  {
   "cell_type": "markdown",
   "metadata": {},
   "source": [
    "# Create and manage a pool of atari sessions to play with\n",
    "\n",
    "* To make training more stable, we shall have an entire batch of game sessions each happening independent of others\n",
    "* Why several parallel agents help training: http://arxiv.org/pdf/1602.01783v1.pdf\n",
    "* Alternative approach: store more sessions: https://www.cs.toronto.edu/~vmnih/docs/dqn.pdf"
   ]
  },
  {
   "cell_type": "code",
   "execution_count": 12,
   "metadata": {
    "collapsed": false
   },
   "outputs": [
    {
     "name": "stderr",
     "output_type": "stream",
     "text": [
      "[2016-12-14 02:38:37,524] Making new env: LunarLanderContinuous-v2\n"
     ]
    }
   ],
   "source": [
    "from agentnet.experiments.openai_gym.pool import EnvPool\n",
    "\n",
    "pool = EnvPool(agent,GAME, N_AGENTS,max_size=10000)\n"
   ]
  },
  {
   "cell_type": "code",
   "execution_count": 13,
   "metadata": {
    "collapsed": false
   },
   "outputs": [
    {
     "name": "stdout",
     "output_type": "stream",
     "text": [
      "[[[ 0.03422687  0.22225321]\n",
      "  [ 0.07668241 -0.00301102]\n",
      "  [-0.21279974 -0.10377608]\n",
      "  [-0.07751393 -0.107909  ]\n",
      "  [ 0.02133946 -0.03888784]\n",
      "  [ 0.11148803 -0.04626344]\n",
      "  [ 0.02013578 -0.07525788]\n",
      "  [-0.04302869 -0.02809524]\n",
      "  [-0.12381561 -0.02354189]\n",
      "  [ 0.20552675  0.08976637]]]\n",
      "[[-0.78526392 -1.85882304  0.62372596  0.56684725 -1.0229405  -0.78501682\n",
      "  -1.53121011  0.48440251  0.41025322  0.        ]]\n",
      "CPU times: user 628 ms, sys: 20 ms, total: 648 ms\n",
      "Wall time: 239 ms\n"
     ]
    }
   ],
   "source": [
    "%%time\n",
    "#interact for 7 ticks\n",
    "_,action_log,reward_log,_,_,_  = pool.interact(10)\n",
    "\n",
    "\n",
    "print(action_log)\n",
    "print(reward_log)"
   ]
  },
  {
   "cell_type": "code",
   "execution_count": 14,
   "metadata": {
    "collapsed": false
   },
   "outputs": [],
   "source": [
    "#load first sessions (this function calls interact and remembers sessions)\n",
    "pool.update(SEQ_LENGTH)"
   ]
  },
  {
   "cell_type": "markdown",
   "metadata": {},
   "source": [
    "# Q-learning\n",
    "* An agent has a method that produces symbolic environment interaction sessions\n",
    "* Such sessions are in sequences of observations, agent memory, actions, q-values,etc\n",
    "  * one has to pre-define maximum session length.\n",
    "\n",
    "* SessionPool also stores rewards (Q-learning objective)"
   ]
  },
  {
   "cell_type": "code",
   "execution_count": 15,
   "metadata": {
    "collapsed": false
   },
   "outputs": [],
   "source": [
    "#get agent's Qvalues obtained via experience replay\n",
    "replay = pool.experience_replay.sample_session_batch(100,replace=True)\n",
    "\n",
    "_,_,_,_,(action_qvalues_seq,optimal_qvalues_seq,l_term,mu_term) = agent.get_sessions(\n",
    "    replay,\n",
    "    session_length=SEQ_LENGTH,\n",
    "    experience_replay=True,\n",
    ")\n",
    "\n"
   ]
  },
  {
   "cell_type": "code",
   "execution_count": 16,
   "metadata": {
    "collapsed": false
   },
   "outputs": [],
   "source": [
    "#get reference Qvalues according to Qlearning algorithm\n",
    "from agentnet.learning.qlearning_naf import get_elementwise_objective\n",
    "\n",
    "#loss for Qlearning = (Q(s,a) - (r+gamma*Q(s',a_max)))^2\n",
    "elwise_mse_loss = get_elementwise_objective(action_qvalues_seq[:,:,0],\n",
    "                                            optimal_qvalues_seq[:,:,0],\n",
    "                                            replay.rewards,\n",
    "                                            replay.is_alive,\n",
    "                                            gamma_or_gammas=0.99,)\n",
    "\n",
    "#compute mean over \"alive\" fragments\n",
    "loss = elwise_mse_loss.sum() / replay.is_alive.sum()\n",
    "#add l2 regularizer\n",
    "loss += lasagne.regularization.regularize_network_params(nn,lasagne.regularization.l2)*1e-5"
   ]
  },
  {
   "cell_type": "code",
   "execution_count": 17,
   "metadata": {
    "collapsed": false
   },
   "outputs": [],
   "source": [
    "# Compute weight updates\n",
    "updates = lasagne.updates.adam(loss,weights)"
   ]
  },
  {
   "cell_type": "code",
   "execution_count": 18,
   "metadata": {
    "collapsed": false
   },
   "outputs": [],
   "source": [
    "#compile train function\n",
    "import theano\n",
    "train_step = theano.function([],loss,updates=updates)"
   ]
  },
  {
   "cell_type": "markdown",
   "metadata": {},
   "source": [
    "# Demo run"
   ]
  },
  {
   "cell_type": "code",
   "execution_count": 19,
   "metadata": {
    "collapsed": false
   },
   "outputs": [
    {
     "name": "stderr",
     "output_type": "stream",
     "text": [
      "[2016-12-14 02:39:05,834] Making new env: LunarLanderContinuous-v2\n",
      "[2016-12-14 02:39:05,839] Clearing 2 monitor files from previous run (because force=True was provided)\n",
      "[2016-12-14 02:39:05,841] Starting new video recorder writing to /root/test/continuous/records/openaigym.video.0.371974.video000000.mp4\n"
     ]
    },
    {
     "name": "stdout",
     "output_type": "stream",
     "text": [
      "Episode finished after 75 timesteps with reward=-199.433403439\n"
     ]
    },
    {
     "name": "stderr",
     "output_type": "stream",
     "text": [
      "[2016-12-14 02:39:08,982] Finished writing results. You can upload them to the scoreboard via gym.upload('/root/test/continuous/records')\n"
     ]
    }
   ],
   "source": [
    "#for MountainCar-v0 evaluation session is cropped to 200 ticks\n",
    "untrained_reward = pool.evaluate(save_path=\"./records\",record_video=True)"
   ]
  },
  {
   "cell_type": "code",
   "execution_count": 20,
   "metadata": {
    "collapsed": false
   },
   "outputs": [
    {
     "data": {
      "text/html": [
       "\n",
       "<video width=\"640\" height=\"480\" controls>\n",
       "  <source src=\"records/openaigym.video.3.166090.video000000.mp4\" type=\"video/mp4\">\n",
       "</video>\n"
      ],
      "text/plain": [
       "<IPython.core.display.HTML object>"
      ]
     },
     "execution_count": 20,
     "metadata": {},
     "output_type": "execute_result"
    }
   ],
   "source": [
    "from IPython.display import HTML\n",
    "#!TODO add url\n",
    "video_path=\"records/openaigym.video.0.371974.video000000.mp4\" #<-- paste link from previous cell starting from records\n",
    "\n",
    "HTML(\"\"\"\n",
    "<video width=\"640\" height=\"480\" controls>\n",
    "  <source src=\"{}\" type=\"video/mp4\">\n",
    "</video>\n",
    "\"\"\".format(video_path))\n"
   ]
  },
  {
   "cell_type": "markdown",
   "metadata": {},
   "source": [
    "# Training loop"
   ]
  },
  {
   "cell_type": "code",
   "execution_count": 21,
   "metadata": {
    "collapsed": false
   },
   "outputs": [],
   "source": [
    "#starting epoch\n",
    "epoch_counter = 1\n",
    "loss=train_step()\n",
    "\n",
    "\n",
    "#full game rewards\n",
    "rewards = {epoch_counter:untrained_reward}"
   ]
  },
  {
   "cell_type": "code",
   "execution_count": 22,
   "metadata": {
    "collapsed": false
   },
   "outputs": [
    {
     "name": "stderr",
     "output_type": "stream",
     "text": [
      "100%|██████████| 1000/1000 [00:13<00:00, 75.46it/s]\n"
     ]
    }
   ],
   "source": [
    "#pre-fill pool\n",
    "from tqdm import tqdm\n",
    "for i in tqdm(range(1000)):\n",
    "    pool.update(SEQ_LENGTH,append=True,)\n"
   ]
  },
  {
   "cell_type": "code",
   "execution_count": null,
   "metadata": {
    "collapsed": false,
    "scrolled": true
   },
   "outputs": [
    {
     "name": "stderr",
     "output_type": "stream",
     "text": [
      "  1%|          | 79/10000 [02:31<4:23:24,  1.59s/it]"
     ]
    },
    {
     "name": "stdout",
     "output_type": "stream",
     "text": [
      "iter=3800\tloss=70.977\tepsilon=0.100\treward/step=-1.02659\tpool_size=10000\n"
     ]
    },
    {
     "name": "stderr",
     "output_type": "stream",
     "text": [
      "  2%|▏         | 179/10000 [04:27<1:23:21,  1.96it/s]"
     ]
    },
    {
     "name": "stdout",
     "output_type": "stream",
     "text": [
      "iter=3900\tloss=50.060\tepsilon=0.100\treward/step=-0.72148\tpool_size=10000\n"
     ]
    },
    {
     "name": "stderr",
     "output_type": "stream",
     "text": [
      "  3%|▎         | 278/10000 [05:54<4:26:14,  1.64s/it][2016-12-14 04:21:23,804] Making new env: LunarLanderContinuous-v2\n",
      "[2016-12-14 04:21:23,809] Clearing 2 monitor files from previous run (because force=True was provided)\n"
     ]
    },
    {
     "name": "stdout",
     "output_type": "stream",
     "text": [
      "iter=4000\tloss=35.338\tepsilon=0.100\treward/step=-0.56612\tpool_size=10000\n"
     ]
    },
    {
     "name": "stderr",
     "output_type": "stream",
     "text": [
      "[2016-12-14 04:22:08,439] Finished writing results. You can upload them to the scoreboard via gym.upload('/root/test/continuous/records')\n",
      "  3%|▎         | 279/10000 [06:41<40:49:03, 15.12s/it]"
     ]
    },
    {
     "name": "stdout",
     "output_type": "stream",
     "text": [
      "Current score(mean over 10) = -165.513\n"
     ]
    },
    {
     "name": "stderr",
     "output_type": "stream",
     "text": [
      "  4%|▍         | 379/10000 [07:57<1:30:16,  1.78it/s]"
     ]
    },
    {
     "name": "stdout",
     "output_type": "stream",
     "text": [
      "iter=4100\tloss=23.550\tepsilon=0.100\treward/step=-0.44988\tpool_size=10000\n"
     ]
    },
    {
     "name": "stderr",
     "output_type": "stream",
     "text": [
      "  5%|▍         | 479/10000 [08:57<1:14:25,  2.13it/s]"
     ]
    },
    {
     "name": "stdout",
     "output_type": "stream",
     "text": [
      "iter=4200\tloss=31.976\tepsilon=0.100\treward/step=-0.46752\tpool_size=10000\n"
     ]
    },
    {
     "name": "stderr",
     "output_type": "stream",
     "text": [
      "  6%|▌         | 579/10000 [09:39<1:04:25,  2.44it/s]"
     ]
    },
    {
     "name": "stdout",
     "output_type": "stream",
     "text": [
      "iter=4300\tloss=59.696\tepsilon=0.100\treward/step=-0.77709\tpool_size=10000\n"
     ]
    },
    {
     "name": "stderr",
     "output_type": "stream",
     "text": [
      "  7%|▋         | 679/10000 [10:21<1:02:01,  2.50it/s]"
     ]
    },
    {
     "name": "stdout",
     "output_type": "stream",
     "text": [
      "iter=4400\tloss=95.235\tepsilon=0.100\treward/step=-1.22547\tpool_size=10000\n"
     ]
    },
    {
     "name": "stderr",
     "output_type": "stream",
     "text": [
      "  8%|▊         | 778/10000 [11:06<1:10:14,  2.19it/s][2016-12-14 04:26:34,682] Making new env: LunarLanderContinuous-v2\n",
      "[2016-12-14 04:26:34,687] Clearing 2 monitor files from previous run (because force=True was provided)\n"
     ]
    },
    {
     "name": "stdout",
     "output_type": "stream",
     "text": [
      "iter=4500\tloss=111.045\tepsilon=0.100\treward/step=-1.45352\tpool_size=10000\n"
     ]
    },
    {
     "name": "stderr",
     "output_type": "stream",
     "text": [
      "[2016-12-14 04:26:35,363] Finished writing results. You can upload them to the scoreboard via gym.upload('/root/test/continuous/records')\n",
      "  8%|▊         | 779/10000 [11:07<1:37:21,  1.58it/s]"
     ]
    },
    {
     "name": "stdout",
     "output_type": "stream",
     "text": [
      "Current score(mean over 10) = -534.874\n"
     ]
    },
    {
     "name": "stderr",
     "output_type": "stream",
     "text": [
      "  9%|▉         | 879/10000 [11:48<1:05:05,  2.34it/s]"
     ]
    },
    {
     "name": "stdout",
     "output_type": "stream",
     "text": [
      "iter=4600\tloss=145.347\tepsilon=0.100\treward/step=-1.69639\tpool_size=10000\n"
     ]
    },
    {
     "name": "stderr",
     "output_type": "stream",
     "text": [
      " 10%|▉         | 979/10000 [12:30<1:03:00,  2.39it/s]"
     ]
    },
    {
     "name": "stdout",
     "output_type": "stream",
     "text": [
      "iter=4700\tloss=156.585\tepsilon=0.100\treward/step=-1.88982\tpool_size=10000\n"
     ]
    },
    {
     "name": "stderr",
     "output_type": "stream",
     "text": [
      " 11%|█         | 1079/10000 [13:14<57:12,  2.60it/s]"
     ]
    },
    {
     "name": "stdout",
     "output_type": "stream",
     "text": [
      "iter=4800\tloss=177.128\tepsilon=0.100\treward/step=-2.00173\tpool_size=10000\n"
     ]
    },
    {
     "name": "stderr",
     "output_type": "stream",
     "text": [
      " 12%|█▏        | 1179/10000 [14:14<1:01:46,  2.38it/s]"
     ]
    },
    {
     "name": "stdout",
     "output_type": "stream",
     "text": [
      "iter=4900\tloss=182.537\tepsilon=0.100\treward/step=-2.07024\tpool_size=10000\n"
     ]
    },
    {
     "name": "stderr",
     "output_type": "stream",
     "text": [
      " 13%|█▎        | 1278/10000 [15:08<2:22:02,  1.02it/s][2016-12-14 04:30:37,415] Making new env: LunarLanderContinuous-v2\n",
      "[2016-12-14 04:30:37,419] Clearing 2 monitor files from previous run (because force=True was provided)\n"
     ]
    },
    {
     "name": "stdout",
     "output_type": "stream",
     "text": [
      "iter=5000\tloss=207.330\tepsilon=0.100\treward/step=-2.13864\tpool_size=10000\n"
     ]
    },
    {
     "name": "stderr",
     "output_type": "stream",
     "text": [
      "[2016-12-14 04:30:40,263] Finished writing results. You can upload them to the scoreboard via gym.upload('/root/test/continuous/records')\n",
      " 13%|█▎        | 1279/10000 [15:12<4:29:12,  1.85s/it]"
     ]
    },
    {
     "name": "stdout",
     "output_type": "stream",
     "text": [
      "Current score(mean over 10) = -316.719\n"
     ]
    },
    {
     "name": "stderr",
     "output_type": "stream",
     "text": [
      " 14%|█▍        | 1379/10000 [16:01<1:09:17,  2.07it/s]"
     ]
    },
    {
     "name": "stdout",
     "output_type": "stream",
     "text": [
      "iter=5100\tloss=198.018\tepsilon=0.100\treward/step=-2.20260\tpool_size=10000\n"
     ]
    },
    {
     "name": "stderr",
     "output_type": "stream",
     "text": [
      " 15%|█▍        | 1479/10000 [19:41<1:44:47,  1.36it/s]"
     ]
    },
    {
     "name": "stdout",
     "output_type": "stream",
     "text": [
      "iter=5200\tloss=194.368\tepsilon=0.100\treward/step=-2.09470\tpool_size=10000\n"
     ]
    },
    {
     "name": "stderr",
     "output_type": "stream",
     "text": [
      " 16%|█▌        | 1579/10000 [20:41<1:31:52,  1.53it/s]"
     ]
    },
    {
     "name": "stdout",
     "output_type": "stream",
     "text": [
      "iter=5300\tloss=163.186\tepsilon=0.100\treward/step=-1.75315\tpool_size=10000\n"
     ]
    },
    {
     "name": "stderr",
     "output_type": "stream",
     "text": [
      " 17%|█▋        | 1679/10000 [21:49<1:03:10,  2.20it/s]"
     ]
    },
    {
     "name": "stdout",
     "output_type": "stream",
     "text": [
      "iter=5400\tloss=138.089\tepsilon=0.100\treward/step=-1.33641\tpool_size=10000\n"
     ]
    },
    {
     "name": "stderr",
     "output_type": "stream",
     "text": [
      " 18%|█▊        | 1778/10000 [23:07<1:14:06,  1.85it/s][2016-12-14 04:38:35,982] Making new env: LunarLanderContinuous-v2\n",
      "[2016-12-14 04:38:35,987] Clearing 2 monitor files from previous run (because force=True was provided)\n"
     ]
    },
    {
     "name": "stdout",
     "output_type": "stream",
     "text": [
      "iter=5500\tloss=121.250\tepsilon=0.100\treward/step=-1.14887\tpool_size=10000\n"
     ]
    },
    {
     "name": "stderr",
     "output_type": "stream",
     "text": [
      "[2016-12-14 04:38:40,534] Finished writing results. You can upload them to the scoreboard via gym.upload('/root/test/continuous/records')\n",
      " 18%|█▊        | 1779/10000 [23:13<4:34:51,  2.01s/it]"
     ]
    },
    {
     "name": "stdout",
     "output_type": "stream",
     "text": [
      "Current score(mean over 10) = -242.271\n"
     ]
    },
    {
     "name": "stderr",
     "output_type": "stream",
     "text": [
      " 19%|█▉        | 1879/10000 [24:31<1:04:57,  2.08it/s]"
     ]
    },
    {
     "name": "stdout",
     "output_type": "stream",
     "text": [
      "iter=5600\tloss=102.322\tepsilon=0.100\treward/step=-0.96360\tpool_size=10000\n"
     ]
    },
    {
     "name": "stderr",
     "output_type": "stream",
     "text": [
      " 20%|█▉        | 1979/10000 [25:33<57:17,  2.33it/s]"
     ]
    },
    {
     "name": "stdout",
     "output_type": "stream",
     "text": [
      "iter=5700\tloss=82.159\tepsilon=0.100\treward/step=-0.86608\tpool_size=10000\n"
     ]
    },
    {
     "name": "stderr",
     "output_type": "stream",
     "text": [
      " 21%|██        | 2079/10000 [26:25<54:35,  2.42it/s]"
     ]
    },
    {
     "name": "stdout",
     "output_type": "stream",
     "text": [
      "iter=5800\tloss=83.814\tepsilon=0.100\treward/step=-0.90250\tpool_size=10000\n"
     ]
    },
    {
     "name": "stderr",
     "output_type": "stream",
     "text": [
      " 22%|██▏       | 2179/10000 [27:26<2:12:34,  1.02s/it]"
     ]
    },
    {
     "name": "stdout",
     "output_type": "stream",
     "text": [
      "iter=5900\tloss=84.593\tepsilon=0.100\treward/step=-0.93049\tpool_size=10000\n"
     ]
    },
    {
     "name": "stderr",
     "output_type": "stream",
     "text": [
      " 23%|██▎       | 2278/10000 [28:24<1:29:24,  1.44it/s][2016-12-14 04:43:52,248] Making new env: LunarLanderContinuous-v2\n",
      "[2016-12-14 04:43:52,252] Clearing 2 monitor files from previous run (because force=True was provided)\n"
     ]
    },
    {
     "name": "stdout",
     "output_type": "stream",
     "text": [
      "iter=6000\tloss=81.875\tepsilon=0.100\treward/step=-0.90980\tpool_size=10000\n"
     ]
    },
    {
     "name": "stderr",
     "output_type": "stream",
     "text": [
      "[2016-12-14 04:43:55,603] Finished writing results. You can upload them to the scoreboard via gym.upload('/root/test/continuous/records')\n",
      " 23%|██▎       | 2279/10000 [28:28<3:41:00,  1.72s/it]"
     ]
    },
    {
     "name": "stdout",
     "output_type": "stream",
     "text": [
      "Current score(mean over 10) = -295.074\n"
     ]
    },
    {
     "name": "stderr",
     "output_type": "stream",
     "text": [
      " 24%|██▎       | 2350/10000 [29:18<1:04:23,  1.98it/s]"
     ]
    }
   ],
   "source": [
    "epsilon.set_value(0.1)\n",
    "#the loop may take eons to finish.\n",
    "#consider interrupting early.\n",
    "for i in tqdm(range(10000)):    \n",
    "    \n",
    "    \n",
    "    #train\n",
    "    for i in range(10):\n",
    "        pool.update(SEQ_LENGTH,append=True,)\n",
    "        \n",
    "    for i in range(10):\n",
    "        loss = loss * 0.99 + train_step()*0.01\n",
    "    \n",
    "    \n",
    "    \n",
    "    if epoch_counter%100==0:\n",
    "        #average reward per game tick in current experience replay pool\n",
    "        pool_mean_reward = np.average(pool.experience_replay.rewards.get_value()[:,:-1],\n",
    "                                      weights=pool.experience_replay.is_alive.get_value()[:,:-1])\n",
    "        pool_size = pool.experience_replay.rewards.get_value().shape[0]\n",
    "        print(\"iter=%i\\tloss=%.3f\\tepsilon=%.3f\\treward/step=%.5f\\tpool_size=%i\"%(epoch_counter,\n",
    "                                                                                  loss,\n",
    "                                                                                  epsilon.get_value(),\n",
    "                                                                                  pool_mean_reward,\n",
    "                                                                                  pool_size))\n",
    "        \n",
    "\n",
    "    ##record current learning progress and show learning curves\n",
    "    if epoch_counter%500 ==0:\n",
    "        n_games = 10\n",
    "        epsilon.set_value(0)\n",
    "        rewards[epoch_counter] = pool.evaluate( record_video=False,n_games=n_games,verbose=False)\n",
    "        print(\"Current score(mean over %i) = %.3f\"%(n_games,np.mean(rewards[epoch_counter])))\n",
    "        epsilon.set_value(0.1)\n",
    "        \n",
    "    #if you see sudden slowdowns after few thousand iterations, it means box2d issue is still not fixed\n",
    "    #use this line to reset it time to time:\n",
    "    #pool.envs[0] = gym.make(GAME)\n",
    "    \n",
    "    \n",
    "    epoch_counter  +=1\n",
    "\n",
    "    \n",
    "# Time to drink some coffee!"
   ]
  },
  {
   "cell_type": "code",
   "execution_count": 24,
   "metadata": {
    "collapsed": false
   },
   "outputs": [
    {
     "name": "stderr",
     "output_type": "stream",
     "text": [
      "/root/anaconda2/lib/python2.7/site-packages/ipykernel/__main__.py:3: FutureWarning: pd.ewm_mean is deprecated for ndarrays and will be removed in a future version\n",
      "  app.launch_new_instance()\n"
     ]
    },
    {
     "data": {
      "text/plain": [
       "[<matplotlib.lines.Line2D at 0x7ff24a0cd410>]"
      ]
     },
     "execution_count": 24,
     "metadata": {},
     "output_type": "execute_result"
    },
    {
     "data": {
      "image/png": "[encoded data removed]",
      "text/plain": [
       "<matplotlib.figure.Figure at 0x7ff258fef610>"
      ]
     },
     "metadata": {},
     "output_type": "display_data"
    }
   ],
   "source": [
    "import pandas as pd\n",
    "ticks,r = zip(*sorted(rewards.items(),key=lambda (k,v): k))\n",
    "plt.plot(ticks,pd.ewma(np.array(map(np.mean,r)),alpha=0.1))"
   ]
  },
  {
   "cell_type": "code",
   "execution_count": 25,
   "metadata": {
    "collapsed": false
   },
   "outputs": [
    {
     "name": "stderr",
     "output_type": "stream",
     "text": [
      "[2016-12-14 04:12:23,454] Making new env: LunarLanderContinuous-v2\n",
      "[2016-12-14 04:12:23,470] Clearing 2 monitor files from previous run (because force=True was provided)\n",
      "[2016-12-14 04:12:23,476] Starting new video recorder writing to /root/test/continuous/records/openaigym.video.8.371974.video000000.mp4\n"
     ]
    },
    {
     "name": "stdout",
     "output_type": "stream",
     "text": [
      "Episode finished after 1000 timesteps with reward=-110.875128203\n"
     ]
    },
    {
     "name": "stderr",
     "output_type": "stream",
     "text": [
      "[2016-12-14 04:12:46,744] Starting new video recorder writing to /root/test/continuous/records/openaigym.video.8.371974.video000001.mp4\n"
     ]
    },
    {
     "name": "stdout",
     "output_type": "stream",
     "text": [
      "Episode finished after 1000 timesteps with reward=-99.9381066687\n",
      "Episode finished after 1000 timesteps with reward=-99.010162853\n",
      "Episode finished after 1000 timesteps with reward=-121.029896323\n",
      "Episode finished after 1000 timesteps with reward=-82.7363235336\n",
      "Episode finished after 1000 timesteps with reward=-100.427231227\n",
      "Episode finished after 1000 timesteps with reward=-62.5335570436\n"
     ]
    },
    {
     "name": "stderr",
     "output_type": "stream",
     "text": [
      "[2016-12-14 04:14:01,278] Starting new video recorder writing to /root/test/continuous/records/openaigym.video.8.371974.video000008.mp4\n"
     ]
    },
    {
     "name": "stdout",
     "output_type": "stream",
     "text": [
      "Episode finished after 1000 timesteps with reward=-112.624933727\n",
      "Episode finished after 1000 timesteps with reward=-90.5384471249\n"
     ]
    },
    {
     "name": "stderr",
     "output_type": "stream",
     "text": [
      "[2016-12-14 04:14:36,906] Finished writing results. You can upload them to the scoreboard via gym.upload('/root/test/continuous/records')\n"
     ]
    },
    {
     "name": "stdout",
     "output_type": "stream",
     "text": [
      "Episode finished after 1000 timesteps with reward=-88.8171271279\n"
     ]
    },
    {
     "data": {
      "text/plain": [
       "[-110.87512820265022,\n",
       " -99.938106668678671,\n",
       " -99.010162853010826,\n",
       " -121.02989632301791,\n",
       " -82.736323533555364,\n",
       " -100.42723122660394,\n",
       " -62.533557043576607,\n",
       " -112.62493372678664,\n",
       " -90.538447124939253,\n",
       " -88.817127127869114]"
      ]
     },
     "execution_count": 25,
     "metadata": {},
     "output_type": "execute_result"
    }
   ],
   "source": [
    "pool.evaluate(10)"
   ]
  },
  {
   "cell_type": "code",
   "execution_count": null,
   "metadata": {
    "collapsed": false
   },
   "outputs": [],
   "source": [
    "optimal_qvalues_seq.eval()"
   ]
  }
 ],
 "metadata": {
  "anaconda-cloud": {},
  "kernelspec": {
   "display_name": "Python [conda root]",
   "language": "python",
   "name": "conda-root-py"
  },
  "language_info": {
   "codemirror_mode": {
    "name": "ipython",
    "version": 2
   },
   "file_extension": ".py",
   "mimetype": "text/x-python",
   "name": "python",
   "nbconvert_exporter": "python",
   "pygments_lexer": "ipython2",
   "version": "2.7.12"
  }
 },
 "nbformat": 4,
 "nbformat_minor": 0
}
