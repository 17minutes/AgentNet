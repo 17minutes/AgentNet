{
 "cells": [
  {
   "cell_type": "code",
   "execution_count": 1,
   "metadata": {
    "collapsed": true
   },
   "outputs": [],
   "source": [
    "#experiment name and snapshot folder (used for model persistence)\n",
    "experiment_setup_name = \"tutorial.gym.atari.KungFuMaster-v0.cnn\"\n",
    "snapshot_path = \".\"\n",
    "\n",
    "\n",
    "#gym game title\n",
    "GAME_TITLE = 'KungFuMaster-v0'\n",
    "\n",
    "#how many parallel game instances can your machine tolerate\n",
    "N_PARALLEL_GAMES = 10\n",
    "\n",
    "\n",
    "#how long is one replay session from a batch\n",
    "\n",
    "#since we have window-like memory (no recurrent layers), we can use relatively small session weights\n",
    "replay_seq_len = 25"
   ]
  },
  {
   "cell_type": "code",
   "execution_count": 2,
   "metadata": {
    "collapsed": false
   },
   "outputs": [
    {
     "name": "stdout",
     "output_type": "stream",
     "text": [
      "env: THEANO_FLAGS='device=gpu2'\n",
      "mkdir: cannot create directory `./agentnet_snapshots/': File exists\r\n"
     ]
    }
   ],
   "source": [
    "#this is my machine-specific config. replace if are not me.\n",
    "\n",
    "#theano device selection\n",
    "%env THEANO_FLAGS='device=gpu2'\n",
    "\n",
    "\n",
    "#snapshot path - where neural network snapshots are saved during the main training loop\n",
    "!mkdir ./agentnet_snapshots/\n",
    "snapshot_path = \"./agentnet_snapshots/\"\n"
   ]
  },
  {
   "cell_type": "markdown",
   "metadata": {},
   "source": [
    "# This tutorial is a showcase on how to use advanced AgentNet techniques \n",
    "\n",
    "\n",
    "# [new]\n",
    "\n",
    "* The notebook is mostly based on \"Playing atari with Deep Reinforcement Learning (OpenAI Gym)\" example\n",
    " * All changes against that example will be marked with #[new] sign, like one above\n",
    "* We use a recurrent memory layer, implemented via Gated Recurrent Unit\n",
    "* We use advantage actor-critic method to train agent (using policy + state values instead of q-values)\n",
    "* We train agent to hurt humans in KungFu master game\n",
    "* We also use a bit heavier a network to process inputs (~convolutional from basic example)\n",
    "  * If you have no GPU and want agent to train faster than human child, replace it with what worked in basic example\n",
    "\n",
    "## About OpenAI Gym\n",
    "\n",
    "* Its a recently published platform that basicly allows you to train agents in a wide variety of environments with near-identical interface.\n",
    "* This is twice as awesome since now we don't need to write a new wrapper for every game\n",
    "* Go check it out!\n",
    "  * Blog post - https://openai.com/blog/openai-gym-beta/\n",
    "  * Github - https://github.com/openai/gym\n",
    "  \n",
    "  \n",
    "### Installing it\n",
    " * If nothing changed on their side, to run this, you bacically need to follow their install instructions - \n",
    " \n",
    "```\n",
    "git clone https://github.com/openai/gym.git\n",
    "cd gym\n",
    "pip install -e .[all]\n",
    "```"
   ]
  },
  {
   "cell_type": "code",
   "execution_count": 3,
   "metadata": {
    "collapsed": false
   },
   "outputs": [
    {
     "name": "stderr",
     "output_type": "stream",
     "text": [
      "Using gpu device 2: Tesla K40m (CNMeM is disabled, cuDNN Version is too old. Update to v5, was 4004.)\n"
     ]
    }
   ],
   "source": [
    "import numpy as np\n",
    "from matplotlib import pyplot as plt\n",
    "%matplotlib inline\n",
    "\n",
    "\n",
    "#theano imports\n",
    "\n",
    "import theano\n",
    "import theano.tensor as T\n",
    "floatX = theano.config.floatX\n",
    "\n",
    "import lasagne\n"
   ]
  },
  {
   "cell_type": "code",
   "execution_count": 4,
   "metadata": {
    "collapsed": false
   },
   "outputs": [],
   "source": [
    "%load_ext autoreload\n",
    "%autoreload 2"
   ]
  },
  {
   "cell_type": "markdown",
   "metadata": {},
   "source": [
    "# Experiment setup\n",
    "* Here we basically just load the game"
   ]
  },
  {
   "cell_type": "code",
   "execution_count": 5,
   "metadata": {
    "collapsed": false
   },
   "outputs": [
    {
     "name": "stderr",
     "output_type": "stream",
     "text": [
      "[2016-05-21 09:11:52,395] Making new env: KungFuMaster-v0\n"
     ]
    },
    {
     "data": {
      "text/plain": [
       "<matplotlib.image.AxesImage at 0x12d3c650>"
      ]
     },
     "execution_count": 5,
     "metadata": {},
     "output_type": "execute_result"
    },
    {
     "data": {
      "image/png": "[encoded data removed]",
      "text/plain": [
       "<matplotlib.figure.Figure at 0x12bfd810>"
      ]
     },
     "metadata": {},
     "output_type": "display_data"
    }
   ],
   "source": [
    "import gym\n",
    "atari = gym.make(GAME_TITLE)\n",
    "atari.reset()\n",
    "plt.imshow(atari.render('rgb_array'))"
   ]
  },
  {
   "cell_type": "markdown",
   "metadata": {},
   "source": [
    "### Game Parameters\n",
    "* observation dimensions, actions, etc"
   ]
  },
  {
   "cell_type": "code",
   "execution_count": 6,
   "metadata": {
    "collapsed": false
   },
   "outputs": [
    {
     "name": "stdout",
     "output_type": "stream",
     "text": [
      "['NOOP', 'UP', 'RIGHT', 'LEFT', 'DOWN', 'DOWNRIGHT', 'DOWNLEFT', 'RIGHTFIRE', 'LEFTFIRE', 'DOWNFIRE', 'UPRIGHTFIRE', 'UPLEFTFIRE', 'DOWNRIGHTFIRE', 'DOWNLEFTFIRE']\n"
     ]
    }
   ],
   "source": [
    "n_actions = atari.action_space.n\n",
    "observation_shape = (None,)+atari.observation_space.shape\n",
    "action_names = atari.get_action_meanings()\n",
    "print(action_names)"
   ]
  },
  {
   "cell_type": "code",
   "execution_count": 7,
   "metadata": {
    "collapsed": true
   },
   "outputs": [],
   "source": [
    "del atari"
   ]
  },
  {
   "cell_type": "markdown",
   "metadata": {},
   "source": [
    "# agent setup step by step\n",
    "* An agent implementation may contain these parts:\n",
    " * Observation(s)\n",
    "   * InputLayers where observed game states (here - images) are sent at each tick \n",
    " * Memory layer(s)\n",
    "   * A dictionary that maps \"New memory layers\" to \"prev memory layers\"\n",
    " * Policy layer (e.g. Q-values or probabilities)\n",
    "   * in this case, a lasagne dense layer based on observation layer\n",
    " * Resolver - acton picker layer\n",
    "   * chooses what action to take given Q-values\n",
    "   * in this case, the resolver has epsilon-greedy policy\n",
    "  \n",
    "\n",
    "\n"
   ]
  },
  {
   "cell_type": "markdown",
   "metadata": {},
   "source": [
    "##### Agent observations\n",
    "\n",
    "* Here you define where observations (game images) appear in the network\n",
    "* You can use any lasagne architecture you want. We provide several examples"
   ]
  },
  {
   "cell_type": "code",
   "execution_count": 8,
   "metadata": {
    "collapsed": false
   },
   "outputs": [],
   "source": [
    "import lasagne\n",
    "\n",
    "from lasagne.layers import InputLayer,DropoutLayer,DenseLayer, ExpressionLayer, Conv2DLayer,MaxPool2DLayer\n",
    "from lasagne.layers import flatten, dimshuffle"
   ]
  },
  {
   "cell_type": "code",
   "execution_count": 9,
   "metadata": {
    "collapsed": false
   },
   "outputs": [],
   "source": [
    "\n",
    "\n",
    "#image observation\n",
    "observation_layer = lasagne.layers.InputLayer(observation_shape,\n",
    "                                                    name=\"images input\")\n",
    "\n",
    "observation_reshape = lasagne.layers.dimshuffle(observation_layer,(0,3,1,2))\n",
    "\n",
    "\n",
    "\n",
    "# [ part where heavy convolutional network is defined]\n",
    "#if you have to GPU, consider something lighter\n",
    "\n",
    "#conv\n",
    "cnn = Conv2DLayer(observation_reshape, num_filters=32,filter_size=(5,5),name='conv0')\n",
    "cnn = Conv2DLayer(cnn, num_filters=32,filter_size=(5,5),name='conv1')\n",
    "cnn = MaxPool2DLayer(cnn,(5,5))\n",
    "\n",
    "#dense with dropout    \n",
    "dnn = DenseLayer(cnn,num_units=500,name='dense0')\n",
    "dnn = DropoutLayer(dnn,name = \"dropout\", p=0.05) #will get deterministic during evaluation\n",
    "dnn = DenseLayer(dnn,num_units=300,name='dense1')\n",
    "\n",
    "# [end of that part]\n",
    "\n",
    "inp_nn = dnn"
   ]
  },
  {
   "cell_type": "markdown",
   "metadata": {},
   "source": [
    "  \n",
    "### Agent memory states\n",
    " * Here you can define arbitrary transitions between \"previous state\" variables and their next states\n",
    " * The rules are\n",
    "   * previous states must be input layers\n",
    "   * next states must have same shape as previous ones\n",
    "   * otherwise it can be any lasagne network\n",
    "   * AgentNet.memory has several useful layers\n",
    "   \n",
    " * During training and evaluation, your states will be updated recurrently\n",
    "   * next state at t=1 is given as previous state to t=2\n",
    " \n",
    " * Finally, you have to define a dictionary mapping new state -> previous state\n",
    "\n",
    "\n",
    "Atari game environments are known to have __flickering__ effect where some sprites are shown only on odd frames and others on even ones - that was used to optimize performance at the time.\n",
    "\n",
    "To compensate for this, we shall use the memory layer called __WindowAugmentation__ which basically maintains a K previous time steps of what it is fed with.\n",
    "\n",
    "\n",
    "# [new]\n",
    "We shall also use a GRUMemoryLayer to represent agent's recurrent memory state. This state is updated on every turn given window state.\n",
    "Not that this is __not the same__ as `lasagne.layers.GRULayer` as GRUMemoryLayer only does a single time tick (lasagne version iterates over the whole sequence).\n",
    "\n"
   ]
  },
  {
   "cell_type": "code",
   "execution_count": 10,
   "metadata": {
    "collapsed": false
   },
   "outputs": [],
   "source": [
    "\n",
    "#memory\n",
    "#using simple window-based memory that stores several states\n",
    "#the SpaceInvaders environment does not need any more as it is almost fully-observed\n",
    "from agentnet.memory import WindowAugmentation, GRUMemoryLayer\n",
    "\n",
    "\n",
    "#our window\n",
    "window_size = 3\n",
    "prev_window = InputLayer((None,window_size,inp_nn.output_shape[1]),\n",
    "                                        name = \"previous window state\")\n",
    "\n",
    "window = WindowAugmentation(inp_nn,prev_window,name = \"new window state\")\n",
    "\n",
    "\n",
    "\n",
    "# first (and so far only) GRU layer\n",
    "\n",
    "gru0_size = 256\n",
    "\n",
    "prev_gru0 = InputLayer((None,gru0_size),name=\"previous GRU0 state\")\n",
    "\n",
    "#neuron-wise maxima of window frames as an input to the GRU\n",
    "window_max = ExpressionLayer(window,function=lambda v: v.max(axis=1), \n",
    "                             output_shape=inp_nn.output_shape,\n",
    "                             name = 'window_max')\n",
    "\n",
    "\n",
    "window_max = lasagne.layers.FeaturePoolLayer(window,window_size)\n",
    "\n",
    "gru0 = GRUMemoryLayer(gru0_size,\n",
    "                      observation_input = window_max,\n",
    "                      prev_state_input = prev_gru0,\n",
    "                      name=\"gru0\"\n",
    "                  )\n",
    "\n",
    "\n",
    "\n",
    "#a dictionary that maps next agent memory states to previous ones\n",
    "from collections import OrderedDict\n",
    "memory_dict = OrderedDict([(window,prev_window),\n",
    "                           (gru0,prev_gru0)])\n",
    "\n"
   ]
  },
  {
   "cell_type": "markdown",
   "metadata": {},
   "source": [
    "##### Agent policy and action picking\n",
    "\n",
    "\n",
    "# [new]\n",
    "\n",
    "* Since we are using Actor-Critic method, we need to predict 2 values:\n",
    "  * State value - basicly a Q-value of best action in a state\n",
    "  * Agent policy - probabilities of taking actions\n",
    "  \n",
    "\n",
    "* To pick actions, we use a probablistic resolver\n",
    "  * That one picks actions with given probabilities\n",
    "  * We use a laplacian smoothing to pick actions in training (to bolster exploration) \n",
    "  * The resolver output is considered agent's next action and sent into the environment"
   ]
  },
  {
   "cell_type": "code",
   "execution_count": 11,
   "metadata": {
    "collapsed": false
   },
   "outputs": [],
   "source": [
    "#State values\n",
    "state_value_layer = DenseLayer(gru0,\n",
    "                               num_units = 1,\n",
    "                               nonlinearity = lasagne.nonlinearities.linear,\n",
    "                               name = \"Vpredicted\")\n",
    "\n",
    "\n",
    "#a2c probabilities\n",
    "\n",
    "\n",
    "policy_layer_pre_softmax = DenseLayer(gru0,\n",
    "                                     num_units = n_actions,\n",
    "                                     nonlinearity= None,\n",
    "                                     name=\"policy_original\")\n",
    "\n",
    "\n",
    "from lasagne.layers import NonlinearityLayer\n",
    "policy_layer = NonlinearityLayer(policy_layer_pre_softmax,\n",
    "                                 lasagne.nonlinearities.softmax)\n",
    "\n",
    "\n",
    "#actual action probablilities\n",
    "epsilon = theano.shared(np.float32(0.1),\"epsilon\")\n",
    "\n",
    "\n",
    "#add laplacian smoothing\n",
    "smooth_policy_layer = NonlinearityLayer(\n",
    "    policy_layer_pre_softmax,\n",
    "    lambda v: lasagne.nonlinearities.softmax(v*(1.-epsilon) + epsilon/n_actions)\n",
    ")\n",
    "\n",
    "\n",
    "\n",
    "\n",
    "\n",
    "#resolver\n",
    "\n",
    "from agentnet.resolver import ProbabilisticResolver\n",
    "\n",
    "\n",
    "resolver = ProbabilisticResolver(smooth_policy_layer,assume_normalized=True,name=\"resolver\")\n",
    "\n"
   ]
  },
  {
   "cell_type": "markdown",
   "metadata": {},
   "source": [
    "##### Finally, agent\n",
    "We declare that this network is and MDP agent with such and such inputs, states and outputs\n",
    "\n",
    "# [new]\n",
    "* Note that we can have any (incl. none) number of agent policy variables,\n",
    "* so you can use that to track any layer output\n",
    "* It is also possible to have multiple observations and actions, but that's not aplicable to Atari environment"
   ]
  },
  {
   "cell_type": "code",
   "execution_count": 12,
   "metadata": {
    "collapsed": false
   },
   "outputs": [],
   "source": [
    "from agentnet.agent import Agent\n",
    "\n",
    "\n",
    "#all together\n",
    "agent = Agent(observation_layer,\n",
    "              memory_dict,\n",
    "              [policy_layer,state_value_layer],\n",
    "              resolver)\n"
   ]
  },
  {
   "cell_type": "code",
   "execution_count": 13,
   "metadata": {
    "collapsed": false
   },
   "outputs": [
    {
     "data": {
      "text/plain": [
       "[conv0.W,\n",
       " conv0.b,\n",
       " conv1.W,\n",
       " conv1.b,\n",
       " dense0.W,\n",
       " dense0.b,\n",
       " dense1.W,\n",
       " dense1.b,\n",
       " gru0.W_in_to_updategate,\n",
       " gru0.W_hid_to_updategate,\n",
       " gru0.b_updategate,\n",
       " gru0.W_in_to_resetgate,\n",
       " gru0.W_hid_to_resetgate,\n",
       " gru0.b_resetgate,\n",
       " gru0.W_in_to_hidden_update,\n",
       " gru0.W_hid_to_hidden_update,\n",
       " gru0.b_hidden_update,\n",
       " policy_original.W,\n",
       " policy_original.b,\n",
       " Vpredicted.W,\n",
       " Vpredicted.b]"
      ]
     },
     "execution_count": 13,
     "metadata": {},
     "output_type": "execute_result"
    }
   ],
   "source": [
    "#Since it's a single lasagne network, one can get it's weights, output, etc\n",
    "weights = lasagne.layers.get_all_params((resolver,state_value_layer),trainable=True)\n",
    "weights"
   ]
  },
  {
   "cell_type": "markdown",
   "metadata": {},
   "source": [
    "# Agent step function\n",
    "\n",
    "* A function that makes a single agent turn\n",
    "  * converts (observation, prev_memories) -> action, new_memories"
   ]
  },
  {
   "cell_type": "code",
   "execution_count": 14,
   "metadata": {
    "collapsed": false
   },
   "outputs": [],
   "source": [
    "#compile theano graph\n",
    "applier_fun = agent.get_react_function()\n",
    "\n",
    "#a nice pythonic interface\n",
    "def step(observation, prev_memories = 'zeros',batch_size = N_PARALLEL_GAMES):\n",
    "    \"\"\" returns actions and new states given observation and prev state\n",
    "    Prev state in default setup should be [prev window,]\"\"\"\n",
    "    #default to zeros\n",
    "    if prev_memories == 'zeros':\n",
    "        prev_memories = [np.zeros((batch_size,)+tuple(mem.output_shape[1:]),\n",
    "                                  dtype=floatX) \n",
    "                         for mem in agent.agent_states]\n",
    "    \n",
    "    res = applier_fun(np.array(observation),*prev_memories)\n",
    "    action = res[0]\n",
    "    memories = res[1:]\n",
    "    return action,memories"
   ]
  },
  {
   "cell_type": "markdown",
   "metadata": {},
   "source": [
    "# Create and manage a pool of atari sessions to play with\n",
    "\n",
    "* To make training more stable, we shall have an entire batch of game sessions each happening in parallel\n",
    "* We define a thin wrapper that stores\n",
    " * game emulators\n",
    " * last agent observations\n",
    " * agent memories at last time tick\n",
    " * a function to generate interaction sessions\n",
    "* This allows us to instantly continue a session from where it stopped\n",
    "\n",
    "\n",
    "\n",
    "The wrapper itself is a class with a single method that creates interaction sessions. It can be found at examples/openai_gym_pool.py\n",
    "\n",
    "\n",
    "Why several parallel agents help training: http://arxiv.org/pdf/1602.01783v1.pdf"
   ]
  },
  {
   "cell_type": "code",
   "execution_count": 16,
   "metadata": {
    "collapsed": false
   },
   "outputs": [
    {
     "name": "stderr",
     "output_type": "stream",
     "text": [
      "[2016-05-21 09:12:08,196] Making new env: KungFuMaster-v0\n",
      "[2016-05-21 09:12:08,231] Making new env: KungFuMaster-v0\n",
      "[2016-05-21 09:12:08,264] Making new env: KungFuMaster-v0\n",
      "[2016-05-21 09:12:08,297] Making new env: KungFuMaster-v0\n",
      "[2016-05-21 09:12:08,330] Making new env: KungFuMaster-v0\n",
      "[2016-05-21 09:12:08,363] Making new env: KungFuMaster-v0\n",
      "[2016-05-21 09:12:08,396] Making new env: KungFuMaster-v0\n",
      "[2016-05-21 09:12:08,430] Making new env: KungFuMaster-v0\n",
      "[2016-05-21 09:12:08,464] Making new env: KungFuMaster-v0\n",
      "[2016-05-21 09:12:08,496] Making new env: KungFuMaster-v0\n"
     ]
    }
   ],
   "source": [
    "from agentnet.experiments.openai_gym.pool import GamePool\n",
    "pool = GamePool(GAME_TITLE, N_PARALLEL_GAMES)"
   ]
  },
  {
   "cell_type": "code",
   "execution_count": 17,
   "metadata": {
    "collapsed": false
   },
   "outputs": [
    {
     "name": "stdout",
     "output_type": "stream",
     "text": [
      "[['DOWNFIRE' 'RIGHT' 'DOWNLEFT' 'UPRIGHTFIRE' 'LEFTFIRE']\n",
      " ['UP' 'DOWNFIRE' 'DOWNRIGHT' 'DOWNLEFTFIRE' 'DOWNRIGHT']\n",
      " ['NOOP' 'DOWNRIGHT' 'UPRIGHTFIRE' 'DOWNLEFT' 'UP']]\n",
      "CPU times: user 2.51 s, sys: 484 ms, total: 3 s\n",
      "Wall time: 2.99 s\n"
     ]
    }
   ],
   "source": [
    "%%time\n",
    "\n",
    "observation_log,action_log,reward_log,_,_,_  = pool.interact(step,50)\n",
    "\n",
    "#sanity check: random actions\n",
    "print(np.array(action_names)[np.array(action_log)[:3,:5]])"
   ]
  },
  {
   "cell_type": "markdown",
   "metadata": {},
   "source": [
    "# experience replay pool\n",
    "\n",
    "Since our network exists in a theano graph and OpenAI gym doesn't, we shall train out network via experience replay.\n",
    "\n",
    "To do that in AgentNet, one can use a SessionPoolEnvironment.\n",
    "\n",
    "It's simple: you record new sessions using `interact(...)`, and than immediately train on them.\n",
    "\n",
    "1. Interact with Atari, get play sessions\n",
    "2. Store them into session environment\n",
    "3. Train on them\n",
    "4. Repeat\n"
   ]
  },
  {
   "cell_type": "code",
   "execution_count": 18,
   "metadata": {
    "collapsed": false
   },
   "outputs": [],
   "source": [
    "#Create an environment with all default parameters\n",
    "from agentnet.environment import SessionPoolEnvironment\n",
    "env = SessionPoolEnvironment(observations = observation_layer,\n",
    "                             actions=resolver,\n",
    "                             agent_memories=agent.agent_states.keys())"
   ]
  },
  {
   "cell_type": "code",
   "execution_count": 19,
   "metadata": {
    "collapsed": false
   },
   "outputs": [],
   "source": [
    "def update_pool(env, pool,n_steps=100):\n",
    "    \"\"\" a function that creates new sessions and ads them into the pool\n",
    "    throwing the old ones away entirely for simplicity\"\"\"\n",
    "\n",
    "    preceding_memory_states = list(pool.prev_memory_states)\n",
    "    \n",
    "    #get interaction sessions\n",
    "    observation_tensor,action_tensor,reward_tensor,_,is_alive_tensor,_= pool.interact(step,n_steps=n_steps)\n",
    "        \n",
    "    #load them into experience replay environment\n",
    "    env.load_sessions(observation_tensor,action_tensor,reward_tensor,is_alive_tensor,preceding_memory_states)\n",
    "    \n",
    "    "
   ]
  },
  {
   "cell_type": "code",
   "execution_count": 20,
   "metadata": {
    "collapsed": false
   },
   "outputs": [],
   "source": [
    "#load first  sessions\n",
    "update_pool(env,pool,replay_seq_len)"
   ]
  },
  {
   "cell_type": "markdown",
   "metadata": {},
   "source": [
    "A more sophisticated way of training is to store a large pool of sessions and train on random batches of them. \n",
    "* Why that is expected to be better - http://www.nature.com/nature/journal/v518/n7540/full/nature14236.html\n",
    "* Or less proprietary - https://www.cs.toronto.edu/~vmnih/docs/dqn.pdf\n",
    "\n",
    "To do that, one might make use of\n",
    "* ```env.load_sessions(...)``` - load new sessions\n",
    "* ```env.get_session_updates(...)``` - does the same thing via theano updates (advanced)\n",
    "* ```batch_env = env.sample_session_batch(batch_size, ...)``` - create an experience replay environment that contains batch_size random sessions from env (rerolled each time). Should be used in training instead of env.\n",
    "* ```env.select_session_batch(indices)``` does the same thing deterministically.\n"
   ]
  },
  {
   "cell_type": "markdown",
   "metadata": {},
   "source": [
    "# Interacting with environment\n",
    "* An agent has a method that produces symbolic environment interaction sessions\n",
    "* Such sessions are in sequences of observations, agent memory, actions, q-values,etc\n",
    "  * one has to pre-define maximum session length.\n",
    "\n",
    "* SessionPool also stores rewards (reinforcement learning objective)"
   ]
  },
  {
   "cell_type": "markdown",
   "metadata": {},
   "source": [
    "### Training via experience replay\n",
    "\n",
    "* We use agent we have created to replay environment interactions inside Theano\n",
    "* to than train on the replayed sessions via theano gradient propagation\n",
    "* this is essentially basic Lasagne code after the following cell\n",
    "\n",
    "# [new]\n",
    "* Note that we not unpack several variables (policy, values) instead of Q-values\n",
    "* We than reshape V_seq from (batch, time, 1 unit) intp (batch_time)"
   ]
  },
  {
   "cell_type": "code",
   "execution_count": 21,
   "metadata": {
    "collapsed": false
   },
   "outputs": [],
   "source": [
    "#replay interaction sequences of length <= replay_seq_len\n",
    "\n",
    "_,observation_seq,_,_,(policy_seq,V_seq) = agent.get_sessions(\n",
    "    env,\n",
    "    session_length=replay_seq_len,\n",
    "    batch_size=env.batch_size,\n",
    "    optimize_experience_replay=True\n",
    ")\n",
    "\n",
    "\n",
    "\n",
    "\n",
    "#observation seq are the observation tensor we just loaded\n",
    "#policy seq are agent action probabilities predicted within experience replay\n",
    "# V_seq are agent state values\n",
    "\n",
    "#The three \"_\"s are\n",
    "#first - environment states - which is empty since we are using session pool as our environment\n",
    "#second - a dictionary of all agent memory units (RNN, GRU, NTM) - empty as we use none of them\n",
    "#last - \"imagined\" actions - actions agent would pick now if he was in that situation \n",
    "#                              - irrelevant since we are replaying and not actually playing the game now\n",
    "\n",
    "\n",
    "#reshape V_seq from (batch, time, 1 unit) intp (batch_time)\n",
    "V_seq = V_seq[:,:,0]\n",
    "\n",
    "\n",
    "#the actions agent took in the original recorded game\n",
    "action_seq = env.actions[0]\n",
    "\n",
    "#get rewards for all actions\n",
    "rewards_seq = env.rewards\n",
    "\n",
    "#get indicator whether session is still active\n",
    "is_alive_seq = env.is_alive\n"
   ]
  },
  {
   "cell_type": "markdown",
   "metadata": {},
   "source": [
    "# Evaluating loss function\n",
    "\n",
    "# [new]\n",
    "* In this part we are using an n-step Advantage Actor-Critic (A2c)\n",
    "* In this case, it's a 10-step a2c (see n_steps parameter)\n",
    "* To use Q-learning or sarsa, you will have to predict Q-values instead of probabilities\n",
    "\n",
    "* The basic interface is .get_elementwise_objective \n",
    "  * it returns loss function (here - actor-critic loss function)\n",
    "  * $ log {\\pi} \\cdot (V_{percieved} - V_{predicted}) $\n",
    "  * $\\pi$ is agent policy, $V$'s are state values\n",
    "  * Read more at http://www.arxiv.org/pdf/1602.01783v1.pdf\n",
    "    \n",
    "* If you want to do it the hard way instead, try .get_reference_state_values and compute errors on ya own\n",
    "  "
   ]
  },
  {
   "cell_type": "code",
   "execution_count": 22,
   "metadata": {
    "collapsed": false
   },
   "outputs": [],
   "source": [
    "#get reference Qvalues according to Qlearning algorithm\n",
    "\n",
    "\n",
    "from agentnet.learning import a2c_n_step\n",
    "\n",
    "#gamma - delayed reward coefficient - what fraction of reward is retained if it is obtained one tick later\n",
    "gamma = theano.shared(np.float32(0.99),name = 'q_learning_gamma')\n",
    "\n",
    "\n",
    "#IMPORTANT!\n",
    "# If you are training on a game that has rewards far outside some [-5,+5]\n",
    "# it is a good idea to downscale them to avoid divergence\n",
    "scaled_reward_seq = rewards_seq\n",
    "#For KungFuMaster, however, not scaling rewards is at least working\n",
    "\n",
    "\n",
    "elwise_a2c_loss = a2c_n_step.get_elementwise_objective(policy_seq,\n",
    "                                                       V_seq,\n",
    "                                                       action_seq,\n",
    "                                                       rewards_seq,\n",
    "                                                       is_alive_seq,\n",
    "                                                       n_steps=10, #using n-step on-policy actor-critic\n",
    "                                                       gamma_or_gammas=gamma,)\n",
    "\n",
    "#compute mean over \"alive\" fragments\n",
    "a2c_loss = elwise_a2c_loss.sum() / is_alive_seq.sum()"
   ]
  },
  {
   "cell_type": "markdown",
   "metadata": {},
   "source": [
    "### Regularization\n",
    "\n",
    "# [new]\n",
    "We regularize agent's policy with entropy\n",
    " * See here http://citeseerx.ist.psu.edu/viewdoc/download?doi=10.1.1.54.3433&rep=rep1&type=pdf (ref by that article above)\n",
    " * Basically, we punish agent for being too certain on what to do"
   ]
  },
  {
   "cell_type": "code",
   "execution_count": 23,
   "metadata": {
    "collapsed": false
   },
   "outputs": [],
   "source": [
    "#regularize network weights\n",
    "\n",
    "from lasagne.regularization import regularize_network_params, l2\n",
    "reg_l2 = regularize_network_params(resolver,l2)*10**-4\n",
    "\n",
    "\n",
    "\n",
    "#regularize with entropy, - H(p(s,theta)). \n",
    "\n",
    "entropy_reg_elwise = - T.sum(policy_seq * T.log(policy_seq),axis=-1)\n",
    "\n",
    "is_bad = T.or_(T.isinf(entropy_reg_elwise), T.isnan(entropy_reg_elwise))\n",
    "\n",
    "entropy_reg_elwise = T.switch(is_bad, 0, entropy_reg_elwise)\n",
    "\n",
    "reg_entropy =  T.sum(entropy_reg_elwise*is_alive_seq)/ is_alive_seq.sum() * 0.05\n",
    "\n",
    "\n",
    "reg = reg_l2 + reg_entropy"
   ]
  },
  {
   "cell_type": "code",
   "execution_count": 24,
   "metadata": {
    "collapsed": false
   },
   "outputs": [],
   "source": [
    "loss = a2c_loss + reg"
   ]
  },
  {
   "cell_type": "markdown",
   "metadata": {},
   "source": [
    "#### Compute weight updates"
   ]
  },
  {
   "cell_type": "code",
   "execution_count": 25,
   "metadata": {
    "collapsed": false
   },
   "outputs": [],
   "source": [
    "updates = lasagne.updates.adadelta(loss,weights,learning_rate=0.01)"
   ]
  },
  {
   "cell_type": "markdown",
   "metadata": {},
   "source": [
    "#### Some auxilary evaluation metrics"
   ]
  },
  {
   "cell_type": "code",
   "execution_count": 26,
   "metadata": {
    "collapsed": false
   },
   "outputs": [],
   "source": [
    "mean_session_reward = rewards_seq.sum(axis=1).mean()\n",
    "#..."
   ]
  },
  {
   "cell_type": "markdown",
   "metadata": {},
   "source": [
    "# Compile train and evaluation functions"
   ]
  },
  {
   "cell_type": "code",
   "execution_count": 27,
   "metadata": {
    "collapsed": false
   },
   "outputs": [],
   "source": [
    "train_fun = theano.function([],[loss,mean_session_reward],updates=updates)\n",
    "\n",
    "evaluation_fun = theano.function([],[loss,a2c_loss,reg,mean_session_reward])"
   ]
  },
  {
   "cell_type": "markdown",
   "metadata": {},
   "source": [
    "# Session visualization tools\n",
    "\n",
    "__[warning, this thing basicly tries to track various Qvalues over time]__\n",
    "\n",
    "__[but it's bulky and stupid, so don't try to understand it if it didn't come naturally]__\n",
    "\n",
    "\n",
    "* this is a completely optional step of visualizing agent's sessions as chains of actions\n",
    "* in this function, we display game image and than print strings following pattern\n",
    "  * [action_name] ([predicted action proba]) -> reward | next iteration\n",
    "  * each block represents agent's decision in a single time step following the shown game state \n",
    "\n",
    "* plot shows\n",
    "    * time ticks over X, abstract values over Y\n",
    "    * bold lines are probabilities of actions (agent policy\n",
    "    * dots on bold lines represent what actions were taken at each moment of time\n",
    "    * dashed lines are agent's hidden state neurons\n",
    "    * blue vertical line - session end\n",
    "    \n",
    "    \n",
    "if you found yourself struggling to make it do what you want for 5 minutes, go write your own tool [and contribute it :)]\n",
    "\n",
    "At the beginning, agent knows nothing (Jon) and behaves randomly\n",
    "\n",
    "\n",
    "# [new]\n",
    "We just plug in probabilities instead of Qvalues"
   ]
  },
  {
   "cell_type": "code",
   "execution_count": 28,
   "metadata": {
    "collapsed": false
   },
   "outputs": [],
   "source": [
    "from agentnet.display.sessions import print_sessions\n",
    "get_printables = theano.function([], [\n",
    "        policy_seq, action_seq,rewards_seq,is_alive_seq\n",
    "    ])\n",
    "\n",
    "def display_sessions(with_plots = False,max_n_sessions = 3,update = True):\n",
    "    \n",
    "    pictures = [atari.render(\"rgb_array\") for atari in pool.games[:max_n_sessions]]\n",
    "    \n",
    "    if update:\n",
    "        #load these pics into environment\n",
    "        update_pool(env,pool,replay_seq_len)\n",
    "    \n",
    "    \n",
    "    printables = get_printables()\n",
    "    \n",
    "    \n",
    "    for i in range(max_n_sessions):\n",
    "        plt.imshow(pictures[i])\n",
    "        plt.show()\n",
    "            \n",
    "        policy_log,actions_log,reward_log, is_alive_log = map(lambda v: np.array(v[i:i+1]), printables)\n",
    "        \n",
    "\n",
    "        print_sessions(policy_log,actions_log,reward_log,\n",
    "                       is_alive_seq = is_alive_log,\n",
    "                       action_names=action_names,\n",
    "                       legend = True, #do not show legend since there's too many labeled objects\n",
    "                      plot_policy = with_plots)"
   ]
  },
  {
   "cell_type": "code",
   "execution_count": 29,
   "metadata": {
    "collapsed": false
   },
   "outputs": [
    {
     "ename": "AttributeError",
     "evalue": "'GamePool' object has no attribute 'ataries'",
     "output_type": "error",
     "traceback": [
      "\u001b[1;31m---------------------------------------------------------------------------\u001b[0m",
      "\u001b[1;31mAttributeError\u001b[0m                            Traceback (most recent call last)",
      "\u001b[1;32m<ipython-input-29-9f87352519bd>\u001b[0m in \u001b[0;36m<module>\u001b[1;34m()\u001b[0m\n\u001b[0;32m      1\u001b[0m \u001b[1;31m#visualize untrained network performance (which is mostly random)\u001b[0m\u001b[1;33m\u001b[0m\u001b[1;33m\u001b[0m\u001b[0m\n\u001b[1;32m----> 2\u001b[1;33m \u001b[0mdisplay_sessions\u001b[0m\u001b[1;33m(\u001b[0m\u001b[0mwith_plots\u001b[0m\u001b[1;33m=\u001b[0m\u001b[0mTrue\u001b[0m\u001b[1;33m)\u001b[0m\u001b[1;33m\u001b[0m\u001b[0m\n\u001b[0m",
      "\u001b[1;32m<ipython-input-28-b8d82ff082f2>\u001b[0m in \u001b[0;36mdisplay_sessions\u001b[1;34m(with_plots, max_n_sessions, update)\u001b[0m\n\u001b[0;32m      6\u001b[0m \u001b[1;32mdef\u001b[0m \u001b[0mdisplay_sessions\u001b[0m\u001b[1;33m(\u001b[0m\u001b[0mwith_plots\u001b[0m \u001b[1;33m=\u001b[0m \u001b[0mFalse\u001b[0m\u001b[1;33m,\u001b[0m\u001b[0mmax_n_sessions\u001b[0m \u001b[1;33m=\u001b[0m \u001b[1;36m3\u001b[0m\u001b[1;33m,\u001b[0m\u001b[0mupdate\u001b[0m \u001b[1;33m=\u001b[0m \u001b[0mTrue\u001b[0m\u001b[1;33m)\u001b[0m\u001b[1;33m:\u001b[0m\u001b[1;33m\u001b[0m\u001b[0m\n\u001b[0;32m      7\u001b[0m \u001b[1;33m\u001b[0m\u001b[0m\n\u001b[1;32m----> 8\u001b[1;33m     \u001b[0mpictures\u001b[0m \u001b[1;33m=\u001b[0m \u001b[1;33m[\u001b[0m\u001b[0matari\u001b[0m\u001b[1;33m.\u001b[0m\u001b[0mrender\u001b[0m\u001b[1;33m(\u001b[0m\u001b[1;34m\"rgb_array\"\u001b[0m\u001b[1;33m)\u001b[0m \u001b[1;32mfor\u001b[0m \u001b[0matari\u001b[0m \u001b[1;32min\u001b[0m \u001b[0mpool\u001b[0m\u001b[1;33m.\u001b[0m\u001b[0mataries\u001b[0m\u001b[1;33m[\u001b[0m\u001b[1;33m:\u001b[0m\u001b[0mmax_n_sessions\u001b[0m\u001b[1;33m]\u001b[0m\u001b[1;33m]\u001b[0m\u001b[1;33m\u001b[0m\u001b[0m\n\u001b[0m\u001b[0;32m      9\u001b[0m \u001b[1;33m\u001b[0m\u001b[0m\n\u001b[0;32m     10\u001b[0m     \u001b[1;32mif\u001b[0m \u001b[0mupdate\u001b[0m\u001b[1;33m:\u001b[0m\u001b[1;33m\u001b[0m\u001b[0m\n",
      "\u001b[1;31mAttributeError\u001b[0m: 'GamePool' object has no attribute 'ataries'"
     ]
    }
   ],
   "source": [
    "#visualize untrained network performance (which is mostly random)\n",
    "display_sessions(with_plots=True)"
   ]
  },
  {
   "cell_type": "markdown",
   "metadata": {},
   "source": [
    "# Training loop"
   ]
  },
  {
   "cell_type": "code",
   "execution_count": null,
   "metadata": {
    "collapsed": true
   },
   "outputs": [],
   "source": [
    "#tools for model persistence (in progress now. Requires unique names)\n",
    "from agentnet.utils.persistence import save,load\n",
    "import os"
   ]
  },
  {
   "cell_type": "code",
   "execution_count": null,
   "metadata": {
    "collapsed": false
   },
   "outputs": [],
   "source": [
    "from agentnet.display import Metrics\n",
    "score_log = Metrics()"
   ]
  },
  {
   "cell_type": "code",
   "execution_count": null,
   "metadata": {
    "collapsed": true
   },
   "outputs": [],
   "source": [
    "#starting epoch\n",
    "epoch_counter = 1\n",
    "#moving average estimation\n",
    "alpha = 0.1\n",
    "ma_reward_current = 0.\n",
    "ma_reward_greedy = 0."
   ]
  },
  {
   "cell_type": "code",
   "execution_count": null,
   "metadata": {
    "collapsed": false
   },
   "outputs": [
    {
     "name": "stdout",
     "output_type": "stream",
     "text": [
      "epoch 10,loss 0.55093, epsilon 0.49820, rewards: ( e-greedy 0.00000, greedy 0.00000) \n",
      "rec -0.141 reg 0.692\n",
      "epoch 20,loss 2762.74563, epsilon 0.49641, rewards: ( e-greedy 6.00000, greedy 0.00000) \n",
      "rec 2762.058 reg 0.688\n",
      "epoch 30,loss 42.45105, epsilon 0.49463, rewards: ( e-greedy 6.40000, greedy 0.00000) \n",
      "rec 41.766 reg 0.685\n",
      "epoch 40,loss 0.65656, epsilon 0.49286, rewards: ( e-greedy 5.76000, greedy 0.00000) \n",
      "rec -0.021 reg 0.677\n",
      "epoch 50,loss 43.24385, epsilon 0.49109, rewards: ( e-greedy 6.18400, greedy 0.00000) \n",
      "rec 42.559 reg 0.685\n",
      "epoch 60,loss 782.03003, epsilon 0.48933, rewards: ( e-greedy 7.56560, greedy 0.00000) \n",
      "rec 781.343 reg 0.687\n",
      "epoch 70,loss 626.11918, epsilon 0.48757, rewards: ( e-greedy 8.80904, greedy 3.00000) \n",
      "rec 625.437 reg 0.682\n",
      "epoch 80,loss 505.22711, epsilon 0.48583, rewards: ( e-greedy 10.92814, greedy 4.70000) \n",
      "rec 504.543 reg 0.684\n",
      "epoch 90,loss 361.71389, epsilon 0.48409, rewards: ( e-greedy 12.83532, greedy 4.23000) \n",
      "rec 361.027 reg 0.687\n",
      "epoch 100,loss 166.30652, epsilon 0.48236, rewards: ( e-greedy 13.55179, greedy 5.80700) \n",
      "rec 165.618 reg 0.689\n",
      "epoch 110,loss 3.16961, epsilon 0.48063, rewards: ( e-greedy 12.19661, greedy 8.22630) \n",
      "rec 2.483 reg 0.686\n",
      "epoch 120,loss 541.23681, epsilon 0.47891, rewards: ( e-greedy 12.97695, greedy 9.40367) \n",
      "rec 540.552 reg 0.685\n",
      "epoch 130,loss 1580.73988, epsilon 0.47720, rewards: ( e-greedy 16.67926, greedy 10.46330) \n",
      "rec 1580.055 reg 0.685\n",
      "epoch 140,loss 2414.65737, epsilon 0.47549, rewards: ( e-greedy 19.01133, greedy 9.41697) \n",
      "rec 2413.975 reg 0.683\n",
      "epoch 150,loss 940.98817, epsilon 0.47379, rewards: ( e-greedy 21.11020, greedy 8.47528) \n",
      "rec 940.306 reg 0.682\n",
      "epoch 160,loss 774.18844, epsilon 0.47210, rewards: ( e-greedy 20.99918, greedy 7.62775) \n",
      "rec 773.508 reg 0.681\n",
      "epoch 170,loss 2.84835, epsilon 0.47042, rewards: ( e-greedy 18.89926, greedy 6.86497) \n",
      "rec 2.164 reg 0.684\n",
      "epoch 180,loss 84.67639, epsilon 0.46874, rewards: ( e-greedy 18.00933, greedy 9.17848) \n",
      "rec 83.994 reg 0.682\n",
      "epoch 190,loss 1862.18960, epsilon 0.46707, rewards: ( e-greedy 20.20840, greedy 8.26063) \n",
      "rec 1861.507 reg 0.682\n",
      "epoch 200,loss 4.73021, epsilon 0.46540, rewards: ( e-greedy 18.18756, greedy 10.43457) \n",
      "rec 4.052 reg 0.678\n",
      "epoch 210,loss 235.88343, epsilon 0.46374, rewards: ( e-greedy 17.36880, greedy 9.39111) \n",
      "rec 235.203 reg 0.681\n",
      "epoch 220,loss 4.10091, epsilon 0.46209, rewards: ( e-greedy 15.63192, greedy 12.45200) \n",
      "rec 3.424 reg 0.677\n",
      "epoch 230,loss 197.31085, epsilon 0.46045, rewards: ( e-greedy 15.06873, greedy 12.20680) \n",
      "rec 196.631 reg 0.680\n",
      "epoch 240,loss 1346.99299, epsilon 0.45881, rewards: ( e-greedy 15.56186, greedy 10.98612) \n",
      "rec 1346.313 reg 0.680\n",
      "epoch 250,loss 1350.36693, epsilon 0.45718, rewards: ( e-greedy 16.00567, greedy 10.88751) \n",
      "rec 1349.684 reg 0.683\n",
      "epoch 260,loss 2.58363, epsilon 0.45555, rewards: ( e-greedy 14.40511, greedy 11.79876) \n",
      "rec 1.899 reg 0.684\n",
      "epoch 270,loss 1373.27934, epsilon 0.45393, rewards: ( e-greedy 16.96459, greedy 10.61888) \n",
      "rec 1372.596 reg 0.683\n",
      "epoch 280,loss 323.52774, epsilon 0.45232, rewards: ( e-greedy 17.26814, greedy 13.55699) \n",
      "rec 322.844 reg 0.683\n",
      "epoch 290,loss 5.10217, epsilon 0.45071, rewards: ( e-greedy 15.54132, greedy 12.20129) \n",
      "rec 4.424 reg 0.679\n",
      "epoch 300,loss 776.38865, epsilon 0.44911, rewards: ( e-greedy 17.98719, greedy 10.98116) \n",
      "rec 775.710 reg 0.679\n",
      "epoch 310,loss 3.26949, epsilon 0.44752, rewards: ( e-greedy 16.18847, greedy 13.88305) \n",
      "rec 2.586 reg 0.684\n",
      "epoch 320,loss 2.98630, epsilon 0.44593, rewards: ( e-greedy 14.56962, greedy 19.49474) \n",
      "rec 2.304 reg 0.682\n",
      "epoch 330,loss 924.00046, epsilon 0.44435, rewards: ( e-greedy 15.11266, greedy 21.54527) \n",
      "rec 923.320 reg 0.681\n",
      "epoch 340,loss 1212.16211, epsilon 0.44278, rewards: ( e-greedy 15.60139, greedy 25.39074) \n",
      "rec 1211.491 reg 0.671\n",
      "epoch 350,loss 1952.37694, epsilon 0.44121, rewards: ( e-greedy 18.04126, greedy 22.85167) \n",
      "rec 1951.696 reg 0.681\n",
      "epoch 360,loss 1063.58183, epsilon 0.43965, rewards: ( e-greedy 18.23713, greedy 20.56650) \n",
      "rec 1062.898 reg 0.684\n",
      "epoch 370,loss 5.00078, epsilon 0.43809, rewards: ( e-greedy 16.41342, greedy 20.50985) \n",
      "rec 4.319 reg 0.682\n",
      "epoch 380,loss 6.27294, epsilon 0.43654, rewards: ( e-greedy 14.77208, greedy 18.45887) \n",
      "rec 5.586 reg 0.687\n",
      "epoch 390,loss 166.50473, epsilon 0.43500, rewards: ( e-greedy 15.29487, greedy 18.61298) \n",
      "rec 165.820 reg 0.685\n",
      "epoch 400,loss 1204.97525, epsilon 0.43346, rewards: ( e-greedy 15.76538, greedy 20.75168) \n",
      "rec 1204.294 reg 0.681\n",
      "epoch 410,loss 1545.85834, epsilon 0.43193, rewards: ( e-greedy 18.18884, greedy 23.67651) \n",
      "rec 1545.175 reg 0.684\n",
      "epoch 420,loss 5.21823, epsilon 0.43041, rewards: ( e-greedy 16.36996, greedy 21.30886) \n",
      "rec 4.533 reg 0.685\n",
      "epoch 430,loss 627.65526, epsilon 0.42889, rewards: ( e-greedy 16.73296, greedy 21.17798) \n",
      "rec 626.972 reg 0.683\n",
      "epoch 440,loss 9944.52079, epsilon 0.42738, rewards: ( e-greedy 23.05967, greedy 19.06018) \n",
      "rec 9943.839 reg 0.682\n",
      "epoch 450,loss 1658.75773, epsilon 0.42587, rewards: ( e-greedy 24.75370, greedy 20.15416) \n",
      "rec 1658.074 reg 0.684\n",
      "epoch 460,loss 123.72581, epsilon 0.42437, rewards: ( e-greedy 23.27833, greedy 21.13874) \n",
      "rec 123.043 reg 0.683\n",
      "epoch 470,loss 4.97027, epsilon 0.42288, rewards: ( e-greedy 20.95050, greedy 19.02487) \n",
      "rec 4.291 reg 0.679\n",
      "epoch 480,loss 4.14364, epsilon 0.42139, rewards: ( e-greedy 18.85545, greedy 20.12238) \n",
      "rec 3.469 reg 0.675\n",
      "epoch 490,loss 1066.35228, epsilon 0.41991, rewards: ( e-greedy 18.96990, greedy 18.11014) \n",
      "rec 1065.677 reg 0.675\n",
      "epoch 500,loss 301.89939, epsilon 0.41843, rewards: ( e-greedy 19.07291, greedy 17.29913) \n",
      "rec 301.217 reg 0.683\n",
      "Learning curves:\n"
     ]
    },
    {
     "data": {
      "image/png": "[encoded data removed]",
      "text/plain": [
       "<matplotlib.figure.Figure at 0x4fedb590>"
      ]
     },
     "metadata": {},
     "output_type": "display_data"
    },
    {
     "name": "stdout",
     "output_type": "stream",
     "text": [
      "Random session examples\n"
     ]
    },
    {
     "data": {
      "image/png": "[encoded data removed]",
      "text/plain": [
       "<matplotlib.figure.Figure at 0x53385090>"
      ]
     },
     "metadata": {},
     "output_type": "display_data"
    },
    {
     "name": "stdout",
     "output_type": "stream",
     "text": [
      "session # 0\n",
      " DOWNLEFT(qv = 0.09962143749) -> 0.0 |  NOOP(qv = 0.128700658679) -> 0.0 |  DOWNLEFTFIRE(qv = 0.0326968021691) -> 0.0 |  DOWNLEFTFIRE(qv = 0.0301934015006) -> 0.0 |  DOWN(qv = 0.0694505646825) -> 0.0 |  DOWNRIGHT(qv = 0.113727621734) -> 0.0 |  NOOP(qv = 0.185519337654) -> 0.0 |  DOWNRIGHT(qv = 0.160638570786) -> 0.0 |  UPLEFTFIRE(qv = 0.163074031472) -> 0.0 |  DOWNFIRE(qv = 0.0397851057351) -> 0.0 |  DOWNRIGHTFIRE(qv = 0.0169264189899) -> 0.0 |  NOOP(qv = 0.148952588439) -> 0.0 |  LEFTFIRE(qv = 0.0540109649301) -> 0.0 |  DOWNLEFTFIRE(qv = 0.0179382469505) -> 0.0 |  DOWNLEFT(qv = 0.144752308726) -> 0.0 |  LEFT(qv = 0.0156267564744) -> 0.0 |  NOOP(qv = 0.185734018683) -> 0.0 |  LEFTFIRE(qv = 0.0689268261194) -> 0.0 |  UPLEFTFIRE(qv = 0.164390832186) -> 0.0 |  DOWNRIGHTFIRE(qv = 0.0190376155078) -> 0.0 |  DOWNLEFT(qv = 0.177479416132) -> 0.0 |  UPLEFTFIRE(qv = 0.139996767044) -> 0.0 |  DOWN(qv = 0.0720573812723) -> 0.0 |  NOOP(qv = 0.157054916024) -> 0.0 |  UPRIGHTFIRE(qv = 0.00459331879392) -> 0.0 | reached max session length\n"
     ]
    },
    {
     "data": {
      "image/png": "[encoded data removed]",
      "text/plain": [
       "<matplotlib.figure.Figure at 0x53540dd0>"
      ]
     },
     "metadata": {},
     "output_type": "display_data"
    },
    {
     "name": "stdout",
     "output_type": "stream",
     "text": [
      "session # 0\n",
      " UPRIGHTFIRE(qv = 0.00924446433783) -> 0.0 |  DOWNFIRE(qv = 0.0347376577556) -> 0.0 |  UPLEFTFIRE(qv = 0.216017127037) -> 0.0 |  DOWNLEFT(qv = 0.158723175526) -> 0.0 |  UPRIGHTFIRE(qv = 0.00787561200559) -> 0.0 |  NOOP(qv = 0.181260332465) -> 0.0 |  DOWN(qv = 0.0647790879011) -> 0.0 |  DOWN(qv = 0.080620482564) -> 0.0 |  DOWNRIGHT(qv = 0.150678575039) -> 0.0 |  UP(qv = 0.0565137416124) -> 0.0 |  NOOP(qv = 0.128358364105) -> 0.0 |  DOWN(qv = 0.051135648042) -> 0.0 |  NOOP(qv = 0.204538375139) -> 0.0 |  DOWNLEFTFIRE(qv = 0.028140462935) -> 0.0 |  UPLEFTFIRE(qv = 0.235103875399) -> 0.0 |  NOOP(qv = 0.174139842391) -> 0.0 |  DOWNLEFTFIRE(qv = 0.0297729596496) -> 0.0 |  LEFT(qv = 0.0169122070074) -> 0.0 |  DOWNFIRE(qv = 0.0313022956252) -> 0.0 |  DOWNRIGHTFIRE(qv = 0.0140334786847) -> 0.0 |  UPLEFTFIRE(qv = 0.112758599222) -> 0.0 |  UPLEFTFIRE(qv = 0.0939703732729) -> 0.0 |  DOWNRIGHTFIRE(qv = 0.0157717633992) -> 0.0 |  RIGHTFIRE(qv = 0.0167200155556) -> 0.0 |  DOWNRIGHT(qv = 0.13335056603) -> 0.0 | reached max session length\n"
     ]
    },
    {
     "data": {
      "image/png": "[encoded data removed]",
      "text/plain": [
       "<matplotlib.figure.Figure at 0x53578a10>"
      ]
     },
     "metadata": {},
     "output_type": "display_data"
    },
    {
     "name": "stdout",
     "output_type": "stream",
     "text": [
      "session # 0\n",
      " DOWNLEFTFIRE(qv = 0.0303720254451) -> 0.0 |  DOWN(qv = 0.0736303552985) -> 0.0 |  UPLEFTFIRE(qv = 0.23910394311) -> 0.0 |  LEFTFIRE(qv = 0.0852002575994) -> 0.0 |  NOOP(qv = 0.122405029833) -> 0.0 |  LEFTFIRE(qv = 0.0885023027658) -> 0.0 |  DOWNLEFT(qv = 0.159208804369) -> 0.0 |  DOWNLEFT(qv = 0.0990520939231) -> 0.0 |  DOWNLEFT(qv = 0.115307919681) -> 0.0 |  NOOP(qv = 0.164630025625) -> 0.0 |  DOWN(qv = 0.116398915648) -> 0.0 |  UP(qv = 0.0703829675913) -> 0.0 |  DOWNLEFT(qv = 0.104966655374) -> 0.0 |  DOWN(qv = 0.122395649552) -> 0.0 |  DOWNLEFT(qv = 0.112308606505) -> 0.0 |  DOWNRIGHT(qv = 0.0876078680158) -> 0.0 |  DOWN(qv = 0.118769131601) -> 0.0 |  DOWN(qv = 0.0741019845009) -> 0.0 |  RIGHT(qv = 0.031669523567) -> 0.0 |  DOWNRIGHT(qv = 0.0999693125486) -> 0.0 |  DOWNLEFT(qv = 0.192470490932) -> 0.0 |  NOOP(qv = 0.215304419398) -> 0.0 |  DOWNRIGHT(qv = 0.106017708778) -> 0.0 |  NOOP(qv = 0.165852859616) -> 0.0 |  UP(qv = 0.0692770704627) -> 0.0 | reached max session length\n",
      "epoch 510,loss 627.98866, epsilon 0.41696, rewards: ( e-greedy 19.16562, greedy 15.56922) \n",
      "rec 627.304 reg 0.685\n",
      "epoch 520,loss 5.18826, epsilon 0.41549, rewards: ( e-greedy 17.24906, greedy 14.01230) \n",
      "rec 4.506 reg 0.683\n",
      "epoch 530,loss 969.07593, epsilon 0.41403, rewards: ( e-greedy 18.52415, greedy 12.61107) \n",
      "rec 968.390 reg 0.686\n",
      "epoch 540,loss 4.03391, epsilon 0.41258, rewards: ( e-greedy 16.67174, greedy 11.34996) \n",
      "rec 3.349 reg 0.685\n",
      "epoch 550,loss 775.46703, epsilon 0.41113, rewards: ( e-greedy 17.00456, greedy 14.21496) \n",
      "rec 774.782 reg 0.685\n",
      "epoch 560,loss 1209.77375, epsilon 0.40969, rewards: ( e-greedy 17.30411, greedy 13.79347) \n",
      "rec 1209.086 reg 0.688\n",
      "epoch 570,loss 109.76440, epsilon 0.40826, rewards: ( e-greedy 16.57370, greedy 13.41412) \n",
      "rec 109.077 reg 0.688\n",
      "epoch 580,loss 4.55633, epsilon 0.40683, rewards: ( e-greedy 14.91633, greedy 12.07271) \n",
      "rec 3.869 reg 0.687\n",
      "epoch 590,loss 4.47514, epsilon 0.40540, rewards: ( e-greedy 13.42469, greedy 14.86544) \n",
      "rec 3.788 reg 0.687\n",
      "epoch 600,loss 4.79622, epsilon 0.40398, rewards: ( e-greedy 12.08222, greedy 18.37889) \n",
      "rec 4.111 reg 0.685\n",
      "epoch 610,loss 828.10475, epsilon 0.40257, rewards: ( e-greedy 13.87400, greedy 18.54100) \n",
      "rec 827.420 reg 0.685\n",
      "epoch 620,loss 2207.89304, epsilon 0.40116, rewards: ( e-greedy 17.48660, greedy 20.68690) \n",
      "rec 2207.210 reg 0.683\n",
      "epoch 630,loss 5.13179, epsilon 0.39976, rewards: ( e-greedy 15.73794, greedy 19.61821) \n",
      "rec 4.451 reg 0.681\n",
      "epoch 640,loss 125.31464, epsilon 0.39836, rewards: ( e-greedy 15.16415, greedy 17.65639) \n",
      "rec 124.635 reg 0.680\n",
      "epoch 650,loss 45.92267, epsilon 0.39697, rewards: ( e-greedy 14.64773, greedy 21.89075) \n",
      "rec 45.240 reg 0.682\n",
      "epoch 660,loss 481.96374, epsilon 0.39559, rewards: ( e-greedy 15.18296, greedy 19.70168) \n",
      "rec 481.281 reg 0.683\n",
      "epoch 670,loss 3315.62229, epsilon 0.39421, rewards: ( e-greedy 19.66466, greedy 19.73151) \n",
      "rec 3314.942 reg 0.680\n",
      "epoch 680,loss 6.21919, epsilon 0.39283, rewards: ( e-greedy 17.69820, greedy 17.75836) \n",
      "rec 5.539 reg 0.680\n",
      "epoch 690,loss 478.30533, epsilon 0.39147, rewards: ( e-greedy 17.92838, greedy 18.98252) \n",
      "rec 477.621 reg 0.684\n",
      "epoch 700,loss 192.05595, epsilon 0.39010, rewards: ( e-greedy 19.13554, greedy 17.08427) \n",
      "rec 191.372 reg 0.684\n",
      "epoch 710,loss 612.41205, epsilon 0.38874, rewards: ( e-greedy 22.22199, greedy 15.37584) \n",
      "rec 611.727 reg 0.685\n",
      "epoch 720,loss 2232.23992, epsilon 0.38739, rewards: ( e-greedy 28.99979, greedy 15.83826) \n",
      "rec 2231.558 reg 0.682\n",
      "epoch 730,loss 347.55866, epsilon 0.38605, rewards: ( e-greedy 27.09981, greedy 17.25443) \n",
      "rec 346.876 reg 0.683\n",
      "epoch 740,loss 7.30807, epsilon 0.38470, rewards: ( e-greedy 24.38983, greedy 25.52899) \n",
      "rec 6.624 reg 0.684\n"
     ]
    }
   ],
   "source": [
    "n_epochs = 10000\n",
    "batch_size= 10\n",
    "\n",
    "for i in range(n_epochs):    \n",
    "    \n",
    "    \n",
    "    #train\n",
    "    update_pool(env,pool,replay_seq_len)\n",
    "    resolver.rng.seed(i)    \n",
    "    loss,avg_reward = train_fun()\n",
    "    \n",
    "    \n",
    "    ##update resolver's epsilon (chance of random action instead of optimal one)\n",
    "    if epoch_counter%1 ==0:\n",
    "        current_epsilon = 0.05 + 0.45*np.exp(-epoch_counter/2500.)\n",
    "        epsilon.set_value(np.float32(current_epsilon))\n",
    "    \n",
    "    \n",
    "    \n",
    "    ##record current learning progress and show learning curves\n",
    "    if epoch_counter%10 ==0:\n",
    "\n",
    "        ##update learning curves\n",
    "        full_loss, q_loss, l2_penalty, avg_reward_current = evaluation_fun()\n",
    "        ma_reward_current = (1-alpha)*ma_reward_current + alpha*avg_reward_current\n",
    "        score_log[\"expected e-greedy reward\"][epoch_counter] = ma_reward_current\n",
    "        \n",
    "        \n",
    "        \n",
    "        #greedy train\n",
    "        epsilon.set_value(0)\n",
    "        update_pool(env,pool,replay_seq_len)\n",
    "\n",
    "        avg_reward_greedy = evaluation_fun()[-1]\n",
    "        ma_reward_greedy = (1-alpha)*ma_reward_greedy + alpha*avg_reward_greedy\n",
    "        score_log[\"expected greedy reward\"][epoch_counter] = ma_reward_greedy\n",
    "        \n",
    "        \n",
    "        #back to epsilon-greedy\n",
    "        epsilon.set_value(np.float32(current_epsilon))\n",
    "        update_pool(env,pool,replay_seq_len)\n",
    "\n",
    "        print(\"epoch %i,loss %.5f, epsilon %.5f, rewards: ( e-greedy %.5f, greedy %.5f) \"%(\n",
    "            epoch_counter,full_loss,current_epsilon,ma_reward_current,ma_reward_greedy))\n",
    "        print(\"rec %.3f reg %.3f\"%(q_loss,l2_penalty))\n",
    "\n",
    "    if epoch_counter %500 ==0:\n",
    "        print(\"Learning curves:\")\n",
    "        score_log.plot()\n",
    "\n",
    "\n",
    "        print(\"Random session examples\")\n",
    "        display_sessions(with_plots=False)\n",
    "    \n",
    "    #save snapshot\n",
    "    if epoch_counter %1000 ==0:\n",
    "        snap_name = \"{}.epoch{}.pcl\".format(os.path.join(snapshot_path,experiment_setup_name), epoch_counter)\n",
    "        save(resolver,snap_name)\n",
    "        print(\"saved\", snap_name)\n",
    "\n",
    "        \n",
    "        \n",
    "    epoch_counter  +=1\n",
    "\n",
    "    \n",
    "# Time to drink some coffee!"
   ]
  },
  {
   "cell_type": "markdown",
   "metadata": {},
   "source": [
    "# Evaluating results\n",
    " * Here we plot learning curves and sample testimonials\n",
    " * we took epoch 7k for final submission\n",
    " * done via `load(resolver,\"./agentnet_snapshots/{your experiment_setup_name}.epoch7000.pcl\")`"
   ]
  },
  {
   "cell_type": "code",
   "execution_count": null,
   "metadata": {
    "collapsed": false
   },
   "outputs": [],
   "source": [
    "score_log.plot(\"final\")"
   ]
  },
  {
   "cell_type": "code",
   "execution_count": null,
   "metadata": {
    "collapsed": false
   },
   "outputs": [],
   "source": [
    "print \"Random session examples\"\n",
    "display_sessions(with_plots=True)\n"
   ]
  },
  {
   "cell_type": "markdown",
   "metadata": {
    "collapsed": true
   },
   "source": [
    "# Submission"
   ]
  },
  {
   "cell_type": "code",
   "execution_count": null,
   "metadata": {
    "collapsed": true
   },
   "outputs": [],
   "source": [
    "epsilon.set_value(0)"
   ]
  },
  {
   "cell_type": "code",
   "execution_count": null,
   "metadata": {
    "collapsed": false
   },
   "outputs": [],
   "source": [
    "\n",
    "save_path = '/tmp/AgentNet-simplenet-kungfu-v0-Recording0'\n",
    "\n",
    "subm_env = gym.make(GAME_TITLE)\n",
    "\n",
    "#starting monitor. This setup does not write videos\n",
    "subm_env.monitor.start(save_path,lambda i: False,force=True)\n",
    "\n",
    "#this setup does\n",
    "#subm_env.monitor.start(save_path,force=True)\n",
    "\n",
    "\n",
    "for i_episode in xrange(200):\n",
    "    \n",
    "    #initial observation\n",
    "    observation = subm_env.reset()\n",
    "    #initial memory\n",
    "    prev_memories = [np.zeros((1,)+tuple(mem.output_shape[1:]),dtype=floatX) \n",
    "                         for mem in agent.state_variables]\n",
    "    \n",
    "    \n",
    "    t = 0\n",
    "    while True:\n",
    "\n",
    "        action,new_memories = step([observation],prev_memories)\n",
    "        observation, reward, done, info = subm_env.step(action)\n",
    "        \n",
    "        prev_memories = new_memories\n",
    "        if done:\n",
    "            print \"Episode finished after {} timesteps\".format(t+1)\n",
    "            break\n",
    "        t+=1\n",
    "\n",
    "subm_env.monitor.close()"
   ]
  },
  {
   "cell_type": "code",
   "execution_count": null,
   "metadata": {
    "collapsed": true
   },
   "outputs": [],
   "source": [
    "gym.monitoring._monitors.clear()"
   ]
  },
  {
   "cell_type": "code",
   "execution_count": null,
   "metadata": {
    "collapsed": true
   },
   "outputs": [],
   "source": [
    "\n",
    "gym.upload(save_path,\n",
    "           \n",
    "           #this notebook\n",
    "           writeup=<url to my gist>, \n",
    "           \n",
    "           #your api key\n",
    "           api_key=<my_own_api_key>)\n"
   ]
  },
  {
   "cell_type": "code",
   "execution_count": null,
   "metadata": {
    "collapsed": false
   },
   "outputs": [],
   "source": []
  },
  {
   "cell_type": "code",
   "execution_count": null,
   "metadata": {
    "collapsed": true
   },
   "outputs": [],
   "source": [
    "\n"
   ]
  }
 ],
 "metadata": {
  "kernelspec": {
   "display_name": "Python 2",
   "language": "python",
   "name": "python2"
  },
  "language_info": {
   "codemirror_mode": {
    "name": "ipython",
    "version": 2
   },
   "file_extension": ".py",
   "mimetype": "text/x-python",
   "name": "python",
   "nbconvert_exporter": "python",
   "pygments_lexer": "ipython2",
   "version": "2.7.3"
  }
 },
 "nbformat": 4,
 "nbformat_minor": 0
}
