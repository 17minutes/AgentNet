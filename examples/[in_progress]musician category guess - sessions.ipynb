{
 "cells": [
  {
   "cell_type": "code",
   "execution_count": 1,
   "metadata": {
    "collapsed": true
   },
   "outputs": [],
   "source": [
    "experiment_setup_name = \"musicians_category_sessions_example\""
   ]
  },
  {
   "cell_type": "code",
   "execution_count": 2,
   "metadata": {
    "collapsed": true
   },
   "outputs": [],
   "source": [
    "%load_ext autoreload\n",
    "%autoreload 2\n"
   ]
  },
  {
   "cell_type": "code",
   "execution_count": 3,
   "metadata": {
    "collapsed": false
   },
   "outputs": [
    {
     "name": "stdout",
     "output_type": "stream",
     "text": [
      "env: THEANO_FLAGS='device=gpu1'\n"
     ]
    },
    {
     "name": "stderr",
     "output_type": "stream",
     "text": [
      "Using gpu device 1: Tesla K40m (CNMeM is disabled, CuDNN 4004)\n",
      "/home/jheuristic/thenv/local/lib/python2.7/site-packages/theano/tensor/signal/downsample.py:5: UserWarning: downsample module has been moved to the pool module.\n",
      "  warnings.warn(\"downsample module has been moved to the pool module.\")\n"
     ]
    }
   ],
   "source": [
    "import sys\n",
    "sys.path.append(\"..\")\n",
    "\n",
    "from matplotlib import pyplot as plt\n",
    "%matplotlib inline\n",
    "\n",
    "import pandas as pd\n",
    "import numpy as np\n",
    "\n",
    "#the problem is too simple to be run on GPU. Seriously.\n",
    "%env THEANO_FLAGS='device=gpu1'\n",
    "\n",
    "import theano\n",
    "\n",
    "import theano.tensor as T\n",
    "import lasagne\n"
   ]
  },
  {
   "cell_type": "code",
   "execution_count": 4,
   "metadata": {
    "collapsed": false
   },
   "outputs": [],
   "source": [
    "\n",
    "from config import snapshot_path\n",
    "\n",
    "floatX = theano.config.floatX\n",
    "\n",
    "from auxilary import create_shared,set_shared,_in1d\n",
    "from persistence import save,load\n"
   ]
  },
  {
   "cell_type": "code",
   "execution_count": 5,
   "metadata": {
    "collapsed": false
   },
   "outputs": [],
   "source": [
    "floatX = theano.config.floatX\n",
    "\n",
    "from auxilary import _shared,set_shared,_in1d\n",
    "from persistence import save,load\n"
   ]
  },
  {
   "cell_type": "markdown",
   "metadata": {},
   "source": [
    "# Эта тетрадка рассказывает нелёгком пути обучения\n",
    "* Recurrent Q-network \n",
    "* two layers of GRU memory\n",
    "* Qvalues predicted via dense layer from both memory layers\n",
    "* epsilon-greedy decision making\n",
    "* trained with Adadelta"
   ]
  },
  {
   "cell_type": "markdown",
   "metadata": {},
   "source": [
    "# Постановка задачи\n",
    "* В начале сетке даётся некоторый человек, про которого она пока ничего не знает\n",
    "* Человек - музыкант или околомузыкальная личность (с меньшей вероятностью - группа или... страна)\n",
    "* Про человека известен некоторый набор фактов\n",
    " * факты типа \"Известно, что\" - за то, что какой-то аттрибут есть в его вики-карточке\n",
    "   * например Nickname:is_known - есть прозвище, Died:is_known - есть дата смерти\n",
    " * Категориальные факты\n",
    "   * инструменты, на которых играет человек\n",
    "   * происхождение\n",
    "   * декады активности\n",
    "   * и т.п.\n",
    "\n",
    "\n",
    "* За один шаг сетка может\n",
    " * сказать, что какой-то аттрибут про пользователя есть\n",
    "   * например, Nickname:is_known - предположение, что у пользователя есть прозвище\n",
    "   * если догадка верна, сеть получает положительное подкрепление (\"конфетку\")\n",
    "   * если нет - отрицательное (\"подзатыльник\")\n",
    " * сказать \"больше ничего не угадаю, несите следующего\"\n",
    "   * нулевое подкрепление\n",
    "   * случайно выбирается следующий пользователь\n",
    "  "
   ]
  },
  {
   "cell_type": "markdown",
   "metadata": {},
   "source": [
    "# данные\n",
    "* Всего в выборке 393 аттрибута\n",
    " * примеры аттрибутов в табе ниже\n",
    "* В данном случае сеть обучается на чуть менее, чем 2500 случайных людей\n",
    "* всего в выборке почти 100к людей/групп/всякого трэша"
   ]
  },
  {
   "cell_type": "code",
   "execution_count": 8,
   "metadata": {
    "collapsed": false
   },
   "outputs": [],
   "source": [
    "#вгрузим данные про кучу музыкантов \n",
    "#как оно собирается - ./data/preprocessing.ipynb\n",
    "import pandas as pd\n",
    "df = pd.DataFrame.from_csv(\"../data/musicians_categorized.csv\")"
   ]
  },
  {
   "cell_type": "code",
   "execution_count": 9,
   "metadata": {
    "collapsed": false
   },
   "outputs": [
    {
     "name": "stdout",
     "output_type": "stream",
     "text": [
      "0.0346481118134\n",
      "(22612, 393)\n"
     ]
    },
    {
     "data": {
      "image/png": "[encoded data removed]",
      "text/plain": [
       "<matplotlib.figure.Figure at 0x3742f90>"
      ]
     },
     "metadata": {},
     "output_type": "display_data"
    }
   ],
   "source": [
    "#гистограмма количества аттрибутов известных про музыканта\n",
    "plt.hist((df.values).sum(axis=1),bins=50)\n",
    "print (df.values).mean()\n",
    "print df.shape"
   ]
  },
  {
   "cell_type": "code",
   "execution_count": 10,
   "metadata": {
    "collapsed": false
   },
   "outputs": [
    {
     "name": "stdout",
     "output_type": "stream",
     "text": [
      "всего самплов (8594, 393)\n"
     ]
    }
   ],
   "source": [
    "#отрежем тех, про кого известно менее 5 аттрибутов\n",
    "df =  df[df.values.sum(axis=1) > 15]\n",
    "print \"всего самплов\", df.shape"
   ]
  },
  {
   "cell_type": "code",
   "execution_count": 11,
   "metadata": {
    "collapsed": true
   },
   "outputs": [],
   "source": [
    "from sklearn.cross_validation import train_test_split"
   ]
  },
  {
   "cell_type": "code",
   "execution_count": 12,
   "metadata": {
    "collapsed": false
   },
   "outputs": [],
   "source": [
    "#split categories and attributes\n",
    "feature_names = df.columns\n",
    "categorical_columns = np.nonzero(map(lambda s: s.startswith(\"category:\"),feature_names))[0]\n",
    "attribute_columns = np.nonzero(map(lambda s: not s.startswith(\"category:\"),feature_names))[0]\n",
    "\n",
    "data_cats = df.iloc[:,categorical_columns]\n",
    "data_attrs = df.iloc[:,attribute_columns]\n",
    "\n"
   ]
  },
  {
   "cell_type": "code",
   "execution_count": 57,
   "metadata": {
    "collapsed": false
   },
   "outputs": [
    {
     "name": "stdout",
     "output_type": "stream",
     "text": [
      "обучающая выборка: 7734\n",
      "контрольная выборка: 860\n"
     ]
    }
   ],
   "source": [
    "#поделим выборку\n",
    "train_cats,test_cats,train_attrs,test_attrs = train_test_split(data_cats,data_attrs,test_size=0.1,random_state=42)\n",
    "print \"обучающая выборка:\" ,len(train_attrs)\n",
    "print \"контрольная выборка:\", len(test_attrs)"
   ]
  },
  {
   "cell_type": "markdown",
   "metadata": {},
   "source": [
    "# problem definition\n",
    "\n",
    "Обучатор состоит из 2 частей\n",
    "* \"среды обучения\"\n",
    "* определятора полезностей\n",
    "* самой нейронки\n",
    "\n",
    "Среда обучения - такая штука, которая \n",
    "* подсовывает нейронке людей, \n",
    " * каждый раз выбирается случайное подмножество людей \n",
    "   * (можно и 100 и 10 - просто не успел сравнить)\n",
    "   * возвращает ответы на действия нейронки, попутно обновляя своё состояние\n",
    "Определятор полезностей\n",
    "* умеет считать полезность каждого действия по паре \"состояние СРЕДЫ, действие агента ИЗ этого состояния\"\n",
    "* имеет функции для быстрого определения наград за все действия в сессиях\n",
    "\n",
    "Нейронка будет далее по списку\n",
    "\n",
    "\n",
    "__***для простоты, CategoryGuess будет имплементировать И среду И награждатор (см. класс ниже)***__"
   ]
  },
  {
   "cell_type": "code",
   "execution_count": 58,
   "metadata": {
    "collapsed": false
   },
   "outputs": [],
   "source": [
    "from objective import BaseObjective\n",
    "from environment import BaseEnvironment\n",
    "\n",
    "class CategoryGuess(BaseObjective,BaseEnvironment):\n",
    "    def __init__(self,n_attrs,n_categories,batch_size=10):\n",
    "        self._attributes = _shared(\"X_attrs_data\",np.zeros([batch_size,n_attrs]),'uint8')\n",
    "        self._categories =  _shared(\"categories_data\",np.zeros([batch_size,n_categories]),'uint8')\n",
    "        self._batch_size = self._attributes.shape[0]\n",
    "        \n",
    "        _end_action = T.zeros([self._batch_size,1], dtype='uint8')\n",
    "        \n",
    "        self._joint_data = T.concatenate([self._attributes,\n",
    "                                          self._categories,\n",
    "                                          _end_action,\n",
    "                                         ],axis=1).astype('float32') #it is highly important to make sure \n",
    "        #that variables touched by theano.grad have float* type\n",
    "    \n",
    "        #indices\n",
    "        self._category_action_ids = T.arange(\n",
    "            self._attributes.shape[1],\n",
    "            self._attributes.shape[1]+self._categories.shape[1]\n",
    "        )\n",
    "        \n",
    "        self._end_action_id = self._joint_data.shape[1]-1\n",
    "    def load_data_batch(self,attrs_batch,categories_batch):\n",
    "        attrs_batch = np.array(attrs_batch)\n",
    "        categories_batch = np.array(categories_batch)\n",
    "        set_shared(self._attributes,attrs_batch)\n",
    "        set_shared(self._categories,categories_batch)\n",
    "\n",
    "    @property\n",
    "    def n_actions(self):\n",
    "        return int(self._joint_data.shape[1].eval())\n",
    "    @property\n",
    "    def observation_size(self):\n",
    "        return int((self._joint_data.shape[1]+2).eval())\n",
    "    @property\n",
    "    def state_size(self):\n",
    "        return int(self._joint_data.shape[1].eval())\n",
    "    @property\n",
    "    def batch_size(self):\n",
    "        return int(self._batch_size.get_value())    \n",
    "    \n",
    "    def get_action_results(self,last_state,action,time_i):\n",
    "        \n",
    "        #state is a boolean vector: whether or not i-th action\n",
    "        #was tried already during this session\n",
    "        #last output[:,end_code] always remains 1 after first being triggered\n",
    "        \n",
    "        \n",
    "        batch_range = T.arange(action.shape[0])\n",
    "\n",
    "        can_do_action = T.eq(last_state[:,self._end_action_id],0)\n",
    "        \n",
    "        state_after_action = T.set_subtensor(last_state[batch_range,action],1)\n",
    "        \n",
    "        new_state = T.switch(\n",
    "            can_do_action.reshape([-1,1]),\n",
    "            state_after_action,\n",
    "            last_state\n",
    "        )\n",
    "        \n",
    "        \n",
    "        \n",
    "        observation = T.concatenate([\n",
    "                self._joint_data[batch_range,action,None],#uint8[batch,1]\n",
    "                can_do_action[:,None], #uint8[batch,1]\n",
    "                T.extra_ops.to_one_hot(action,self._joint_data.shape[1]),\n",
    "            ],axis=1)\n",
    "        \n",
    "        return new_state, observation\n",
    "    def is_alive(self,observation_seq):\n",
    "        \"\"\"\n",
    "        accepts observation sequence [batch,time,unit] and returns whether session is alive uint8[batch,time]\n",
    "        \"\"\"\n",
    "        return T.eq(observation_seq[:,:,1],0)\n",
    "\n",
    "    def get_reward(self,session_states,session_actions,batch_i):\n",
    "        \"\"\"\n",
    "        WARNING! this runs on a single session, not on a batch\n",
    "        reward given for taking the action in current environment state\n",
    "        arguments:\n",
    "            session_states float[batch_id, memory_id]: environment state before taking action\n",
    "            session_actions int[batch_id]: agent action at this tick\n",
    "        returns:\n",
    "            reward float[batch_id]: reward for taking action from the given state\n",
    "        \"\"\"\n",
    "        time_range = T.arange(session_actions.shape[0])\n",
    "        \n",
    "\n",
    "        _has_tried_already = session_states[time_range,session_actions]\n",
    "        _session_is_active = T.eq(session_states[:,self._end_action_id],0)\n",
    "        _has_finished_now = T.eq(session_actions,self._end_action_id)\n",
    "        _action_is_categorical = _in1d(session_actions, self._category_action_ids)\n",
    "        \n",
    "        _response = self._joint_data[batch_i,session_actions].ravel()\n",
    "        \n",
    "        #categorical and attributes\n",
    "        _reward_for_intermediate_action = T.switch(\n",
    "            _action_is_categorical,\n",
    "            _response*4-1,\n",
    "            _response*2-1\n",
    "        )\n",
    "        #include end action\n",
    "        _reward_for_action = T.switch(\n",
    "            _has_finished_now,\n",
    "            0,\n",
    "            _reward_for_intermediate_action,\n",
    "        )\n",
    "        \n",
    "        _reward_if_first_time = T.switch(\n",
    "                _has_tried_already,\n",
    "                0,\n",
    "                _reward_for_action,\n",
    "            )\n",
    "        \n",
    "        _final_reward = T.switch(\n",
    "            _session_is_active,\n",
    "            _reward_if_first_time,\n",
    "            0,\n",
    "\n",
    "            \n",
    "        )\n",
    "        \n",
    "        \n",
    "        return _final_reward.astype(floatX)"
   ]
  },
  {
   "cell_type": "code",
   "execution_count": 59,
   "metadata": {
    "collapsed": false
   },
   "outputs": [],
   "source": [
    "env = CategoryGuess(train_attrs.shape[1],train_cats.shape[1],5)"
   ]
  },
  {
   "cell_type": "code",
   "execution_count": 60,
   "metadata": {
    "collapsed": true
   },
   "outputs": [],
   "source": [
    "def load_random_batch(env,attrs,cats,batch_size=10):\n",
    "    \"\"\"loads new data samples into environment\"\"\"\n",
    "    attrs,cats = np.array(attrs),np.array(cats)\n",
    "    \n",
    "    assert len(attrs) == len(cats)\n",
    "    batch_ids = np.random.randint(0,len(attrs),batch_size)\n",
    "    env.load_data_batch(attrs[batch_ids],cats[batch_ids])"
   ]
  },
  {
   "cell_type": "markdown",
   "metadata": {},
   "source": [
    "# agent setup\n",
    "В свою очередь, нейронка состоит из 3 частей\n",
    "* память агента\n",
    "    * на вход получает пару (предыдущее состояние памятиа агента, сенсорная инфа о среде на ЭТОМ шагу)\n",
    "    * определяет текущее состояние памяти агента (на том же шагу, что и сенсорная инф-ция со входа)\n",
    "    * тут - GRUlayer, в потенциале - вообще что угодно, хоть 10 шагов LSTM за 1 раз\n",
    "       * какой именно GRUlayer:\n",
    "       * Reset gate - dense w/ expit\n",
    "       * Update gate - dense w/ expit\n",
    "       * Hidden update gate - dense w/ tanh\n",
    "\n",
    "* определятор Q-значений\n",
    "    * на вход получает память агента\n",
    "    * определяет Q_значения каждого действия\n",
    "    * тут - DenseLayer, потенциал - что угодно\n",
    "* приниматор решений по Q-значениям\n",
    "    * на вход получает Q-значения для действий\n",
    "    * определяет, как вывод нейронки трансформируется в решение,\n",
    "    * формат выхода - целые числа - номера выбранных действий\n",
    "     * тут - с вероятностью epsilon берётся решение, \n",
    "       * которому предсказана наибольшая полезность\n",
    "       * иначе берётся случайное равновероятное\n",
    "     * альтернативный вариант - решения выбираются с веростностями\n",
    "       * $Pi(a) = softmax(Qi(a)) = {e^{Qi(x)}} / {\\sum\\limits_{j=1}^n e^{Qj(X)}}$ \n",
    "       * где Q(a) - предсказанная полезность действия a\n",
    "* всё это делается векторизованно для батча произвольной размерности\n",
    "\n",
    "\n",
    "### Agent - просто обёртка над этими 3 пунктами\n",
    "* строго говоря, можно воткнуть любую нейронку, которая мапает \n",
    "* `float last_agent_state[batch,units], float observation[batch,sensors] ->`\n",
    "* `-> float new_agent_state[batch,units], float qvalues[batch,actions], int actions[batch]`\n"
   ]
  },
  {
   "cell_type": "code",
   "execution_count": 61,
   "metadata": {
    "collapsed": false
   },
   "outputs": [],
   "source": [
    "from resolver import EpsilonGreedyResolver\n",
    "from memory import GRUMemoryLayer\n",
    "from agent import Agent"
   ]
  },
  {
   "cell_type": "code",
   "execution_count": 62,
   "metadata": {
    "collapsed": false
   },
   "outputs": [],
   "source": [
    "import lasagne\n",
    "__idea__=\"\"\"\n",
    " \n",
    "We train two memory states:\n",
    "    first one, based on observations, and second one, based on first one;\n",
    "\n",
    "Note that here we update the second memory layer based on the CURRENT state\n",
    "of the first one. Instead, you can try to feed it with a previous state.\n",
    "\n",
    "The q-values are estimated on a concatenated state, effectively on both memory\n",
    "states together, but there is no problem with limiting q-evaluator to only one:\n",
    "just pass the correct gru layer as an incoming layer to the q-evaluator.\n",
    "\n",
    "Implementation:\n",
    "We concatenate both memories into 1 state to pass it through the session loop.\n",
    "\n",
    "To perform memory update, we need to slice the concatenated state back into\n",
    "two memory states.\n",
    "\n",
    "We do so by defining an input map function and passing it into agent.\n",
    "\n",
    "We than concatenate two new states back to form a new memory state.\n",
    "\n",
    "\"\"\"\n",
    "n_hid_1=256 #first GRU memory\n",
    "n_hid_2=128 #second GRU memory\n",
    "\n",
    "\n",
    "_observation_layer = lasagne.layers.InputLayer([None,env.observation_size],name=\"obs_input\")\n",
    "\n",
    "_prev_gru1_layer = lasagne.layers.InputLayer([None,n_hid_1],name=\"prev_gru1_state_input\")\n",
    "_prev_gru2_layer = lasagne.layers.InputLayer([None,n_hid_2],name=\"prev_gru2_state_input\")\n",
    "\n",
    "#memory\n",
    "gru1 = GRUMemoryLayer(n_hid_1,\n",
    "                     _observation_layer,\n",
    "                     _prev_gru1_layer,\n",
    "                     name=\"gru1\")\n",
    "\n",
    "gru2 = GRUMemoryLayer(n_hid_2,\n",
    "                     gru1,        #note that it takes CURRENT gru1 output as input.\n",
    "                                  #replacing that with _prev_gru1_state would imply taking previous one.\n",
    "                     _prev_gru2_layer,\n",
    "                     name=\"gru2\")\n",
    "\n",
    "concatenated_memory = lasagne.layers.concat([gru1,gru2])\n",
    "\n",
    "#q_eval\n",
    "q_eval = lasagne.layers.DenseLayer(concatenated_memory, #taking both memories. \n",
    "                                                        #Replacing with gru1 or gru2 would mean taking one\n",
    "                                   num_units = env.n_actions,\n",
    "                                   nonlinearity=lasagne.nonlinearities.linear,name=\"QEvaluator\")\n",
    "#resolver\n",
    "epsilon = _shared(\"e-greedy.epsilon\",0.9,dtype=floatX)\n",
    "\n",
    "resolver = EpsilonGreedyResolver(q_eval,epsilon=epsilon,name=\"resolver\")\n",
    "\n",
    "\n",
    "\n",
    "#we need to define the new input map because concatenated_memory is a ConcatLayer and does not have default one\n",
    "\n",
    "def custom_input_map(last_hidden,observation):\n",
    "    \"\"\"just a function that maps memory states to respective inputs\"\"\"\n",
    "    return {\n",
    "        _prev_gru1_layer:last_hidden[:,0:n_hid_1],\n",
    "        _prev_gru2_layer:last_hidden[:,n_hid_1:n_hid_1+n_hid_2],\n",
    "        _observation_layer:observation\n",
    "    }\n",
    "\n",
    "#all together\n",
    "agent = Agent(concatenated_memory,q_eval,resolver,input_map=custom_input_map\n",
    "             )\n"
   ]
  },
  {
   "cell_type": "markdown",
   "metadata": {},
   "source": [
    "# weights\n",
    "* вот так нахаляву можно вытащить ВСЕ веса нейронок агента\n",
    "* что НЕ вытаскивается \n",
    " * архитектура сети\n",
    " * гиперпараметры (жадность, gamma)\n",
    " * состояния среды/наблюдения\n",
    "* короче, вытаскиваются только \"нейронячие\" параметры\n",
    "* хочешь, чтобы в твоём слое вытащилась какая-то shared переменная - добавь её в параметры слоя [с каким-ть тэгом, если хочешь]\n",
    "* всё как в ванильной лазанье"
   ]
  },
  {
   "cell_type": "code",
   "execution_count": 63,
   "metadata": {
    "collapsed": false
   },
   "outputs": [
    {
     "data": {
      "text/plain": [
       "[gru1.W_in_to_updategate,\n",
       " gru1.W_hid_to_updategate,\n",
       " gru1.b_updategate,\n",
       " gru1.W_in_to_resetgate,\n",
       " gru1.W_hid_to_resetgate,\n",
       " gru1.b_resetgate,\n",
       " gru1.W_in_to_hidden_update,\n",
       " gru1.W_hid_to_hidden_update,\n",
       " gru1.b_hidden_update,\n",
       " gru2.W_in_to_updategate,\n",
       " gru2.W_hid_to_updategate,\n",
       " gru2.b_updategate,\n",
       " gru2.W_in_to_resetgate,\n",
       " gru2.W_hid_to_resetgate,\n",
       " gru2.b_resetgate,\n",
       " gru2.W_in_to_hidden_update,\n",
       " gru2.W_hid_to_hidden_update,\n",
       " gru2.b_hidden_update,\n",
       " QEvaluator.W,\n",
       " QEvaluator.b]"
      ]
     },
     "execution_count": 63,
     "metadata": {},
     "output_type": "execute_result"
    }
   ],
   "source": [
    "#all trainable weights\n",
    "weights = lasagne.layers.get_all_params(resolver,trainable=True)\n",
    "weights"
   ]
  },
  {
   "cell_type": "markdown",
   "metadata": {},
   "source": [
    "### подгружаем предобученную сеточку"
   ]
  },
  {
   "cell_type": "code",
   "execution_count": 64,
   "metadata": {
    "collapsed": false
   },
   "outputs": [],
   "source": [
    "load_weights = True\n",
    "if load_weights:\n",
    "    starting_epoch = 5000\n",
    "    epoch_counter = starting_epoch+1\n",
    "    pre_trained_network_experiment =  \"musicians_category_multilayer_example\"\n",
    "    load(resolver,\"/home/jheuristic/yozhik/agentnet_snapshots/{}.epoch{}.pcl\".format(pre_trained_network_experiment,starting_epoch))"
   ]
  },
  {
   "cell_type": "markdown",
   "metadata": {},
   "source": [
    "# Interactions with environment"
   ]
  },
  {
   "cell_type": "code",
   "execution_count": 65,
   "metadata": {
    "collapsed": false
   },
   "outputs": [],
   "source": [
    "seq_length = 20\n",
    "history = agent.get_sessions(env,session_length=seq_length,\n",
    "                       batch_size=env._joint_data.shape[0],)\n",
    "state_seq,observation_seq,hidden_seq,qvalues_seq,action_seq = history\n",
    "\n",
    "rewards_seq = env.get_reward_sequences(state_seq,action_seq)\n"
   ]
  },
  {
   "cell_type": "code",
   "execution_count": 66,
   "metadata": {
    "collapsed": false
   },
   "outputs": [],
   "source": [
    "get_history = theano.function([],history+(rewards_seq,),mode=theano.compile.mode.FAST_RUN)\n",
    "\n"
   ]
  },
  {
   "cell_type": "markdown",
   "metadata": {},
   "source": [
    "# Session pool init and updates"
   ]
  },
  {
   "cell_type": "code",
   "execution_count": 67,
   "metadata": {
    "collapsed": false
   },
   "outputs": [],
   "source": [
    "from sessions import SessionEnvironment\n",
    "session_pool = SessionEnvironment()"
   ]
  },
  {
   "cell_type": "code",
   "execution_count": 70,
   "metadata": {
    "collapsed": false
   },
   "outputs": [],
   "source": [
    "#a new batch was loaded\n",
    "env.load_data_batch(train_attrs[:100],train_cats[:100])"
   ]
  },
  {
   "cell_type": "code",
   "execution_count": 69,
   "metadata": {
    "collapsed": false
   },
   "outputs": [
    {
     "data": {
      "text/plain": [
       "[]"
      ]
     },
     "execution_count": 69,
     "metadata": {},
     "output_type": "execute_result"
    }
   ],
   "source": [
    "#initialize the pool\n",
    "initial_update_pool= session_pool.get_session_updates(observation_seq,action_seq,rewards_seq)\n",
    "\n",
    "\n",
    "init_pool_fun = theano.function([],updates=initial_update_pool)\n",
    "init_pool_fun()"
   ]
  },
  {
   "cell_type": "markdown",
   "metadata": {},
   "source": [
    "### update pool"
   ]
  },
  {
   "cell_type": "code",
   "execution_count": 71,
   "metadata": {
    "collapsed": true
   },
   "outputs": [],
   "source": [
    "#add new sessions to pool\n",
    "\n",
    "new_observation_seq = T.concatenate([session_pool.observations,observation_seq],axis=0)\n",
    "new_action_seq = T.concatenate([session_pool.actions,action_seq],axis=0)\n",
    "new_rewards_seq = T.concatenate([session_pool.rewards,rewards_seq],axis=0)\n",
    "\n",
    "extend_update_pool= session_pool.get_session_updates(new_observation_seq,new_action_seq,new_rewards_seq)\n",
    "\n",
    "expand_pool_fun = theano.function([],updates=extend_update_pool)"
   ]
  },
  {
   "cell_type": "code",
   "execution_count": 72,
   "metadata": {
    "collapsed": true
   },
   "outputs": [],
   "source": [
    "replay_log = agent.get_sessions(session_pool,session_length=seq_length,\n",
    "                       batch_size=session_pool.actions.shape[0],)\n",
    "\n",
    "\n",
    "_,_,hidden_replay,qvalues_replay,untaken_actions_replay = replay_log\n",
    "actions_replay = session_pool.actions\n",
    "#in these sessions, states are fake single-zero placeholders, \n",
    "#observations are equal to session_pool.observations,\n",
    "#untaken_actions_replay are actions that agent would want to take, but didn't\n",
    "#session_pool.actions are the replayed actions\n",
    "\n",
    "\n",
    "#Since actions did not change, we can use the old rewards\n",
    "#TODO: add DontDoThatError to SessionEnvironment.get_reward_whatever\n",
    "rewards_replay = session_pool.rewards\n"
   ]
  },
  {
   "cell_type": "code",
   "execution_count": 73,
   "metadata": {
    "collapsed": false
   },
   "outputs": [],
   "source": [
    "#replay Qvalues\n",
    "\n",
    "\n",
    "#indicator that i-th batch is alive by j-th timestamp\n",
    "is_alive_replay = env.is_alive(session_pool.observations)\n",
    "\n",
    "#gamma - delayed reward coefficient - what fraction of reward is retained if it is obtained one tick later\n",
    "gamma = _shared('q_learning_gamma',np.float32(0.95),floatX)\n",
    "\n",
    "Qpredicted_replay, Qreference_replay, is_end_replay = session_pool.get_reference(\n",
    "    qvalues_replay,actions_replay,rewards_replay,\n",
    "    is_alive_replay,gamma_or_gammas=gamma,)\n"
   ]
  },
  {
   "cell_type": "code",
   "execution_count": 74,
   "metadata": {
    "collapsed": false
   },
   "outputs": [],
   "source": [
    "#Qvalues error\n",
    "\n",
    "squared_error = lasagne.objectives.squared_error(Qpredicted_replay,Qreference_replay)\n",
    "\n",
    "#session mse = sum(errors_while_alive) / num_alive_ticks\n",
    "replay_session_mse =  (squared_error * is_alive_replay).sum(axis=1) / T.sum(is_alive_replay,axis=1)\n",
    "\n"
   ]
  },
  {
   "cell_type": "code",
   "execution_count": 75,
   "metadata": {
    "collapsed": false
   },
   "outputs": [],
   "source": [
    "#worst N\n",
    "pool_size = _shared(\"pool_size\",250,dtype='int32')\n",
    "\n",
    "order_by_error = T.argsort(replay_session_mse)\n",
    "\n",
    "survived_ids = order_by_error[-pool_size:][::-1]\n",
    "\n",
    "shrinked_observation_seq = session_pool.observations[survived_ids] \n",
    "shrinked_action_seq = session_pool.actions[survived_ids]\n",
    "shrinked_rewards_seq = session_pool.rewards[survived_ids]\n",
    "\n"
   ]
  },
  {
   "cell_type": "code",
   "execution_count": 76,
   "metadata": {
    "collapsed": true
   },
   "outputs": [],
   "source": [
    "#metrics\n",
    "shrinked_pool_mse = replay_session_mse[survived_ids].mean()\n",
    "avg_new_reward = T.sum(rewards_seq,axis=1).mean()\n",
    "avg_pool_reward = T.sum(rewards_replay,axis=1).mean()"
   ]
  },
  {
   "cell_type": "code",
   "execution_count": 77,
   "metadata": {
    "collapsed": false
   },
   "outputs": [],
   "source": [
    "from collections import OrderedDict\n",
    "\n",
    "pool_updates = session_pool.get_session_updates(shrinked_observation_seq,shrinked_action_seq,shrinked_rewards_seq)\n",
    "\n",
    "shrink_pool_fun = theano.function([],[shrinked_pool_mse,avg_new_reward,avg_pool_reward],updates=pool_updates)"
   ]
  },
  {
   "cell_type": "code",
   "execution_count": 78,
   "metadata": {
    "collapsed": false
   },
   "outputs": [],
   "source": [
    "def update_session_pool(new_batch_attrs,new_batch_cats,sample_size=None):\n",
    "    \"\"\"expands pool with new sessions and than shrinks it to pool_size\"\"\"\n",
    "    if sample_size == None:\n",
    "        sample_size = len(new_batch_attrs)\n",
    "    load_random_batch(env,new_batch_attrs,new_batch_cats,sample_size)\n",
    "    expand_pool_fun()\n",
    "    return shrink_pool_fun()\n"
   ]
  },
  {
   "cell_type": "markdown",
   "metadata": {
    "collapsed": false
   },
   "source": [
    "### train from session pool"
   ]
  },
  {
   "cell_type": "code",
   "execution_count": 79,
   "metadata": {
    "collapsed": false
   },
   "outputs": [],
   "source": [
    "loss_mse = replay_session_mse.mean()\n",
    "from lasagne.regularization import  regularize_network_params,l2\n",
    "loss_l2 = lasagne.regularization.regularize_network_params(gru2,l2)*10**-5\n",
    "\n",
    "\n",
    "training_loss = loss_mse + loss_l2"
   ]
  },
  {
   "cell_type": "markdown",
   "metadata": {},
   "source": [
    "# алгоритм обучения\n",
    "* обучаются все параметры обычным Stochastic Gradient Descent с Nestrov Mommentum\n",
    "* регуляризации нет, ибо пока не понадобилась"
   ]
  },
  {
   "cell_type": "code",
   "execution_count": 80,
   "metadata": {
    "collapsed": false
   },
   "outputs": [],
   "source": [
    "weight_updates = lasagne.updates.adadelta(training_loss,weights,learning_rate=0.05)"
   ]
  },
  {
   "cell_type": "code",
   "execution_count": 81,
   "metadata": {
    "collapsed": false
   },
   "outputs": [],
   "source": [
    "\n",
    "\n",
    "replay_train_fun = theano.function([],[loss_mse,loss_l2],updates=weight_updates )"
   ]
  },
  {
   "cell_type": "markdown",
   "metadata": {},
   "source": [
    "# training loop"
   ]
  },
  {
   "cell_type": "code",
   "execution_count": 94,
   "metadata": {
    "collapsed": true
   },
   "outputs": [],
   "source": [
    "from collections import defaultdict\n",
    "\n",
    "epoch_counter = 1\n",
    "score_log = defaultdict(dict) #{metric_name: {epoch:value} }\n",
    "\n",
    "def plot_scores(title=\"metrics\"):\n",
    "    plt.figure(figsize=[10,10])\n",
    "    plt.title(\"metrics history\")\n",
    "    for metric_name, metric_dict in score_log.items():            \n",
    "        plt.plot(*zip(*sorted(metric_dict.items())),label = metric_name)\n",
    "\n",
    "    plt.title(title)\n",
    "    plt.grid()\n",
    "    plt.legend(loc='lower right')\n",
    "    plt.show()\n"
   ]
  },
  {
   "cell_type": "code",
   "execution_count": 95,
   "metadata": {
    "collapsed": true
   },
   "outputs": [],
   "source": [
    "epoch_counter = 5001\n",
    "alpha = 0.1\n",
    "ma_reward = 0.\n",
    "ma_pool_reward = 0.\n"
   ]
  },
  {
   "cell_type": "code",
   "execution_count": null,
   "metadata": {
    "collapsed": false
   },
   "outputs": [
    {
     "name": "stdout",
     "output_type": "stream",
     "text": [
      "learning curves by epoch: 10000\n"
     ]
    },
    {
     "data": {
      "image/png": "[encoded data removed]",
      "text/plain": [
       "<matplotlib.figure.Figure at 0x4776e6d0>"
      ]
     },
     "metadata": {},
     "output_type": "display_data"
    },
    {
     "name": "stdout",
     "output_type": "stream",
     "text": [
      "snapshot saved\n",
      "epoch 10000, q-loss 6.9143, l2-loss 0.064719, greed 0.3631, rewards: ( active -12.94522, pool -12.31405)\n"
     ]
    }
   ],
   "source": [
    "n_epochs = 100000\n",
    "\n",
    "pool_update_size = 250\n",
    "\n",
    "for i in range(n_epochs):\n",
    "    \n",
    "    resolver.rng.seed(epoch_counter)\n",
    "    \n",
    "    creeping_greed = min(0.1 + (1.-np.exp(-epoch_counter/50000.)*0.9),0.95)\n",
    "    creeping_epsilon = 1.-creeping_greed\n",
    "    \n",
    "    \n",
    "    loss_tuple = replay_train_fun()\n",
    "    q_loss,reg_loss = map(float,loss_tuple)\n",
    "    \n",
    "    \n",
    "    if epoch_counter %10==0:\n",
    "        #update epsilon\n",
    "        set_shared(resolver.epsilon,creeping_epsilon)\n",
    "\n",
    "    if epoch_counter %100==0:\n",
    "\n",
    "        \n",
    "        #reward loss moving average\n",
    "        _,avg_reward,avg_pool_reward = update_session_pool(train_attrs,train_cats,pool_update_size)\n",
    "        ma_reward = alpha*avg_reward+ (1-alpha)*ma_reward\n",
    "        ma_pool_reward = alpha*avg_pool_reward+ (1-alpha)*ma_pool_reward\n",
    "    \n",
    "    \n",
    "    \n",
    "    \n",
    "    if epoch_counter%1000==0:\n",
    "        print \"learning curves by epoch:\",epoch_counter\n",
    "        plot_scores(experiment_setup_name)\n",
    "\n",
    "        \n",
    "    if epoch_counter% 5000 ==0:\n",
    "        save(resolver,\"{}/{}.epoch{}.pcl\".format(snapshot_path,experiment_setup_name,epoch_counter))\n",
    "        print \"snapshot saved\"\n",
    "        \n",
    "        \n",
    "\n",
    "\n",
    "    if epoch_counter%100 ==0:\n",
    "        \n",
    "        \n",
    "        print \"epoch %i, q-loss %.4f, l2-loss %4f, greed %.4f, rewards: ( active %.5f, pool %.5f)\"%(\n",
    "            epoch_counter,q_loss,reg_loss,creeping_greed,ma_reward,ma_pool_reward\n",
    "        )\n",
    "        \n",
    "        score_log[\"in-training active session avg reward\"][epoch_counter] = ma_reward\n",
    "        score_log[\"in-training replay session avg reward\"][epoch_counter] = ma_pool_reward\n",
    "        \n",
    "        \n",
    "\n",
    "\n",
    "        \n",
    "        \n",
    "    epoch_counter  +=1\n",
    "\n",
    "#Ой, всё!"
   ]
  },
  {
   "cell_type": "code",
   "execution_count": 89,
   "metadata": {
    "collapsed": false
   },
   "outputs": [
    {
     "data": {
      "text/plain": [
       "array([ 8.15074876,  8.10147954,  7.90379139,  7.82829738,  7.77708494,\n",
       "        7.70511187,  7.63015926,  7.5208143 ,  7.47116601,  7.39059932,\n",
       "        7.34799955,  7.32052491,  7.27129334,  7.23726158,  7.20959514,\n",
       "        7.17790905,  7.12745311,  7.0912626 ,  7.06841656,  6.99517319,\n",
       "        6.97038846,  6.94619023,  6.91243318,  6.88878652,  6.88279791,\n",
       "        6.87097303,  6.86016064,  6.8450387 ,  6.83185157,  6.82101899,\n",
       "        6.80719009,  6.76932606,  6.75431194,  6.74910289,  6.74731373,\n",
       "        6.72419092,  6.71836975,  6.68744426,  6.65791125,  6.64576249,\n",
       "        6.63557188,  6.61140842,  6.58536261,  6.57055938,  6.53512944,\n",
       "        6.52966502,  6.52560935,  6.52387021,  6.52295749,  6.49480347,\n",
       "        6.49139532,  6.4596172 ,  6.45382409,  6.45044142,  6.44735451,\n",
       "        6.44424027,  6.44350474,  6.44145927,  6.40692375,  6.40522738,\n",
       "        6.36806905,  6.3666761 ,  6.36219184,  6.35627074,  6.31449806,\n",
       "        6.31103755,  6.30914027,  6.30294594,  6.29951237,  6.29414332,\n",
       "        6.24335934,  6.18805611,  6.18676297,  6.18066485,  6.12548352,\n",
       "        6.12395332,  6.122182  ,  6.12085005,  6.05642105,  6.05566601,\n",
       "        6.05496941,  6.04865164,  5.97920615,  5.97745628,  5.90001844,\n",
       "        5.89699256,  5.89622806,  5.8949731 ,  5.89323797,  5.88954884,\n",
       "        5.71024107,  5.70997284,  5.60349251,  5.59797709,  5.59571594,\n",
       "        5.47705799,  5.47582755,  5.47498233,  5.47191159,  5.46891349,\n",
       "        5.46561007,  5.33544688,  5.33531863,  5.18902571,  5.02345435,\n",
       "        5.02339389,  5.02298775,  5.0229115 ,  5.02142022,  5.01836139,\n",
       "        5.01806064,  4.83606906,  4.82569865,  4.82546755,  4.82546464,\n",
       "        4.6299258 ,  4.62989004,  4.61509255,  4.61466003,  4.61368862,\n",
       "        4.61261693,  4.61255082,  4.61236257,  4.6119785 ,  4.39527451,\n",
       "        4.39422166,  4.15445912,  4.15440183,  4.15433095,  4.15358985,\n",
       "        4.15285285,  4.15277372,  4.15118481,  4.15106525,  4.14688758,\n",
       "        3.87887681,  3.87871515,  3.87811263,  3.87790798,  3.87700499,\n",
       "        3.57732051,  3.57729972,  3.57716593,  3.57712818,  3.24667753,\n",
       "        3.24558533,  3.24456238,  3.24425893,  3.24343923,  3.24337878,\n",
       "        3.24331453,  3.24276071,  3.24268312,  2.89269945,  2.8925607 ,\n",
       "        2.89173557,  2.89072036,  2.50384621,  2.50311566,  2.5025441 ,\n",
       "        2.50244494,  2.50178709,  2.50014852,  2.49893823,  2.49856579,\n",
       "        2.08158918,  2.08122518,  2.08068981,  2.08038971,  2.07997077,\n",
       "        2.0792235 ,  2.0787452 ,  2.07852031,  2.07767124,  2.07729456,\n",
       "        2.07623636,  2.07517656,  2.07473532,  2.07437232,  2.07418656,\n",
       "        2.0741485 ,  2.07229866,  2.07193695,  2.07185315,  2.07034361,\n",
       "        2.0696112 ,  2.06926276,  2.06864172,  2.06821125,  2.06758385,\n",
       "        2.06472544,  2.06425256,  2.06414568,  2.06309778,  2.06288685,\n",
       "        2.06286552,  2.06222972,  2.06166819,  2.06156029,  2.06056415,\n",
       "        2.05951237,  2.05902085,  2.05838127,  2.05783976,  2.05782207,\n",
       "        2.05694017,  2.05631162,  2.05628858,  2.05584239,  2.05583078,\n",
       "        2.05304063,  2.05265057,  2.05252302,  2.05250691,  2.05165118,\n",
       "        2.05162222,  2.04922076,  2.04885109,  2.04862498,  2.04565519,\n",
       "        2.04345618,  2.04261308,  2.04251912,  2.0425035 ,  2.04231407,\n",
       "        2.04226485,  2.04172462,  2.04102887,  2.04044935,  2.0402946 ,\n",
       "        2.03956881,  2.03851963,  2.03832269,  2.03781908,  2.03150678,\n",
       "        2.03103008,  2.02908266,  2.02899176,  2.02889868,  2.02769981,\n",
       "        2.02745685,  2.02744815,  2.02676869,  2.02526044,  2.02512259,\n",
       "        2.02454779,  2.02424091,  2.02416777,  2.02385171,  2.02315613])"
      ]
     },
     "execution_count": 89,
     "metadata": {},
     "output_type": "execute_result"
    }
   ],
   "source": [
    "ma_reward"
   ]
  },
  {
   "cell_type": "code",
   "execution_count": 99,
   "metadata": {
    "collapsed": false
   },
   "outputs": [
    {
     "data": {
      "image/png": "[encoded data removed]",
      "text/plain": [
       "<matplotlib.figure.Figure at 0x285b0dd0>"
      ]
     },
     "metadata": {},
     "output_type": "display_data"
    }
   ],
   "source": [
    "plot_scores(\"intermediate eval\")"
   ]
  },
  {
   "cell_type": "code",
   "execution_count": 129,
   "metadata": {
    "collapsed": false
   },
   "outputs": [],
   "source": [
    "replay_sessions = is_end_ravel_replay.eval()"
   ]
  },
  {
   "cell_type": "code",
   "execution_count": 173,
   "metadata": {
    "collapsed": false
   },
   "outputs": [
    {
     "data": {
      "text/plain": [
       "Elemwise{pow,no_inplace}.0"
      ]
     },
     "execution_count": 173,
     "metadata": {},
     "output_type": "execute_result"
    }
   ],
   "source": [
    "replay_loss"
   ]
  },
  {
   "cell_type": "code",
   "execution_count": 148,
   "metadata": {
    "collapsed": false
   },
   "outputs": [
    {
     "data": {
      "text/plain": [
       "{20}"
      ]
     },
     "execution_count": 148,
     "metadata": {},
     "output_type": "execute_result"
    }
   ],
   "source": []
  },
  {
   "cell_type": "code",
   "execution_count": 114,
   "metadata": {
    "collapsed": false
   },
   "outputs": [],
   "source": [
    "replay_mse_fun = theano.function([],[replay_loss])"
   ]
  },
  {
   "cell_type": "code",
   "execution_count": 115,
   "metadata": {
    "collapsed": false
   },
   "outputs": [],
   "source": [
    "replay_mse = replay_mse_fun()"
   ]
  },
  {
   "cell_type": "code",
   "execution_count": 122,
   "metadata": {
    "collapsed": false
   },
   "outputs": [
    {
     "name": "stdout",
     "output_type": "stream",
     "text": [
      "worst errors: [ 29.54105377  29.54105377  29.54105377  29.54105377  29.54105377\n",
      "  29.82875061  35.16474915  35.9586525   37.45066452  44.23906708]\n"
     ]
    }
   ],
   "source": [
    "top_10_worst = np.argsort(replay_mse)[-10:]\n",
    "print 'worst errors:',replay_mse[top_10_worst]"
   ]
  },
  {
   "cell_type": "code",
   "execution_count": 138,
   "metadata": {
    "collapsed": false
   },
   "outputs": [
    {
     "data": {
      "text/plain": [
       "array([151,  88, 376,  24, 166, 115,   1, 272, 129, 106], dtype=int32)"
      ]
     },
     "execution_count": 138,
     "metadata": {},
     "output_type": "execute_result"
    }
   ],
   "source": [
    "action_ids_ravel_replay[top_10_worst].eval()"
   ]
  },
  {
   "cell_type": "code",
   "execution_count": 141,
   "metadata": {
    "collapsed": false
   },
   "outputs": [
    {
     "data": {
      "text/plain": [
       "array(['Instruments:clarinet', 'Relatives:is_known',\n",
       "       'category:List_of_banjo_players', 'Genres:psychedelic',\n",
       "       'decades_active:2000', 'Occupation:guitarist',\n",
       "       'Birth name:is_known', 'Occupation:artist', 'Genres:southern',\n",
       "       'Genres:swing'], \n",
       "      dtype='|S55')"
      ]
     },
     "execution_count": 141,
     "metadata": {},
     "output_type": "execute_result"
    }
   ],
   "source": [
    "np.array(feature_names)[[151,  88, 376,  24, 166, 115,   1, 272, 129, 106]]"
   ]
  }
 ],
 "metadata": {
  "kernelspec": {
   "display_name": "Python 2",
   "language": "python",
   "name": "python2"
  },
  "language_info": {
   "codemirror_mode": {
    "name": "ipython",
    "version": 2
   },
   "file_extension": ".py",
   "mimetype": "text/x-python",
   "name": "python",
   "nbconvert_exporter": "python",
   "pygments_lexer": "ipython2",
   "version": "2.7.3"
  }
 },
 "nbformat": 4,
 "nbformat_minor": 0
}
